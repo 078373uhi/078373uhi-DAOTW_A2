{
  "nbformat": 4,
  "nbformat_minor": 0,
  "metadata": {
    "colab": {
      "name": "078373_DAOTW_A2.ipynb",
      "provenance": [],
      "collapsed_sections": [],
      "authorship_tag": "ABX9TyNRKmW2PfwodA2Doa5KDw2Z",
      "include_colab_link": true
    },
    "kernelspec": {
      "name": "python3",
      "display_name": "Python 3"
    },
    "language_info": {
      "name": "python"
    }
  },
  "cells": [
    {
      "cell_type": "markdown",
      "metadata": {
        "id": "view-in-github",
        "colab_type": "text"
      },
      "source": [
        "<a href=\"https://colab.research.google.com/github/078373uhi/078373uhi-DAOTW_A2/blob/main/078373_DAOTW_A2.ipynb\" target=\"_parent\"><img src=\"https://colab.research.google.com/assets/colab-badge.svg\" alt=\"Open In Colab\"/></a>"
      ]
    },
    {
      "cell_type": "markdown",
      "metadata": {
        "id": "_yZiLjDcfJ5g"
      },
      "source": [
        "Load packages required"
      ]
    },
    {
      "cell_type": "code",
      "metadata": {
        "colab": {
          "base_uri": "https://localhost:8080/"
        },
        "id": "mGVnkRk-e6Fn",
        "outputId": "8ad2ae2d-f6fc-448c-f8fe-dbf085742405"
      },
      "source": [
        "import pandas as pd\n",
        "import numpy as np\n",
        "import shutil\n",
        "import sklearn\n",
        "from sklearn.model_selection import train_test_split\n",
        "import random\n",
        "\n",
        "%tensorflow_version 1.x\n",
        "import tensorflow as tf\n",
        "\n",
        "print(tf.__version__)\n"
      ],
      "execution_count": 106,
      "outputs": [
        {
          "output_type": "stream",
          "name": "stdout",
          "text": [
            "1.15.2\n"
          ]
        }
      ]
    },
    {
      "cell_type": "markdown",
      "metadata": {
        "id": "bkmBpkUHjdd5"
      },
      "source": [
        "# Linear Regression Models\n",
        "\n",
        "### Create dataframes from data created previously for linear regressions"
      ]
    },
    {
      "cell_type": "code",
      "metadata": {
        "id": "-lroJ2ROfO3y"
      },
      "source": [
        "df_dow_numacc = pd.read_csv('https://raw.githubusercontent.com/078373uhi/078373uhi-DAOTW_A2/main/lrdata_dow_numacc.csv', index_col=0, )\n",
        "df_dow_fog_numacc = pd.read_csv('https://raw.githubusercontent.com/078373uhi/078373uhi-DAOTW_A2/main/lrdata_dow_fog_numacc.csv', index_col=0, )\n",
        "df_dow_temp_numacc = pd.read_csv('https://raw.githubusercontent.com/078373uhi/078373uhi-DAOTW_A2/main/lrdata_dow_temp_numacc.csv', index_col=0, )\n",
        "df_dow_visib_numacc = pd.read_csv('https://raw.githubusercontent.com/078373uhi/078373uhi-DAOTW_A2/main/lrdata_dow_visib_numacc.csv', index_col=0, )\n",
        "df_fogvisib_numacc = pd.read_csv('https://raw.githubusercontent.com/078373uhi/078373uhi-DAOTW_A2/main/lrdata_fogvisib_numacc.csv', index_col=0, )\n",
        "df_tempfog_numacc = pd.read_csv('https://raw.githubusercontent.com/078373uhi/078373uhi-DAOTW_A2/main/lrdata_tempfog_numacc.csv', index_col=0, )\n",
        "df_tempvisib_numacc = pd.read_csv('https://raw.githubusercontent.com/078373uhi/078373uhi-DAOTW_A2/main/lrdata_tempvisib_numacc.csv', index_col=0, )\n",
        "df_tempfogvisib_numacc = pd.read_csv('https://raw.githubusercontent.com/078373uhi/078373uhi-DAOTW_A2/main/lrdata_tempfogvisib_numacc.csv', index_col=0, )"
      ],
      "execution_count": 4,
      "outputs": []
    },
    {
      "cell_type": "markdown",
      "metadata": {
        "id": "hqQLnUrexo6u"
      },
      "source": [
        "Check dataframes"
      ]
    },
    {
      "cell_type": "code",
      "metadata": {
        "colab": {
          "base_uri": "https://localhost:8080/"
        },
        "id": "-Fu_fZ6SxDSq",
        "outputId": "6cfb4965-9811-4607-b3f9-d1b80c09775f"
      },
      "source": [
        "print(df_dow_numacc[:10])\n",
        "print(df_dow_fog_numacc[:10])\n",
        "print(df_dow_temp_numacc[:10])\n",
        "print(df_dow_visib_numacc[:10])\n",
        "print(df_fogvisib_numacc[:10])\n",
        "print(df_tempfog_numacc[:10])\n",
        "print(df_tempvisib_numacc[:10])\n",
        "print(df_tempfogvisib_numacc[:10])"
      ],
      "execution_count": 5,
      "outputs": [
        {
          "output_type": "stream",
          "name": "stdout",
          "text": [
            "    dayofweek  num_accidents\n",
            "1           4       0.059633\n",
            "2           5       0.286697\n",
            "3           6       0.444954\n",
            "4           7       0.344037\n",
            "5           1       0.077982\n",
            "6           2       0.087156\n",
            "7           3       0.380734\n",
            "8           4       0.362385\n",
            "9           5       0.302752\n",
            "10          6       0.458716\n",
            "    dayofweek  fog  num_accidents\n",
            "1           4    0       0.059633\n",
            "2           5    0       0.286697\n",
            "3           6    0       0.444954\n",
            "4           7    0       0.344037\n",
            "5           1    0       0.077982\n",
            "6           2    0       0.087156\n",
            "7           3    0       0.380734\n",
            "8           4    0       0.362385\n",
            "9           5    1       0.302752\n",
            "10          6    0       0.458716\n",
            "    dayofweek  temp  num_accidents\n",
            "1           4  38.0       0.059633\n",
            "2           5  27.5       0.286697\n",
            "3           6  21.8       0.444954\n",
            "4           7  32.2       0.344037\n",
            "5           1  37.3       0.077982\n",
            "6           2  35.7       0.087156\n",
            "7           3  35.9       0.380734\n",
            "8           4  39.8       0.362385\n",
            "9           5  39.9       0.302752\n",
            "10          6  43.5       0.458716\n",
            "    dayofweek  visib  num_accidents\n",
            "1           4   10.0       0.059633\n",
            "2           5   10.0       0.286697\n",
            "3           6   10.0       0.444954\n",
            "4           7   10.0       0.344037\n",
            "5           1   10.0       0.077982\n",
            "6           2    9.8       0.087156\n",
            "7           3    8.8       0.380734\n",
            "8           4    9.8       0.362385\n",
            "9           5    6.8       0.302752\n",
            "10          6    9.9       0.458716\n",
            "    dayofweek  fog  visib  num_accidents\n",
            "1           4    0   10.0       0.059633\n",
            "2           5    0   10.0       0.286697\n",
            "3           6    0   10.0       0.444954\n",
            "4           7    0   10.0       0.344037\n",
            "5           1    0   10.0       0.077982\n",
            "6           2    0    9.8       0.087156\n",
            "7           3    0    8.8       0.380734\n",
            "8           4    0    9.8       0.362385\n",
            "9           5    1    6.8       0.302752\n",
            "10          6    0    9.9       0.458716\n",
            "    dayofweek  temp  fog  num_accidents\n",
            "1           4  38.0    0       0.059633\n",
            "2           5  27.5    0       0.286697\n",
            "3           6  21.8    0       0.444954\n",
            "4           7  32.2    0       0.344037\n",
            "5           1  37.3    0       0.077982\n",
            "6           2  35.7    0       0.087156\n",
            "7           3  35.9    0       0.380734\n",
            "8           4  39.8    0       0.362385\n",
            "9           5  39.9    1       0.302752\n",
            "10          6  43.5    0       0.458716\n",
            "    dayofweek  temp  visib  num_accidents\n",
            "1           4  38.0   10.0       0.059633\n",
            "2           5  27.5   10.0       0.286697\n",
            "3           6  21.8   10.0       0.444954\n",
            "4           7  32.2   10.0       0.344037\n",
            "5           1  37.3   10.0       0.077982\n",
            "6           2  35.7    9.8       0.087156\n",
            "7           3  35.9    8.8       0.380734\n",
            "8           4  39.8    9.8       0.362385\n",
            "9           5  39.9    6.8       0.302752\n",
            "10          6  43.5    9.9       0.458716\n",
            "    dayofweek  temp  visib  fog  num_accidents\n",
            "1           4  38.0   10.0    0       0.059633\n",
            "2           5  27.5   10.0    0       0.286697\n",
            "3           6  21.8   10.0    0       0.444954\n",
            "4           7  32.2   10.0    0       0.344037\n",
            "5           1  37.3   10.0    0       0.077982\n",
            "6           2  35.7    9.8    0       0.087156\n",
            "7           3  35.9    8.8    0       0.380734\n",
            "8           4  39.8    9.8    0       0.362385\n",
            "9           5  39.9    6.8    1       0.302752\n",
            "10          6  43.5    9.9    0       0.458716\n"
          ]
        }
      ]
    },
    {
      "cell_type": "markdown",
      "metadata": {
        "id": "wDJUOs0ry5qS"
      },
      "source": [
        "## Create and test model for visibility"
      ]
    },
    {
      "cell_type": "code",
      "metadata": {
        "colab": {
          "base_uri": "https://localhost:8080/"
        },
        "id": "BpVfy7a8GaDg",
        "outputId": "988cd2aa-f818-4160-f775-73396a0b80a9"
      },
      "source": [
        "#shuffle visibility dataset \n",
        "shuffle_visib = df_dow_visib_numacc.iloc[np.random.permutation(len(df_dow_visib_numacc))]\n",
        "\n",
        "#create training and validation data\n",
        "shuffle_visib_train, shuffle_visib_test = train_test_split(shuffle_visib, test_size=0.1)\n",
        "\n",
        "#select variables used for prediction\n",
        "predictors_visib = shuffle_visib_train.iloc[:,0:2]\n",
        "\n",
        "print(predictors_visib[:10])"
      ],
      "execution_count": 91,
      "outputs": [
        {
          "output_type": "stream",
          "name": "stdout",
          "text": [
            "      dayofweek  visib\n",
            "507           6    8.6\n",
            "2236          6   10.0\n",
            "1622          1    9.3\n",
            "1853          1   10.0\n",
            "1215          7   10.0\n",
            "937           2    8.8\n",
            "388           6    9.7\n",
            "1226          4   10.0\n",
            "1526          3   10.0\n",
            "1105          2    4.9\n"
          ]
        }
      ]
    },
    {
      "cell_type": "code",
      "metadata": {
        "colab": {
          "base_uri": "https://localhost:8080/",
          "height": 206
        },
        "id": "VMskIDP0HVQc",
        "outputId": "809caddd-0179-49d5-e60b-1142b87670df"
      },
      "source": [
        "shuffle_visib_train[:5]"
      ],
      "execution_count": 92,
      "outputs": [
        {
          "output_type": "execute_result",
          "data": {
            "text/html": [
              "<div>\n",
              "<style scoped>\n",
              "    .dataframe tbody tr th:only-of-type {\n",
              "        vertical-align: middle;\n",
              "    }\n",
              "\n",
              "    .dataframe tbody tr th {\n",
              "        vertical-align: top;\n",
              "    }\n",
              "\n",
              "    .dataframe thead th {\n",
              "        text-align: right;\n",
              "    }\n",
              "</style>\n",
              "<table border=\"1\" class=\"dataframe\">\n",
              "  <thead>\n",
              "    <tr style=\"text-align: right;\">\n",
              "      <th></th>\n",
              "      <th>dayofweek</th>\n",
              "      <th>visib</th>\n",
              "      <th>num_accidents</th>\n",
              "    </tr>\n",
              "  </thead>\n",
              "  <tbody>\n",
              "    <tr>\n",
              "      <th>507</th>\n",
              "      <td>6</td>\n",
              "      <td>8.6</td>\n",
              "      <td>0.539352</td>\n",
              "    </tr>\n",
              "    <tr>\n",
              "      <th>2236</th>\n",
              "      <td>6</td>\n",
              "      <td>10.0</td>\n",
              "      <td>0.689732</td>\n",
              "    </tr>\n",
              "    <tr>\n",
              "      <th>1622</th>\n",
              "      <td>1</td>\n",
              "      <td>9.3</td>\n",
              "      <td>0.620253</td>\n",
              "    </tr>\n",
              "    <tr>\n",
              "      <th>1853</th>\n",
              "      <td>1</td>\n",
              "      <td>10.0</td>\n",
              "      <td>0.248879</td>\n",
              "    </tr>\n",
              "    <tr>\n",
              "      <th>1215</th>\n",
              "      <td>7</td>\n",
              "      <td>10.0</td>\n",
              "      <td>0.326180</td>\n",
              "    </tr>\n",
              "  </tbody>\n",
              "</table>\n",
              "</div>"
            ],
            "text/plain": [
              "      dayofweek  visib  num_accidents\n",
              "507           6    8.6       0.539352\n",
              "2236          6   10.0       0.689732\n",
              "1622          1    9.3       0.620253\n",
              "1853          1   10.0       0.248879\n",
              "1215          7   10.0       0.326180"
            ]
          },
          "metadata": {},
          "execution_count": 92
        }
      ]
    },
    {
      "cell_type": "code",
      "metadata": {
        "colab": {
          "base_uri": "https://localhost:8080/"
        },
        "id": "w2MQV_i4HiP4",
        "outputId": "355caba3-2bdf-4ccd-91d4-d2da8bae89c8"
      },
      "source": [
        "#create targets \n",
        "targets_visib = shuffle_visib_train.iloc[:,2]\n",
        "\n",
        "print(targets_visib[:10])"
      ],
      "execution_count": 93,
      "outputs": [
        {
          "output_type": "stream",
          "name": "stdout",
          "text": [
            "507     0.539352\n",
            "2236    0.689732\n",
            "1622    0.620253\n",
            "1853    0.248879\n",
            "1215    0.326180\n",
            "937     0.410148\n",
            "388     0.583333\n",
            "1226    0.521459\n",
            "1526    0.521097\n",
            "1105    0.208155\n",
            "Name: num_accidents, dtype: float64\n"
          ]
        }
      ]
    },
    {
      "cell_type": "code",
      "metadata": {
        "id": "0fMU14m0H-QI"
      },
      "source": [
        "SCALE_NUM_ACCIDENTS = 1.0"
      ],
      "execution_count": 94,
      "outputs": []
    },
    {
      "cell_type": "code",
      "metadata": {
        "id": "mxa8rX3XIGIr"
      },
      "source": [
        "# Training set (80% of the length of the shuffle array)\n",
        "trainsize = int(len(shuffle_visib_train['num_accidents'])*0.8)\n",
        "# Test set = 20% of the length of the shuffle array.\n",
        "testsize = len(shuffle_visib_train['num_accidents']) - trainsize\n",
        "\n",
        "# Define the number of input values \n",
        "nppredictors = 2\n",
        "# Define the number of output values\n",
        "noutputs = 1"
      ],
      "execution_count": 95,
      "outputs": []
    },
    {
      "cell_type": "markdown",
      "metadata": {
        "id": "sRJE0lY9nJpc"
      },
      "source": [
        "Create model"
      ]
    },
    {
      "cell_type": "code",
      "metadata": {
        "colab": {
          "base_uri": "https://localhost:8080/"
        },
        "id": "gn53N8BXaahp",
        "outputId": "a40171fc-2f79-4afe-d5ca-973fb8481468"
      },
      "source": [
        "tf.compat.v1.logging.set_verbosity(tf.compat.v1.logging.INFO)\n",
        "\n",
        "shutil.rmtree('/tmp/linear_regression_trained_model_v', ignore_errors=True)\n",
        "\n",
        "estimator_visib = tf.contrib.learn.SKCompat(tf.contrib.learn.LinearRegressor(model_dir='/tmp/linear_regression_trained_model_v', optimizer=tf.train.AdamOptimizer(learning_rate=0.1), enable_centered_bias=False, feature_columns=tf.contrib.learn.infer_real_valued_columns_from_input(predictors_visib.values)))\n",
        "\n",
        "# Starting to train\n",
        "print(\"starting to train\");\n",
        "\n",
        "# Train the model. \n",
        "estimator_visib.fit(predictors_visib[:trainsize].values, targets_visib[:trainsize].values.reshape(trainsize, noutputs)/SCALE_NUM_ACCIDENTS, steps=10000)\n",
        "\n",
        "# Check  predictions \n",
        "preds = estimator_visib.predict(x=predictors_visib[trainsize:].values)\n",
        "\n",
        "predslistscale = preds['scores']*SCALE_NUM_ACCIDENTS\n",
        "\n",
        "# pred = format(str(predslistscale)) # useful for checking outputs and printing.\n",
        "\n",
        "# Calculate RMSE\n",
        "rmse = np.sqrt(np.mean((targets_visib[trainsize:].values - predslistscale)**2))\n",
        "print('LinearRegression Visibility has RMSE of {0}'.format(rmse));\n",
        "\n",
        "# Calculate the mean of the Number of Accidents.\n",
        "avg = np.mean(shuffle_visib_train['num_accidents'][:trainsize])\n",
        "\n",
        "# Calculate the RMSE \n",
        "rmse = np.sqrt(np.mean((shuffle_visib_train['num_accidents'][trainsize:] - avg)**2))\n",
        "print('Just using average = {0} has RMSE of {1}'.format(avg, rmse));"
      ],
      "execution_count": 96,
      "outputs": [
        {
          "output_type": "stream",
          "name": "stdout",
          "text": [
            "WARNING:tensorflow:float64 is not supported by many models, consider casting to float32.\n",
            "INFO:tensorflow:Using default config.\n",
            "INFO:tensorflow:Using config: {'_task_type': None, '_task_id': 0, '_cluster_spec': <tensorflow.python.training.server_lib.ClusterSpec object at 0x7f2f3a204f90>, '_master': '', '_num_ps_replicas': 0, '_num_worker_replicas': 0, '_environment': 'local', '_is_chief': True, '_evaluation_master': '', '_train_distribute': None, '_eval_distribute': None, '_experimental_max_worker_delay_secs': None, '_device_fn': None, '_tf_config': gpu_options {\n",
            "  per_process_gpu_memory_fraction: 1.0\n",
            "}\n",
            ", '_tf_random_seed': None, '_save_summary_steps': 100, '_save_checkpoints_secs': 600, '_log_step_count_steps': 100, '_protocol': None, '_session_config': None, '_save_checkpoints_steps': None, '_keep_checkpoint_max': 5, '_keep_checkpoint_every_n_hours': 10000, '_model_dir': '/tmp/linear_regression_trained_model_v', '_session_creation_timeout_secs': 7200}\n",
            "starting to train\n",
            "WARNING:tensorflow:float64 is not supported by many models, consider casting to float32.\n",
            "WARNING:tensorflow:float64 is not supported by many models, consider casting to float32.\n",
            "INFO:tensorflow:Create CheckpointSaverHook.\n",
            "INFO:tensorflow:Graph was finalized.\n",
            "INFO:tensorflow:Running local_init_op.\n",
            "INFO:tensorflow:Done running local_init_op.\n",
            "INFO:tensorflow:Saving checkpoints for 0 into /tmp/linear_regression_trained_model_v/model.ckpt.\n",
            "INFO:tensorflow:loss = 0.30691668, step = 1\n",
            "INFO:tensorflow:global_step/sec: 738.04\n",
            "INFO:tensorflow:loss = 0.028448608, step = 101 (0.139 sec)\n",
            "INFO:tensorflow:global_step/sec: 893.359\n",
            "INFO:tensorflow:loss = 0.030971404, step = 201 (0.112 sec)\n",
            "INFO:tensorflow:global_step/sec: 932.996\n",
            "INFO:tensorflow:loss = 0.029674906, step = 301 (0.107 sec)\n",
            "INFO:tensorflow:global_step/sec: 986.763\n",
            "INFO:tensorflow:loss = 0.036214456, step = 401 (0.103 sec)\n",
            "INFO:tensorflow:global_step/sec: 775.237\n",
            "INFO:tensorflow:loss = 0.036667734, step = 501 (0.129 sec)\n",
            "INFO:tensorflow:global_step/sec: 860.384\n",
            "INFO:tensorflow:loss = 0.03893803, step = 601 (0.113 sec)\n",
            "INFO:tensorflow:global_step/sec: 869.216\n",
            "INFO:tensorflow:loss = 0.030255083, step = 701 (0.115 sec)\n",
            "INFO:tensorflow:global_step/sec: 882.63\n",
            "INFO:tensorflow:loss = 0.034116365, step = 801 (0.116 sec)\n",
            "INFO:tensorflow:global_step/sec: 937.007\n",
            "INFO:tensorflow:loss = 0.05755891, step = 901 (0.107 sec)\n",
            "INFO:tensorflow:global_step/sec: 890.259\n",
            "INFO:tensorflow:loss = 0.024684522, step = 1001 (0.110 sec)\n",
            "INFO:tensorflow:global_step/sec: 884.574\n",
            "INFO:tensorflow:loss = 0.025832511, step = 1101 (0.115 sec)\n",
            "INFO:tensorflow:global_step/sec: 927.008\n",
            "INFO:tensorflow:loss = 0.03863153, step = 1201 (0.107 sec)\n",
            "INFO:tensorflow:global_step/sec: 906.992\n",
            "INFO:tensorflow:loss = 0.031546764, step = 1301 (0.111 sec)\n",
            "INFO:tensorflow:global_step/sec: 938.798\n",
            "INFO:tensorflow:loss = 0.04718758, step = 1401 (0.104 sec)\n",
            "INFO:tensorflow:global_step/sec: 961.156\n",
            "INFO:tensorflow:loss = 0.0302326, step = 1501 (0.106 sec)\n",
            "INFO:tensorflow:global_step/sec: 758.836\n",
            "INFO:tensorflow:loss = 0.02841533, step = 1601 (0.132 sec)\n",
            "INFO:tensorflow:global_step/sec: 779.004\n",
            "INFO:tensorflow:loss = 0.030552836, step = 1701 (0.130 sec)\n",
            "INFO:tensorflow:global_step/sec: 845.52\n",
            "INFO:tensorflow:loss = 0.07089391, step = 1801 (0.117 sec)\n",
            "INFO:tensorflow:global_step/sec: 897.122\n",
            "INFO:tensorflow:loss = 0.035855457, step = 1901 (0.112 sec)\n",
            "INFO:tensorflow:global_step/sec: 921.145\n",
            "INFO:tensorflow:loss = 0.027686905, step = 2001 (0.105 sec)\n",
            "INFO:tensorflow:global_step/sec: 863.685\n",
            "INFO:tensorflow:loss = 0.03147901, step = 2101 (0.118 sec)\n",
            "INFO:tensorflow:global_step/sec: 873.064\n",
            "INFO:tensorflow:loss = 0.027929517, step = 2201 (0.112 sec)\n",
            "INFO:tensorflow:global_step/sec: 776.002\n",
            "INFO:tensorflow:loss = 0.039896574, step = 2301 (0.131 sec)\n",
            "INFO:tensorflow:global_step/sec: 820.099\n",
            "INFO:tensorflow:loss = 0.036220595, step = 2401 (0.121 sec)\n",
            "INFO:tensorflow:global_step/sec: 745.447\n",
            "INFO:tensorflow:loss = 0.031349115, step = 2501 (0.134 sec)\n",
            "INFO:tensorflow:global_step/sec: 954.824\n",
            "INFO:tensorflow:loss = 0.037435055, step = 2601 (0.110 sec)\n",
            "INFO:tensorflow:global_step/sec: 849.62\n",
            "INFO:tensorflow:loss = 0.03688234, step = 2701 (0.115 sec)\n",
            "INFO:tensorflow:global_step/sec: 870.099\n",
            "INFO:tensorflow:loss = 0.033882882, step = 2801 (0.114 sec)\n",
            "INFO:tensorflow:global_step/sec: 783.989\n",
            "INFO:tensorflow:loss = 0.029248677, step = 2901 (0.128 sec)\n",
            "INFO:tensorflow:global_step/sec: 886.25\n",
            "INFO:tensorflow:loss = 0.045066483, step = 3001 (0.112 sec)\n",
            "INFO:tensorflow:global_step/sec: 765.363\n",
            "INFO:tensorflow:loss = 0.033958755, step = 3101 (0.129 sec)\n",
            "INFO:tensorflow:global_step/sec: 848.774\n",
            "INFO:tensorflow:loss = 0.03734835, step = 3201 (0.119 sec)\n",
            "INFO:tensorflow:global_step/sec: 721.014\n",
            "INFO:tensorflow:loss = 0.032506313, step = 3301 (0.137 sec)\n",
            "INFO:tensorflow:global_step/sec: 746.239\n",
            "INFO:tensorflow:loss = 0.033071548, step = 3401 (0.139 sec)\n",
            "INFO:tensorflow:global_step/sec: 890.592\n",
            "INFO:tensorflow:loss = 0.03365215, step = 3501 (0.111 sec)\n",
            "INFO:tensorflow:global_step/sec: 930.154\n",
            "INFO:tensorflow:loss = 0.036178056, step = 3601 (0.105 sec)\n",
            "INFO:tensorflow:global_step/sec: 851.01\n",
            "INFO:tensorflow:loss = 0.025500197, step = 3701 (0.121 sec)\n",
            "INFO:tensorflow:global_step/sec: 827.785\n",
            "INFO:tensorflow:loss = 0.028220907, step = 3801 (0.117 sec)\n",
            "INFO:tensorflow:global_step/sec: 957.965\n",
            "INFO:tensorflow:loss = 0.03558937, step = 3901 (0.104 sec)\n",
            "INFO:tensorflow:global_step/sec: 954.468\n",
            "INFO:tensorflow:loss = 0.04327421, step = 4001 (0.108 sec)\n",
            "INFO:tensorflow:global_step/sec: 858.609\n",
            "INFO:tensorflow:loss = 0.03333794, step = 4101 (0.116 sec)\n",
            "INFO:tensorflow:global_step/sec: 879.728\n",
            "INFO:tensorflow:loss = 0.040533606, step = 4201 (0.114 sec)\n",
            "INFO:tensorflow:global_step/sec: 862.843\n",
            "INFO:tensorflow:loss = 0.033119082, step = 4301 (0.115 sec)\n",
            "INFO:tensorflow:global_step/sec: 870.569\n",
            "INFO:tensorflow:loss = 0.036742426, step = 4401 (0.116 sec)\n",
            "INFO:tensorflow:global_step/sec: 862.215\n",
            "INFO:tensorflow:loss = 0.0428491, step = 4501 (0.116 sec)\n",
            "INFO:tensorflow:global_step/sec: 891.84\n",
            "INFO:tensorflow:loss = 0.038316086, step = 4601 (0.111 sec)\n",
            "INFO:tensorflow:global_step/sec: 929.424\n",
            "INFO:tensorflow:loss = 0.034657292, step = 4701 (0.108 sec)\n",
            "INFO:tensorflow:global_step/sec: 921.246\n",
            "INFO:tensorflow:loss = 0.04572278, step = 4801 (0.108 sec)\n",
            "INFO:tensorflow:global_step/sec: 781.119\n",
            "INFO:tensorflow:loss = 0.031204538, step = 4901 (0.129 sec)\n",
            "INFO:tensorflow:global_step/sec: 832.968\n",
            "INFO:tensorflow:loss = 0.028212905, step = 5001 (0.122 sec)\n",
            "INFO:tensorflow:global_step/sec: 837.88\n",
            "INFO:tensorflow:loss = 0.02540999, step = 5101 (0.118 sec)\n",
            "INFO:tensorflow:global_step/sec: 887.261\n",
            "INFO:tensorflow:loss = 0.02943771, step = 5201 (0.113 sec)\n",
            "INFO:tensorflow:global_step/sec: 892.709\n",
            "INFO:tensorflow:loss = 0.02632806, step = 5301 (0.114 sec)\n",
            "INFO:tensorflow:global_step/sec: 883.307\n",
            "INFO:tensorflow:loss = 0.046315104, step = 5401 (0.112 sec)\n",
            "INFO:tensorflow:global_step/sec: 923.428\n",
            "INFO:tensorflow:loss = 0.039162993, step = 5501 (0.109 sec)\n",
            "INFO:tensorflow:global_step/sec: 923.78\n",
            "INFO:tensorflow:loss = 0.031443365, step = 5601 (0.108 sec)\n",
            "INFO:tensorflow:global_step/sec: 755.258\n",
            "INFO:tensorflow:loss = 0.041985348, step = 5701 (0.130 sec)\n",
            "INFO:tensorflow:global_step/sec: 892.57\n",
            "INFO:tensorflow:loss = 0.030395597, step = 5801 (0.113 sec)\n",
            "INFO:tensorflow:global_step/sec: 901.452\n",
            "INFO:tensorflow:loss = 0.036382683, step = 5901 (0.115 sec)\n",
            "INFO:tensorflow:global_step/sec: 850.435\n",
            "INFO:tensorflow:loss = 0.04327476, step = 6001 (0.113 sec)\n",
            "INFO:tensorflow:global_step/sec: 980.158\n",
            "INFO:tensorflow:loss = 0.032758903, step = 6101 (0.105 sec)\n",
            "INFO:tensorflow:global_step/sec: 923.731\n",
            "INFO:tensorflow:loss = 0.041541368, step = 6201 (0.109 sec)\n",
            "INFO:tensorflow:global_step/sec: 852.102\n",
            "INFO:tensorflow:loss = 0.05141435, step = 6301 (0.115 sec)\n",
            "INFO:tensorflow:global_step/sec: 900.45\n",
            "INFO:tensorflow:loss = 0.026700322, step = 6401 (0.114 sec)\n",
            "INFO:tensorflow:global_step/sec: 824.466\n",
            "INFO:tensorflow:loss = 0.03437094, step = 6501 (0.119 sec)\n",
            "INFO:tensorflow:global_step/sec: 865.435\n",
            "INFO:tensorflow:loss = 0.04420583, step = 6601 (0.116 sec)\n",
            "INFO:tensorflow:global_step/sec: 863.228\n",
            "INFO:tensorflow:loss = 0.036230296, step = 6701 (0.117 sec)\n",
            "INFO:tensorflow:global_step/sec: 684.647\n",
            "INFO:tensorflow:loss = 0.041482463, step = 6801 (0.146 sec)\n",
            "INFO:tensorflow:global_step/sec: 756.487\n",
            "INFO:tensorflow:loss = 0.03594979, step = 6901 (0.132 sec)\n",
            "INFO:tensorflow:global_step/sec: 736.238\n",
            "INFO:tensorflow:loss = 0.047748122, step = 7001 (0.136 sec)\n",
            "INFO:tensorflow:global_step/sec: 865.228\n",
            "INFO:tensorflow:loss = 0.03977791, step = 7101 (0.115 sec)\n",
            "INFO:tensorflow:global_step/sec: 811.719\n",
            "INFO:tensorflow:loss = 0.040659174, step = 7201 (0.122 sec)\n",
            "INFO:tensorflow:global_step/sec: 933.455\n",
            "INFO:tensorflow:loss = 0.031925075, step = 7301 (0.108 sec)\n",
            "INFO:tensorflow:global_step/sec: 926.859\n",
            "INFO:tensorflow:loss = 0.034955233, step = 7401 (0.107 sec)\n",
            "INFO:tensorflow:global_step/sec: 862.791\n",
            "INFO:tensorflow:loss = 0.01953135, step = 7501 (0.114 sec)\n",
            "INFO:tensorflow:global_step/sec: 938.819\n",
            "INFO:tensorflow:loss = 0.030594062, step = 7601 (0.108 sec)\n",
            "INFO:tensorflow:global_step/sec: 795.068\n",
            "INFO:tensorflow:loss = 0.03873598, step = 7701 (0.124 sec)\n",
            "INFO:tensorflow:global_step/sec: 962.31\n",
            "INFO:tensorflow:loss = 0.045477215, step = 7801 (0.103 sec)\n",
            "INFO:tensorflow:global_step/sec: 845.299\n",
            "INFO:tensorflow:loss = 0.030045163, step = 7901 (0.121 sec)\n",
            "INFO:tensorflow:global_step/sec: 963.988\n",
            "INFO:tensorflow:loss = 0.06111671, step = 8001 (0.104 sec)\n",
            "INFO:tensorflow:global_step/sec: 936.12\n",
            "INFO:tensorflow:loss = 0.062266022, step = 8101 (0.108 sec)\n",
            "INFO:tensorflow:global_step/sec: 962.78\n",
            "INFO:tensorflow:loss = 0.035128266, step = 8201 (0.103 sec)\n",
            "INFO:tensorflow:global_step/sec: 847.831\n",
            "INFO:tensorflow:loss = 0.029889839, step = 8301 (0.115 sec)\n",
            "INFO:tensorflow:global_step/sec: 938.342\n",
            "INFO:tensorflow:loss = 0.045133762, step = 8401 (0.109 sec)\n",
            "INFO:tensorflow:global_step/sec: 791.257\n",
            "INFO:tensorflow:loss = 0.035766684, step = 8501 (0.123 sec)\n",
            "INFO:tensorflow:global_step/sec: 875.148\n",
            "INFO:tensorflow:loss = 0.037551932, step = 8601 (0.116 sec)\n",
            "INFO:tensorflow:global_step/sec: 905.078\n",
            "INFO:tensorflow:loss = 0.03559132, step = 8701 (0.108 sec)\n",
            "INFO:tensorflow:global_step/sec: 936.488\n",
            "INFO:tensorflow:loss = 0.030862585, step = 8801 (0.107 sec)\n",
            "INFO:tensorflow:global_step/sec: 821.364\n",
            "INFO:tensorflow:loss = 0.025896147, step = 8901 (0.121 sec)\n",
            "INFO:tensorflow:global_step/sec: 890.847\n",
            "INFO:tensorflow:loss = 0.04140313, step = 9001 (0.113 sec)\n",
            "INFO:tensorflow:global_step/sec: 809.392\n",
            "INFO:tensorflow:loss = 0.043044675, step = 9101 (0.124 sec)\n",
            "INFO:tensorflow:global_step/sec: 831.824\n",
            "INFO:tensorflow:loss = 0.034284543, step = 9201 (0.119 sec)\n",
            "INFO:tensorflow:global_step/sec: 855.918\n",
            "INFO:tensorflow:loss = 0.06047351, step = 9301 (0.120 sec)\n",
            "INFO:tensorflow:global_step/sec: 921.537\n",
            "INFO:tensorflow:loss = 0.02458439, step = 9401 (0.108 sec)\n",
            "INFO:tensorflow:global_step/sec: 848.055\n",
            "INFO:tensorflow:loss = 0.042336624, step = 9501 (0.118 sec)\n",
            "INFO:tensorflow:global_step/sec: 951.869\n",
            "INFO:tensorflow:loss = 0.052499995, step = 9601 (0.103 sec)\n",
            "INFO:tensorflow:global_step/sec: 895.735\n",
            "INFO:tensorflow:loss = 0.03518213, step = 9701 (0.112 sec)\n",
            "INFO:tensorflow:global_step/sec: 935.143\n",
            "INFO:tensorflow:loss = 0.03763803, step = 9801 (0.106 sec)\n",
            "INFO:tensorflow:global_step/sec: 832.585\n",
            "INFO:tensorflow:loss = 0.026934907, step = 9901 (0.120 sec)\n",
            "INFO:tensorflow:Saving checkpoints for 10000 into /tmp/linear_regression_trained_model_v/model.ckpt.\n",
            "INFO:tensorflow:Loss for final step: 0.04301075.\n",
            "WARNING:tensorflow:float64 is not supported by many models, consider casting to float32.\n",
            "INFO:tensorflow:Graph was finalized.\n",
            "INFO:tensorflow:Restoring parameters from /tmp/linear_regression_trained_model_v/model.ckpt-10000\n",
            "INFO:tensorflow:Running local_init_op.\n",
            "INFO:tensorflow:Done running local_init_op.\n",
            "LinearRegression Visibility has RMSE of 0.17902868564788896\n",
            "Just using average = 0.512088151379438 has RMSE of 0.2002231025753152\n"
          ]
        }
      ]
    },
    {
      "cell_type": "markdown",
      "metadata": {
        "id": "S32afc4F63gf"
      },
      "source": [
        "It can be seen that the RMSE values are fairly close here (0.179 and 0.200) which is good so it will be tested with the validation dataset."
      ]
    },
    {
      "cell_type": "markdown",
      "metadata": {
        "id": "XP--WZionL_u"
      },
      "source": [
        "Test model with validation data"
      ]
    },
    {
      "cell_type": "code",
      "metadata": {
        "colab": {
          "base_uri": "https://localhost:8080/",
          "height": 143
        },
        "id": "J9dYROt73OUh",
        "outputId": "a0ba7f06-fa0e-40c0-ac2b-47ddd37eddc5"
      },
      "source": [
        "shuffle_visib_test[:3]"
      ],
      "execution_count": 99,
      "outputs": [
        {
          "output_type": "execute_result",
          "data": {
            "text/html": [
              "<div>\n",
              "<style scoped>\n",
              "    .dataframe tbody tr th:only-of-type {\n",
              "        vertical-align: middle;\n",
              "    }\n",
              "\n",
              "    .dataframe tbody tr th {\n",
              "        vertical-align: top;\n",
              "    }\n",
              "\n",
              "    .dataframe thead th {\n",
              "        text-align: right;\n",
              "    }\n",
              "</style>\n",
              "<table border=\"1\" class=\"dataframe\">\n",
              "  <thead>\n",
              "    <tr style=\"text-align: right;\">\n",
              "      <th></th>\n",
              "      <th>dayofweek</th>\n",
              "      <th>visib</th>\n",
              "      <th>num_accidents</th>\n",
              "    </tr>\n",
              "  </thead>\n",
              "  <tbody>\n",
              "    <tr>\n",
              "      <th>2454</th>\n",
              "      <td>7</td>\n",
              "      <td>10.0</td>\n",
              "      <td>0.743304</td>\n",
              "    </tr>\n",
              "    <tr>\n",
              "      <th>588</th>\n",
              "      <td>3</td>\n",
              "      <td>7.8</td>\n",
              "      <td>0.564815</td>\n",
              "    </tr>\n",
              "    <tr>\n",
              "      <th>1637</th>\n",
              "      <td>2</td>\n",
              "      <td>9.4</td>\n",
              "      <td>0.462025</td>\n",
              "    </tr>\n",
              "  </tbody>\n",
              "</table>\n",
              "</div>"
            ],
            "text/plain": [
              "      dayofweek  visib  num_accidents\n",
              "2454          7   10.0       0.743304\n",
              "588           3    7.8       0.564815\n",
              "1637          2    9.4       0.462025"
            ]
          },
          "metadata": {},
          "execution_count": 99
        }
      ]
    },
    {
      "cell_type": "code",
      "metadata": {
        "colab": {
          "base_uri": "https://localhost:8080/"
        },
        "id": "Ey3h9UzyKIp4",
        "outputId": "085e7c62-fa02-4136-a4bc-7e109a1498bc"
      },
      "source": [
        "input = pd.DataFrame.from_dict(data = \n",
        "\t\t\t\t{'dayofweek' : [7,3,2],\n",
        "         'visib' : [10.0, 7.8, 9.4]\n",
        "        })\n",
        "\t\t\t\t\t\n",
        "\n",
        "estimator = tf.contrib.learn.SKCompat(tf.contrib.learn.LinearRegressor(model_dir='/tmp/linear_regression_trained_model_v', enable_centered_bias=False, feature_columns=tf.contrib.learn.infer_real_valued_columns_from_input(input.values)))\n",
        "\n",
        "preds = estimator.predict(x=input.values)\n",
        "\n",
        "predslistnorm = preds['scores']\n",
        "predslistscale = preds['scores']*850\n",
        "prednorm = format(str(predslistnorm))\n",
        "pred = format(str(predslistscale))\n",
        "print(prednorm)\n",
        "print(pred)"
      ],
      "execution_count": 100,
      "outputs": [
        {
          "output_type": "stream",
          "name": "stdout",
          "text": [
            "WARNING:tensorflow:float64 is not supported by many models, consider casting to float32.\n",
            "INFO:tensorflow:Using default config.\n",
            "INFO:tensorflow:Using config: {'_task_type': None, '_task_id': 0, '_cluster_spec': <tensorflow.python.training.server_lib.ClusterSpec object at 0x7f2f3a216410>, '_master': '', '_num_ps_replicas': 0, '_num_worker_replicas': 0, '_environment': 'local', '_is_chief': True, '_evaluation_master': '', '_train_distribute': None, '_eval_distribute': None, '_experimental_max_worker_delay_secs': None, '_device_fn': None, '_tf_config': gpu_options {\n",
            "  per_process_gpu_memory_fraction: 1.0\n",
            "}\n",
            ", '_tf_random_seed': None, '_save_summary_steps': 100, '_save_checkpoints_secs': 600, '_log_step_count_steps': 100, '_protocol': None, '_session_config': None, '_save_checkpoints_steps': None, '_keep_checkpoint_max': 5, '_keep_checkpoint_every_n_hours': 10000, '_model_dir': '/tmp/linear_regression_trained_model_v', '_session_creation_timeout_secs': 7200}\n",
            "WARNING:tensorflow:float64 is not supported by many models, consider casting to float32.\n",
            "INFO:tensorflow:Graph was finalized.\n",
            "INFO:tensorflow:Restoring parameters from /tmp/linear_regression_trained_model_v/model.ckpt-10000\n",
            "INFO:tensorflow:Running local_init_op.\n",
            "INFO:tensorflow:Done running local_init_op.\n",
            "[0.68584585 0.4848696  0.4254309 ]\n",
            "[582.969   412.13916 361.61627]\n"
          ]
        }
      ]
    },
    {
      "cell_type": "markdown",
      "metadata": {
        "id": "iBbCuUf77Oos"
      },
      "source": [
        "Using the first three rows of the shuffled test dataset it can be seen that the expected accident values are 0.743, 0.565 and 0.462.  The actual values returned from the model are 0.685, 0.485 and 0.425.  The first two rows gave a quite good result but the third one was the most accurate."
      ]
    },
    {
      "cell_type": "markdown",
      "metadata": {
        "id": "GtwNlHIBnQUx"
      },
      "source": [
        "Test model with random validation data"
      ]
    },
    {
      "cell_type": "code",
      "metadata": {
        "colab": {
          "base_uri": "https://localhost:8080/",
          "height": 143
        },
        "id": "Uwz3Zy2p4Gui",
        "outputId": "ac4074b3-fe7f-4f50-d7af-0735e08f5f7d"
      },
      "source": [
        "np.random.seed([2])\n",
        "\n",
        "shuffle_visib_test.sample(n = 3)"
      ],
      "execution_count": 114,
      "outputs": [
        {
          "output_type": "execute_result",
          "data": {
            "text/html": [
              "<div>\n",
              "<style scoped>\n",
              "    .dataframe tbody tr th:only-of-type {\n",
              "        vertical-align: middle;\n",
              "    }\n",
              "\n",
              "    .dataframe tbody tr th {\n",
              "        vertical-align: top;\n",
              "    }\n",
              "\n",
              "    .dataframe thead th {\n",
              "        text-align: right;\n",
              "    }\n",
              "</style>\n",
              "<table border=\"1\" class=\"dataframe\">\n",
              "  <thead>\n",
              "    <tr style=\"text-align: right;\">\n",
              "      <th></th>\n",
              "      <th>dayofweek</th>\n",
              "      <th>visib</th>\n",
              "      <th>num_accidents</th>\n",
              "    </tr>\n",
              "  </thead>\n",
              "  <tbody>\n",
              "    <tr>\n",
              "      <th>2513</th>\n",
              "      <td>3</td>\n",
              "      <td>3.6</td>\n",
              "      <td>0.866071</td>\n",
              "    </tr>\n",
              "    <tr>\n",
              "      <th>2427</th>\n",
              "      <td>1</td>\n",
              "      <td>10.0</td>\n",
              "      <td>0.354911</td>\n",
              "    </tr>\n",
              "    <tr>\n",
              "      <th>853</th>\n",
              "      <td>2</td>\n",
              "      <td>9.9</td>\n",
              "      <td>0.418605</td>\n",
              "    </tr>\n",
              "  </tbody>\n",
              "</table>\n",
              "</div>"
            ],
            "text/plain": [
              "      dayofweek  visib  num_accidents\n",
              "2513          3    3.6       0.866071\n",
              "2427          1   10.0       0.354911\n",
              "853           2    9.9       0.418605"
            ]
          },
          "metadata": {},
          "execution_count": 114
        }
      ]
    },
    {
      "cell_type": "code",
      "metadata": {
        "colab": {
          "base_uri": "https://localhost:8080/"
        },
        "id": "h2x39K_rmu3O",
        "outputId": "c2fe0cbc-9ce4-47a9-9aff-ea1fdf69b7f2"
      },
      "source": [
        "input = pd.DataFrame.from_dict(data = \n",
        "\t\t\t\t{'dayofweek' : [3,1,2],\n",
        "         'visib' : [3.6, 10, 9.9]\n",
        "        })\n",
        "\t\t\t\t\t\n",
        "\n",
        "estimator = tf.contrib.learn.SKCompat(tf.contrib.learn.LinearRegressor(model_dir='/tmp/linear_regression_trained_model_v', enable_centered_bias=False, feature_columns=tf.contrib.learn.infer_real_valued_columns_from_input(input.values)))\n",
        "\n",
        "preds = estimator.predict(x=input.values)\n",
        "\n",
        "predslistnorm = preds['scores']\n",
        "predslistscale = preds['scores']*850\n",
        "prednorm = format(str(predslistnorm))\n",
        "pred = format(str(predslistscale))\n",
        "print(prednorm)\n",
        "print(pred)"
      ],
      "execution_count": 115,
      "outputs": [
        {
          "output_type": "stream",
          "name": "stdout",
          "text": [
            "WARNING:tensorflow:float64 is not supported by many models, consider casting to float32.\n",
            "INFO:tensorflow:Using default config.\n",
            "INFO:tensorflow:Using config: {'_task_type': None, '_task_id': 0, '_cluster_spec': <tensorflow.python.training.server_lib.ClusterSpec object at 0x7f2ed6fa6f90>, '_master': '', '_num_ps_replicas': 0, '_num_worker_replicas': 0, '_environment': 'local', '_is_chief': True, '_evaluation_master': '', '_train_distribute': None, '_eval_distribute': None, '_experimental_max_worker_delay_secs': None, '_device_fn': None, '_tf_config': gpu_options {\n",
            "  per_process_gpu_memory_fraction: 1.0\n",
            "}\n",
            ", '_tf_random_seed': None, '_save_summary_steps': 100, '_save_checkpoints_secs': 600, '_log_step_count_steps': 100, '_protocol': None, '_session_config': None, '_save_checkpoints_steps': None, '_keep_checkpoint_max': 5, '_keep_checkpoint_every_n_hours': 10000, '_model_dir': '/tmp/linear_regression_trained_model_v', '_session_creation_timeout_secs': 7200}\n",
            "WARNING:tensorflow:float64 is not supported by many models, consider casting to float32.\n",
            "INFO:tensorflow:Graph was finalized.\n",
            "INFO:tensorflow:Restoring parameters from /tmp/linear_regression_trained_model_v/model.ckpt-10000\n",
            "INFO:tensorflow:Running local_init_op.\n",
            "INFO:tensorflow:Done running local_init_op.\n",
            "[0.5028312  0.3702688  0.42329264]\n",
            "[427.40652 314.7285  359.79874]\n"
          ]
        }
      ]
    },
    {
      "cell_type": "markdown",
      "metadata": {
        "id": "mCWmp2wN7yuA"
      },
      "source": [
        "Testing the model with a random selection of three rows from the test dataset gives a normalised number of accidents of 0.866, 0.355 and 0.419.  The model returned expected values of 0.503, 0.370 and 0.423.  The first row did not give an accurate result but the second and third rows are much closer."
      ]
    },
    {
      "cell_type": "markdown",
      "metadata": {
        "id": "qlDyZGiucXa8"
      },
      "source": [
        "## Create and test model for temperature"
      ]
    },
    {
      "cell_type": "code",
      "metadata": {
        "colab": {
          "base_uri": "https://localhost:8080/"
        },
        "id": "jzjtpDM6cwQM",
        "outputId": "9ade8991-e005-48e1-a041-2cf04d2e5fa2"
      },
      "source": [
        "#shuffle temperature dataset \n",
        "shuffle_temp = df_dow_temp_numacc.iloc[np.random.permutation(len(df_dow_temp_numacc))]\n",
        "\n",
        "#create training and validation data\n",
        "shuffle_temp_train, shuffle_temp_test = train_test_split(shuffle_temp, test_size=0.1)\n",
        "\n",
        "#select variables used for prediction\n",
        "predictors_temp = shuffle_temp_train.iloc[:,0:2]\n",
        "\n",
        "print(predictors_temp[:10])"
      ],
      "execution_count": 120,
      "outputs": [
        {
          "output_type": "stream",
          "name": "stdout",
          "text": [
            "      dayofweek  temp\n",
            "165           7  55.0\n",
            "1487          6  44.3\n",
            "568           4  67.1\n",
            "1484          3  40.9\n",
            "2521          4  46.5\n",
            "563           6  70.4\n",
            "1227          5  55.6\n",
            "1020          1  52.7\n",
            "1603          3  51.4\n",
            "596           4  63.9\n"
          ]
        }
      ]
    },
    {
      "cell_type": "code",
      "metadata": {
        "colab": {
          "base_uri": "https://localhost:8080/",
          "height": 206
        },
        "id": "bFBEvUS5lYzB",
        "outputId": "d3ae49fe-c1bd-4a87-c0d0-663768d0e38f"
      },
      "source": [
        "shuffle_temp_train[:5]"
      ],
      "execution_count": 121,
      "outputs": [
        {
          "output_type": "execute_result",
          "data": {
            "text/html": [
              "<div>\n",
              "<style scoped>\n",
              "    .dataframe tbody tr th:only-of-type {\n",
              "        vertical-align: middle;\n",
              "    }\n",
              "\n",
              "    .dataframe tbody tr th {\n",
              "        vertical-align: top;\n",
              "    }\n",
              "\n",
              "    .dataframe thead th {\n",
              "        text-align: right;\n",
              "    }\n",
              "</style>\n",
              "<table border=\"1\" class=\"dataframe\">\n",
              "  <thead>\n",
              "    <tr style=\"text-align: right;\">\n",
              "      <th></th>\n",
              "      <th>dayofweek</th>\n",
              "      <th>temp</th>\n",
              "      <th>num_accidents</th>\n",
              "    </tr>\n",
              "  </thead>\n",
              "  <tbody>\n",
              "    <tr>\n",
              "      <th>165</th>\n",
              "      <td>7</td>\n",
              "      <td>55.0</td>\n",
              "      <td>0.775229</td>\n",
              "    </tr>\n",
              "    <tr>\n",
              "      <th>1487</th>\n",
              "      <td>6</td>\n",
              "      <td>44.3</td>\n",
              "      <td>0.405063</td>\n",
              "    </tr>\n",
              "    <tr>\n",
              "      <th>568</th>\n",
              "      <td>4</td>\n",
              "      <td>67.1</td>\n",
              "      <td>0.525463</td>\n",
              "    </tr>\n",
              "    <tr>\n",
              "      <th>1484</th>\n",
              "      <td>3</td>\n",
              "      <td>40.9</td>\n",
              "      <td>0.624473</td>\n",
              "    </tr>\n",
              "    <tr>\n",
              "      <th>2521</th>\n",
              "      <td>4</td>\n",
              "      <td>46.5</td>\n",
              "      <td>0.774554</td>\n",
              "    </tr>\n",
              "  </tbody>\n",
              "</table>\n",
              "</div>"
            ],
            "text/plain": [
              "      dayofweek  temp  num_accidents\n",
              "165           7  55.0       0.775229\n",
              "1487          6  44.3       0.405063\n",
              "568           4  67.1       0.525463\n",
              "1484          3  40.9       0.624473\n",
              "2521          4  46.5       0.774554"
            ]
          },
          "metadata": {},
          "execution_count": 121
        }
      ]
    },
    {
      "cell_type": "code",
      "metadata": {
        "colab": {
          "base_uri": "https://localhost:8080/"
        },
        "id": "Guu87d27ldFt",
        "outputId": "63b63f57-8e06-47ea-e566-67dfa9395ee5"
      },
      "source": [
        "#create targets \n",
        "targets_temp = shuffle_temp_train.iloc[:,2]\n",
        "\n",
        "print(targets_temp[:10])"
      ],
      "execution_count": 122,
      "outputs": [
        {
          "output_type": "stream",
          "name": "stdout",
          "text": [
            "165     0.775229\n",
            "1487    0.405063\n",
            "568     0.525463\n",
            "1484    0.624473\n",
            "2521    0.774554\n",
            "563     0.525463\n",
            "1227    0.716738\n",
            "1020    0.439746\n",
            "1603    0.734177\n",
            "596     0.361111\n",
            "Name: num_accidents, dtype: float64\n"
          ]
        }
      ]
    },
    {
      "cell_type": "code",
      "metadata": {
        "id": "ZGVfaRApllsY"
      },
      "source": [
        "# Training set (80% of the length of the shuffle array)\n",
        "trainsize = int(len(shuffle_temp_train['num_accidents'])*0.8)\n",
        "# Test set = 20% of the length of the shuffle array.\n",
        "testsize = len(shuffle_temp_train['num_accidents']) - trainsize\n",
        "\n",
        "# Define the number of input values \n",
        "nppredictors = 2\n",
        "# Define the number of output values\n",
        "noutputs = 1"
      ],
      "execution_count": 123,
      "outputs": []
    },
    {
      "cell_type": "markdown",
      "metadata": {
        "id": "MjFnrT-snUaG"
      },
      "source": [
        "Create model"
      ]
    },
    {
      "cell_type": "code",
      "metadata": {
        "colab": {
          "base_uri": "https://localhost:8080/"
        },
        "id": "TnfIyLi1lvqq",
        "outputId": "72245417-a99c-42cb-d370-1b04afb344c8"
      },
      "source": [
        "tf.compat.v1.logging.set_verbosity(tf.compat.v1.logging.INFO)\n",
        "\n",
        "shutil.rmtree('/tmp/linear_regression_trained_model_t', ignore_errors=True)\n",
        "\n",
        "estimator_temp = tf.contrib.learn.SKCompat(tf.contrib.learn.LinearRegressor(model_dir='/tmp/linear_regression_trained_model_t', optimizer=tf.train.AdamOptimizer(learning_rate=0.1), enable_centered_bias=False, feature_columns=tf.contrib.learn.infer_real_valued_columns_from_input(predictors_temp.values)))\n",
        "\n",
        "# Starting to train\n",
        "print(\"starting to train\");\n",
        "\n",
        "# Train the model. \n",
        "estimator_temp.fit(predictors_temp[:trainsize].values, targets_temp[:trainsize].values.reshape(trainsize, noutputs)/SCALE_NUM_ACCIDENTS, steps=10000)\n",
        "\n",
        "# Check  predictions \n",
        "preds = estimator_temp.predict(x=predictors_temp[trainsize:].values)\n",
        "\n",
        "predslistscale = preds['scores']*SCALE_NUM_ACCIDENTS\n",
        "\n",
        "# pred = format(str(predslistscale)) # useful for checking outputs and printing.\n",
        "\n",
        "# Calculate RMSE\n",
        "rmse = np.sqrt(np.mean((targets_temp[trainsize:].values - predslistscale)**2))\n",
        "print('LinearRegression Temperature has RMSE of {0}'.format(rmse));\n",
        "\n",
        "# Calculate the mean of the Number of Accidents.\n",
        "avg = np.mean(shuffle_temp_train['num_accidents'][:trainsize])\n",
        "\n",
        "# Calculate the RMSE \n",
        "rmse = np.sqrt(np.mean((shuffle_temp_train['num_accidents'][trainsize:] - avg)**2))\n",
        "print('Just using average = {0} has RMSE of {1}'.format(avg, rmse));"
      ],
      "execution_count": 124,
      "outputs": [
        {
          "output_type": "stream",
          "name": "stdout",
          "text": [
            "WARNING:tensorflow:float64 is not supported by many models, consider casting to float32.\n",
            "INFO:tensorflow:Using default config.\n",
            "INFO:tensorflow:Using config: {'_task_type': None, '_task_id': 0, '_cluster_spec': <tensorflow.python.training.server_lib.ClusterSpec object at 0x7f2ed6d40e90>, '_master': '', '_num_ps_replicas': 0, '_num_worker_replicas': 0, '_environment': 'local', '_is_chief': True, '_evaluation_master': '', '_train_distribute': None, '_eval_distribute': None, '_experimental_max_worker_delay_secs': None, '_device_fn': None, '_tf_config': gpu_options {\n",
            "  per_process_gpu_memory_fraction: 1.0\n",
            "}\n",
            ", '_tf_random_seed': None, '_save_summary_steps': 100, '_save_checkpoints_secs': 600, '_log_step_count_steps': 100, '_protocol': None, '_session_config': None, '_save_checkpoints_steps': None, '_keep_checkpoint_max': 5, '_keep_checkpoint_every_n_hours': 10000, '_model_dir': '/tmp/linear_regression_trained_model_t', '_session_creation_timeout_secs': 7200}\n",
            "starting to train\n",
            "WARNING:tensorflow:float64 is not supported by many models, consider casting to float32.\n",
            "WARNING:tensorflow:float64 is not supported by many models, consider casting to float32.\n",
            "INFO:tensorflow:Create CheckpointSaverHook.\n",
            "INFO:tensorflow:Graph was finalized.\n",
            "INFO:tensorflow:Running local_init_op.\n",
            "INFO:tensorflow:Done running local_init_op.\n",
            "INFO:tensorflow:Saving checkpoints for 0 into /tmp/linear_regression_trained_model_t/model.ckpt.\n",
            "INFO:tensorflow:loss = 0.32106403, step = 1\n",
            "INFO:tensorflow:global_step/sec: 736.651\n",
            "INFO:tensorflow:loss = 0.029970262, step = 101 (0.141 sec)\n",
            "INFO:tensorflow:global_step/sec: 871.641\n",
            "INFO:tensorflow:loss = 0.024298534, step = 201 (0.114 sec)\n",
            "INFO:tensorflow:global_step/sec: 963.205\n",
            "INFO:tensorflow:loss = 0.03815921, step = 301 (0.104 sec)\n",
            "INFO:tensorflow:global_step/sec: 944.338\n",
            "INFO:tensorflow:loss = 0.036141172, step = 401 (0.106 sec)\n",
            "INFO:tensorflow:global_step/sec: 955.819\n",
            "INFO:tensorflow:loss = 0.022874901, step = 501 (0.105 sec)\n",
            "INFO:tensorflow:global_step/sec: 991.339\n",
            "INFO:tensorflow:loss = 0.030036278, step = 601 (0.100 sec)\n",
            "INFO:tensorflow:global_step/sec: 898.582\n",
            "INFO:tensorflow:loss = 0.03134524, step = 701 (0.111 sec)\n",
            "INFO:tensorflow:global_step/sec: 914.802\n",
            "INFO:tensorflow:loss = 0.036086425, step = 801 (0.110 sec)\n",
            "INFO:tensorflow:global_step/sec: 838.1\n",
            "INFO:tensorflow:loss = 0.037657462, step = 901 (0.119 sec)\n",
            "INFO:tensorflow:global_step/sec: 901.857\n",
            "INFO:tensorflow:loss = 0.03022984, step = 1001 (0.109 sec)\n",
            "INFO:tensorflow:global_step/sec: 965.38\n",
            "INFO:tensorflow:loss = 0.025197, step = 1101 (0.106 sec)\n",
            "INFO:tensorflow:global_step/sec: 852.423\n",
            "INFO:tensorflow:loss = 0.046816975, step = 1201 (0.117 sec)\n",
            "INFO:tensorflow:global_step/sec: 941.339\n",
            "INFO:tensorflow:loss = 0.027645959, step = 1301 (0.106 sec)\n",
            "INFO:tensorflow:global_step/sec: 935.32\n",
            "INFO:tensorflow:loss = 0.029300816, step = 1401 (0.107 sec)\n",
            "INFO:tensorflow:global_step/sec: 922.277\n",
            "INFO:tensorflow:loss = 0.3255807, step = 1501 (0.108 sec)\n",
            "INFO:tensorflow:global_step/sec: 964.414\n",
            "INFO:tensorflow:loss = 0.027477399, step = 1601 (0.104 sec)\n",
            "INFO:tensorflow:global_step/sec: 936.471\n",
            "INFO:tensorflow:loss = 0.03739708, step = 1701 (0.107 sec)\n",
            "INFO:tensorflow:global_step/sec: 916.133\n",
            "INFO:tensorflow:loss = 0.04099889, step = 1801 (0.106 sec)\n",
            "INFO:tensorflow:global_step/sec: 955.444\n",
            "INFO:tensorflow:loss = 0.026379302, step = 1901 (0.105 sec)\n",
            "INFO:tensorflow:global_step/sec: 994.637\n",
            "INFO:tensorflow:loss = 0.047537956, step = 2001 (0.105 sec)\n",
            "INFO:tensorflow:global_step/sec: 823.145\n",
            "INFO:tensorflow:loss = 0.08909804, step = 2101 (0.119 sec)\n",
            "INFO:tensorflow:global_step/sec: 969.938\n",
            "INFO:tensorflow:loss = 0.035379052, step = 2201 (0.103 sec)\n",
            "INFO:tensorflow:global_step/sec: 931.873\n",
            "INFO:tensorflow:loss = 0.03427065, step = 2301 (0.107 sec)\n",
            "INFO:tensorflow:global_step/sec: 964.387\n",
            "INFO:tensorflow:loss = 0.122174874, step = 2401 (0.104 sec)\n",
            "INFO:tensorflow:global_step/sec: 892.02\n",
            "INFO:tensorflow:loss = 0.103330225, step = 2501 (0.112 sec)\n",
            "INFO:tensorflow:global_step/sec: 856.612\n",
            "INFO:tensorflow:loss = 0.029495468, step = 2601 (0.117 sec)\n",
            "INFO:tensorflow:global_step/sec: 810.107\n",
            "INFO:tensorflow:loss = 0.042121913, step = 2701 (0.123 sec)\n",
            "INFO:tensorflow:global_step/sec: 894.959\n",
            "INFO:tensorflow:loss = 0.20694526, step = 2801 (0.114 sec)\n",
            "INFO:tensorflow:global_step/sec: 934.497\n",
            "INFO:tensorflow:loss = 0.039685216, step = 2901 (0.105 sec)\n",
            "INFO:tensorflow:global_step/sec: 888.182\n",
            "INFO:tensorflow:loss = 0.08183597, step = 3001 (0.112 sec)\n",
            "INFO:tensorflow:global_step/sec: 919.598\n",
            "INFO:tensorflow:loss = 0.03323161, step = 3101 (0.109 sec)\n",
            "INFO:tensorflow:global_step/sec: 918.13\n",
            "INFO:tensorflow:loss = 0.02915468, step = 3201 (0.106 sec)\n",
            "INFO:tensorflow:global_step/sec: 998.34\n",
            "INFO:tensorflow:loss = 0.14862846, step = 3301 (0.102 sec)\n",
            "INFO:tensorflow:global_step/sec: 862.793\n",
            "INFO:tensorflow:loss = 0.040774405, step = 3401 (0.114 sec)\n",
            "INFO:tensorflow:global_step/sec: 949.305\n",
            "INFO:tensorflow:loss = 0.03166443, step = 3501 (0.107 sec)\n",
            "INFO:tensorflow:global_step/sec: 934.512\n",
            "INFO:tensorflow:loss = 0.19158097, step = 3601 (0.105 sec)\n",
            "INFO:tensorflow:global_step/sec: 832.41\n",
            "INFO:tensorflow:loss = 0.032261133, step = 3701 (0.124 sec)\n",
            "INFO:tensorflow:global_step/sec: 900.958\n",
            "INFO:tensorflow:loss = 0.03872647, step = 3801 (0.111 sec)\n",
            "INFO:tensorflow:global_step/sec: 899.079\n",
            "INFO:tensorflow:loss = 0.27009916, step = 3901 (0.110 sec)\n",
            "INFO:tensorflow:global_step/sec: 864.26\n",
            "INFO:tensorflow:loss = 0.055076353, step = 4001 (0.113 sec)\n",
            "INFO:tensorflow:global_step/sec: 927.039\n",
            "INFO:tensorflow:loss = 0.030237734, step = 4101 (0.111 sec)\n",
            "INFO:tensorflow:global_step/sec: 857.673\n",
            "INFO:tensorflow:loss = 0.029814022, step = 4201 (0.114 sec)\n",
            "INFO:tensorflow:global_step/sec: 916.241\n",
            "INFO:tensorflow:loss = 0.041121285, step = 4301 (0.112 sec)\n",
            "INFO:tensorflow:global_step/sec: 917.767\n",
            "INFO:tensorflow:loss = 0.12700604, step = 4401 (0.111 sec)\n",
            "INFO:tensorflow:global_step/sec: 809.264\n",
            "INFO:tensorflow:loss = 0.04343808, step = 4501 (0.121 sec)\n",
            "INFO:tensorflow:global_step/sec: 845.902\n",
            "INFO:tensorflow:loss = 0.031433716, step = 4601 (0.120 sec)\n",
            "INFO:tensorflow:global_step/sec: 832.912\n",
            "INFO:tensorflow:loss = 0.03016755, step = 4701 (0.119 sec)\n",
            "INFO:tensorflow:global_step/sec: 953.383\n",
            "INFO:tensorflow:loss = 0.10756835, step = 4801 (0.105 sec)\n",
            "INFO:tensorflow:global_step/sec: 898.557\n",
            "INFO:tensorflow:loss = 0.059551023, step = 4901 (0.111 sec)\n",
            "INFO:tensorflow:global_step/sec: 906.277\n",
            "INFO:tensorflow:loss = 0.055034958, step = 5001 (0.110 sec)\n",
            "INFO:tensorflow:global_step/sec: 917.205\n",
            "INFO:tensorflow:loss = 0.031164218, step = 5101 (0.107 sec)\n",
            "INFO:tensorflow:global_step/sec: 840.294\n",
            "INFO:tensorflow:loss = 0.07461162, step = 5201 (0.122 sec)\n",
            "INFO:tensorflow:global_step/sec: 840.488\n",
            "INFO:tensorflow:loss = 0.18055937, step = 5301 (0.119 sec)\n",
            "INFO:tensorflow:global_step/sec: 825.137\n",
            "INFO:tensorflow:loss = 0.03244938, step = 5401 (0.124 sec)\n",
            "INFO:tensorflow:global_step/sec: 894.993\n",
            "INFO:tensorflow:loss = 0.12973653, step = 5501 (0.109 sec)\n",
            "INFO:tensorflow:global_step/sec: 948.399\n",
            "INFO:tensorflow:loss = 0.03259258, step = 5601 (0.103 sec)\n",
            "INFO:tensorflow:global_step/sec: 929.294\n",
            "INFO:tensorflow:loss = 0.026343592, step = 5701 (0.107 sec)\n",
            "INFO:tensorflow:global_step/sec: 959.929\n",
            "INFO:tensorflow:loss = 0.28930086, step = 5801 (0.106 sec)\n",
            "INFO:tensorflow:global_step/sec: 902.127\n",
            "INFO:tensorflow:loss = 0.05454743, step = 5901 (0.112 sec)\n",
            "INFO:tensorflow:global_step/sec: 919.165\n",
            "INFO:tensorflow:loss = 0.08467671, step = 6001 (0.107 sec)\n",
            "INFO:tensorflow:global_step/sec: 816.662\n",
            "INFO:tensorflow:loss = 0.036295142, step = 6101 (0.125 sec)\n",
            "INFO:tensorflow:global_step/sec: 840.805\n",
            "INFO:tensorflow:loss = 0.031808957, step = 6201 (0.118 sec)\n",
            "INFO:tensorflow:global_step/sec: 879.303\n",
            "INFO:tensorflow:loss = 0.043776114, step = 6301 (0.112 sec)\n",
            "INFO:tensorflow:global_step/sec: 880.298\n",
            "INFO:tensorflow:loss = 0.04682306, step = 6401 (0.113 sec)\n",
            "INFO:tensorflow:global_step/sec: 973.378\n",
            "INFO:tensorflow:loss = 0.05112787, step = 6501 (0.106 sec)\n",
            "INFO:tensorflow:global_step/sec: 924.841\n",
            "INFO:tensorflow:loss = 0.03507185, step = 6601 (0.109 sec)\n",
            "INFO:tensorflow:global_step/sec: 961.037\n",
            "INFO:tensorflow:loss = 0.03130932, step = 6701 (0.103 sec)\n",
            "INFO:tensorflow:global_step/sec: 934.903\n",
            "INFO:tensorflow:loss = 0.021459501, step = 6801 (0.106 sec)\n",
            "INFO:tensorflow:global_step/sec: 918.899\n",
            "INFO:tensorflow:loss = 0.10485228, step = 6901 (0.109 sec)\n",
            "INFO:tensorflow:global_step/sec: 923.483\n",
            "INFO:tensorflow:loss = 0.042862356, step = 7001 (0.108 sec)\n",
            "INFO:tensorflow:global_step/sec: 938.966\n",
            "INFO:tensorflow:loss = 0.027026506, step = 7101 (0.106 sec)\n",
            "INFO:tensorflow:global_step/sec: 831.733\n",
            "INFO:tensorflow:loss = 0.08490836, step = 7201 (0.120 sec)\n",
            "INFO:tensorflow:global_step/sec: 799.591\n",
            "INFO:tensorflow:loss = 0.042635538, step = 7301 (0.129 sec)\n",
            "INFO:tensorflow:global_step/sec: 875.804\n",
            "INFO:tensorflow:loss = 0.033535462, step = 7401 (0.114 sec)\n",
            "INFO:tensorflow:global_step/sec: 935.437\n",
            "INFO:tensorflow:loss = 0.11959636, step = 7501 (0.105 sec)\n",
            "INFO:tensorflow:global_step/sec: 910.831\n",
            "INFO:tensorflow:loss = 0.03030245, step = 7601 (0.108 sec)\n",
            "INFO:tensorflow:global_step/sec: 940.716\n",
            "INFO:tensorflow:loss = 0.03991861, step = 7701 (0.109 sec)\n",
            "INFO:tensorflow:global_step/sec: 900.748\n",
            "INFO:tensorflow:loss = 0.13922873, step = 7801 (0.108 sec)\n",
            "INFO:tensorflow:global_step/sec: 767.624\n",
            "INFO:tensorflow:loss = 0.034694616, step = 7901 (0.133 sec)\n",
            "INFO:tensorflow:global_step/sec: 910.28\n",
            "INFO:tensorflow:loss = 0.028188542, step = 8001 (0.111 sec)\n",
            "INFO:tensorflow:global_step/sec: 879.945\n",
            "INFO:tensorflow:loss = 0.02442493, step = 8101 (0.112 sec)\n",
            "INFO:tensorflow:global_step/sec: 788.608\n",
            "INFO:tensorflow:loss = 0.106294736, step = 8201 (0.125 sec)\n",
            "INFO:tensorflow:global_step/sec: 905.014\n",
            "INFO:tensorflow:loss = 0.07576687, step = 8301 (0.111 sec)\n",
            "INFO:tensorflow:global_step/sec: 838.225\n",
            "INFO:tensorflow:loss = 0.028902672, step = 8401 (0.118 sec)\n",
            "INFO:tensorflow:global_step/sec: 835.06\n",
            "INFO:tensorflow:loss = 0.027303318, step = 8501 (0.123 sec)\n",
            "INFO:tensorflow:global_step/sec: 945.217\n",
            "INFO:tensorflow:loss = 0.0339945, step = 8601 (0.105 sec)\n",
            "INFO:tensorflow:global_step/sec: 878.434\n",
            "INFO:tensorflow:loss = 0.037878416, step = 8701 (0.115 sec)\n",
            "INFO:tensorflow:global_step/sec: 830.776\n",
            "INFO:tensorflow:loss = 0.06968343, step = 8801 (0.120 sec)\n",
            "INFO:tensorflow:global_step/sec: 904.692\n",
            "INFO:tensorflow:loss = 0.026545525, step = 8901 (0.109 sec)\n",
            "INFO:tensorflow:global_step/sec: 832.098\n",
            "INFO:tensorflow:loss = 0.03577961, step = 9001 (0.122 sec)\n",
            "INFO:tensorflow:global_step/sec: 827.344\n",
            "INFO:tensorflow:loss = 0.027951127, step = 9101 (0.121 sec)\n",
            "INFO:tensorflow:global_step/sec: 953.869\n",
            "INFO:tensorflow:loss = 0.04624044, step = 9201 (0.101 sec)\n",
            "INFO:tensorflow:global_step/sec: 832.38\n",
            "INFO:tensorflow:loss = 0.050340924, step = 9301 (0.123 sec)\n",
            "INFO:tensorflow:global_step/sec: 926.861\n",
            "INFO:tensorflow:loss = 0.07536809, step = 9401 (0.107 sec)\n",
            "INFO:tensorflow:global_step/sec: 843.879\n",
            "INFO:tensorflow:loss = 0.03734434, step = 9501 (0.117 sec)\n",
            "INFO:tensorflow:global_step/sec: 913.239\n",
            "INFO:tensorflow:loss = 0.11730875, step = 9601 (0.110 sec)\n",
            "INFO:tensorflow:global_step/sec: 966.133\n",
            "INFO:tensorflow:loss = 0.030453898, step = 9701 (0.104 sec)\n",
            "INFO:tensorflow:global_step/sec: 945.624\n",
            "INFO:tensorflow:loss = 0.045889445, step = 9801 (0.105 sec)\n",
            "INFO:tensorflow:global_step/sec: 846.158\n",
            "INFO:tensorflow:loss = 0.066266894, step = 9901 (0.118 sec)\n",
            "INFO:tensorflow:Saving checkpoints for 10000 into /tmp/linear_regression_trained_model_t/model.ckpt.\n",
            "INFO:tensorflow:Loss for final step: 0.03857707.\n",
            "WARNING:tensorflow:float64 is not supported by many models, consider casting to float32.\n",
            "INFO:tensorflow:Graph was finalized.\n",
            "INFO:tensorflow:Restoring parameters from /tmp/linear_regression_trained_model_t/model.ckpt-10000\n",
            "INFO:tensorflow:Running local_init_op.\n",
            "INFO:tensorflow:Done running local_init_op.\n",
            "LinearRegression Temperature has RMSE of 0.18119996814217063\n",
            "Just using average = 0.5108240470327613 has RMSE of 0.19556448885745426\n"
          ]
        }
      ]
    },
    {
      "cell_type": "markdown",
      "metadata": {
        "id": "yHbQ3Wre9MlI"
      },
      "source": [
        "The RMSE results are 0.181 and 0.196 which is a good result so the model will now be tested with the validation data."
      ]
    },
    {
      "cell_type": "markdown",
      "metadata": {
        "id": "y7VwCb2GnWKU"
      },
      "source": [
        "Test model with validation data"
      ]
    },
    {
      "cell_type": "code",
      "metadata": {
        "colab": {
          "base_uri": "https://localhost:8080/",
          "height": 143
        },
        "id": "7JlQyr4n9h9w",
        "outputId": "220eb928-6b0a-4b48-f931-88caab730bf3"
      },
      "source": [
        "shuffle_temp_test[:3]"
      ],
      "execution_count": 125,
      "outputs": [
        {
          "output_type": "execute_result",
          "data": {
            "text/html": [
              "<div>\n",
              "<style scoped>\n",
              "    .dataframe tbody tr th:only-of-type {\n",
              "        vertical-align: middle;\n",
              "    }\n",
              "\n",
              "    .dataframe tbody tr th {\n",
              "        vertical-align: top;\n",
              "    }\n",
              "\n",
              "    .dataframe thead th {\n",
              "        text-align: right;\n",
              "    }\n",
              "</style>\n",
              "<table border=\"1\" class=\"dataframe\">\n",
              "  <thead>\n",
              "    <tr style=\"text-align: right;\">\n",
              "      <th></th>\n",
              "      <th>dayofweek</th>\n",
              "      <th>temp</th>\n",
              "      <th>num_accidents</th>\n",
              "    </tr>\n",
              "  </thead>\n",
              "  <tbody>\n",
              "    <tr>\n",
              "      <th>1303</th>\n",
              "      <td>4</td>\n",
              "      <td>75.3</td>\n",
              "      <td>0.693133</td>\n",
              "    </tr>\n",
              "    <tr>\n",
              "      <th>333</th>\n",
              "      <td>7</td>\n",
              "      <td>31.2</td>\n",
              "      <td>0.188073</td>\n",
              "    </tr>\n",
              "    <tr>\n",
              "      <th>77</th>\n",
              "      <td>3</td>\n",
              "      <td>32.1</td>\n",
              "      <td>0.614679</td>\n",
              "    </tr>\n",
              "  </tbody>\n",
              "</table>\n",
              "</div>"
            ],
            "text/plain": [
              "      dayofweek  temp  num_accidents\n",
              "1303          4  75.3       0.693133\n",
              "333           7  31.2       0.188073\n",
              "77            3  32.1       0.614679"
            ]
          },
          "metadata": {},
          "execution_count": 125
        }
      ]
    },
    {
      "cell_type": "code",
      "metadata": {
        "colab": {
          "base_uri": "https://localhost:8080/"
        },
        "id": "gkmf9-0WmME3",
        "outputId": "1b10a71e-119e-4853-cb81-5b5befe8d97b"
      },
      "source": [
        "input = pd.DataFrame.from_dict(data = \n",
        "\t\t\t\t{'dayofweek' : [4,7,3],\n",
        "         'temp' : [75.3, 31.2, 32.1]\n",
        "        })\n",
        "\t\t\t\t\t\n",
        "\n",
        "estimator = tf.contrib.learn.SKCompat(tf.contrib.learn.LinearRegressor(model_dir='/tmp/linear_regression_trained_model_t', enable_centered_bias=False, feature_columns=tf.contrib.learn.infer_real_valued_columns_from_input(input.values)))\n",
        "\n",
        "preds = estimator.predict(x=input.values)\n",
        "\n",
        "predslistnorm = preds['scores']\n",
        "predslistscale = preds['scores']*850\n",
        "prednorm = format(str(predslistnorm))\n",
        "pred = format(str(predslistscale))\n",
        "print(prednorm)\n",
        "print(pred)"
      ],
      "execution_count": 126,
      "outputs": [
        {
          "output_type": "stream",
          "name": "stdout",
          "text": [
            "WARNING:tensorflow:float64 is not supported by many models, consider casting to float32.\n",
            "INFO:tensorflow:Using default config.\n",
            "INFO:tensorflow:Using config: {'_task_type': None, '_task_id': 0, '_cluster_spec': <tensorflow.python.training.server_lib.ClusterSpec object at 0x7f2ed6e62790>, '_master': '', '_num_ps_replicas': 0, '_num_worker_replicas': 0, '_environment': 'local', '_is_chief': True, '_evaluation_master': '', '_train_distribute': None, '_eval_distribute': None, '_experimental_max_worker_delay_secs': None, '_device_fn': None, '_tf_config': gpu_options {\n",
            "  per_process_gpu_memory_fraction: 1.0\n",
            "}\n",
            ", '_tf_random_seed': None, '_save_summary_steps': 100, '_save_checkpoints_secs': 600, '_log_step_count_steps': 100, '_protocol': None, '_session_config': None, '_save_checkpoints_steps': None, '_keep_checkpoint_max': 5, '_keep_checkpoint_every_n_hours': 10000, '_model_dir': '/tmp/linear_regression_trained_model_t', '_session_creation_timeout_secs': 7200}\n",
            "WARNING:tensorflow:float64 is not supported by many models, consider casting to float32.\n",
            "INFO:tensorflow:Graph was finalized.\n",
            "INFO:tensorflow:Restoring parameters from /tmp/linear_regression_trained_model_t/model.ckpt-10000\n",
            "INFO:tensorflow:Running local_init_op.\n",
            "INFO:tensorflow:Done running local_init_op.\n",
            "[0.50585186 0.52532053 0.3510846 ]\n",
            "[429.9741  446.52246 298.4219 ]\n"
          ]
        }
      ]
    },
    {
      "cell_type": "markdown",
      "metadata": {
        "id": "XryINv849zO0"
      },
      "source": [
        "It can be seen that the normalised number of accidents from the test data is 0.693, 0.188 and 0.614 while the results of the model test are actually 0.506, 0.525 and 0.351.  This is much less accurate than the visibility model."
      ]
    },
    {
      "cell_type": "markdown",
      "metadata": {
        "id": "YlwxiiTjnZp3"
      },
      "source": [
        "Test model with random data from the validation data"
      ]
    },
    {
      "cell_type": "code",
      "metadata": {
        "colab": {
          "base_uri": "https://localhost:8080/",
          "height": 143
        },
        "id": "gjOeuN66-Q5l",
        "outputId": "6d3fa860-27c6-41c5-d222-bd57f5637906"
      },
      "source": [
        "np.random.seed([3])\n",
        "\n",
        "shuffle_temp_test.sample(n = 3)"
      ],
      "execution_count": 127,
      "outputs": [
        {
          "output_type": "execute_result",
          "data": {
            "text/html": [
              "<div>\n",
              "<style scoped>\n",
              "    .dataframe tbody tr th:only-of-type {\n",
              "        vertical-align: middle;\n",
              "    }\n",
              "\n",
              "    .dataframe tbody tr th {\n",
              "        vertical-align: top;\n",
              "    }\n",
              "\n",
              "    .dataframe thead th {\n",
              "        text-align: right;\n",
              "    }\n",
              "</style>\n",
              "<table border=\"1\" class=\"dataframe\">\n",
              "  <thead>\n",
              "    <tr style=\"text-align: right;\">\n",
              "      <th></th>\n",
              "      <th>dayofweek</th>\n",
              "      <th>temp</th>\n",
              "      <th>num_accidents</th>\n",
              "    </tr>\n",
              "  </thead>\n",
              "  <tbody>\n",
              "    <tr>\n",
              "      <th>373</th>\n",
              "      <td>5</td>\n",
              "      <td>18.2</td>\n",
              "      <td>0.592593</td>\n",
              "    </tr>\n",
              "    <tr>\n",
              "      <th>1976</th>\n",
              "      <td>5</td>\n",
              "      <td>59.2</td>\n",
              "      <td>0.692825</td>\n",
              "    </tr>\n",
              "    <tr>\n",
              "      <th>1533</th>\n",
              "      <td>3</td>\n",
              "      <td>21.9</td>\n",
              "      <td>0.888186</td>\n",
              "    </tr>\n",
              "  </tbody>\n",
              "</table>\n",
              "</div>"
            ],
            "text/plain": [
              "      dayofweek  temp  num_accidents\n",
              "373           5  18.2       0.592593\n",
              "1976          5  59.2       0.692825\n",
              "1533          3  21.9       0.888186"
            ]
          },
          "metadata": {},
          "execution_count": 127
        }
      ]
    },
    {
      "cell_type": "code",
      "metadata": {
        "colab": {
          "base_uri": "https://localhost:8080/"
        },
        "id": "G9rb1Pkhni-L",
        "outputId": "6382dbfd-a5a6-4e73-c393-e211fe012a5b"
      },
      "source": [
        "input = pd.DataFrame.from_dict(data = \n",
        "\t\t\t\t{'dayofweek' : [5,5,3],\n",
        "         'temp' : [18.2, 59.2, 21.9]\n",
        "        })\n",
        "\t\t\t\t\t\n",
        "\n",
        "estimator = tf.contrib.learn.SKCompat(tf.contrib.learn.LinearRegressor(model_dir='/tmp/linear_regression_trained_model_t', enable_centered_bias=False, feature_columns=tf.contrib.learn.infer_real_valued_columns_from_input(input.values)))\n",
        "\n",
        "preds = estimator.predict(x=input.values)\n",
        "\n",
        "predslistnorm = preds['scores']\n",
        "predslistscale = preds['scores']*850\n",
        "prednorm = format(str(predslistnorm))\n",
        "pred = format(str(predslistscale))\n",
        "print(prednorm)\n",
        "print(pred)"
      ],
      "execution_count": 128,
      "outputs": [
        {
          "output_type": "stream",
          "name": "stdout",
          "text": [
            "WARNING:tensorflow:float64 is not supported by many models, consider casting to float32.\n",
            "INFO:tensorflow:Using default config.\n",
            "INFO:tensorflow:Using config: {'_task_type': None, '_task_id': 0, '_cluster_spec': <tensorflow.python.training.server_lib.ClusterSpec object at 0x7f2ed6cdc550>, '_master': '', '_num_ps_replicas': 0, '_num_worker_replicas': 0, '_environment': 'local', '_is_chief': True, '_evaluation_master': '', '_train_distribute': None, '_eval_distribute': None, '_experimental_max_worker_delay_secs': None, '_device_fn': None, '_tf_config': gpu_options {\n",
            "  per_process_gpu_memory_fraction: 1.0\n",
            "}\n",
            ", '_tf_random_seed': None, '_save_summary_steps': 100, '_save_checkpoints_secs': 600, '_log_step_count_steps': 100, '_protocol': None, '_session_config': None, '_save_checkpoints_steps': None, '_keep_checkpoint_max': 5, '_keep_checkpoint_every_n_hours': 10000, '_model_dir': '/tmp/linear_regression_trained_model_t', '_session_creation_timeout_secs': 7200}\n",
            "WARNING:tensorflow:float64 is not supported by many models, consider casting to float32.\n",
            "INFO:tensorflow:Graph was finalized.\n",
            "INFO:tensorflow:Restoring parameters from /tmp/linear_regression_trained_model_t/model.ckpt-10000\n",
            "INFO:tensorflow:Running local_init_op.\n",
            "INFO:tensorflow:Done running local_init_op.\n",
            "[0.4037581  0.50875616 0.32496315]\n",
            "[343.1944  432.44275 276.2187 ]\n"
          ]
        }
      ]
    },
    {
      "cell_type": "markdown",
      "metadata": {
        "id": "tnmwqN2G-d79"
      },
      "source": [
        "It can be seen that the normalised number of accidents from the test data are 0.593, 0.693 and 0.888 while the results of the model test are actually 0.404, 0.509 and 0.325 which again is not a particularly accurate result."
      ]
    },
    {
      "cell_type": "markdown",
      "metadata": {
        "id": "o2agWG8Anxnl"
      },
      "source": [
        "## Create and test model for fog"
      ]
    },
    {
      "cell_type": "code",
      "metadata": {
        "colab": {
          "base_uri": "https://localhost:8080/"
        },
        "id": "Om5vb0MFn8mL",
        "outputId": "3f31b108-415f-4905-851f-355d38c1797f"
      },
      "source": [
        "#shuffle fog dataset \n",
        "shuffle_fog = df_dow_fog_numacc.iloc[np.random.permutation(len(df_dow_fog_numacc))]\n",
        "\n",
        "#create training and validation data\n",
        "shuffle_fog_train, shuffle_fog_test = train_test_split(shuffle_fog, test_size=0.1)\n",
        "\n",
        "#select variables used for prediction\n",
        "predictors_fog = shuffle_fog_train.iloc[:,0:2]\n",
        "\n",
        "print(predictors_fog[:10])"
      ],
      "execution_count": 149,
      "outputs": [
        {
          "output_type": "stream",
          "name": "stdout",
          "text": [
            "      dayofweek  fog\n",
            "1693          2    1\n",
            "2116          5    0\n",
            "174           2    0\n",
            "100           5    1\n",
            "1661          5    1\n",
            "2538          7    0\n",
            "2095          5    0\n",
            "1997          5    1\n",
            "2259          1    0\n",
            "1146          1    0\n"
          ]
        }
      ]
    },
    {
      "cell_type": "code",
      "metadata": {
        "colab": {
          "base_uri": "https://localhost:8080/",
          "height": 206
        },
        "id": "D8EHU-G6oU0z",
        "outputId": "7f9046cd-3fb5-4e1d-9e63-2a362b9b4824"
      },
      "source": [
        "shuffle_fog_train[:5]"
      ],
      "execution_count": 150,
      "outputs": [
        {
          "output_type": "execute_result",
          "data": {
            "text/html": [
              "<div>\n",
              "<style scoped>\n",
              "    .dataframe tbody tr th:only-of-type {\n",
              "        vertical-align: middle;\n",
              "    }\n",
              "\n",
              "    .dataframe tbody tr th {\n",
              "        vertical-align: top;\n",
              "    }\n",
              "\n",
              "    .dataframe thead th {\n",
              "        text-align: right;\n",
              "    }\n",
              "</style>\n",
              "<table border=\"1\" class=\"dataframe\">\n",
              "  <thead>\n",
              "    <tr style=\"text-align: right;\">\n",
              "      <th></th>\n",
              "      <th>dayofweek</th>\n",
              "      <th>fog</th>\n",
              "      <th>num_accidents</th>\n",
              "    </tr>\n",
              "  </thead>\n",
              "  <tbody>\n",
              "    <tr>\n",
              "      <th>1693</th>\n",
              "      <td>2</td>\n",
              "      <td>1</td>\n",
              "      <td>0.352321</td>\n",
              "    </tr>\n",
              "    <tr>\n",
              "      <th>2116</th>\n",
              "      <td>5</td>\n",
              "      <td>0</td>\n",
              "      <td>0.672646</td>\n",
              "    </tr>\n",
              "    <tr>\n",
              "      <th>174</th>\n",
              "      <td>2</td>\n",
              "      <td>0</td>\n",
              "      <td>0.344037</td>\n",
              "    </tr>\n",
              "    <tr>\n",
              "      <th>100</th>\n",
              "      <td>5</td>\n",
              "      <td>1</td>\n",
              "      <td>0.516055</td>\n",
              "    </tr>\n",
              "    <tr>\n",
              "      <th>1661</th>\n",
              "      <td>5</td>\n",
              "      <td>1</td>\n",
              "      <td>0.793249</td>\n",
              "    </tr>\n",
              "  </tbody>\n",
              "</table>\n",
              "</div>"
            ],
            "text/plain": [
              "      dayofweek  fog  num_accidents\n",
              "1693          2    1       0.352321\n",
              "2116          5    0       0.672646\n",
              "174           2    0       0.344037\n",
              "100           5    1       0.516055\n",
              "1661          5    1       0.793249"
            ]
          },
          "metadata": {},
          "execution_count": 150
        }
      ]
    },
    {
      "cell_type": "code",
      "metadata": {
        "colab": {
          "base_uri": "https://localhost:8080/"
        },
        "id": "DPGpVPz-ocP6",
        "outputId": "907804a8-c263-4ede-a22b-3a61169ec398"
      },
      "source": [
        "#create targets \n",
        "targets_fog = shuffle_fog_train.iloc[:,2]\n",
        "\n",
        "print(targets_fog[:10])"
      ],
      "execution_count": 151,
      "outputs": [
        {
          "output_type": "stream",
          "name": "stdout",
          "text": [
            "1693    0.352321\n",
            "2116    0.672646\n",
            "174     0.344037\n",
            "100     0.516055\n",
            "1661    0.793249\n",
            "2538    0.904018\n",
            "2095    0.798206\n",
            "1997    0.670404\n",
            "2259    0.375000\n",
            "1146    0.407725\n",
            "Name: num_accidents, dtype: float64\n"
          ]
        }
      ]
    },
    {
      "cell_type": "code",
      "metadata": {
        "id": "qAvWLzUTomAJ"
      },
      "source": [
        "# Training set (80% of the length of the shuffle array)\n",
        "trainsize = int(len(shuffle_fog_train['num_accidents'])*0.8)\n",
        "# Test set = 20% of the length of the shuffle array.\n",
        "testsize = len(shuffle_fog_train['num_accidents']) - trainsize\n",
        "\n",
        "# Define the number of input values \n",
        "nppredictors = 2\n",
        "# Define the number of output values\n",
        "noutputs = 1"
      ],
      "execution_count": 152,
      "outputs": []
    },
    {
      "cell_type": "markdown",
      "metadata": {
        "id": "mzObgvxlpMoL"
      },
      "source": [
        "Create model"
      ]
    },
    {
      "cell_type": "code",
      "metadata": {
        "colab": {
          "base_uri": "https://localhost:8080/"
        },
        "id": "zh3r6vw7ovvd",
        "outputId": "f4ee123c-0411-410d-f3cc-ac24a67b694c"
      },
      "source": [
        "tf.compat.v1.logging.set_verbosity(tf.compat.v1.logging.INFO)\n",
        "\n",
        "shutil.rmtree('/tmp/linear_regression_trained_model_f', ignore_errors=True)\n",
        "\n",
        "estimator_fog = tf.contrib.learn.SKCompat(tf.contrib.learn.LinearRegressor(model_dir='/tmp/linear_regression_trained_model_f', optimizer=tf.train.AdamOptimizer(learning_rate=0.1), enable_centered_bias=False, feature_columns=tf.contrib.learn.infer_real_valued_columns_from_input(predictors_fog.values)))\n",
        "\n",
        "# Starting to train\n",
        "print(\"starting to train\");\n",
        "\n",
        "# Train the model. \n",
        "estimator_fog.fit(predictors_fog[:trainsize].values, targets_fog[:trainsize].values.reshape(trainsize, noutputs)/SCALE_NUM_ACCIDENTS, steps=10000)\n",
        "\n",
        "# Check  predictions \n",
        "preds = estimator_fog.predict(x=predictors_fog[trainsize:].values)\n",
        "\n",
        "predslistscale = preds['scores']*SCALE_NUM_ACCIDENTS\n",
        "\n",
        "# pred = format(str(predslistscale)) # useful for checking outputs and printing.\n",
        "\n",
        "# Calculate RMSE\n",
        "rmse = np.sqrt(np.mean((targets_fog[trainsize:].values - predslistscale)**2))\n",
        "print('LinearRegression Fog has RMSE of {0}'.format(rmse));\n",
        "\n",
        "# Calculate the mean of the Number of Accidents.\n",
        "avg = np.mean(shuffle_fog_train['num_accidents'][:trainsize])\n",
        "\n",
        "# Calculate the RMSE \n",
        "rmse = np.sqrt(np.mean((shuffle_fog_train['num_accidents'][trainsize:] - avg)**2))\n",
        "print('Just using average = {0} has RMSE of {1}'.format(avg, rmse));"
      ],
      "execution_count": 153,
      "outputs": [
        {
          "output_type": "stream",
          "name": "stdout",
          "text": [
            "INFO:tensorflow:Using default config.\n",
            "INFO:tensorflow:Using config: {'_task_type': None, '_task_id': 0, '_cluster_spec': <tensorflow.python.training.server_lib.ClusterSpec object at 0x7f2ed89b70d0>, '_master': '', '_num_ps_replicas': 0, '_num_worker_replicas': 0, '_environment': 'local', '_is_chief': True, '_evaluation_master': '', '_train_distribute': None, '_eval_distribute': None, '_experimental_max_worker_delay_secs': None, '_device_fn': None, '_tf_config': gpu_options {\n",
            "  per_process_gpu_memory_fraction: 1.0\n",
            "}\n",
            ", '_tf_random_seed': None, '_save_summary_steps': 100, '_save_checkpoints_secs': 600, '_log_step_count_steps': 100, '_protocol': None, '_session_config': None, '_save_checkpoints_steps': None, '_keep_checkpoint_max': 5, '_keep_checkpoint_every_n_hours': 10000, '_model_dir': '/tmp/linear_regression_trained_model_f', '_session_creation_timeout_secs': 7200}\n",
            "starting to train\n",
            "WARNING:tensorflow:float64 is not supported by many models, consider casting to float32.\n",
            "INFO:tensorflow:Create CheckpointSaverHook.\n",
            "INFO:tensorflow:Graph was finalized.\n",
            "INFO:tensorflow:Running local_init_op.\n",
            "INFO:tensorflow:Done running local_init_op.\n",
            "INFO:tensorflow:Saving checkpoints for 0 into /tmp/linear_regression_trained_model_f/model.ckpt.\n",
            "INFO:tensorflow:loss = 0.32628295, step = 1\n",
            "INFO:tensorflow:global_step/sec: 675.751\n",
            "INFO:tensorflow:loss = 0.03602828, step = 101 (0.153 sec)\n",
            "INFO:tensorflow:global_step/sec: 942.14\n",
            "INFO:tensorflow:loss = 0.033835378, step = 201 (0.104 sec)\n",
            "INFO:tensorflow:global_step/sec: 983.078\n",
            "INFO:tensorflow:loss = 0.032078456, step = 301 (0.109 sec)\n",
            "INFO:tensorflow:global_step/sec: 871.097\n",
            "INFO:tensorflow:loss = 0.046946123, step = 401 (0.111 sec)\n",
            "INFO:tensorflow:global_step/sec: 815.128\n",
            "INFO:tensorflow:loss = 0.031304963, step = 501 (0.125 sec)\n",
            "INFO:tensorflow:global_step/sec: 756.989\n",
            "INFO:tensorflow:loss = 0.028955217, step = 601 (0.126 sec)\n",
            "INFO:tensorflow:global_step/sec: 970.931\n",
            "INFO:tensorflow:loss = 0.027527988, step = 701 (0.103 sec)\n",
            "INFO:tensorflow:global_step/sec: 943.819\n",
            "INFO:tensorflow:loss = 0.030575493, step = 801 (0.106 sec)\n",
            "INFO:tensorflow:global_step/sec: 958.887\n",
            "INFO:tensorflow:loss = 0.031945698, step = 901 (0.107 sec)\n",
            "INFO:tensorflow:global_step/sec: 993.308\n",
            "INFO:tensorflow:loss = 0.035206296, step = 1001 (0.101 sec)\n",
            "INFO:tensorflow:global_step/sec: 970.36\n",
            "INFO:tensorflow:loss = 0.034415208, step = 1101 (0.103 sec)\n",
            "INFO:tensorflow:global_step/sec: 935.45\n",
            "INFO:tensorflow:loss = 0.030926365, step = 1201 (0.106 sec)\n",
            "INFO:tensorflow:global_step/sec: 967.218\n",
            "INFO:tensorflow:loss = 0.03399483, step = 1301 (0.105 sec)\n",
            "INFO:tensorflow:global_step/sec: 911.849\n",
            "INFO:tensorflow:loss = 0.026322164, step = 1401 (0.106 sec)\n",
            "INFO:tensorflow:global_step/sec: 845.222\n",
            "INFO:tensorflow:loss = 0.033861496, step = 1501 (0.118 sec)\n",
            "INFO:tensorflow:global_step/sec: 964.824\n",
            "INFO:tensorflow:loss = 0.029654153, step = 1601 (0.107 sec)\n",
            "INFO:tensorflow:global_step/sec: 956.56\n",
            "INFO:tensorflow:loss = 0.027798682, step = 1701 (0.104 sec)\n",
            "INFO:tensorflow:global_step/sec: 883.476\n",
            "INFO:tensorflow:loss = 0.032107953, step = 1801 (0.111 sec)\n",
            "INFO:tensorflow:global_step/sec: 923.898\n",
            "INFO:tensorflow:loss = 0.028742371, step = 1901 (0.112 sec)\n",
            "INFO:tensorflow:global_step/sec: 909.139\n",
            "INFO:tensorflow:loss = 0.028690025, step = 2001 (0.108 sec)\n",
            "INFO:tensorflow:global_step/sec: 992.963\n",
            "INFO:tensorflow:loss = 0.03698167, step = 2101 (0.103 sec)\n",
            "INFO:tensorflow:global_step/sec: 937.822\n",
            "INFO:tensorflow:loss = 0.033741236, step = 2201 (0.103 sec)\n",
            "INFO:tensorflow:global_step/sec: 873.06\n",
            "INFO:tensorflow:loss = 0.031331673, step = 2301 (0.118 sec)\n",
            "INFO:tensorflow:global_step/sec: 822.934\n",
            "INFO:tensorflow:loss = 0.03364599, step = 2401 (0.120 sec)\n",
            "INFO:tensorflow:global_step/sec: 987.271\n",
            "INFO:tensorflow:loss = 0.023794297, step = 2501 (0.100 sec)\n",
            "INFO:tensorflow:global_step/sec: 968.894\n",
            "INFO:tensorflow:loss = 0.03213419, step = 2601 (0.103 sec)\n",
            "INFO:tensorflow:global_step/sec: 1005.4\n",
            "INFO:tensorflow:loss = 0.02454801, step = 2701 (0.099 sec)\n",
            "INFO:tensorflow:global_step/sec: 930.527\n",
            "INFO:tensorflow:loss = 0.036253717, step = 2801 (0.110 sec)\n",
            "INFO:tensorflow:global_step/sec: 804.755\n",
            "INFO:tensorflow:loss = 0.040624972, step = 2901 (0.122 sec)\n",
            "INFO:tensorflow:global_step/sec: 878.473\n",
            "INFO:tensorflow:loss = 0.042596877, step = 3001 (0.114 sec)\n",
            "INFO:tensorflow:global_step/sec: 835.45\n",
            "INFO:tensorflow:loss = 0.052077234, step = 3101 (0.122 sec)\n",
            "INFO:tensorflow:global_step/sec: 924.36\n",
            "INFO:tensorflow:loss = 0.026704993, step = 3201 (0.108 sec)\n",
            "INFO:tensorflow:global_step/sec: 731.371\n",
            "INFO:tensorflow:loss = 0.03149417, step = 3301 (0.134 sec)\n",
            "INFO:tensorflow:global_step/sec: 934.466\n",
            "INFO:tensorflow:loss = 0.037724897, step = 3401 (0.110 sec)\n",
            "INFO:tensorflow:global_step/sec: 945.63\n",
            "INFO:tensorflow:loss = 0.026533596, step = 3501 (0.106 sec)\n",
            "INFO:tensorflow:global_step/sec: 952.054\n",
            "INFO:tensorflow:loss = 0.031404927, step = 3601 (0.103 sec)\n",
            "INFO:tensorflow:global_step/sec: 948.234\n",
            "INFO:tensorflow:loss = 0.029167667, step = 3701 (0.106 sec)\n",
            "INFO:tensorflow:global_step/sec: 1003.35\n",
            "INFO:tensorflow:loss = 0.026066363, step = 3801 (0.103 sec)\n",
            "INFO:tensorflow:global_step/sec: 975.429\n",
            "INFO:tensorflow:loss = 0.034959264, step = 3901 (0.104 sec)\n",
            "INFO:tensorflow:global_step/sec: 903.768\n",
            "INFO:tensorflow:loss = 0.0387114, step = 4001 (0.108 sec)\n",
            "INFO:tensorflow:global_step/sec: 941.694\n",
            "INFO:tensorflow:loss = 0.03694118, step = 4101 (0.104 sec)\n",
            "INFO:tensorflow:global_step/sec: 911.799\n",
            "INFO:tensorflow:loss = 0.030987546, step = 4201 (0.113 sec)\n",
            "INFO:tensorflow:global_step/sec: 834.709\n",
            "INFO:tensorflow:loss = 0.031095278, step = 4301 (0.119 sec)\n",
            "INFO:tensorflow:global_step/sec: 993.518\n",
            "INFO:tensorflow:loss = 0.041546743, step = 4401 (0.101 sec)\n",
            "INFO:tensorflow:global_step/sec: 972.919\n",
            "INFO:tensorflow:loss = 0.03329258, step = 4501 (0.102 sec)\n",
            "INFO:tensorflow:global_step/sec: 989.237\n",
            "INFO:tensorflow:loss = 0.03032032, step = 4601 (0.103 sec)\n",
            "INFO:tensorflow:global_step/sec: 924.138\n",
            "INFO:tensorflow:loss = 0.034238424, step = 4701 (0.106 sec)\n",
            "INFO:tensorflow:global_step/sec: 818.904\n",
            "INFO:tensorflow:loss = 0.028563946, step = 4801 (0.121 sec)\n",
            "INFO:tensorflow:global_step/sec: 976.835\n",
            "INFO:tensorflow:loss = 0.02881421, step = 4901 (0.105 sec)\n",
            "INFO:tensorflow:global_step/sec: 931.308\n",
            "INFO:tensorflow:loss = 0.029445387, step = 5001 (0.108 sec)\n",
            "INFO:tensorflow:global_step/sec: 897.15\n",
            "INFO:tensorflow:loss = 0.039638977, step = 5101 (0.109 sec)\n",
            "INFO:tensorflow:global_step/sec: 900.502\n",
            "INFO:tensorflow:loss = 0.025524803, step = 5201 (0.113 sec)\n",
            "INFO:tensorflow:global_step/sec: 937.973\n",
            "INFO:tensorflow:loss = 0.034652032, step = 5301 (0.107 sec)\n",
            "INFO:tensorflow:global_step/sec: 970.697\n",
            "INFO:tensorflow:loss = 0.025320996, step = 5401 (0.100 sec)\n",
            "INFO:tensorflow:global_step/sec: 1003.81\n",
            "INFO:tensorflow:loss = 0.03873673, step = 5501 (0.102 sec)\n",
            "INFO:tensorflow:global_step/sec: 889.445\n",
            "INFO:tensorflow:loss = 0.033613384, step = 5601 (0.113 sec)\n",
            "INFO:tensorflow:global_step/sec: 966.329\n",
            "INFO:tensorflow:loss = 0.034393065, step = 5701 (0.100 sec)\n",
            "INFO:tensorflow:global_step/sec: 903.005\n",
            "INFO:tensorflow:loss = 0.028314061, step = 5801 (0.111 sec)\n",
            "INFO:tensorflow:global_step/sec: 991.639\n",
            "INFO:tensorflow:loss = 0.031753175, step = 5901 (0.102 sec)\n",
            "INFO:tensorflow:global_step/sec: 899.571\n",
            "INFO:tensorflow:loss = 0.027011381, step = 6001 (0.112 sec)\n",
            "INFO:tensorflow:global_step/sec: 892.358\n",
            "INFO:tensorflow:loss = 0.037847243, step = 6101 (0.113 sec)\n",
            "INFO:tensorflow:global_step/sec: 775.104\n",
            "INFO:tensorflow:loss = 0.02936789, step = 6201 (0.129 sec)\n",
            "INFO:tensorflow:global_step/sec: 894.285\n",
            "INFO:tensorflow:loss = 0.036441214, step = 6301 (0.111 sec)\n",
            "INFO:tensorflow:global_step/sec: 884.516\n",
            "INFO:tensorflow:loss = 0.026523516, step = 6401 (0.113 sec)\n",
            "INFO:tensorflow:global_step/sec: 977.561\n",
            "INFO:tensorflow:loss = 0.02831918, step = 6501 (0.103 sec)\n",
            "INFO:tensorflow:global_step/sec: 891.033\n",
            "INFO:tensorflow:loss = 0.027623713, step = 6601 (0.112 sec)\n",
            "INFO:tensorflow:global_step/sec: 878.812\n",
            "INFO:tensorflow:loss = 0.02598989, step = 6701 (0.111 sec)\n",
            "INFO:tensorflow:global_step/sec: 931.291\n",
            "INFO:tensorflow:loss = 0.03139498, step = 6801 (0.108 sec)\n",
            "INFO:tensorflow:global_step/sec: 843.237\n",
            "INFO:tensorflow:loss = 0.041652206, step = 6901 (0.123 sec)\n",
            "INFO:tensorflow:global_step/sec: 938.392\n",
            "INFO:tensorflow:loss = 0.027528867, step = 7001 (0.102 sec)\n",
            "INFO:tensorflow:global_step/sec: 839.514\n",
            "INFO:tensorflow:loss = 0.030674335, step = 7101 (0.119 sec)\n",
            "INFO:tensorflow:global_step/sec: 946.787\n",
            "INFO:tensorflow:loss = 0.038892284, step = 7201 (0.108 sec)\n",
            "INFO:tensorflow:global_step/sec: 914.736\n",
            "INFO:tensorflow:loss = 0.038402326, step = 7301 (0.109 sec)\n",
            "INFO:tensorflow:global_step/sec: 863.324\n",
            "INFO:tensorflow:loss = 0.027862044, step = 7401 (0.117 sec)\n",
            "INFO:tensorflow:global_step/sec: 796.306\n",
            "INFO:tensorflow:loss = 0.03893784, step = 7501 (0.122 sec)\n",
            "INFO:tensorflow:global_step/sec: 964.064\n",
            "INFO:tensorflow:loss = 0.0330735, step = 7601 (0.107 sec)\n",
            "INFO:tensorflow:global_step/sec: 962.361\n",
            "INFO:tensorflow:loss = 0.03036801, step = 7701 (0.103 sec)\n",
            "INFO:tensorflow:global_step/sec: 859.998\n",
            "INFO:tensorflow:loss = 0.03505917, step = 7801 (0.116 sec)\n",
            "INFO:tensorflow:global_step/sec: 966.191\n",
            "INFO:tensorflow:loss = 0.025317717, step = 7901 (0.103 sec)\n",
            "INFO:tensorflow:global_step/sec: 830.038\n",
            "INFO:tensorflow:loss = 0.04015989, step = 8001 (0.118 sec)\n",
            "INFO:tensorflow:global_step/sec: 959.426\n",
            "INFO:tensorflow:loss = 0.031766996, step = 8101 (0.106 sec)\n",
            "INFO:tensorflow:global_step/sec: 915.215\n",
            "INFO:tensorflow:loss = 0.025310788, step = 8201 (0.107 sec)\n",
            "INFO:tensorflow:global_step/sec: 986.122\n",
            "INFO:tensorflow:loss = 0.033190623, step = 8301 (0.107 sec)\n",
            "INFO:tensorflow:global_step/sec: 911.625\n",
            "INFO:tensorflow:loss = 0.03357077, step = 8401 (0.107 sec)\n",
            "INFO:tensorflow:global_step/sec: 956.588\n",
            "INFO:tensorflow:loss = 0.030741548, step = 8501 (0.104 sec)\n",
            "INFO:tensorflow:global_step/sec: 912.795\n",
            "INFO:tensorflow:loss = 0.03148485, step = 8601 (0.109 sec)\n",
            "INFO:tensorflow:global_step/sec: 964.068\n",
            "INFO:tensorflow:loss = 0.04708469, step = 8701 (0.104 sec)\n",
            "INFO:tensorflow:global_step/sec: 899.72\n",
            "INFO:tensorflow:loss = 0.035466965, step = 8801 (0.113 sec)\n",
            "INFO:tensorflow:global_step/sec: 895.637\n",
            "INFO:tensorflow:loss = 0.03660468, step = 8901 (0.109 sec)\n",
            "INFO:tensorflow:global_step/sec: 876.728\n",
            "INFO:tensorflow:loss = 0.03246377, step = 9001 (0.116 sec)\n",
            "INFO:tensorflow:global_step/sec: 945.255\n",
            "INFO:tensorflow:loss = 0.03182722, step = 9101 (0.106 sec)\n",
            "INFO:tensorflow:global_step/sec: 969.806\n",
            "INFO:tensorflow:loss = 0.026402622, step = 9201 (0.103 sec)\n",
            "INFO:tensorflow:global_step/sec: 966.494\n",
            "INFO:tensorflow:loss = 0.033701755, step = 9301 (0.103 sec)\n",
            "INFO:tensorflow:global_step/sec: 919.058\n",
            "INFO:tensorflow:loss = 0.032257948, step = 9401 (0.109 sec)\n",
            "INFO:tensorflow:global_step/sec: 910.614\n",
            "INFO:tensorflow:loss = 0.025166249, step = 9501 (0.111 sec)\n",
            "INFO:tensorflow:global_step/sec: 963.893\n",
            "INFO:tensorflow:loss = 0.030673513, step = 9601 (0.102 sec)\n",
            "INFO:tensorflow:global_step/sec: 942.271\n",
            "INFO:tensorflow:loss = 0.032177273, step = 9701 (0.106 sec)\n",
            "INFO:tensorflow:global_step/sec: 883.406\n",
            "INFO:tensorflow:loss = 0.032004487, step = 9801 (0.114 sec)\n",
            "INFO:tensorflow:global_step/sec: 904.417\n",
            "INFO:tensorflow:loss = 0.031556785, step = 9901 (0.109 sec)\n",
            "INFO:tensorflow:Saving checkpoints for 10000 into /tmp/linear_regression_trained_model_f/model.ckpt.\n",
            "INFO:tensorflow:Loss for final step: 0.03933098.\n",
            "INFO:tensorflow:Graph was finalized.\n",
            "INFO:tensorflow:Restoring parameters from /tmp/linear_regression_trained_model_f/model.ckpt-10000\n",
            "INFO:tensorflow:Running local_init_op.\n",
            "INFO:tensorflow:Done running local_init_op.\n",
            "LinearRegression Fog has RMSE of 0.17502820832389546\n",
            "Just using average = 0.5126499874629018 has RMSE of 0.19651578575377748\n"
          ]
        }
      ]
    },
    {
      "cell_type": "markdown",
      "metadata": {
        "id": "xTskKGQrDW_2"
      },
      "source": [
        "The RMSE values are close (0.175 and 0.197) so the model will now be tested with the validation data."
      ]
    },
    {
      "cell_type": "markdown",
      "metadata": {
        "id": "SWQRAMs9pJHB"
      },
      "source": [
        "Test model using validation data - first three rows."
      ]
    },
    {
      "cell_type": "code",
      "metadata": {
        "colab": {
          "base_uri": "https://localhost:8080/",
          "height": 143
        },
        "id": "89eqQwjGDh9i",
        "outputId": "63eb33af-4255-4791-8b24-418205e12f28"
      },
      "source": [
        "shuffle_fog_test[:3]"
      ],
      "execution_count": 154,
      "outputs": [
        {
          "output_type": "execute_result",
          "data": {
            "text/html": [
              "<div>\n",
              "<style scoped>\n",
              "    .dataframe tbody tr th:only-of-type {\n",
              "        vertical-align: middle;\n",
              "    }\n",
              "\n",
              "    .dataframe tbody tr th {\n",
              "        vertical-align: top;\n",
              "    }\n",
              "\n",
              "    .dataframe thead th {\n",
              "        text-align: right;\n",
              "    }\n",
              "</style>\n",
              "<table border=\"1\" class=\"dataframe\">\n",
              "  <thead>\n",
              "    <tr style=\"text-align: right;\">\n",
              "      <th></th>\n",
              "      <th>dayofweek</th>\n",
              "      <th>fog</th>\n",
              "      <th>num_accidents</th>\n",
              "    </tr>\n",
              "  </thead>\n",
              "  <tbody>\n",
              "    <tr>\n",
              "      <th>2271</th>\n",
              "      <td>6</td>\n",
              "      <td>0</td>\n",
              "      <td>0.600446</td>\n",
              "    </tr>\n",
              "    <tr>\n",
              "      <th>180</th>\n",
              "      <td>1</td>\n",
              "      <td>1</td>\n",
              "      <td>0.541284</td>\n",
              "    </tr>\n",
              "    <tr>\n",
              "      <th>41</th>\n",
              "      <td>2</td>\n",
              "      <td>0</td>\n",
              "      <td>0.103211</td>\n",
              "    </tr>\n",
              "  </tbody>\n",
              "</table>\n",
              "</div>"
            ],
            "text/plain": [
              "      dayofweek  fog  num_accidents\n",
              "2271          6    0       0.600446\n",
              "180           1    1       0.541284\n",
              "41            2    0       0.103211"
            ]
          },
          "metadata": {},
          "execution_count": 154
        }
      ]
    },
    {
      "cell_type": "code",
      "metadata": {
        "colab": {
          "base_uri": "https://localhost:8080/"
        },
        "id": "lgv9H7TEpRMN",
        "outputId": "e20d2232-0798-4db4-f650-14a9dc330bf0"
      },
      "source": [
        "input = pd.DataFrame.from_dict(data = \n",
        "\t\t\t\t{'dayofweek' : [6,1,2],\n",
        "         'fog' : [0, 1, 0]\n",
        "        })\n",
        "\t\t\t\t\t\n",
        "\n",
        "estimator = tf.contrib.learn.SKCompat(tf.contrib.learn.LinearRegressor(model_dir='/tmp/linear_regression_trained_model_f', enable_centered_bias=False, feature_columns=tf.contrib.learn.infer_real_valued_columns_from_input(input.values)))\n",
        "\n",
        "preds = estimator.predict(x=input.values)\n",
        "\n",
        "predslistnorm = preds['scores']\n",
        "predslistscale = preds['scores']*850\n",
        "prednorm = format(str(predslistnorm))\n",
        "pred = format(str(predslistscale))\n",
        "print(prednorm)\n",
        "print(pred)"
      ],
      "execution_count": 155,
      "outputs": [
        {
          "output_type": "stream",
          "name": "stdout",
          "text": [
            "INFO:tensorflow:Using default config.\n",
            "INFO:tensorflow:Using config: {'_task_type': None, '_task_id': 0, '_cluster_spec': <tensorflow.python.training.server_lib.ClusterSpec object at 0x7f2f3a668e50>, '_master': '', '_num_ps_replicas': 0, '_num_worker_replicas': 0, '_environment': 'local', '_is_chief': True, '_evaluation_master': '', '_train_distribute': None, '_eval_distribute': None, '_experimental_max_worker_delay_secs': None, '_device_fn': None, '_tf_config': gpu_options {\n",
            "  per_process_gpu_memory_fraction: 1.0\n",
            "}\n",
            ", '_tf_random_seed': None, '_save_summary_steps': 100, '_save_checkpoints_secs': 600, '_log_step_count_steps': 100, '_protocol': None, '_session_config': None, '_save_checkpoints_steps': None, '_keep_checkpoint_max': 5, '_keep_checkpoint_every_n_hours': 10000, '_model_dir': '/tmp/linear_regression_trained_model_f', '_session_creation_timeout_secs': 7200}\n",
            "INFO:tensorflow:Graph was finalized.\n",
            "INFO:tensorflow:Restoring parameters from /tmp/linear_regression_trained_model_f/model.ckpt-10000\n",
            "INFO:tensorflow:Running local_init_op.\n",
            "INFO:tensorflow:Done running local_init_op.\n",
            "[0.5588934  0.36581683 0.39950895]\n",
            "[475.0594 310.9443 339.5826]\n"
          ]
        }
      ]
    },
    {
      "cell_type": "markdown",
      "metadata": {
        "id": "FmC7UFGjEHbi"
      },
      "source": [
        "The values for number of accidents from the test data are 0.600, 0.541 and 0.103 whilst the values returned by the model are 0.559, 0.366 and 0.400 so the first set of values are very close however the next two sets are not."
      ]
    },
    {
      "cell_type": "markdown",
      "metadata": {
        "id": "eTQMTQa5poeH"
      },
      "source": [
        "Test model using random rows of validation data"
      ]
    },
    {
      "cell_type": "code",
      "metadata": {
        "colab": {
          "base_uri": "https://localhost:8080/",
          "height": 143
        },
        "id": "yczdvic9EsFX",
        "outputId": "e84fd16d-d44e-42ff-b061-e2de40f3d1f4"
      },
      "source": [
        "np.random.seed([4])\n",
        "\n",
        "shuffle_fog_test.sample(n = 3)"
      ],
      "execution_count": 156,
      "outputs": [
        {
          "output_type": "execute_result",
          "data": {
            "text/html": [
              "<div>\n",
              "<style scoped>\n",
              "    .dataframe tbody tr th:only-of-type {\n",
              "        vertical-align: middle;\n",
              "    }\n",
              "\n",
              "    .dataframe tbody tr th {\n",
              "        vertical-align: top;\n",
              "    }\n",
              "\n",
              "    .dataframe thead th {\n",
              "        text-align: right;\n",
              "    }\n",
              "</style>\n",
              "<table border=\"1\" class=\"dataframe\">\n",
              "  <thead>\n",
              "    <tr style=\"text-align: right;\">\n",
              "      <th></th>\n",
              "      <th>dayofweek</th>\n",
              "      <th>fog</th>\n",
              "      <th>num_accidents</th>\n",
              "    </tr>\n",
              "  </thead>\n",
              "  <tbody>\n",
              "    <tr>\n",
              "      <th>1549</th>\n",
              "      <td>5</td>\n",
              "      <td>0</td>\n",
              "      <td>0.635021</td>\n",
              "    </tr>\n",
              "    <tr>\n",
              "      <th>655</th>\n",
              "      <td>7</td>\n",
              "      <td>0</td>\n",
              "      <td>0.666667</td>\n",
              "    </tr>\n",
              "    <tr>\n",
              "      <th>2206</th>\n",
              "      <td>4</td>\n",
              "      <td>0</td>\n",
              "      <td>0.587054</td>\n",
              "    </tr>\n",
              "  </tbody>\n",
              "</table>\n",
              "</div>"
            ],
            "text/plain": [
              "      dayofweek  fog  num_accidents\n",
              "1549          5    0       0.635021\n",
              "655           7    0       0.666667\n",
              "2206          4    0       0.587054"
            ]
          },
          "metadata": {},
          "execution_count": 156
        }
      ]
    },
    {
      "cell_type": "code",
      "metadata": {
        "colab": {
          "base_uri": "https://localhost:8080/"
        },
        "id": "Upxgq_BCps6a",
        "outputId": "41501cc3-4886-4a6b-b19f-6de5a8e03570"
      },
      "source": [
        "input = pd.DataFrame.from_dict(data = \n",
        "\t\t\t\t{'dayofweek' : [5,7,4],\n",
        "         'fog' : [0, 0, 0]\n",
        "        })\n",
        "\t\t\t\t\t\n",
        "\n",
        "estimator = tf.contrib.learn.SKCompat(tf.contrib.learn.LinearRegressor(model_dir='/tmp/linear_regression_trained_model_f', enable_centered_bias=False, feature_columns=tf.contrib.learn.infer_real_valued_columns_from_input(input.values)))\n",
        "\n",
        "preds = estimator.predict(x=input.values)\n",
        "\n",
        "predslistnorm = preds['scores']\n",
        "predslistscale = preds['scores']*850\n",
        "prednorm = format(str(predslistnorm))\n",
        "pred = format(str(predslistscale))\n",
        "print(prednorm)\n",
        "print(pred)"
      ],
      "execution_count": 157,
      "outputs": [
        {
          "output_type": "stream",
          "name": "stdout",
          "text": [
            "INFO:tensorflow:Using default config.\n",
            "INFO:tensorflow:Using config: {'_task_type': None, '_task_id': 0, '_cluster_spec': <tensorflow.python.training.server_lib.ClusterSpec object at 0x7f2ed86aba50>, '_master': '', '_num_ps_replicas': 0, '_num_worker_replicas': 0, '_environment': 'local', '_is_chief': True, '_evaluation_master': '', '_train_distribute': None, '_eval_distribute': None, '_experimental_max_worker_delay_secs': None, '_device_fn': None, '_tf_config': gpu_options {\n",
            "  per_process_gpu_memory_fraction: 1.0\n",
            "}\n",
            ", '_tf_random_seed': None, '_save_summary_steps': 100, '_save_checkpoints_secs': 600, '_log_step_count_steps': 100, '_protocol': None, '_session_config': None, '_save_checkpoints_steps': None, '_keep_checkpoint_max': 5, '_keep_checkpoint_every_n_hours': 10000, '_model_dir': '/tmp/linear_regression_trained_model_f', '_session_creation_timeout_secs': 7200}\n",
            "INFO:tensorflow:Graph was finalized.\n",
            "INFO:tensorflow:Restoring parameters from /tmp/linear_regression_trained_model_f/model.ckpt-10000\n",
            "INFO:tensorflow:Running local_init_op.\n",
            "INFO:tensorflow:Done running local_init_op.\n",
            "[0.51904726 0.5987395  0.47920117]\n",
            "[441.1902  508.9286  407.32098]\n"
          ]
        }
      ]
    },
    {
      "cell_type": "markdown",
      "metadata": {
        "id": "YVfsW5cWE55s"
      },
      "source": [
        "It can be seen that the actual values in the test data are 0.635, 0.667 and 0.587.  The values predicted by the model though are 0.519, 0.599 and 0.479.  This is not too far off though not extremely accurate either."
      ]
    },
    {
      "cell_type": "markdown",
      "metadata": {
        "id": "98zHjzGWuV84"
      },
      "source": [
        "## Create and test model for fog and temperature"
      ]
    },
    {
      "cell_type": "code",
      "metadata": {
        "colab": {
          "base_uri": "https://localhost:8080/"
        },
        "id": "xi7i1oaCucBq",
        "outputId": "66a3da66-59c9-445a-dc90-3afa1158345e"
      },
      "source": [
        "#shuffle fog/temperature dataset \n",
        "shuffle_fogtemp = df_tempfog_numacc.iloc[np.random.permutation(len(df_tempfog_numacc))]\n",
        "\n",
        "#create training and validation data\n",
        "shuffle_fogtemp_train, shuffle_fogtemp_test = train_test_split(shuffle_fogtemp, test_size=0.1)\n",
        "\n",
        "#select variables used for prediction\n",
        "predictors_fogtemp = shuffle_fogtemp_train.iloc[:,0:3]\n",
        "\n",
        "print(predictors_fogtemp[:10])"
      ],
      "execution_count": 158,
      "outputs": [
        {
          "output_type": "stream",
          "name": "stdout",
          "text": [
            "      dayofweek  temp  fog\n",
            "1364          2  57.6    0\n",
            "1562          4  49.8    0\n",
            "968           5  73.8    0\n",
            "1875          2  39.4    0\n",
            "37            5  34.8    0\n",
            "158           7  56.1    0\n",
            "1790          1  50.1    0\n",
            "1806          3  38.4    0\n",
            "509           1  54.6    0\n",
            "626           6  61.1    0\n"
          ]
        }
      ]
    },
    {
      "cell_type": "code",
      "metadata": {
        "colab": {
          "base_uri": "https://localhost:8080/",
          "height": 206
        },
        "id": "zGaHhxwqutpC",
        "outputId": "0d088454-0096-484d-ac18-f82e0d014fa4"
      },
      "source": [
        "shuffle_fogtemp_train[:5]"
      ],
      "execution_count": 159,
      "outputs": [
        {
          "output_type": "execute_result",
          "data": {
            "text/html": [
              "<div>\n",
              "<style scoped>\n",
              "    .dataframe tbody tr th:only-of-type {\n",
              "        vertical-align: middle;\n",
              "    }\n",
              "\n",
              "    .dataframe tbody tr th {\n",
              "        vertical-align: top;\n",
              "    }\n",
              "\n",
              "    .dataframe thead th {\n",
              "        text-align: right;\n",
              "    }\n",
              "</style>\n",
              "<table border=\"1\" class=\"dataframe\">\n",
              "  <thead>\n",
              "    <tr style=\"text-align: right;\">\n",
              "      <th></th>\n",
              "      <th>dayofweek</th>\n",
              "      <th>temp</th>\n",
              "      <th>fog</th>\n",
              "      <th>num_accidents</th>\n",
              "    </tr>\n",
              "  </thead>\n",
              "  <tbody>\n",
              "    <tr>\n",
              "      <th>1364</th>\n",
              "      <td>2</td>\n",
              "      <td>57.6</td>\n",
              "      <td>0</td>\n",
              "      <td>0.444206</td>\n",
              "    </tr>\n",
              "    <tr>\n",
              "      <th>1562</th>\n",
              "      <td>4</td>\n",
              "      <td>49.8</td>\n",
              "      <td>0</td>\n",
              "      <td>0.312236</td>\n",
              "    </tr>\n",
              "    <tr>\n",
              "      <th>968</th>\n",
              "      <td>5</td>\n",
              "      <td>73.8</td>\n",
              "      <td>0</td>\n",
              "      <td>0.526427</td>\n",
              "    </tr>\n",
              "    <tr>\n",
              "      <th>1875</th>\n",
              "      <td>2</td>\n",
              "      <td>39.4</td>\n",
              "      <td>0</td>\n",
              "      <td>0.163677</td>\n",
              "    </tr>\n",
              "    <tr>\n",
              "      <th>37</th>\n",
              "      <td>5</td>\n",
              "      <td>34.8</td>\n",
              "      <td>0</td>\n",
              "      <td>0.483945</td>\n",
              "    </tr>\n",
              "  </tbody>\n",
              "</table>\n",
              "</div>"
            ],
            "text/plain": [
              "      dayofweek  temp  fog  num_accidents\n",
              "1364          2  57.6    0       0.444206\n",
              "1562          4  49.8    0       0.312236\n",
              "968           5  73.8    0       0.526427\n",
              "1875          2  39.4    0       0.163677\n",
              "37            5  34.8    0       0.483945"
            ]
          },
          "metadata": {},
          "execution_count": 159
        }
      ]
    },
    {
      "cell_type": "code",
      "metadata": {
        "colab": {
          "base_uri": "https://localhost:8080/"
        },
        "id": "Qi-DRKiautw5",
        "outputId": "0dbbd3e0-f4b1-46da-f070-764583361dd7"
      },
      "source": [
        "#create targets \n",
        "targets_fogtemp = shuffle_fogtemp_train.iloc[:,3]\n",
        "\n",
        "print(targets_fogtemp[:10])"
      ],
      "execution_count": 160,
      "outputs": [
        {
          "output_type": "stream",
          "name": "stdout",
          "text": [
            "1364    0.444206\n",
            "1562    0.312236\n",
            "968     0.526427\n",
            "1875    0.163677\n",
            "37      0.483945\n",
            "158     1.000000\n",
            "1790    0.179325\n",
            "1806    0.746835\n",
            "509     0.291667\n",
            "626     0.671296\n",
            "Name: num_accidents, dtype: float64\n"
          ]
        }
      ]
    },
    {
      "cell_type": "markdown",
      "metadata": {
        "id": "k5Qgvpr4veQw"
      },
      "source": [
        "Create model"
      ]
    },
    {
      "cell_type": "code",
      "metadata": {
        "colab": {
          "base_uri": "https://localhost:8080/"
        },
        "id": "NlOkB40Su_wY",
        "outputId": "c651b42f-2fb3-4608-adaf-d02fd7928013"
      },
      "source": [
        "tf.compat.v1.logging.set_verbosity(tf.compat.v1.logging.INFO)\n",
        "\n",
        "shutil.rmtree('/tmp/linear_regression_trained_model_ft', ignore_errors=True)\n",
        "\n",
        "estimator_fogtemp = tf.contrib.learn.SKCompat(tf.contrib.learn.LinearRegressor(model_dir='/tmp/linear_regression_trained_model_ft', optimizer=tf.train.AdamOptimizer(learning_rate=0.1), enable_centered_bias=False, feature_columns=tf.contrib.learn.infer_real_valued_columns_from_input(predictors_fogtemp.values)))\n",
        "\n",
        "# Starting to train\n",
        "print(\"starting to train\");\n",
        "\n",
        "# Train the model. \n",
        "estimator_fogtemp.fit(predictors_fogtemp[:trainsize].values, targets_fogtemp[:trainsize].values.reshape(trainsize, noutputs)/SCALE_NUM_ACCIDENTS, steps=10000)\n",
        "\n",
        "# Check  predictions \n",
        "preds = estimator_fogtemp.predict(x=predictors_fogtemp[trainsize:].values)\n",
        "\n",
        "predslistscale = preds['scores']*SCALE_NUM_ACCIDENTS\n",
        "\n",
        "# pred = format(str(predslistscale)) # useful for checking outputs and printing.\n",
        "\n",
        "# Calculate RMSE\n",
        "rmse = np.sqrt(np.mean((targets_fogtemp[trainsize:].values - predslistscale)**2))\n",
        "print('LinearRegression Fog and Temperature has RMSE of {0}'.format(rmse));\n",
        "\n",
        "# Calculate the mean of the Number of Accidents.\n",
        "avg = np.mean(shuffle_fogtemp_train['num_accidents'][:trainsize])\n",
        "\n",
        "# Calculate the RMSE \n",
        "rmse = np.sqrt(np.mean((shuffle_fogtemp_train['num_accidents'][trainsize:] - avg)**2))\n",
        "print('Just using average = {0} has RMSE of {1}'.format(avg, rmse));"
      ],
      "execution_count": 162,
      "outputs": [
        {
          "output_type": "stream",
          "name": "stdout",
          "text": [
            "WARNING:tensorflow:float64 is not supported by many models, consider casting to float32.\n",
            "INFO:tensorflow:Using default config.\n",
            "INFO:tensorflow:Using config: {'_task_type': None, '_task_id': 0, '_cluster_spec': <tensorflow.python.training.server_lib.ClusterSpec object at 0x7f2f3a563a50>, '_master': '', '_num_ps_replicas': 0, '_num_worker_replicas': 0, '_environment': 'local', '_is_chief': True, '_evaluation_master': '', '_train_distribute': None, '_eval_distribute': None, '_experimental_max_worker_delay_secs': None, '_device_fn': None, '_tf_config': gpu_options {\n",
            "  per_process_gpu_memory_fraction: 1.0\n",
            "}\n",
            ", '_tf_random_seed': None, '_save_summary_steps': 100, '_save_checkpoints_secs': 600, '_log_step_count_steps': 100, '_protocol': None, '_session_config': None, '_save_checkpoints_steps': None, '_keep_checkpoint_max': 5, '_keep_checkpoint_every_n_hours': 10000, '_model_dir': '/tmp/linear_regression_trained_model_ft', '_session_creation_timeout_secs': 7200}\n",
            "starting to train\n",
            "WARNING:tensorflow:float64 is not supported by many models, consider casting to float32.\n",
            "WARNING:tensorflow:float64 is not supported by many models, consider casting to float32.\n",
            "INFO:tensorflow:Create CheckpointSaverHook.\n",
            "INFO:tensorflow:Graph was finalized.\n",
            "INFO:tensorflow:Running local_init_op.\n",
            "INFO:tensorflow:Done running local_init_op.\n",
            "INFO:tensorflow:Saving checkpoints for 0 into /tmp/linear_regression_trained_model_ft/model.ckpt.\n",
            "INFO:tensorflow:loss = 0.28622645, step = 1\n",
            "INFO:tensorflow:global_step/sec: 761.304\n",
            "INFO:tensorflow:loss = 0.031946477, step = 101 (0.134 sec)\n",
            "INFO:tensorflow:global_step/sec: 880.659\n",
            "INFO:tensorflow:loss = 0.02421802, step = 201 (0.113 sec)\n",
            "INFO:tensorflow:global_step/sec: 938.691\n",
            "INFO:tensorflow:loss = 0.028187448, step = 301 (0.107 sec)\n",
            "INFO:tensorflow:global_step/sec: 876.247\n",
            "INFO:tensorflow:loss = 0.026925037, step = 401 (0.115 sec)\n",
            "INFO:tensorflow:global_step/sec: 888.11\n",
            "INFO:tensorflow:loss = 0.025543127, step = 501 (0.116 sec)\n",
            "INFO:tensorflow:global_step/sec: 962.557\n",
            "INFO:tensorflow:loss = 0.026249057, step = 601 (0.103 sec)\n",
            "INFO:tensorflow:global_step/sec: 758.76\n",
            "INFO:tensorflow:loss = 0.035787277, step = 701 (0.129 sec)\n",
            "INFO:tensorflow:global_step/sec: 901.007\n",
            "INFO:tensorflow:loss = 0.030111074, step = 801 (0.113 sec)\n",
            "INFO:tensorflow:global_step/sec: 890.338\n",
            "INFO:tensorflow:loss = 0.039875947, step = 901 (0.112 sec)\n",
            "INFO:tensorflow:global_step/sec: 823.254\n",
            "INFO:tensorflow:loss = 0.05898914, step = 1001 (0.122 sec)\n",
            "INFO:tensorflow:global_step/sec: 872.332\n",
            "INFO:tensorflow:loss = 0.03092442, step = 1101 (0.111 sec)\n",
            "INFO:tensorflow:global_step/sec: 904.329\n",
            "INFO:tensorflow:loss = 0.027101047, step = 1201 (0.112 sec)\n",
            "INFO:tensorflow:global_step/sec: 959.536\n",
            "INFO:tensorflow:loss = 0.09016122, step = 1301 (0.106 sec)\n",
            "INFO:tensorflow:global_step/sec: 953.121\n",
            "INFO:tensorflow:loss = 0.20975529, step = 1401 (0.105 sec)\n",
            "INFO:tensorflow:global_step/sec: 889.227\n",
            "INFO:tensorflow:loss = 0.038158685, step = 1501 (0.113 sec)\n",
            "INFO:tensorflow:global_step/sec: 804.778\n",
            "INFO:tensorflow:loss = 0.033989318, step = 1601 (0.121 sec)\n",
            "INFO:tensorflow:global_step/sec: 857.962\n",
            "INFO:tensorflow:loss = 0.03724359, step = 1701 (0.116 sec)\n",
            "INFO:tensorflow:global_step/sec: 878.199\n",
            "INFO:tensorflow:loss = 0.028772064, step = 1801 (0.117 sec)\n",
            "INFO:tensorflow:global_step/sec: 951.905\n",
            "INFO:tensorflow:loss = 0.08005722, step = 1901 (0.105 sec)\n",
            "INFO:tensorflow:global_step/sec: 914.206\n",
            "INFO:tensorflow:loss = 0.022843096, step = 2001 (0.107 sec)\n",
            "INFO:tensorflow:global_step/sec: 937.516\n",
            "INFO:tensorflow:loss = 0.057534114, step = 2101 (0.108 sec)\n",
            "INFO:tensorflow:global_step/sec: 848.28\n",
            "INFO:tensorflow:loss = 0.13671753, step = 2201 (0.119 sec)\n",
            "INFO:tensorflow:global_step/sec: 829.634\n",
            "INFO:tensorflow:loss = 0.08570755, step = 2301 (0.121 sec)\n",
            "INFO:tensorflow:global_step/sec: 934.071\n",
            "INFO:tensorflow:loss = 0.06959568, step = 2401 (0.104 sec)\n",
            "INFO:tensorflow:global_step/sec: 910.125\n",
            "INFO:tensorflow:loss = 0.034612916, step = 2501 (0.112 sec)\n",
            "INFO:tensorflow:global_step/sec: 902.177\n",
            "INFO:tensorflow:loss = 0.033257246, step = 2601 (0.111 sec)\n",
            "INFO:tensorflow:global_step/sec: 965.889\n",
            "INFO:tensorflow:loss = 0.029726032, step = 2701 (0.105 sec)\n",
            "INFO:tensorflow:global_step/sec: 892.361\n",
            "INFO:tensorflow:loss = 0.05273346, step = 2801 (0.111 sec)\n",
            "INFO:tensorflow:global_step/sec: 976.703\n",
            "INFO:tensorflow:loss = 0.09250891, step = 2901 (0.104 sec)\n",
            "INFO:tensorflow:global_step/sec: 924.996\n",
            "INFO:tensorflow:loss = 0.079070285, step = 3001 (0.108 sec)\n",
            "INFO:tensorflow:global_step/sec: 936.333\n",
            "INFO:tensorflow:loss = 0.03410206, step = 3101 (0.111 sec)\n",
            "INFO:tensorflow:global_step/sec: 888.692\n",
            "INFO:tensorflow:loss = 0.028636768, step = 3201 (0.108 sec)\n",
            "INFO:tensorflow:global_step/sec: 896.815\n",
            "INFO:tensorflow:loss = 0.028416798, step = 3301 (0.109 sec)\n",
            "INFO:tensorflow:global_step/sec: 864.864\n",
            "INFO:tensorflow:loss = 0.043344066, step = 3401 (0.119 sec)\n",
            "INFO:tensorflow:global_step/sec: 808.796\n",
            "INFO:tensorflow:loss = 0.08257611, step = 3501 (0.123 sec)\n",
            "INFO:tensorflow:global_step/sec: 868.256\n",
            "INFO:tensorflow:loss = 0.28187966, step = 3601 (0.116 sec)\n",
            "INFO:tensorflow:global_step/sec: 844.047\n",
            "INFO:tensorflow:loss = 0.041584164, step = 3701 (0.118 sec)\n",
            "INFO:tensorflow:global_step/sec: 889.636\n",
            "INFO:tensorflow:loss = 0.11026146, step = 3801 (0.112 sec)\n",
            "INFO:tensorflow:global_step/sec: 875.775\n",
            "INFO:tensorflow:loss = 0.042130753, step = 3901 (0.114 sec)\n",
            "INFO:tensorflow:global_step/sec: 961.13\n",
            "INFO:tensorflow:loss = 0.08306076, step = 4001 (0.106 sec)\n",
            "INFO:tensorflow:global_step/sec: 952.463\n",
            "INFO:tensorflow:loss = 0.05621731, step = 4101 (0.105 sec)\n",
            "INFO:tensorflow:global_step/sec: 937.83\n",
            "INFO:tensorflow:loss = 0.022689195, step = 4201 (0.104 sec)\n",
            "INFO:tensorflow:global_step/sec: 932.113\n",
            "INFO:tensorflow:loss = 0.02907164, step = 4301 (0.105 sec)\n",
            "INFO:tensorflow:global_step/sec: 939.885\n",
            "INFO:tensorflow:loss = 0.02653946, step = 4401 (0.110 sec)\n",
            "INFO:tensorflow:global_step/sec: 881.86\n",
            "INFO:tensorflow:loss = 0.027153295, step = 4501 (0.113 sec)\n",
            "INFO:tensorflow:global_step/sec: 960.624\n",
            "INFO:tensorflow:loss = 0.030725297, step = 4601 (0.103 sec)\n",
            "INFO:tensorflow:global_step/sec: 907.075\n",
            "INFO:tensorflow:loss = 0.02570518, step = 4701 (0.111 sec)\n",
            "INFO:tensorflow:global_step/sec: 899.133\n",
            "INFO:tensorflow:loss = 0.06442344, step = 4801 (0.109 sec)\n",
            "INFO:tensorflow:global_step/sec: 911.791\n",
            "INFO:tensorflow:loss = 0.11119117, step = 4901 (0.113 sec)\n",
            "INFO:tensorflow:global_step/sec: 902.37\n",
            "INFO:tensorflow:loss = 0.04578509, step = 5001 (0.110 sec)\n",
            "INFO:tensorflow:global_step/sec: 942.216\n",
            "INFO:tensorflow:loss = 0.04844576, step = 5101 (0.109 sec)\n",
            "INFO:tensorflow:global_step/sec: 906.937\n",
            "INFO:tensorflow:loss = 0.034427714, step = 5201 (0.107 sec)\n",
            "INFO:tensorflow:global_step/sec: 863.399\n",
            "INFO:tensorflow:loss = 0.038318716, step = 5301 (0.116 sec)\n",
            "INFO:tensorflow:global_step/sec: 943.199\n",
            "INFO:tensorflow:loss = 0.15279195, step = 5401 (0.103 sec)\n",
            "INFO:tensorflow:global_step/sec: 1010.11\n",
            "INFO:tensorflow:loss = 0.13184288, step = 5501 (0.099 sec)\n",
            "INFO:tensorflow:global_step/sec: 925.554\n",
            "INFO:tensorflow:loss = 0.02475572, step = 5601 (0.109 sec)\n",
            "INFO:tensorflow:global_step/sec: 972.527\n",
            "INFO:tensorflow:loss = 0.08850693, step = 5701 (0.104 sec)\n",
            "INFO:tensorflow:global_step/sec: 851.041\n",
            "INFO:tensorflow:loss = 0.16469714, step = 5801 (0.116 sec)\n",
            "INFO:tensorflow:global_step/sec: 930.044\n",
            "INFO:tensorflow:loss = 0.085580766, step = 5901 (0.106 sec)\n",
            "INFO:tensorflow:global_step/sec: 954.036\n",
            "INFO:tensorflow:loss = 0.045026287, step = 6001 (0.107 sec)\n",
            "INFO:tensorflow:global_step/sec: 920.89\n",
            "INFO:tensorflow:loss = 0.09264439, step = 6101 (0.107 sec)\n",
            "INFO:tensorflow:global_step/sec: 860.937\n",
            "INFO:tensorflow:loss = 0.056561388, step = 6201 (0.117 sec)\n",
            "INFO:tensorflow:global_step/sec: 997.677\n",
            "INFO:tensorflow:loss = 0.05975754, step = 6301 (0.102 sec)\n",
            "INFO:tensorflow:global_step/sec: 867.432\n",
            "INFO:tensorflow:loss = 0.037584025, step = 6401 (0.113 sec)\n",
            "INFO:tensorflow:global_step/sec: 948.142\n",
            "INFO:tensorflow:loss = 0.04075081, step = 6501 (0.107 sec)\n",
            "INFO:tensorflow:global_step/sec: 916.207\n",
            "INFO:tensorflow:loss = 0.02751854, step = 6601 (0.109 sec)\n",
            "INFO:tensorflow:global_step/sec: 802.16\n",
            "INFO:tensorflow:loss = 0.03637749, step = 6701 (0.123 sec)\n",
            "INFO:tensorflow:global_step/sec: 844.081\n",
            "INFO:tensorflow:loss = 0.030315217, step = 6801 (0.119 sec)\n",
            "INFO:tensorflow:global_step/sec: 839.121\n",
            "INFO:tensorflow:loss = 0.057089068, step = 6901 (0.122 sec)\n",
            "INFO:tensorflow:global_step/sec: 725.705\n",
            "INFO:tensorflow:loss = 0.028524173, step = 7001 (0.137 sec)\n",
            "INFO:tensorflow:global_step/sec: 780.035\n",
            "INFO:tensorflow:loss = 0.029072328, step = 7101 (0.126 sec)\n",
            "INFO:tensorflow:global_step/sec: 955.361\n",
            "INFO:tensorflow:loss = 0.03268048, step = 7201 (0.104 sec)\n",
            "INFO:tensorflow:global_step/sec: 921.193\n",
            "INFO:tensorflow:loss = 0.043325506, step = 7301 (0.110 sec)\n",
            "INFO:tensorflow:global_step/sec: 920.328\n",
            "INFO:tensorflow:loss = 0.04109416, step = 7401 (0.111 sec)\n",
            "INFO:tensorflow:global_step/sec: 912.567\n",
            "INFO:tensorflow:loss = 0.11624321, step = 7501 (0.112 sec)\n",
            "INFO:tensorflow:global_step/sec: 860.709\n",
            "INFO:tensorflow:loss = 0.029723018, step = 7601 (0.110 sec)\n",
            "INFO:tensorflow:global_step/sec: 872.821\n",
            "INFO:tensorflow:loss = 0.03280909, step = 7701 (0.116 sec)\n",
            "INFO:tensorflow:global_step/sec: 861.324\n",
            "INFO:tensorflow:loss = 0.027772252, step = 7801 (0.117 sec)\n",
            "INFO:tensorflow:global_step/sec: 914.084\n",
            "INFO:tensorflow:loss = 0.02720477, step = 7901 (0.110 sec)\n",
            "INFO:tensorflow:global_step/sec: 861.377\n",
            "INFO:tensorflow:loss = 0.039030697, step = 8001 (0.114 sec)\n",
            "INFO:tensorflow:global_step/sec: 954.826\n",
            "INFO:tensorflow:loss = 0.05177109, step = 8101 (0.104 sec)\n",
            "INFO:tensorflow:global_step/sec: 930.055\n",
            "INFO:tensorflow:loss = 0.026448585, step = 8201 (0.110 sec)\n",
            "INFO:tensorflow:global_step/sec: 923.646\n",
            "INFO:tensorflow:loss = 0.060583808, step = 8301 (0.106 sec)\n",
            "INFO:tensorflow:global_step/sec: 999.462\n",
            "INFO:tensorflow:loss = 0.057049237, step = 8401 (0.103 sec)\n",
            "INFO:tensorflow:global_step/sec: 902.373\n",
            "INFO:tensorflow:loss = 0.031934477, step = 8501 (0.108 sec)\n",
            "INFO:tensorflow:global_step/sec: 978.74\n",
            "INFO:tensorflow:loss = 0.030637085, step = 8601 (0.102 sec)\n",
            "INFO:tensorflow:global_step/sec: 991.053\n",
            "INFO:tensorflow:loss = 0.035297282, step = 8701 (0.104 sec)\n",
            "INFO:tensorflow:global_step/sec: 921.062\n",
            "INFO:tensorflow:loss = 0.050314292, step = 8801 (0.108 sec)\n",
            "INFO:tensorflow:global_step/sec: 935.337\n",
            "INFO:tensorflow:loss = 0.029001513, step = 8901 (0.107 sec)\n",
            "INFO:tensorflow:global_step/sec: 878.872\n",
            "INFO:tensorflow:loss = 0.024659611, step = 9001 (0.114 sec)\n",
            "INFO:tensorflow:global_step/sec: 850.456\n",
            "INFO:tensorflow:loss = 0.059013136, step = 9101 (0.118 sec)\n",
            "INFO:tensorflow:global_step/sec: 893.034\n",
            "INFO:tensorflow:loss = 0.040502667, step = 9201 (0.112 sec)\n",
            "INFO:tensorflow:global_step/sec: 908.369\n",
            "INFO:tensorflow:loss = 0.029519487, step = 9301 (0.116 sec)\n",
            "INFO:tensorflow:global_step/sec: 884.255\n",
            "INFO:tensorflow:loss = 0.06567548, step = 9401 (0.106 sec)\n",
            "INFO:tensorflow:global_step/sec: 951.43\n",
            "INFO:tensorflow:loss = 0.13663507, step = 9501 (0.106 sec)\n",
            "INFO:tensorflow:global_step/sec: 982.565\n",
            "INFO:tensorflow:loss = 0.0367635, step = 9601 (0.102 sec)\n",
            "INFO:tensorflow:global_step/sec: 930.804\n",
            "INFO:tensorflow:loss = 0.067927524, step = 9701 (0.109 sec)\n",
            "INFO:tensorflow:global_step/sec: 910.509\n",
            "INFO:tensorflow:loss = 0.036290254, step = 9801 (0.108 sec)\n",
            "INFO:tensorflow:global_step/sec: 852.726\n",
            "INFO:tensorflow:loss = 0.20897542, step = 9901 (0.118 sec)\n",
            "INFO:tensorflow:Saving checkpoints for 10000 into /tmp/linear_regression_trained_model_ft/model.ckpt.\n",
            "INFO:tensorflow:Loss for final step: 0.095370404.\n",
            "WARNING:tensorflow:float64 is not supported by many models, consider casting to float32.\n",
            "INFO:tensorflow:Graph was finalized.\n",
            "INFO:tensorflow:Restoring parameters from /tmp/linear_regression_trained_model_ft/model.ckpt-10000\n",
            "INFO:tensorflow:Running local_init_op.\n",
            "INFO:tensorflow:Done running local_init_op.\n",
            "LinearRegression Fog and Temperature has RMSE of 0.22203548494080236\n",
            "Just using average = 0.5079408044332816 has RMSE of 0.19396561922968597\n"
          ]
        }
      ]
    },
    {
      "cell_type": "markdown",
      "metadata": {
        "id": "qg_yVuy3FY3M"
      },
      "source": [
        "The RMSE values are 0.222 and 0.194 which are good so the model will now be tested using the validation dataset."
      ]
    },
    {
      "cell_type": "markdown",
      "metadata": {
        "id": "tXzklCkWvap4"
      },
      "source": [
        "Test model using first three rows of the test data"
      ]
    },
    {
      "cell_type": "code",
      "metadata": {
        "colab": {
          "base_uri": "https://localhost:8080/",
          "height": 143
        },
        "id": "CZlv85D3FmMu",
        "outputId": "4bcef273-8068-442e-ee16-7378282d87a5"
      },
      "source": [
        "shuffle_fogtemp_test[:3]"
      ],
      "execution_count": 163,
      "outputs": [
        {
          "output_type": "execute_result",
          "data": {
            "text/html": [
              "<div>\n",
              "<style scoped>\n",
              "    .dataframe tbody tr th:only-of-type {\n",
              "        vertical-align: middle;\n",
              "    }\n",
              "\n",
              "    .dataframe tbody tr th {\n",
              "        vertical-align: top;\n",
              "    }\n",
              "\n",
              "    .dataframe thead th {\n",
              "        text-align: right;\n",
              "    }\n",
              "</style>\n",
              "<table border=\"1\" class=\"dataframe\">\n",
              "  <thead>\n",
              "    <tr style=\"text-align: right;\">\n",
              "      <th></th>\n",
              "      <th>dayofweek</th>\n",
              "      <th>temp</th>\n",
              "      <th>fog</th>\n",
              "      <th>num_accidents</th>\n",
              "    </tr>\n",
              "  </thead>\n",
              "  <tbody>\n",
              "    <tr>\n",
              "      <th>942</th>\n",
              "      <td>7</td>\n",
              "      <td>76.7</td>\n",
              "      <td>0</td>\n",
              "      <td>0.837209</td>\n",
              "    </tr>\n",
              "    <tr>\n",
              "      <th>1160</th>\n",
              "      <td>1</td>\n",
              "      <td>34.8</td>\n",
              "      <td>0</td>\n",
              "      <td>0.506438</td>\n",
              "    </tr>\n",
              "    <tr>\n",
              "      <th>62</th>\n",
              "      <td>2</td>\n",
              "      <td>37.4</td>\n",
              "      <td>0</td>\n",
              "      <td>0.337156</td>\n",
              "    </tr>\n",
              "  </tbody>\n",
              "</table>\n",
              "</div>"
            ],
            "text/plain": [
              "      dayofweek  temp  fog  num_accidents\n",
              "942           7  76.7    0       0.837209\n",
              "1160          1  34.8    0       0.506438\n",
              "62            2  37.4    0       0.337156"
            ]
          },
          "metadata": {},
          "execution_count": 163
        }
      ]
    },
    {
      "cell_type": "code",
      "metadata": {
        "colab": {
          "base_uri": "https://localhost:8080/"
        },
        "id": "4ygrc61Ava4K",
        "outputId": "ca74cb3f-ac18-444b-cb48-b9367130c456"
      },
      "source": [
        "input = pd.DataFrame.from_dict(data = \n",
        "\t\t\t\t{'dayofweek' : [7,1,2],\n",
        "         'temp' : [76.7, 34.8, 37.4],\n",
        "     'fog' : [0, 0, 0]\n",
        "        })\n",
        "\t\t\t\t\t\n",
        "\n",
        "estimator = tf.contrib.learn.SKCompat(tf.contrib.learn.LinearRegressor(model_dir='/tmp/linear_regression_trained_model_ft', enable_centered_bias=False, feature_columns=tf.contrib.learn.infer_real_valued_columns_from_input(input.values)))\n",
        "\n",
        "preds = estimator.predict(x=input.values)\n",
        "\n",
        "predslistnorm = preds['scores']\n",
        "predslistscale = preds['scores']*850\n",
        "prednorm = format(str(predslistnorm))\n",
        "pred = format(str(predslistscale))\n",
        "print(prednorm)\n",
        "print(pred)"
      ],
      "execution_count": 164,
      "outputs": [
        {
          "output_type": "stream",
          "name": "stdout",
          "text": [
            "WARNING:tensorflow:float64 is not supported by many models, consider casting to float32.\n",
            "INFO:tensorflow:Using default config.\n",
            "INFO:tensorflow:Using config: {'_task_type': None, '_task_id': 0, '_cluster_spec': <tensorflow.python.training.server_lib.ClusterSpec object at 0x7f2f3a55a650>, '_master': '', '_num_ps_replicas': 0, '_num_worker_replicas': 0, '_environment': 'local', '_is_chief': True, '_evaluation_master': '', '_train_distribute': None, '_eval_distribute': None, '_experimental_max_worker_delay_secs': None, '_device_fn': None, '_tf_config': gpu_options {\n",
            "  per_process_gpu_memory_fraction: 1.0\n",
            "}\n",
            ", '_tf_random_seed': None, '_save_summary_steps': 100, '_save_checkpoints_secs': 600, '_log_step_count_steps': 100, '_protocol': None, '_session_config': None, '_save_checkpoints_steps': None, '_keep_checkpoint_max': 5, '_keep_checkpoint_every_n_hours': 10000, '_model_dir': '/tmp/linear_regression_trained_model_ft', '_session_creation_timeout_secs': 7200}\n",
            "WARNING:tensorflow:float64 is not supported by many models, consider casting to float32.\n",
            "INFO:tensorflow:Graph was finalized.\n",
            "INFO:tensorflow:Restoring parameters from /tmp/linear_regression_trained_model_ft/model.ckpt-10000\n",
            "INFO:tensorflow:Running local_init_op.\n",
            "INFO:tensorflow:Done running local_init_op.\n",
            "[0.53818905 0.20599982 0.2616928 ]\n",
            "[457.4607  175.09985 222.43887]\n"
          ]
        }
      ]
    },
    {
      "cell_type": "markdown",
      "metadata": {
        "id": "qU_eSFtIFz88"
      },
      "source": [
        "The normalised number of accidents from the test data are 0.837, 0.506 and 0.337 however the predictions made by the model are 0.538, 0.206 and 0.262.  The first two sets of values are not accurate at all though the third is a bit closer."
      ]
    },
    {
      "cell_type": "markdown",
      "metadata": {
        "id": "Qk9SF2W8vgoN"
      },
      "source": [
        "Test model using random rows from the test data"
      ]
    },
    {
      "cell_type": "code",
      "metadata": {
        "colab": {
          "base_uri": "https://localhost:8080/",
          "height": 143
        },
        "id": "BMZFUD2_GN8q",
        "outputId": "294f11e0-8c2c-48e3-ed70-0458b697a79d"
      },
      "source": [
        "np.random.seed([5])\n",
        "\n",
        "shuffle_fogtemp_test.sample(n = 3)"
      ],
      "execution_count": 165,
      "outputs": [
        {
          "output_type": "execute_result",
          "data": {
            "text/html": [
              "<div>\n",
              "<style scoped>\n",
              "    .dataframe tbody tr th:only-of-type {\n",
              "        vertical-align: middle;\n",
              "    }\n",
              "\n",
              "    .dataframe tbody tr th {\n",
              "        vertical-align: top;\n",
              "    }\n",
              "\n",
              "    .dataframe thead th {\n",
              "        text-align: right;\n",
              "    }\n",
              "</style>\n",
              "<table border=\"1\" class=\"dataframe\">\n",
              "  <thead>\n",
              "    <tr style=\"text-align: right;\">\n",
              "      <th></th>\n",
              "      <th>dayofweek</th>\n",
              "      <th>temp</th>\n",
              "      <th>fog</th>\n",
              "      <th>num_accidents</th>\n",
              "    </tr>\n",
              "  </thead>\n",
              "  <tbody>\n",
              "    <tr>\n",
              "      <th>2466</th>\n",
              "      <td>5</td>\n",
              "      <td>67.6</td>\n",
              "      <td>0</td>\n",
              "      <td>0.743304</td>\n",
              "    </tr>\n",
              "    <tr>\n",
              "      <th>2125</th>\n",
              "      <td>7</td>\n",
              "      <td>39.8</td>\n",
              "      <td>0</td>\n",
              "      <td>0.780269</td>\n",
              "    </tr>\n",
              "    <tr>\n",
              "      <th>749</th>\n",
              "      <td>3</td>\n",
              "      <td>41.7</td>\n",
              "      <td>0</td>\n",
              "      <td>0.293869</td>\n",
              "    </tr>\n",
              "  </tbody>\n",
              "</table>\n",
              "</div>"
            ],
            "text/plain": [
              "      dayofweek  temp  fog  num_accidents\n",
              "2466          5  67.6    0       0.743304\n",
              "2125          7  39.8    0       0.780269\n",
              "749           3  41.7    0       0.293869"
            ]
          },
          "metadata": {},
          "execution_count": 165
        }
      ]
    },
    {
      "cell_type": "code",
      "metadata": {
        "colab": {
          "base_uri": "https://localhost:8080/"
        },
        "id": "K_ZH1CwhwDcu",
        "outputId": "21a12ac3-ef8a-47fe-e9d5-989dc6f38812"
      },
      "source": [
        "input = pd.DataFrame.from_dict(data = \n",
        "\t\t\t\t{'dayofweek' : [5,7,3],\n",
        "         'temp' : [67.6, 39.8, 41.7],\n",
        "     'fog' : [0, 0, 0]\n",
        "        })\n",
        "\t\t\t\t\t\n",
        "\n",
        "estimator = tf.contrib.learn.SKCompat(tf.contrib.learn.LinearRegressor(model_dir='/tmp/linear_regression_trained_model_ft', enable_centered_bias=False, feature_columns=tf.contrib.learn.infer_real_valued_columns_from_input(input.values)))\n",
        "\n",
        "preds = estimator.predict(x=input.values)\n",
        "\n",
        "predslistnorm = preds['scores']\n",
        "predslistscale = preds['scores']*850\n",
        "prednorm = format(str(predslistnorm))\n",
        "pred = format(str(predslistscale))\n",
        "print(prednorm)\n",
        "print(pred)"
      ],
      "execution_count": 166,
      "outputs": [
        {
          "output_type": "stream",
          "name": "stdout",
          "text": [
            "WARNING:tensorflow:float64 is not supported by many models, consider casting to float32.\n",
            "INFO:tensorflow:Using default config.\n",
            "INFO:tensorflow:Using config: {'_task_type': None, '_task_id': 0, '_cluster_spec': <tensorflow.python.training.server_lib.ClusterSpec object at 0x7f2ed8751690>, '_master': '', '_num_ps_replicas': 0, '_num_worker_replicas': 0, '_environment': 'local', '_is_chief': True, '_evaluation_master': '', '_train_distribute': None, '_eval_distribute': None, '_experimental_max_worker_delay_secs': None, '_device_fn': None, '_tf_config': gpu_options {\n",
            "  per_process_gpu_memory_fraction: 1.0\n",
            "}\n",
            ", '_tf_random_seed': None, '_save_summary_steps': 100, '_save_checkpoints_secs': 600, '_log_step_count_steps': 100, '_protocol': None, '_session_config': None, '_save_checkpoints_steps': None, '_keep_checkpoint_max': 5, '_keep_checkpoint_every_n_hours': 10000, '_model_dir': '/tmp/linear_regression_trained_model_ft', '_session_creation_timeout_secs': 7200}\n",
            "WARNING:tensorflow:float64 is not supported by many models, consider casting to float32.\n",
            "INFO:tensorflow:Graph was finalized.\n",
            "INFO:tensorflow:Restoring parameters from /tmp/linear_regression_trained_model_ft/model.ckpt-10000\n",
            "INFO:tensorflow:Running local_init_op.\n",
            "INFO:tensorflow:Done running local_init_op.\n",
            "[0.42709503 0.540951   0.3172585 ]\n",
            "[363.03076 459.80835 269.66974]\n"
          ]
        }
      ]
    },
    {
      "cell_type": "markdown",
      "metadata": {
        "id": "pXeQU-0zGbPt"
      },
      "source": [
        "The actual normalised values of number of accidents tested are 0.743, 0.780 and 0.294 whilst the predictions of the model are 0.427, 0.541 and 0.317.  This gives a similar result to the previous test in that the first two sets of values are not close at all but the third one is ok."
      ]
    },
    {
      "cell_type": "markdown",
      "metadata": {
        "id": "ENhIVeRnxPul"
      },
      "source": [
        "## Create and test model for temperature, visibility and fog"
      ]
    },
    {
      "cell_type": "code",
      "metadata": {
        "colab": {
          "base_uri": "https://localhost:8080/"
        },
        "id": "3oPSoViZxZBK",
        "outputId": "beaaf50d-7d7e-4738-dd1c-ab82d55932aa"
      },
      "source": [
        "#shuffle fog/temperature/visibility dataset \n",
        "shuffle_fogtempvis = df_tempfogvisib_numacc.iloc[np.random.permutation(len(df_tempfogvisib_numacc))]\n",
        "\n",
        "#create training and validation data\n",
        "shuffle_fogtempvis_train, shuffle_fogtempvis_test = train_test_split(shuffle_fogtempvis, test_size=0.1)\n",
        "\n",
        "#select variables used for prediction\n",
        "predictors_fogtempvis = shuffle_fogtempvis_train.iloc[:,0:4]\n",
        "\n",
        "print(predictors_fogtempvis[:10])"
      ],
      "execution_count": 167,
      "outputs": [
        {
          "output_type": "stream",
          "name": "stdout",
          "text": [
            "      dayofweek  temp  visib  fog\n",
            "2080          4  68.9    7.4    1\n",
            "353           6  39.1   10.0    0\n",
            "1127          3  47.6    6.9    0\n",
            "630           3  67.9    8.2    1\n",
            "2066          4  73.0    3.5    1\n",
            "1732          6  69.4    4.9    1\n",
            "42            3  36.4    7.6    0\n",
            "1396          6  46.5    9.8    0\n",
            "1622          1  60.4    9.3    0\n",
            "1744          4  68.8    5.9    1\n"
          ]
        }
      ]
    },
    {
      "cell_type": "code",
      "metadata": {
        "colab": {
          "base_uri": "https://localhost:8080/",
          "height": 206
        },
        "id": "9BSXX_HoxpHq",
        "outputId": "6252b652-0ef5-4a0e-97b5-db8b2d5c70fa"
      },
      "source": [
        "shuffle_fogtempvis_train[:5]"
      ],
      "execution_count": 168,
      "outputs": [
        {
          "output_type": "execute_result",
          "data": {
            "text/html": [
              "<div>\n",
              "<style scoped>\n",
              "    .dataframe tbody tr th:only-of-type {\n",
              "        vertical-align: middle;\n",
              "    }\n",
              "\n",
              "    .dataframe tbody tr th {\n",
              "        vertical-align: top;\n",
              "    }\n",
              "\n",
              "    .dataframe thead th {\n",
              "        text-align: right;\n",
              "    }\n",
              "</style>\n",
              "<table border=\"1\" class=\"dataframe\">\n",
              "  <thead>\n",
              "    <tr style=\"text-align: right;\">\n",
              "      <th></th>\n",
              "      <th>dayofweek</th>\n",
              "      <th>temp</th>\n",
              "      <th>visib</th>\n",
              "      <th>fog</th>\n",
              "      <th>num_accidents</th>\n",
              "    </tr>\n",
              "  </thead>\n",
              "  <tbody>\n",
              "    <tr>\n",
              "      <th>2080</th>\n",
              "      <td>4</td>\n",
              "      <td>68.9</td>\n",
              "      <td>7.4</td>\n",
              "      <td>1</td>\n",
              "      <td>0.325112</td>\n",
              "    </tr>\n",
              "    <tr>\n",
              "      <th>353</th>\n",
              "      <td>6</td>\n",
              "      <td>39.1</td>\n",
              "      <td>10.0</td>\n",
              "      <td>0</td>\n",
              "      <td>0.577982</td>\n",
              "    </tr>\n",
              "    <tr>\n",
              "      <th>1127</th>\n",
              "      <td>3</td>\n",
              "      <td>47.6</td>\n",
              "      <td>6.9</td>\n",
              "      <td>0</td>\n",
              "      <td>0.753219</td>\n",
              "    </tr>\n",
              "    <tr>\n",
              "      <th>630</th>\n",
              "      <td>3</td>\n",
              "      <td>67.9</td>\n",
              "      <td>8.2</td>\n",
              "      <td>1</td>\n",
              "      <td>0.699074</td>\n",
              "    </tr>\n",
              "    <tr>\n",
              "      <th>2066</th>\n",
              "      <td>4</td>\n",
              "      <td>73.0</td>\n",
              "      <td>3.5</td>\n",
              "      <td>1</td>\n",
              "      <td>0.708520</td>\n",
              "    </tr>\n",
              "  </tbody>\n",
              "</table>\n",
              "</div>"
            ],
            "text/plain": [
              "      dayofweek  temp  visib  fog  num_accidents\n",
              "2080          4  68.9    7.4    1       0.325112\n",
              "353           6  39.1   10.0    0       0.577982\n",
              "1127          3  47.6    6.9    0       0.753219\n",
              "630           3  67.9    8.2    1       0.699074\n",
              "2066          4  73.0    3.5    1       0.708520"
            ]
          },
          "metadata": {},
          "execution_count": 168
        }
      ]
    },
    {
      "cell_type": "code",
      "metadata": {
        "colab": {
          "base_uri": "https://localhost:8080/"
        },
        "id": "JVoZDxauxvhE",
        "outputId": "cfc13365-827f-4e43-e035-f5ce63883c57"
      },
      "source": [
        "#create targets \n",
        "targets_fogtempvis = shuffle_fogtempvis_train.iloc[:,4]\n",
        "\n",
        "print(targets_fogtempvis[:10])"
      ],
      "execution_count": 169,
      "outputs": [
        {
          "output_type": "stream",
          "name": "stdout",
          "text": [
            "2080    0.325112\n",
            "353     0.577982\n",
            "1127    0.753219\n",
            "630     0.699074\n",
            "2066    0.708520\n",
            "1732    0.778481\n",
            "42      0.275229\n",
            "1396    1.000000\n",
            "1622    0.620253\n",
            "1744    0.837553\n",
            "Name: num_accidents, dtype: float64\n"
          ]
        }
      ]
    },
    {
      "cell_type": "markdown",
      "metadata": {
        "id": "QxRoToHXx27H"
      },
      "source": [
        "Create model"
      ]
    },
    {
      "cell_type": "code",
      "metadata": {
        "colab": {
          "base_uri": "https://localhost:8080/"
        },
        "id": "f7fTZ3k4x2Fu",
        "outputId": "f8ac0c30-4874-4e09-db2a-43709a237759"
      },
      "source": [
        "tf.compat.v1.logging.set_verbosity(tf.compat.v1.logging.INFO)\n",
        "\n",
        "shutil.rmtree('/tmp/linear_regression_trained_model_ftv', ignore_errors=True)\n",
        "\n",
        "estimator_fogtempvis = tf.contrib.learn.SKCompat(tf.contrib.learn.LinearRegressor(model_dir='/tmp/linear_regression_trained_model_ftv', optimizer=tf.train.AdamOptimizer(learning_rate=0.1), enable_centered_bias=False, feature_columns=tf.contrib.learn.infer_real_valued_columns_from_input(predictors_fogtempvis.values)))\n",
        "\n",
        "# Starting to train\n",
        "print(\"starting to train\");\n",
        "\n",
        "# Train the model. \n",
        "estimator_fogtempvis.fit(predictors_fogtempvis[:trainsize].values, targets_fogtempvis[:trainsize].values.reshape(trainsize, noutputs)/SCALE_NUM_ACCIDENTS, steps=10000)\n",
        "\n",
        "# Check  predictions \n",
        "preds = estimator_fogtempvis.predict(x=predictors_fogtempvis[trainsize:].values)\n",
        "\n",
        "predslistscale = preds['scores']*SCALE_NUM_ACCIDENTS\n",
        "\n",
        "# pred = format(str(predslistscale)) # useful for checking outputs and printing.\n",
        "\n",
        "# Calculate RMSE\n",
        "rmse = np.sqrt(np.mean((targets_fogtempvis[trainsize:].values - predslistscale)**2))\n",
        "print('LinearRegression Fog, Temperature and Visibility has RMSE of {0}'.format(rmse));\n",
        "\n",
        "# Calculate the mean of the Number of Accidents.\n",
        "avg = np.mean(shuffle_fogtempvis_train['num_accidents'][:trainsize])\n",
        "\n",
        "# Calculate the RMSE \n",
        "rmse = np.sqrt(np.mean((shuffle_fogtempvis_train['num_accidents'][trainsize:] - avg)**2))\n",
        "print('Just using average = {0} has RMSE of {1}'.format(avg, rmse));"
      ],
      "execution_count": 170,
      "outputs": [
        {
          "output_type": "stream",
          "name": "stdout",
          "text": [
            "WARNING:tensorflow:float64 is not supported by many models, consider casting to float32.\n",
            "INFO:tensorflow:Using default config.\n",
            "INFO:tensorflow:Using config: {'_task_type': None, '_task_id': 0, '_cluster_spec': <tensorflow.python.training.server_lib.ClusterSpec object at 0x7f2ed8751810>, '_master': '', '_num_ps_replicas': 0, '_num_worker_replicas': 0, '_environment': 'local', '_is_chief': True, '_evaluation_master': '', '_train_distribute': None, '_eval_distribute': None, '_experimental_max_worker_delay_secs': None, '_device_fn': None, '_tf_config': gpu_options {\n",
            "  per_process_gpu_memory_fraction: 1.0\n",
            "}\n",
            ", '_tf_random_seed': None, '_save_summary_steps': 100, '_save_checkpoints_secs': 600, '_log_step_count_steps': 100, '_protocol': None, '_session_config': None, '_save_checkpoints_steps': None, '_keep_checkpoint_max': 5, '_keep_checkpoint_every_n_hours': 10000, '_model_dir': '/tmp/linear_regression_trained_model_ftv', '_session_creation_timeout_secs': 7200}\n",
            "starting to train\n",
            "WARNING:tensorflow:float64 is not supported by many models, consider casting to float32.\n",
            "WARNING:tensorflow:float64 is not supported by many models, consider casting to float32.\n",
            "INFO:tensorflow:Create CheckpointSaverHook.\n",
            "INFO:tensorflow:Graph was finalized.\n",
            "INFO:tensorflow:Running local_init_op.\n",
            "INFO:tensorflow:Done running local_init_op.\n",
            "INFO:tensorflow:Saving checkpoints for 0 into /tmp/linear_regression_trained_model_ftv/model.ckpt.\n",
            "INFO:tensorflow:loss = 0.31099957, step = 1\n",
            "INFO:tensorflow:global_step/sec: 769.114\n",
            "INFO:tensorflow:loss = 0.030222043, step = 101 (0.133 sec)\n",
            "INFO:tensorflow:global_step/sec: 875.197\n",
            "INFO:tensorflow:loss = 0.02042488, step = 201 (0.116 sec)\n",
            "INFO:tensorflow:global_step/sec: 872.788\n",
            "INFO:tensorflow:loss = 0.0449516, step = 301 (0.116 sec)\n",
            "INFO:tensorflow:global_step/sec: 903.182\n",
            "INFO:tensorflow:loss = 0.031081498, step = 401 (0.108 sec)\n",
            "INFO:tensorflow:global_step/sec: 851.264\n",
            "INFO:tensorflow:loss = 0.030046405, step = 501 (0.118 sec)\n",
            "INFO:tensorflow:global_step/sec: 813.084\n",
            "INFO:tensorflow:loss = 0.038446948, step = 601 (0.124 sec)\n",
            "INFO:tensorflow:global_step/sec: 886.901\n",
            "INFO:tensorflow:loss = 0.027394073, step = 701 (0.114 sec)\n",
            "INFO:tensorflow:global_step/sec: 851.725\n",
            "INFO:tensorflow:loss = 0.033430137, step = 801 (0.117 sec)\n",
            "INFO:tensorflow:global_step/sec: 867.874\n",
            "INFO:tensorflow:loss = 0.028368207, step = 901 (0.113 sec)\n",
            "INFO:tensorflow:global_step/sec: 909.062\n",
            "INFO:tensorflow:loss = 0.027556846, step = 1001 (0.113 sec)\n",
            "INFO:tensorflow:global_step/sec: 911.817\n",
            "INFO:tensorflow:loss = 0.02651746, step = 1101 (0.107 sec)\n",
            "INFO:tensorflow:global_step/sec: 947.735\n",
            "INFO:tensorflow:loss = 0.045555126, step = 1201 (0.107 sec)\n",
            "INFO:tensorflow:global_step/sec: 775.213\n",
            "INFO:tensorflow:loss = 0.03810107, step = 1301 (0.129 sec)\n",
            "INFO:tensorflow:global_step/sec: 794.152\n",
            "INFO:tensorflow:loss = 0.05083506, step = 1401 (0.126 sec)\n",
            "INFO:tensorflow:global_step/sec: 906.001\n",
            "INFO:tensorflow:loss = 0.055677086, step = 1501 (0.112 sec)\n",
            "INFO:tensorflow:global_step/sec: 910.361\n",
            "INFO:tensorflow:loss = 0.030920234, step = 1601 (0.108 sec)\n",
            "INFO:tensorflow:global_step/sec: 942.508\n",
            "INFO:tensorflow:loss = 0.04085628, step = 1701 (0.107 sec)\n",
            "INFO:tensorflow:global_step/sec: 933.233\n",
            "INFO:tensorflow:loss = 0.053504236, step = 1801 (0.109 sec)\n",
            "INFO:tensorflow:global_step/sec: 904.498\n",
            "INFO:tensorflow:loss = 0.037163403, step = 1901 (0.109 sec)\n",
            "INFO:tensorflow:global_step/sec: 880.55\n",
            "INFO:tensorflow:loss = 0.4086693, step = 2001 (0.113 sec)\n",
            "INFO:tensorflow:global_step/sec: 814.751\n",
            "INFO:tensorflow:loss = 0.07142018, step = 2101 (0.127 sec)\n",
            "INFO:tensorflow:global_step/sec: 908.428\n",
            "INFO:tensorflow:loss = 0.07900832, step = 2201 (0.110 sec)\n",
            "INFO:tensorflow:global_step/sec: 749.522\n",
            "INFO:tensorflow:loss = 0.02915135, step = 2301 (0.130 sec)\n",
            "INFO:tensorflow:global_step/sec: 903.754\n",
            "INFO:tensorflow:loss = 0.06332545, step = 2401 (0.114 sec)\n",
            "INFO:tensorflow:global_step/sec: 870.303\n",
            "INFO:tensorflow:loss = 0.029899236, step = 2501 (0.115 sec)\n",
            "INFO:tensorflow:global_step/sec: 846.098\n",
            "INFO:tensorflow:loss = 0.12541787, step = 2601 (0.118 sec)\n",
            "INFO:tensorflow:global_step/sec: 941.935\n",
            "INFO:tensorflow:loss = 0.06567696, step = 2701 (0.103 sec)\n",
            "INFO:tensorflow:global_step/sec: 854.018\n",
            "INFO:tensorflow:loss = 0.1517991, step = 2801 (0.119 sec)\n",
            "INFO:tensorflow:global_step/sec: 892.001\n",
            "INFO:tensorflow:loss = 0.20591195, step = 2901 (0.113 sec)\n",
            "INFO:tensorflow:global_step/sec: 903.662\n",
            "INFO:tensorflow:loss = 0.030484967, step = 3001 (0.109 sec)\n",
            "INFO:tensorflow:global_step/sec: 854.277\n",
            "INFO:tensorflow:loss = 0.04040174, step = 3101 (0.117 sec)\n",
            "INFO:tensorflow:global_step/sec: 815.557\n",
            "INFO:tensorflow:loss = 0.028320244, step = 3201 (0.120 sec)\n",
            "INFO:tensorflow:global_step/sec: 932.364\n",
            "INFO:tensorflow:loss = 0.25014597, step = 3301 (0.109 sec)\n",
            "INFO:tensorflow:global_step/sec: 912.285\n",
            "INFO:tensorflow:loss = 0.03629186, step = 3401 (0.108 sec)\n",
            "INFO:tensorflow:global_step/sec: 935.786\n",
            "INFO:tensorflow:loss = 0.031450093, step = 3501 (0.107 sec)\n",
            "INFO:tensorflow:global_step/sec: 885.61\n",
            "INFO:tensorflow:loss = 0.026112847, step = 3601 (0.113 sec)\n",
            "INFO:tensorflow:global_step/sec: 930.771\n",
            "INFO:tensorflow:loss = 0.13130975, step = 3701 (0.109 sec)\n",
            "INFO:tensorflow:global_step/sec: 901.462\n",
            "INFO:tensorflow:loss = 0.051692575, step = 3801 (0.110 sec)\n",
            "INFO:tensorflow:global_step/sec: 884.639\n",
            "INFO:tensorflow:loss = 0.08621976, step = 3901 (0.115 sec)\n",
            "INFO:tensorflow:global_step/sec: 882.267\n",
            "INFO:tensorflow:loss = 0.035909235, step = 4001 (0.111 sec)\n",
            "INFO:tensorflow:global_step/sec: 702.969\n",
            "INFO:tensorflow:loss = 0.033457212, step = 4101 (0.141 sec)\n",
            "INFO:tensorflow:global_step/sec: 827.538\n",
            "INFO:tensorflow:loss = 0.19530207, step = 4201 (0.121 sec)\n",
            "INFO:tensorflow:global_step/sec: 826.19\n",
            "INFO:tensorflow:loss = 0.045740344, step = 4301 (0.123 sec)\n",
            "INFO:tensorflow:global_step/sec: 857.329\n",
            "INFO:tensorflow:loss = 0.09967273, step = 4401 (0.114 sec)\n",
            "INFO:tensorflow:global_step/sec: 926.562\n",
            "INFO:tensorflow:loss = 0.1481457, step = 4501 (0.112 sec)\n",
            "INFO:tensorflow:global_step/sec: 830.289\n",
            "INFO:tensorflow:loss = 0.036181536, step = 4601 (0.120 sec)\n",
            "INFO:tensorflow:global_step/sec: 870.159\n",
            "INFO:tensorflow:loss = 0.037197284, step = 4701 (0.115 sec)\n",
            "INFO:tensorflow:global_step/sec: 884.199\n",
            "INFO:tensorflow:loss = 0.07665215, step = 4801 (0.113 sec)\n",
            "INFO:tensorflow:global_step/sec: 829.896\n",
            "INFO:tensorflow:loss = 0.028878547, step = 4901 (0.120 sec)\n",
            "INFO:tensorflow:global_step/sec: 803.28\n",
            "INFO:tensorflow:loss = 0.097297475, step = 5001 (0.123 sec)\n",
            "INFO:tensorflow:global_step/sec: 924.387\n",
            "INFO:tensorflow:loss = 0.02362154, step = 5101 (0.108 sec)\n",
            "INFO:tensorflow:global_step/sec: 882.905\n",
            "INFO:tensorflow:loss = 0.07259735, step = 5201 (0.115 sec)\n",
            "INFO:tensorflow:global_step/sec: 908.44\n",
            "INFO:tensorflow:loss = 0.03492607, step = 5301 (0.109 sec)\n",
            "INFO:tensorflow:global_step/sec: 855.884\n",
            "INFO:tensorflow:loss = 0.05104761, step = 5401 (0.117 sec)\n",
            "INFO:tensorflow:global_step/sec: 812.971\n",
            "INFO:tensorflow:loss = 0.064731985, step = 5501 (0.126 sec)\n",
            "INFO:tensorflow:global_step/sec: 928.056\n",
            "INFO:tensorflow:loss = 0.0690981, step = 5601 (0.104 sec)\n",
            "INFO:tensorflow:global_step/sec: 908.716\n",
            "INFO:tensorflow:loss = 0.03104205, step = 5701 (0.112 sec)\n",
            "INFO:tensorflow:global_step/sec: 832.684\n",
            "INFO:tensorflow:loss = 0.03779148, step = 5801 (0.120 sec)\n",
            "INFO:tensorflow:global_step/sec: 809.525\n",
            "INFO:tensorflow:loss = 0.043691043, step = 5901 (0.121 sec)\n",
            "INFO:tensorflow:global_step/sec: 967.453\n",
            "INFO:tensorflow:loss = 0.03774301, step = 6001 (0.105 sec)\n",
            "INFO:tensorflow:global_step/sec: 846.888\n",
            "INFO:tensorflow:loss = 0.03296552, step = 6101 (0.117 sec)\n",
            "INFO:tensorflow:global_step/sec: 943.52\n",
            "INFO:tensorflow:loss = 0.04683216, step = 6201 (0.108 sec)\n",
            "INFO:tensorflow:global_step/sec: 957.595\n",
            "INFO:tensorflow:loss = 0.0402207, step = 6301 (0.104 sec)\n",
            "INFO:tensorflow:global_step/sec: 938.308\n",
            "INFO:tensorflow:loss = 0.11769934, step = 6401 (0.107 sec)\n",
            "INFO:tensorflow:global_step/sec: 819.237\n",
            "INFO:tensorflow:loss = 0.07177649, step = 6501 (0.124 sec)\n",
            "INFO:tensorflow:global_step/sec: 879.582\n",
            "INFO:tensorflow:loss = 0.03475068, step = 6601 (0.110 sec)\n",
            "INFO:tensorflow:global_step/sec: 914.013\n",
            "INFO:tensorflow:loss = 0.044568874, step = 6701 (0.110 sec)\n",
            "INFO:tensorflow:global_step/sec: 787.308\n",
            "INFO:tensorflow:loss = 0.03621485, step = 6801 (0.127 sec)\n",
            "INFO:tensorflow:global_step/sec: 944.631\n",
            "INFO:tensorflow:loss = 0.057135005, step = 6901 (0.103 sec)\n",
            "INFO:tensorflow:global_step/sec: 939.023\n",
            "INFO:tensorflow:loss = 0.05153944, step = 7001 (0.106 sec)\n",
            "INFO:tensorflow:global_step/sec: 907.685\n",
            "INFO:tensorflow:loss = 0.12433334, step = 7101 (0.110 sec)\n",
            "INFO:tensorflow:global_step/sec: 940.265\n",
            "INFO:tensorflow:loss = 0.38967213, step = 7201 (0.110 sec)\n",
            "INFO:tensorflow:global_step/sec: 875.471\n",
            "INFO:tensorflow:loss = 0.18922672, step = 7301 (0.115 sec)\n",
            "INFO:tensorflow:global_step/sec: 873.168\n",
            "INFO:tensorflow:loss = 0.033036616, step = 7401 (0.114 sec)\n",
            "INFO:tensorflow:global_step/sec: 941.191\n",
            "INFO:tensorflow:loss = 0.09381443, step = 7501 (0.105 sec)\n",
            "INFO:tensorflow:global_step/sec: 784.677\n",
            "INFO:tensorflow:loss = 0.050749265, step = 7601 (0.126 sec)\n",
            "INFO:tensorflow:global_step/sec: 890.008\n",
            "INFO:tensorflow:loss = 0.087196305, step = 7701 (0.116 sec)\n",
            "INFO:tensorflow:global_step/sec: 893.942\n",
            "INFO:tensorflow:loss = 0.031175686, step = 7801 (0.113 sec)\n",
            "INFO:tensorflow:global_step/sec: 916.788\n",
            "INFO:tensorflow:loss = 0.057411596, step = 7901 (0.108 sec)\n",
            "INFO:tensorflow:global_step/sec: 839.734\n",
            "INFO:tensorflow:loss = 0.11302887, step = 8001 (0.115 sec)\n",
            "INFO:tensorflow:global_step/sec: 837.255\n",
            "INFO:tensorflow:loss = 0.032893855, step = 8101 (0.120 sec)\n",
            "INFO:tensorflow:global_step/sec: 863.375\n",
            "INFO:tensorflow:loss = 0.0363428, step = 8201 (0.117 sec)\n",
            "INFO:tensorflow:global_step/sec: 893.986\n",
            "INFO:tensorflow:loss = 0.24369554, step = 8301 (0.113 sec)\n",
            "INFO:tensorflow:global_step/sec: 856.892\n",
            "INFO:tensorflow:loss = 0.03436935, step = 8401 (0.116 sec)\n",
            "INFO:tensorflow:global_step/sec: 903.978\n",
            "INFO:tensorflow:loss = 0.031014975, step = 8501 (0.111 sec)\n",
            "INFO:tensorflow:global_step/sec: 824.67\n",
            "INFO:tensorflow:loss = 0.1270231, step = 8601 (0.121 sec)\n",
            "INFO:tensorflow:global_step/sec: 955.377\n",
            "INFO:tensorflow:loss = 0.03747519, step = 8701 (0.104 sec)\n",
            "INFO:tensorflow:global_step/sec: 913.266\n",
            "INFO:tensorflow:loss = 0.03408296, step = 8801 (0.110 sec)\n",
            "INFO:tensorflow:global_step/sec: 887.918\n",
            "INFO:tensorflow:loss = 0.08250891, step = 8901 (0.112 sec)\n",
            "INFO:tensorflow:global_step/sec: 919.654\n",
            "INFO:tensorflow:loss = 0.028465651, step = 9001 (0.109 sec)\n",
            "INFO:tensorflow:global_step/sec: 886.241\n",
            "INFO:tensorflow:loss = 0.02860198, step = 9101 (0.113 sec)\n",
            "INFO:tensorflow:global_step/sec: 901.249\n",
            "INFO:tensorflow:loss = 0.072912455, step = 9201 (0.111 sec)\n",
            "INFO:tensorflow:global_step/sec: 832.053\n",
            "INFO:tensorflow:loss = 0.0329282, step = 9301 (0.122 sec)\n",
            "INFO:tensorflow:global_step/sec: 789.868\n",
            "INFO:tensorflow:loss = 0.15946874, step = 9401 (0.126 sec)\n",
            "INFO:tensorflow:global_step/sec: 791.907\n",
            "INFO:tensorflow:loss = 0.025529768, step = 9501 (0.124 sec)\n",
            "INFO:tensorflow:global_step/sec: 783.613\n",
            "INFO:tensorflow:loss = 0.07914302, step = 9601 (0.127 sec)\n",
            "INFO:tensorflow:global_step/sec: 824.409\n",
            "INFO:tensorflow:loss = 0.033924215, step = 9701 (0.123 sec)\n",
            "INFO:tensorflow:global_step/sec: 902.663\n",
            "INFO:tensorflow:loss = 0.034425206, step = 9801 (0.111 sec)\n",
            "INFO:tensorflow:global_step/sec: 786.788\n",
            "INFO:tensorflow:loss = 0.036396034, step = 9901 (0.126 sec)\n",
            "INFO:tensorflow:Saving checkpoints for 10000 into /tmp/linear_regression_trained_model_ftv/model.ckpt.\n",
            "INFO:tensorflow:Loss for final step: 0.03135966.\n",
            "WARNING:tensorflow:float64 is not supported by many models, consider casting to float32.\n",
            "INFO:tensorflow:Graph was finalized.\n",
            "INFO:tensorflow:Restoring parameters from /tmp/linear_regression_trained_model_ftv/model.ckpt-10000\n",
            "INFO:tensorflow:Running local_init_op.\n",
            "INFO:tensorflow:Done running local_init_op.\n",
            "LinearRegression Fog, Temperature and Visibility has RMSE of 0.380791111864811\n",
            "Just using average = 0.5121407319613452 has RMSE of 0.20511958191170784\n"
          ]
        }
      ]
    },
    {
      "cell_type": "markdown",
      "metadata": {
        "id": "s9mHFvnZHXX6"
      },
      "source": [
        "The RMSE values of 0.381 and 0.205 are not particularly close for this model but it will be tested with the validation data."
      ]
    },
    {
      "cell_type": "markdown",
      "metadata": {
        "id": "nNjUuwtQyr7V"
      },
      "source": [
        "Test model using first three rows of validation data"
      ]
    },
    {
      "cell_type": "code",
      "metadata": {
        "colab": {
          "base_uri": "https://localhost:8080/",
          "height": 143
        },
        "id": "YAw4CAZHHlGM",
        "outputId": "ccca3dea-b296-47f2-e652-25838f8d3a6e"
      },
      "source": [
        "shuffle_fogtempvis_test[:3]"
      ],
      "execution_count": 171,
      "outputs": [
        {
          "output_type": "execute_result",
          "data": {
            "text/html": [
              "<div>\n",
              "<style scoped>\n",
              "    .dataframe tbody tr th:only-of-type {\n",
              "        vertical-align: middle;\n",
              "    }\n",
              "\n",
              "    .dataframe tbody tr th {\n",
              "        vertical-align: top;\n",
              "    }\n",
              "\n",
              "    .dataframe thead th {\n",
              "        text-align: right;\n",
              "    }\n",
              "</style>\n",
              "<table border=\"1\" class=\"dataframe\">\n",
              "  <thead>\n",
              "    <tr style=\"text-align: right;\">\n",
              "      <th></th>\n",
              "      <th>dayofweek</th>\n",
              "      <th>temp</th>\n",
              "      <th>visib</th>\n",
              "      <th>fog</th>\n",
              "      <th>num_accidents</th>\n",
              "    </tr>\n",
              "  </thead>\n",
              "  <tbody>\n",
              "    <tr>\n",
              "      <th>1137</th>\n",
              "      <td>6</td>\n",
              "      <td>31.5</td>\n",
              "      <td>9.5</td>\n",
              "      <td>0</td>\n",
              "      <td>0.551502</td>\n",
              "    </tr>\n",
              "    <tr>\n",
              "      <th>1510</th>\n",
              "      <td>1</td>\n",
              "      <td>37.0</td>\n",
              "      <td>9.8</td>\n",
              "      <td>0</td>\n",
              "      <td>0.419831</td>\n",
              "    </tr>\n",
              "    <tr>\n",
              "      <th>1230</th>\n",
              "      <td>1</td>\n",
              "      <td>59.4</td>\n",
              "      <td>6.9</td>\n",
              "      <td>1</td>\n",
              "      <td>0.480687</td>\n",
              "    </tr>\n",
              "  </tbody>\n",
              "</table>\n",
              "</div>"
            ],
            "text/plain": [
              "      dayofweek  temp  visib  fog  num_accidents\n",
              "1137          6  31.5    9.5    0       0.551502\n",
              "1510          1  37.0    9.8    0       0.419831\n",
              "1230          1  59.4    6.9    1       0.480687"
            ]
          },
          "metadata": {},
          "execution_count": 171
        }
      ]
    },
    {
      "cell_type": "code",
      "metadata": {
        "colab": {
          "base_uri": "https://localhost:8080/"
        },
        "id": "ijIJJMEAywF7",
        "outputId": "276ffaad-b217-4681-9b59-9539de94baca"
      },
      "source": [
        "input = pd.DataFrame.from_dict(data = \n",
        "\t\t\t\t{'dayofweek' : [6,1,1],\n",
        "         'temp' : [31.5, 37.0, 59.4],\n",
        "     'visib' : [9.5, 9.8, 6.9],\n",
        "     'fog' : [0, 0, 1]\n",
        "     \n",
        "        })\n",
        "\t\t\t\t\t\n",
        "\n",
        "estimator = tf.contrib.learn.SKCompat(tf.contrib.learn.LinearRegressor(model_dir='/tmp/linear_regression_trained_model_ftv', enable_centered_bias=False, feature_columns=tf.contrib.learn.infer_real_valued_columns_from_input(input.values)))\n",
        "\n",
        "preds = estimator.predict(x=input.values)\n",
        "\n",
        "predslistnorm = preds['scores']\n",
        "predslistscale = preds['scores']*850\n",
        "prednorm = format(str(predslistnorm))\n",
        "pred = format(str(predslistscale))\n",
        "print(prednorm)\n",
        "print(pred)"
      ],
      "execution_count": 172,
      "outputs": [
        {
          "output_type": "stream",
          "name": "stdout",
          "text": [
            "WARNING:tensorflow:float64 is not supported by many models, consider casting to float32.\n",
            "INFO:tensorflow:Using default config.\n",
            "INFO:tensorflow:Using config: {'_task_type': None, '_task_id': 0, '_cluster_spec': <tensorflow.python.training.server_lib.ClusterSpec object at 0x7f2ed88b4c10>, '_master': '', '_num_ps_replicas': 0, '_num_worker_replicas': 0, '_environment': 'local', '_is_chief': True, '_evaluation_master': '', '_train_distribute': None, '_eval_distribute': None, '_experimental_max_worker_delay_secs': None, '_device_fn': None, '_tf_config': gpu_options {\n",
            "  per_process_gpu_memory_fraction: 1.0\n",
            "}\n",
            ", '_tf_random_seed': None, '_save_summary_steps': 100, '_save_checkpoints_secs': 600, '_log_step_count_steps': 100, '_protocol': None, '_session_config': None, '_save_checkpoints_steps': None, '_keep_checkpoint_max': 5, '_keep_checkpoint_every_n_hours': 10000, '_model_dir': '/tmp/linear_regression_trained_model_ftv', '_session_creation_timeout_secs': 7200}\n",
            "WARNING:tensorflow:float64 is not supported by many models, consider casting to float32.\n",
            "INFO:tensorflow:Graph was finalized.\n",
            "INFO:tensorflow:Restoring parameters from /tmp/linear_regression_trained_model_ftv/model.ckpt-10000\n",
            "INFO:tensorflow:Running local_init_op.\n",
            "INFO:tensorflow:Done running local_init_op.\n",
            "[0.7904788  0.5379248  0.74793243]\n",
            "[671.907   457.2361  635.74255]\n"
          ]
        }
      ]
    },
    {
      "cell_type": "markdown",
      "metadata": {
        "id": "A8GJAy6rH1hs"
      },
      "source": [
        "It can be seen that the actual values for normalised number of accidents is 0.552, 0.420 and 0.481.  The model however predicted results of 0.790, 0.538 and 0.748 showing little accuracy."
      ]
    },
    {
      "cell_type": "markdown",
      "metadata": {
        "id": "O7pJVTbFzRd4"
      },
      "source": [
        "Test model using random rows"
      ]
    },
    {
      "cell_type": "code",
      "metadata": {
        "colab": {
          "base_uri": "https://localhost:8080/",
          "height": 143
        },
        "id": "PAGNtS37IIDJ",
        "outputId": "fdeb5315-2c60-428b-d2bb-9ff49b6c5bf0"
      },
      "source": [
        "np.random.seed([6])\n",
        "\n",
        "shuffle_fogtempvis_test.sample(n = 3)"
      ],
      "execution_count": 173,
      "outputs": [
        {
          "output_type": "execute_result",
          "data": {
            "text/html": [
              "<div>\n",
              "<style scoped>\n",
              "    .dataframe tbody tr th:only-of-type {\n",
              "        vertical-align: middle;\n",
              "    }\n",
              "\n",
              "    .dataframe tbody tr th {\n",
              "        vertical-align: top;\n",
              "    }\n",
              "\n",
              "    .dataframe thead th {\n",
              "        text-align: right;\n",
              "    }\n",
              "</style>\n",
              "<table border=\"1\" class=\"dataframe\">\n",
              "  <thead>\n",
              "    <tr style=\"text-align: right;\">\n",
              "      <th></th>\n",
              "      <th>dayofweek</th>\n",
              "      <th>temp</th>\n",
              "      <th>visib</th>\n",
              "      <th>fog</th>\n",
              "      <th>num_accidents</th>\n",
              "    </tr>\n",
              "  </thead>\n",
              "  <tbody>\n",
              "    <tr>\n",
              "      <th>850</th>\n",
              "      <td>6</td>\n",
              "      <td>48.1</td>\n",
              "      <td>10.0</td>\n",
              "      <td>0</td>\n",
              "      <td>0.598309</td>\n",
              "    </tr>\n",
              "    <tr>\n",
              "      <th>2257</th>\n",
              "      <td>6</td>\n",
              "      <td>22.1</td>\n",
              "      <td>10.0</td>\n",
              "      <td>0</td>\n",
              "      <td>0.448661</td>\n",
              "    </tr>\n",
              "    <tr>\n",
              "      <th>1458</th>\n",
              "      <td>5</td>\n",
              "      <td>39.1</td>\n",
              "      <td>10.0</td>\n",
              "      <td>0</td>\n",
              "      <td>0.388412</td>\n",
              "    </tr>\n",
              "  </tbody>\n",
              "</table>\n",
              "</div>"
            ],
            "text/plain": [
              "      dayofweek  temp  visib  fog  num_accidents\n",
              "850           6  48.1   10.0    0       0.598309\n",
              "2257          6  22.1   10.0    0       0.448661\n",
              "1458          5  39.1   10.0    0       0.388412"
            ]
          },
          "metadata": {},
          "execution_count": 173
        }
      ]
    },
    {
      "cell_type": "code",
      "metadata": {
        "colab": {
          "base_uri": "https://localhost:8080/"
        },
        "id": "wE4-2F1fzVd9",
        "outputId": "e14a36a6-3d53-42d0-82d2-e3540d5afe47"
      },
      "source": [
        "input = pd.DataFrame.from_dict(data = \n",
        "\t\t\t\t{'dayofweek' : [6,6,5],\n",
        "         'temp' : [48.1, 22.1, 39.1],\n",
        "     'visib' : [10, 10, 10],\n",
        "     'fog' : [0, 0, 0]\n",
        "        })\n",
        "\t\t\t\t\t\n",
        "\n",
        "estimator = tf.contrib.learn.SKCompat(tf.contrib.learn.LinearRegressor(model_dir='/tmp/linear_regression_trained_model_ftv', enable_centered_bias=False, feature_columns=tf.contrib.learn.infer_real_valued_columns_from_input(input.values)))\n",
        "\n",
        "preds = estimator.predict(x=input.values)\n",
        "\n",
        "predslistnorm = preds['scores']\n",
        "predslistscale = preds['scores']*850\n",
        "prednorm = format(str(predslistnorm))\n",
        "pred = format(str(predslistscale))\n",
        "print(prednorm)\n",
        "print(pred)"
      ],
      "execution_count": 174,
      "outputs": [
        {
          "output_type": "stream",
          "name": "stdout",
          "text": [
            "WARNING:tensorflow:float64 is not supported by many models, consider casting to float32.\n",
            "INFO:tensorflow:Using default config.\n",
            "INFO:tensorflow:Using config: {'_task_type': None, '_task_id': 0, '_cluster_spec': <tensorflow.python.training.server_lib.ClusterSpec object at 0x7f2ed8725310>, '_master': '', '_num_ps_replicas': 0, '_num_worker_replicas': 0, '_environment': 'local', '_is_chief': True, '_evaluation_master': '', '_train_distribute': None, '_eval_distribute': None, '_experimental_max_worker_delay_secs': None, '_device_fn': None, '_tf_config': gpu_options {\n",
            "  per_process_gpu_memory_fraction: 1.0\n",
            "}\n",
            ", '_tf_random_seed': None, '_save_summary_steps': 100, '_save_checkpoints_secs': 600, '_log_step_count_steps': 100, '_protocol': None, '_session_config': None, '_save_checkpoints_steps': None, '_keep_checkpoint_max': 5, '_keep_checkpoint_every_n_hours': 10000, '_model_dir': '/tmp/linear_regression_trained_model_ftv', '_session_creation_timeout_secs': 7200}\n",
            "WARNING:tensorflow:float64 is not supported by many models, consider casting to float32.\n",
            "INFO:tensorflow:Graph was finalized.\n",
            "INFO:tensorflow:Restoring parameters from /tmp/linear_regression_trained_model_ftv/model.ckpt-10000\n",
            "INFO:tensorflow:Running local_init_op.\n",
            "INFO:tensorflow:Done running local_init_op.\n",
            "[0.9282831  0.716419   0.79516685]\n",
            "[789.04065 608.9561  675.89185]\n"
          ]
        }
      ]
    },
    {
      "cell_type": "markdown",
      "metadata": {
        "id": "Usm17W-9IW_X"
      },
      "source": [
        "The normalised number of accident values from the test data are 0.598, 0.449 and 0.388 but the model returned values of 0.928, 0.716 and 0.795, again showing little accuracy and supporting the previous test and the RMSE test that the model is not accurate."
      ]
    },
    {
      "cell_type": "markdown",
      "metadata": {
        "id": "Jx6VffuB2y5O"
      },
      "source": [
        "# DNN Models\n",
        "\n",
        "### Create dataframes from data created previously for dnn models"
      ]
    },
    {
      "cell_type": "code",
      "metadata": {
        "id": "kTB85Xfr24nh"
      },
      "source": [
        "df_dnn_numacc = pd.read_csv('https://raw.githubusercontent.com/078373uhi/078373uhi-DAOTW_A2/main/dnndata_numacc.csv', index_col=0, )\n",
        "df_dnn_fog = pd.read_csv('https://raw.githubusercontent.com/078373uhi/078373uhi-DAOTW_A2/main/dnndata_fog_numacc.csv', index_col=0, )\n",
        "df_dnn_temp = pd.read_csv('https://raw.githubusercontent.com/078373uhi/078373uhi-DAOTW_A2/main/dnndata_temp_numacc.csv', index_col=0, )\n",
        "df_dnn_visib = pd.read_csv('https://raw.githubusercontent.com/078373uhi/078373uhi-DAOTW_A2/main/dnndata_visib_numacc.csv', index_col=0, )\n",
        "df_dnn_fogvisib = pd.read_csv('https://raw.githubusercontent.com/078373uhi/078373uhi-DAOTW_A2/main/dnndata_fogvisib_numacc.csv', index_col=0, )\n",
        "df_dnn_tempfog = pd.read_csv('https://raw.githubusercontent.com/078373uhi/078373uhi-DAOTW_A2/main/dnndata_tempfog_numacc.csv', index_col=0, )\n",
        "df_dnn_tempvisib = pd.read_csv('https://raw.githubusercontent.com/078373uhi/078373uhi-DAOTW_A2/main/dnndata_tempvisib_numacc.csv', index_col=0, )\n",
        "df_dnn_tempfogvisib = pd.read_csv('https://raw.githubusercontent.com/078373uhi/078373uhi-DAOTW_A2/main/dnndata_tempfogvisib_numacc.csv', index_col=0, )"
      ],
      "execution_count": 175,
      "outputs": []
    },
    {
      "cell_type": "markdown",
      "metadata": {
        "id": "4BIfgMOG4jpq"
      },
      "source": [
        "Check dataframes"
      ]
    },
    {
      "cell_type": "code",
      "metadata": {
        "colab": {
          "base_uri": "https://localhost:8080/"
        },
        "id": "CL_WWNc94j0j",
        "outputId": "56bb39f4-1d98-4378-9e96-d1891ef7a901"
      },
      "source": [
        "print(df_dnn_numacc[:10])\n",
        "print(df_dnn_fog[:10])\n",
        "print(df_dnn_temp[:10])\n",
        "print(df_dnn_visib[:10])\n",
        "print(df_dnn_fogvisib[:10])\n",
        "print(df_dnn_tempfog[:10])\n",
        "print(df_dnn_tempvisib[:10])\n",
        "print(df_dnn_tempfogvisib[:10])"
      ],
      "execution_count": 176,
      "outputs": [
        {
          "output_type": "stream",
          "name": "stdout",
          "text": [
            "    Apr  Aug  Dec  Feb  Jan  Jul  ...  Sun  Thu  Tue  Wed  year  number_of_accidents\n",
            "1     0    0    0    0    1    0  ...    0    0    1    0  2013             0.059633\n",
            "2     0    0    0    0    1    0  ...    0    0    0    1  2013             0.286697\n",
            "3     0    0    0    0    1    0  ...    0    1    0    0  2013             0.444954\n",
            "4     0    0    0    0    1    0  ...    0    0    0    0  2013             0.344037\n",
            "5     0    0    0    0    1    0  ...    0    0    0    0  2013             0.077982\n",
            "6     0    0    0    0    1    0  ...    1    0    0    0  2013             0.087156\n",
            "7     0    0    0    0    1    0  ...    0    0    0    0  2013             0.380734\n",
            "8     0    0    0    0    1    0  ...    0    0    1    0  2013             0.362385\n",
            "9     0    0    0    0    1    0  ...    0    0    0    1  2013             0.302752\n",
            "10    0    0    0    0    1    0  ...    0    1    0    0  2013             0.458716\n",
            "\n",
            "[10 rows x 21 columns]\n",
            "    Apr  Aug  Dec  Feb  Jan  Jul  ...  Thu  Tue  Wed  year  fog  number_of_accidents\n",
            "1     0    0    0    0    1    0  ...    0    1    0  2013    0             0.059633\n",
            "2     0    0    0    0    1    0  ...    0    0    1  2013    0             0.286697\n",
            "3     0    0    0    0    1    0  ...    1    0    0  2013    0             0.444954\n",
            "4     0    0    0    0    1    0  ...    0    0    0  2013    0             0.344037\n",
            "5     0    0    0    0    1    0  ...    0    0    0  2013    0             0.077982\n",
            "6     0    0    0    0    1    0  ...    0    0    0  2013    0             0.087156\n",
            "7     0    0    0    0    1    0  ...    0    0    0  2013    0             0.380734\n",
            "8     0    0    0    0    1    0  ...    0    1    0  2013    0             0.362385\n",
            "9     0    0    0    0    1    0  ...    0    0    1  2013    1             0.302752\n",
            "10    0    0    0    0    1    0  ...    1    0    0  2013    0             0.458716\n",
            "\n",
            "[10 rows x 22 columns]\n",
            "    Apr  Aug  Dec  Feb  Jan  ...  Tue  Wed  year  temp  number_of_accidents\n",
            "1     0    0    0    0    1  ...    1    0  2013  38.0             0.059633\n",
            "2     0    0    0    0    1  ...    0    1  2013  27.5             0.286697\n",
            "3     0    0    0    0    1  ...    0    0  2013  21.8             0.444954\n",
            "4     0    0    0    0    1  ...    0    0  2013  32.2             0.344037\n",
            "5     0    0    0    0    1  ...    0    0  2013  37.3             0.077982\n",
            "6     0    0    0    0    1  ...    0    0  2013  35.7             0.087156\n",
            "7     0    0    0    0    1  ...    0    0  2013  35.9             0.380734\n",
            "8     0    0    0    0    1  ...    1    0  2013  39.8             0.362385\n",
            "9     0    0    0    0    1  ...    0    1  2013  39.9             0.302752\n",
            "10    0    0    0    0    1  ...    0    0  2013  43.5             0.458716\n",
            "\n",
            "[10 rows x 22 columns]\n",
            "    Apr  Aug  Dec  Feb  Jan  ...  Tue  Wed  year  visib  number_of_accidents\n",
            "1     0    0    0    0    1  ...    1    0  2013   10.0             0.059633\n",
            "2     0    0    0    0    1  ...    0    1  2013   10.0             0.286697\n",
            "3     0    0    0    0    1  ...    0    0  2013   10.0             0.444954\n",
            "4     0    0    0    0    1  ...    0    0  2013   10.0             0.344037\n",
            "5     0    0    0    0    1  ...    0    0  2013   10.0             0.077982\n",
            "6     0    0    0    0    1  ...    0    0  2013    9.8             0.087156\n",
            "7     0    0    0    0    1  ...    0    0  2013    8.8             0.380734\n",
            "8     0    0    0    0    1  ...    1    0  2013    9.8             0.362385\n",
            "9     0    0    0    0    1  ...    0    1  2013    6.8             0.302752\n",
            "10    0    0    0    0    1  ...    0    0  2013    9.9             0.458716\n",
            "\n",
            "[10 rows x 22 columns]\n",
            "    Apr  Aug  Dec  Feb  Jan  ...  Wed  year  fog  visib  number_of_accidents\n",
            "1     0    0    0    0    1  ...    0  2013    0   10.0             0.059633\n",
            "2     0    0    0    0    1  ...    1  2013    0   10.0             0.286697\n",
            "3     0    0    0    0    1  ...    0  2013    0   10.0             0.444954\n",
            "4     0    0    0    0    1  ...    0  2013    0   10.0             0.344037\n",
            "5     0    0    0    0    1  ...    0  2013    0   10.0             0.077982\n",
            "6     0    0    0    0    1  ...    0  2013    0    9.8             0.087156\n",
            "7     0    0    0    0    1  ...    0  2013    0    8.8             0.380734\n",
            "8     0    0    0    0    1  ...    0  2013    0    9.8             0.362385\n",
            "9     0    0    0    0    1  ...    1  2013    1    6.8             0.302752\n",
            "10    0    0    0    0    1  ...    0  2013    0    9.9             0.458716\n",
            "\n",
            "[10 rows x 23 columns]\n",
            "    Apr  Aug  Dec  Feb  Jan  ...  Wed  year  temp  fog  number_of_accidents\n",
            "1     0    0    0    0    1  ...    0  2013  38.0    0             0.059633\n",
            "2     0    0    0    0    1  ...    1  2013  27.5    0             0.286697\n",
            "3     0    0    0    0    1  ...    0  2013  21.8    0             0.444954\n",
            "4     0    0    0    0    1  ...    0  2013  32.2    0             0.344037\n",
            "5     0    0    0    0    1  ...    0  2013  37.3    0             0.077982\n",
            "6     0    0    0    0    1  ...    0  2013  35.7    0             0.087156\n",
            "7     0    0    0    0    1  ...    0  2013  35.9    0             0.380734\n",
            "8     0    0    0    0    1  ...    0  2013  39.8    0             0.362385\n",
            "9     0    0    0    0    1  ...    1  2013  39.9    1             0.302752\n",
            "10    0    0    0    0    1  ...    0  2013  43.5    0             0.458716\n",
            "\n",
            "[10 rows x 23 columns]\n",
            "    Apr  Aug  Dec  Feb  Jan  ...  Wed  year  temp  visib  number_of_accidents\n",
            "1     0    0    0    0    1  ...    0  2013  38.0   10.0             0.059633\n",
            "2     0    0    0    0    1  ...    1  2013  27.5   10.0             0.286697\n",
            "3     0    0    0    0    1  ...    0  2013  21.8   10.0             0.444954\n",
            "4     0    0    0    0    1  ...    0  2013  32.2   10.0             0.344037\n",
            "5     0    0    0    0    1  ...    0  2013  37.3   10.0             0.077982\n",
            "6     0    0    0    0    1  ...    0  2013  35.7    9.8             0.087156\n",
            "7     0    0    0    0    1  ...    0  2013  35.9    8.8             0.380734\n",
            "8     0    0    0    0    1  ...    0  2013  39.8    9.8             0.362385\n",
            "9     0    0    0    0    1  ...    1  2013  39.9    6.8             0.302752\n",
            "10    0    0    0    0    1  ...    0  2013  43.5    9.9             0.458716\n",
            "\n",
            "[10 rows x 23 columns]\n",
            "    Apr  Aug  Dec  Feb  Jan  ...  year  temp  fog  visib  number_of_accidents\n",
            "1     0    0    0    0    1  ...  2013  38.0    0   10.0             0.059633\n",
            "2     0    0    0    0    1  ...  2013  27.5    0   10.0             0.286697\n",
            "3     0    0    0    0    1  ...  2013  21.8    0   10.0             0.444954\n",
            "4     0    0    0    0    1  ...  2013  32.2    0   10.0             0.344037\n",
            "5     0    0    0    0    1  ...  2013  37.3    0   10.0             0.077982\n",
            "6     0    0    0    0    1  ...  2013  35.7    0    9.8             0.087156\n",
            "7     0    0    0    0    1  ...  2013  35.9    0    8.8             0.380734\n",
            "8     0    0    0    0    1  ...  2013  39.8    0    9.8             0.362385\n",
            "9     0    0    0    0    1  ...  2013  39.9    1    6.8             0.302752\n",
            "10    0    0    0    0    1  ...  2013  43.5    0    9.9             0.458716\n",
            "\n",
            "[10 rows x 24 columns]\n"
          ]
        }
      ]
    },
    {
      "cell_type": "markdown",
      "metadata": {
        "id": "ZEcJ0brcfjZn"
      },
      "source": [
        "## Create and test model for visiblity"
      ]
    },
    {
      "cell_type": "code",
      "metadata": {
        "colab": {
          "base_uri": "https://localhost:8080/"
        },
        "id": "UOhn3yB_fism",
        "outputId": "f3ced3b3-4e8f-41d6-950b-194aa14f7494"
      },
      "source": [
        "# shuffle visibility dataset\n",
        "shuffle_visib = df_dnn_visib.iloc[np.random.permutation(len(df_dnn_visib))]\n",
        "\n",
        "#create training and validation data\n",
        "shuffle_visib_train, shuffle_visib_test = train_test_split(shuffle_visib, test_size=0.1)\n",
        "\n",
        "#check training set\n",
        "print(shuffle_visib_train[:5])\n",
        "\n",
        "# choose predictors\n",
        "predictors_visib = shuffle_visib_train.iloc[:,0:21]\n",
        "\n",
        "# check predictors.\n",
        "print(predictors_visib[:6])"
      ],
      "execution_count": 177,
      "outputs": [
        {
          "output_type": "stream",
          "name": "stdout",
          "text": [
            "      Apr  Aug  Dec  Feb  Jan  ...  Tue  Wed  year  visib  number_of_accidents\n",
            "1735    0    0    0    0    0  ...    1    0  2017    8.7             0.662447\n",
            "1473    0    0    0    1    0  ...    0    1  2017    9.7             0.428270\n",
            "2152    0    0    1    0    0  ...    0    0  2018    5.3             0.858744\n",
            "2174    0    0    0    0    1  ...    0    0  2019   10.0             0.042411\n",
            "2372    0    0    0    0    0  ...    1    0  2019    6.6             0.631696\n",
            "\n",
            "[5 rows x 22 columns]\n",
            "      Apr  Aug  Dec  Feb  Jan  Jul  Jun  ...  Sat  Sun  Thu  Tue  Wed  year  visib\n",
            "1735    0    0    0    0    0    0    0  ...    0    0    0    1    0  2017    8.7\n",
            "1473    0    0    0    1    0    0    0  ...    0    0    0    0    1  2017    9.7\n",
            "2152    0    0    1    0    0    0    0  ...    0    0    0    0    0  2018    5.3\n",
            "2174    0    0    0    0    1    0    0  ...    0    1    0    0    0  2019   10.0\n",
            "2372    0    0    0    0    0    1    0  ...    0    0    0    1    0  2019    6.6\n",
            "46      0    0    0    1    0    0    0  ...    0    0    0    0    0  2013    9.8\n",
            "\n",
            "[6 rows x 21 columns]\n"
          ]
        }
      ]
    },
    {
      "cell_type": "code",
      "metadata": {
        "colab": {
          "base_uri": "https://localhost:8080/"
        },
        "id": "a2cqVFQblBZL",
        "outputId": "f4f0c877-ab94-4e22-885f-fe3c94744b90"
      },
      "source": [
        "# Create outcome data - targets\n",
        "targets_visib = shuffle_visib_train.iloc[:,21]\n",
        "\n",
        "# check targets data.\n",
        "print(targets_visib[:6])"
      ],
      "execution_count": 178,
      "outputs": [
        {
          "output_type": "stream",
          "name": "stdout",
          "text": [
            "1735    0.662447\n",
            "1473    0.428270\n",
            "2152    0.858744\n",
            "2174    0.042411\n",
            "2372    0.631696\n",
            "46      0.571101\n",
            "Name: number_of_accidents, dtype: float64\n"
          ]
        }
      ]
    },
    {
      "cell_type": "code",
      "metadata": {
        "id": "HwErs13-lKiD"
      },
      "source": [
        "SCALE_num_accidents = 1.0"
      ],
      "execution_count": 179,
      "outputs": []
    },
    {
      "cell_type": "code",
      "metadata": {
        "id": "8s435RMelOdq"
      },
      "source": [
        "# Split our data into a training set = 80% of the length of the shuffle array\n",
        "trainsize = int(len(shuffle_visib_train['number_of_accidents'])*0.8)\n",
        "# The test set size = 20% of the length of the shuffle array.\n",
        "testsize = len(shuffle_visib_train['number_of_accidents']) - trainsize\n",
        "\n",
        "# Define the number of predictors\n",
        "nppredictors = 21\n",
        "# Define the number of targets\n",
        "noutputs = 1"
      ],
      "execution_count": 180,
      "outputs": []
    },
    {
      "cell_type": "markdown",
      "metadata": {
        "id": "gBSBUCu7I5gE"
      },
      "source": [
        "Create model"
      ]
    },
    {
      "cell_type": "code",
      "metadata": {
        "colab": {
          "base_uri": "https://localhost:8080/"
        },
        "id": "Pj0hJkMulikb",
        "outputId": "8fca9e68-021c-4e96-f51e-1e5d25af5a02"
      },
      "source": [
        "# create model\n",
        "tf.compat.v1.logging.set_verbosity(tf.compat.v1.logging.INFO)\n",
        "\n",
        "# removes previous saved model\n",
        "shutil.rmtree('/tmp/DNN_regression_trained_model_v', ignore_errors=True)\n",
        "\n",
        "estimator_visib = tf.contrib.learn.SKCompat(tf.contrib.learn.DNNRegressor(model_dir='/tmp/DNN_regression_trained_model_v', hidden_units=[20,18,14], optimizer=tf.train.AdamOptimizer(learning_rate=0.01), enable_centered_bias=False, feature_columns=tf.contrib.learn.infer_real_valued_columns_from_input(predictors_visib.values)))\n",
        "\n",
        "# show model is starting to train\n",
        "print(\"starting to train\");\n",
        "\n",
        "# Train the model\n",
        "estimator_visib.fit(predictors_visib[:trainsize].values, targets_visib[:trainsize].values.reshape(trainsize, noutputs)/SCALE_num_accidents, steps=10000)\n",
        "\n",
        "# check predictions\n",
        "preds = estimator_visib.predict(x=predictors_visib[trainsize:].values)\n",
        "\n",
        "# Apply the Scale value\n",
        "predslistscale = preds['scores']*SCALE_num_accidents\n",
        "\n",
        "# Calculate RMSE \n",
        "rmse = np.sqrt(np.mean((targets_visib[trainsize:].values - predslistscale)**2))\n",
        "print('DNNRegression visibility has RMSE of {0}'.format(rmse));\n",
        "\n",
        "# Calculate the mean of the number of accident values.\n",
        "avg = np.mean(shuffle_visib_train['number_of_accidents'][:trainsize])\n",
        "\n",
        "# Calculate the RMSE using number of accident values and the mean of all target values.\n",
        "rmse = np.sqrt(np.mean((shuffle_visib_train['number_of_accidents'][trainsize:] - avg)**2))\n",
        "print('Just using average = {0} has RMSE of {1}'.format(avg, rmse));"
      ],
      "execution_count": 190,
      "outputs": [
        {
          "output_type": "stream",
          "name": "stdout",
          "text": [
            "WARNING:tensorflow:float64 is not supported by many models, consider casting to float32.\n",
            "INFO:tensorflow:Using default config.\n",
            "INFO:tensorflow:Using config: {'_task_type': None, '_task_id': 0, '_cluster_spec': <tensorflow.python.training.server_lib.ClusterSpec object at 0x7f2ed887b890>, '_master': '', '_num_ps_replicas': 0, '_num_worker_replicas': 0, '_environment': 'local', '_is_chief': True, '_evaluation_master': '', '_train_distribute': None, '_eval_distribute': None, '_experimental_max_worker_delay_secs': None, '_device_fn': None, '_tf_config': gpu_options {\n",
            "  per_process_gpu_memory_fraction: 1.0\n",
            "}\n",
            ", '_tf_random_seed': None, '_save_summary_steps': 100, '_save_checkpoints_secs': 600, '_log_step_count_steps': 100, '_protocol': None, '_session_config': None, '_save_checkpoints_steps': None, '_keep_checkpoint_max': 5, '_keep_checkpoint_every_n_hours': 10000, '_model_dir': '/tmp/DNN_regression_trained_model_v', '_session_creation_timeout_secs': 7200}\n",
            "starting to train\n",
            "WARNING:tensorflow:float64 is not supported by many models, consider casting to float32.\n",
            "WARNING:tensorflow:float64 is not supported by many models, consider casting to float32.\n",
            "INFO:tensorflow:Create CheckpointSaverHook.\n",
            "INFO:tensorflow:Graph was finalized.\n",
            "INFO:tensorflow:Running local_init_op.\n",
            "INFO:tensorflow:Done running local_init_op.\n",
            "INFO:tensorflow:Saving checkpoints for 0 into /tmp/DNN_regression_trained_model_v/model.ckpt.\n",
            "INFO:tensorflow:loss = 30298.572, step = 1\n",
            "INFO:tensorflow:global_step/sec: 394.148\n",
            "INFO:tensorflow:loss = 0.114953116, step = 101 (0.259 sec)\n",
            "INFO:tensorflow:global_step/sec: 543.302\n",
            "INFO:tensorflow:loss = 0.14962202, step = 201 (0.181 sec)\n",
            "INFO:tensorflow:global_step/sec: 563.445\n",
            "INFO:tensorflow:loss = 0.13393536, step = 301 (0.181 sec)\n",
            "INFO:tensorflow:global_step/sec: 481.11\n",
            "INFO:tensorflow:loss = 0.13316417, step = 401 (0.208 sec)\n",
            "INFO:tensorflow:global_step/sec: 475.794\n",
            "INFO:tensorflow:loss = 2.791338, step = 501 (0.211 sec)\n",
            "INFO:tensorflow:global_step/sec: 498.467\n",
            "INFO:tensorflow:loss = 4.4282713, step = 601 (0.201 sec)\n",
            "INFO:tensorflow:global_step/sec: 518.512\n",
            "INFO:tensorflow:loss = 0.5208853, step = 701 (0.196 sec)\n",
            "INFO:tensorflow:global_step/sec: 484.846\n",
            "INFO:tensorflow:loss = 0.04299839, step = 801 (0.201 sec)\n",
            "INFO:tensorflow:global_step/sec: 503.306\n",
            "INFO:tensorflow:loss = 0.04878653, step = 901 (0.199 sec)\n",
            "INFO:tensorflow:global_step/sec: 502.063\n",
            "INFO:tensorflow:loss = 0.030059565, step = 1001 (0.197 sec)\n",
            "INFO:tensorflow:global_step/sec: 508.388\n",
            "INFO:tensorflow:loss = 0.043544002, step = 1101 (0.199 sec)\n",
            "INFO:tensorflow:global_step/sec: 460.372\n",
            "INFO:tensorflow:loss = 0.0916842, step = 1201 (0.219 sec)\n",
            "INFO:tensorflow:global_step/sec: 490.961\n",
            "INFO:tensorflow:loss = 0.04748845, step = 1301 (0.203 sec)\n",
            "INFO:tensorflow:global_step/sec: 525.382\n",
            "INFO:tensorflow:loss = 0.4878162, step = 1401 (0.191 sec)\n",
            "INFO:tensorflow:global_step/sec: 505.416\n",
            "INFO:tensorflow:loss = 0.032447636, step = 1501 (0.198 sec)\n",
            "INFO:tensorflow:global_step/sec: 495.463\n",
            "INFO:tensorflow:loss = 0.12841146, step = 1601 (0.201 sec)\n",
            "INFO:tensorflow:global_step/sec: 514.178\n",
            "INFO:tensorflow:loss = 0.033032015, step = 1701 (0.193 sec)\n",
            "INFO:tensorflow:global_step/sec: 537.774\n",
            "INFO:tensorflow:loss = 0.08111974, step = 1801 (0.184 sec)\n",
            "INFO:tensorflow:global_step/sec: 512.071\n",
            "INFO:tensorflow:loss = 0.17295763, step = 1901 (0.201 sec)\n",
            "INFO:tensorflow:global_step/sec: 535.386\n",
            "INFO:tensorflow:loss = 0.27756608, step = 2001 (0.183 sec)\n",
            "INFO:tensorflow:global_step/sec: 523.705\n",
            "INFO:tensorflow:loss = 1.0375926, step = 2101 (0.193 sec)\n",
            "INFO:tensorflow:global_step/sec: 525.21\n",
            "INFO:tensorflow:loss = 1.4201287, step = 2201 (0.189 sec)\n",
            "INFO:tensorflow:global_step/sec: 478.078\n",
            "INFO:tensorflow:loss = 0.2013939, step = 2301 (0.209 sec)\n",
            "INFO:tensorflow:global_step/sec: 488.844\n",
            "INFO:tensorflow:loss = 1.0252283, step = 2401 (0.206 sec)\n",
            "INFO:tensorflow:global_step/sec: 506.607\n",
            "INFO:tensorflow:loss = 9.907614, step = 2501 (0.195 sec)\n",
            "INFO:tensorflow:global_step/sec: 547.704\n",
            "INFO:tensorflow:loss = 0.111551195, step = 2601 (0.180 sec)\n",
            "INFO:tensorflow:global_step/sec: 615.845\n",
            "INFO:tensorflow:loss = 0.1666815, step = 2701 (0.164 sec)\n",
            "INFO:tensorflow:global_step/sec: 552.277\n",
            "INFO:tensorflow:loss = 0.030012626, step = 2801 (0.181 sec)\n",
            "INFO:tensorflow:global_step/sec: 525.862\n",
            "INFO:tensorflow:loss = 0.56249243, step = 2901 (0.192 sec)\n",
            "INFO:tensorflow:global_step/sec: 537.118\n",
            "INFO:tensorflow:loss = 0.06886914, step = 3001 (0.187 sec)\n",
            "INFO:tensorflow:global_step/sec: 537.202\n",
            "INFO:tensorflow:loss = 0.10942245, step = 3101 (0.186 sec)\n",
            "INFO:tensorflow:global_step/sec: 539.426\n",
            "INFO:tensorflow:loss = 0.2797343, step = 3201 (0.189 sec)\n",
            "INFO:tensorflow:global_step/sec: 528.245\n",
            "INFO:tensorflow:loss = 0.046529047, step = 3301 (0.186 sec)\n",
            "INFO:tensorflow:global_step/sec: 535.82\n",
            "INFO:tensorflow:loss = 0.04671123, step = 3401 (0.185 sec)\n",
            "INFO:tensorflow:global_step/sec: 574.088\n",
            "INFO:tensorflow:loss = 0.041875333, step = 3501 (0.174 sec)\n",
            "INFO:tensorflow:global_step/sec: 575.714\n",
            "INFO:tensorflow:loss = 0.0958826, step = 3601 (0.172 sec)\n",
            "INFO:tensorflow:global_step/sec: 565.642\n",
            "INFO:tensorflow:loss = 0.051179286, step = 3701 (0.179 sec)\n",
            "INFO:tensorflow:global_step/sec: 517.93\n",
            "INFO:tensorflow:loss = 0.5577752, step = 3801 (0.193 sec)\n",
            "INFO:tensorflow:global_step/sec: 502.851\n",
            "INFO:tensorflow:loss = 0.4402796, step = 3901 (0.201 sec)\n",
            "INFO:tensorflow:global_step/sec: 460.001\n",
            "INFO:tensorflow:loss = 0.027397797, step = 4001 (0.217 sec)\n",
            "INFO:tensorflow:global_step/sec: 509.106\n",
            "INFO:tensorflow:loss = 0.032516763, step = 4101 (0.197 sec)\n",
            "INFO:tensorflow:global_step/sec: 533.245\n",
            "INFO:tensorflow:loss = 0.061230727, step = 4201 (0.186 sec)\n",
            "INFO:tensorflow:global_step/sec: 489.653\n",
            "INFO:tensorflow:loss = 0.03435563, step = 4301 (0.206 sec)\n",
            "INFO:tensorflow:global_step/sec: 506.049\n",
            "INFO:tensorflow:loss = 0.4335207, step = 4401 (0.196 sec)\n",
            "INFO:tensorflow:global_step/sec: 536.003\n",
            "INFO:tensorflow:loss = 0.18206677, step = 4501 (0.188 sec)\n",
            "INFO:tensorflow:global_step/sec: 523.579\n",
            "INFO:tensorflow:loss = 0.08640619, step = 4601 (0.192 sec)\n",
            "INFO:tensorflow:global_step/sec: 508.627\n",
            "INFO:tensorflow:loss = 0.06367436, step = 4701 (0.196 sec)\n",
            "INFO:tensorflow:global_step/sec: 554.473\n",
            "INFO:tensorflow:loss = 0.042954754, step = 4801 (0.181 sec)\n",
            "INFO:tensorflow:global_step/sec: 541.377\n",
            "INFO:tensorflow:loss = 0.030563992, step = 4901 (0.181 sec)\n",
            "INFO:tensorflow:global_step/sec: 603.843\n",
            "INFO:tensorflow:loss = 0.08240215, step = 5001 (0.165 sec)\n",
            "INFO:tensorflow:global_step/sec: 588.853\n",
            "INFO:tensorflow:loss = 0.033371773, step = 5101 (0.171 sec)\n",
            "INFO:tensorflow:global_step/sec: 535.6\n",
            "INFO:tensorflow:loss = 0.084223695, step = 5201 (0.189 sec)\n",
            "INFO:tensorflow:global_step/sec: 557.286\n",
            "INFO:tensorflow:loss = 0.027486896, step = 5301 (0.179 sec)\n",
            "INFO:tensorflow:global_step/sec: 571.601\n",
            "INFO:tensorflow:loss = 0.027076773, step = 5401 (0.175 sec)\n",
            "INFO:tensorflow:global_step/sec: 563.898\n",
            "INFO:tensorflow:loss = 0.2507277, step = 5501 (0.174 sec)\n",
            "INFO:tensorflow:global_step/sec: 575.424\n",
            "INFO:tensorflow:loss = 0.036847256, step = 5601 (0.174 sec)\n",
            "INFO:tensorflow:global_step/sec: 588.098\n",
            "INFO:tensorflow:loss = 0.029597417, step = 5701 (0.173 sec)\n",
            "INFO:tensorflow:global_step/sec: 556.916\n",
            "INFO:tensorflow:loss = 0.061445154, step = 5801 (0.180 sec)\n",
            "INFO:tensorflow:global_step/sec: 522.461\n",
            "INFO:tensorflow:loss = 0.017432474, step = 5901 (0.191 sec)\n",
            "INFO:tensorflow:global_step/sec: 510.103\n",
            "INFO:tensorflow:loss = 0.095439196, step = 6001 (0.196 sec)\n",
            "INFO:tensorflow:global_step/sec: 552.6\n",
            "INFO:tensorflow:loss = 0.032096393, step = 6101 (0.178 sec)\n",
            "INFO:tensorflow:global_step/sec: 567.367\n",
            "INFO:tensorflow:loss = 0.06477707, step = 6201 (0.179 sec)\n",
            "INFO:tensorflow:global_step/sec: 540.91\n",
            "INFO:tensorflow:loss = 0.024133049, step = 6301 (0.183 sec)\n",
            "INFO:tensorflow:global_step/sec: 480.411\n",
            "INFO:tensorflow:loss = 0.035028934, step = 6401 (0.210 sec)\n",
            "INFO:tensorflow:global_step/sec: 490.931\n",
            "INFO:tensorflow:loss = 0.035470936, step = 6501 (0.203 sec)\n",
            "INFO:tensorflow:global_step/sec: 511.947\n",
            "INFO:tensorflow:loss = 0.031965673, step = 6601 (0.196 sec)\n",
            "INFO:tensorflow:global_step/sec: 526.425\n",
            "INFO:tensorflow:loss = 0.028726755, step = 6701 (0.189 sec)\n",
            "INFO:tensorflow:global_step/sec: 523.247\n",
            "INFO:tensorflow:loss = 0.023837121, step = 6801 (0.191 sec)\n",
            "INFO:tensorflow:global_step/sec: 536.315\n",
            "INFO:tensorflow:loss = 0.03448441, step = 6901 (0.187 sec)\n",
            "INFO:tensorflow:global_step/sec: 528.135\n",
            "INFO:tensorflow:loss = 0.0257004, step = 7001 (0.190 sec)\n",
            "INFO:tensorflow:global_step/sec: 518.853\n",
            "INFO:tensorflow:loss = 0.055943638, step = 7101 (0.190 sec)\n",
            "INFO:tensorflow:global_step/sec: 558.992\n",
            "INFO:tensorflow:loss = 0.029707998, step = 7201 (0.181 sec)\n",
            "INFO:tensorflow:global_step/sec: 569.055\n",
            "INFO:tensorflow:loss = 0.027024418, step = 7301 (0.176 sec)\n",
            "INFO:tensorflow:global_step/sec: 538.507\n",
            "INFO:tensorflow:loss = 0.08984464, step = 7401 (0.187 sec)\n",
            "INFO:tensorflow:global_step/sec: 497.563\n",
            "INFO:tensorflow:loss = 0.029623989, step = 7501 (0.200 sec)\n",
            "INFO:tensorflow:global_step/sec: 500.256\n",
            "INFO:tensorflow:loss = 0.026519027, step = 7601 (0.199 sec)\n",
            "INFO:tensorflow:global_step/sec: 553.079\n",
            "INFO:tensorflow:loss = 0.01987939, step = 7701 (0.181 sec)\n",
            "INFO:tensorflow:global_step/sec: 597.632\n",
            "INFO:tensorflow:loss = 0.023380503, step = 7801 (0.167 sec)\n",
            "INFO:tensorflow:global_step/sec: 552.118\n",
            "INFO:tensorflow:loss = 0.018493474, step = 7901 (0.181 sec)\n",
            "INFO:tensorflow:global_step/sec: 490.454\n",
            "INFO:tensorflow:loss = 0.028605852, step = 8001 (0.204 sec)\n",
            "INFO:tensorflow:global_step/sec: 542.504\n",
            "INFO:tensorflow:loss = 0.025228187, step = 8101 (0.185 sec)\n",
            "INFO:tensorflow:global_step/sec: 575.712\n",
            "INFO:tensorflow:loss = 0.022219948, step = 8201 (0.173 sec)\n",
            "INFO:tensorflow:global_step/sec: 595.119\n",
            "INFO:tensorflow:loss = 0.025403803, step = 8301 (0.168 sec)\n",
            "INFO:tensorflow:global_step/sec: 543.109\n",
            "INFO:tensorflow:loss = 0.046618775, step = 8401 (0.182 sec)\n",
            "INFO:tensorflow:global_step/sec: 518.593\n",
            "INFO:tensorflow:loss = 0.020697838, step = 8501 (0.196 sec)\n",
            "INFO:tensorflow:global_step/sec: 522.238\n",
            "INFO:tensorflow:loss = 0.024868283, step = 8601 (0.191 sec)\n",
            "INFO:tensorflow:global_step/sec: 543.072\n",
            "INFO:tensorflow:loss = 0.032606762, step = 8701 (0.181 sec)\n",
            "INFO:tensorflow:global_step/sec: 586.141\n",
            "INFO:tensorflow:loss = 0.022918407, step = 8801 (0.174 sec)\n",
            "INFO:tensorflow:global_step/sec: 578.893\n",
            "INFO:tensorflow:loss = 0.02201187, step = 8901 (0.170 sec)\n",
            "INFO:tensorflow:global_step/sec: 549.067\n",
            "INFO:tensorflow:loss = 0.10213317, step = 9001 (0.185 sec)\n",
            "INFO:tensorflow:global_step/sec: 529.825\n",
            "INFO:tensorflow:loss = 0.02218537, step = 9101 (0.187 sec)\n",
            "INFO:tensorflow:global_step/sec: 554.768\n",
            "INFO:tensorflow:loss = 0.015825313, step = 9201 (0.183 sec)\n",
            "INFO:tensorflow:global_step/sec: 506.766\n",
            "INFO:tensorflow:loss = 0.027292002, step = 9301 (0.197 sec)\n",
            "INFO:tensorflow:global_step/sec: 594.242\n",
            "INFO:tensorflow:loss = 0.032574177, step = 9401 (0.171 sec)\n",
            "INFO:tensorflow:global_step/sec: 581.706\n",
            "INFO:tensorflow:loss = 0.023438234, step = 9501 (0.169 sec)\n",
            "INFO:tensorflow:global_step/sec: 508.064\n",
            "INFO:tensorflow:loss = 0.027412608, step = 9601 (0.198 sec)\n",
            "INFO:tensorflow:global_step/sec: 521.744\n",
            "INFO:tensorflow:loss = 0.021633847, step = 9701 (0.192 sec)\n",
            "INFO:tensorflow:global_step/sec: 500.875\n",
            "INFO:tensorflow:loss = 0.0220672, step = 9801 (0.203 sec)\n",
            "INFO:tensorflow:global_step/sec: 488.929\n",
            "INFO:tensorflow:loss = 0.02538449, step = 9901 (0.199 sec)\n",
            "INFO:tensorflow:Saving checkpoints for 10000 into /tmp/DNN_regression_trained_model_v/model.ckpt.\n",
            "INFO:tensorflow:Loss for final step: 0.02995088.\n",
            "WARNING:tensorflow:float64 is not supported by many models, consider casting to float32.\n",
            "INFO:tensorflow:Graph was finalized.\n",
            "INFO:tensorflow:Restoring parameters from /tmp/DNN_regression_trained_model_v/model.ckpt-10000\n",
            "INFO:tensorflow:Running local_init_op.\n",
            "INFO:tensorflow:Done running local_init_op.\n",
            "DNNRegression visibility has RMSE of 0.14855703775979193\n",
            "Just using average = 0.5107583735292887 has RMSE of 0.19674260956329978\n"
          ]
        }
      ]
    },
    {
      "cell_type": "markdown",
      "metadata": {
        "id": "OtAsYb38I7sn"
      },
      "source": [
        "The RMSE results are 0.146 and 0.197 which are close so the model will be tested on the validation data."
      ]
    },
    {
      "cell_type": "markdown",
      "metadata": {
        "id": "o1WEvt0Czy1r"
      },
      "source": [
        "Test model on first three rows of validation data."
      ]
    },
    {
      "cell_type": "code",
      "metadata": {
        "colab": {
          "base_uri": "https://localhost:8080/",
          "height": 143
        },
        "id": "cIZvo7I4vl-c",
        "outputId": "61451945-74e5-48ee-b43c-52c89b172a6c"
      },
      "source": [
        "shuffle_visib_test[:3]"
      ],
      "execution_count": 182,
      "outputs": [
        {
          "output_type": "execute_result",
          "data": {
            "text/html": [
              "<div>\n",
              "<style scoped>\n",
              "    .dataframe tbody tr th:only-of-type {\n",
              "        vertical-align: middle;\n",
              "    }\n",
              "\n",
              "    .dataframe tbody tr th {\n",
              "        vertical-align: top;\n",
              "    }\n",
              "\n",
              "    .dataframe thead th {\n",
              "        text-align: right;\n",
              "    }\n",
              "</style>\n",
              "<table border=\"1\" class=\"dataframe\">\n",
              "  <thead>\n",
              "    <tr style=\"text-align: right;\">\n",
              "      <th></th>\n",
              "      <th>Apr</th>\n",
              "      <th>Aug</th>\n",
              "      <th>Dec</th>\n",
              "      <th>Feb</th>\n",
              "      <th>Jan</th>\n",
              "      <th>Jul</th>\n",
              "      <th>Jun</th>\n",
              "      <th>Mar</th>\n",
              "      <th>May</th>\n",
              "      <th>Nov</th>\n",
              "      <th>Oct</th>\n",
              "      <th>Sep</th>\n",
              "      <th>Fri</th>\n",
              "      <th>Mon</th>\n",
              "      <th>Sat</th>\n",
              "      <th>Sun</th>\n",
              "      <th>Thu</th>\n",
              "      <th>Tue</th>\n",
              "      <th>Wed</th>\n",
              "      <th>year</th>\n",
              "      <th>visib</th>\n",
              "      <th>number_of_accidents</th>\n",
              "    </tr>\n",
              "  </thead>\n",
              "  <tbody>\n",
              "    <tr>\n",
              "      <th>234</th>\n",
              "      <td>0</td>\n",
              "      <td>1</td>\n",
              "      <td>0</td>\n",
              "      <td>0</td>\n",
              "      <td>0</td>\n",
              "      <td>0</td>\n",
              "      <td>0</td>\n",
              "      <td>0</td>\n",
              "      <td>0</td>\n",
              "      <td>0</td>\n",
              "      <td>0</td>\n",
              "      <td>0</td>\n",
              "      <td>1</td>\n",
              "      <td>0</td>\n",
              "      <td>0</td>\n",
              "      <td>0</td>\n",
              "      <td>0</td>\n",
              "      <td>0</td>\n",
              "      <td>0</td>\n",
              "      <td>2013</td>\n",
              "      <td>7.8</td>\n",
              "      <td>0.644495</td>\n",
              "    </tr>\n",
              "    <tr>\n",
              "      <th>1542</th>\n",
              "      <td>1</td>\n",
              "      <td>0</td>\n",
              "      <td>0</td>\n",
              "      <td>0</td>\n",
              "      <td>0</td>\n",
              "      <td>0</td>\n",
              "      <td>0</td>\n",
              "      <td>0</td>\n",
              "      <td>0</td>\n",
              "      <td>0</td>\n",
              "      <td>0</td>\n",
              "      <td>0</td>\n",
              "      <td>0</td>\n",
              "      <td>0</td>\n",
              "      <td>0</td>\n",
              "      <td>0</td>\n",
              "      <td>0</td>\n",
              "      <td>1</td>\n",
              "      <td>0</td>\n",
              "      <td>2017</td>\n",
              "      <td>8.8</td>\n",
              "      <td>0.312236</td>\n",
              "    </tr>\n",
              "    <tr>\n",
              "      <th>588</th>\n",
              "      <td>0</td>\n",
              "      <td>1</td>\n",
              "      <td>0</td>\n",
              "      <td>0</td>\n",
              "      <td>0</td>\n",
              "      <td>0</td>\n",
              "      <td>0</td>\n",
              "      <td>0</td>\n",
              "      <td>0</td>\n",
              "      <td>0</td>\n",
              "      <td>0</td>\n",
              "      <td>0</td>\n",
              "      <td>0</td>\n",
              "      <td>1</td>\n",
              "      <td>0</td>\n",
              "      <td>0</td>\n",
              "      <td>0</td>\n",
              "      <td>0</td>\n",
              "      <td>0</td>\n",
              "      <td>2014</td>\n",
              "      <td>9.8</td>\n",
              "      <td>0.543981</td>\n",
              "    </tr>\n",
              "  </tbody>\n",
              "</table>\n",
              "</div>"
            ],
            "text/plain": [
              "      Apr  Aug  Dec  Feb  Jan  ...  Tue  Wed  year  visib  number_of_accidents\n",
              "234     0    1    0    0    0  ...    0    0  2013    7.8             0.644495\n",
              "1542    1    0    0    0    0  ...    1    0  2017    8.8             0.312236\n",
              "588     0    1    0    0    0  ...    0    0  2014    9.8             0.543981\n",
              "\n",
              "[3 rows x 22 columns]"
            ]
          },
          "metadata": {},
          "execution_count": 182
        }
      ]
    },
    {
      "cell_type": "code",
      "metadata": {
        "colab": {
          "base_uri": "https://localhost:8080/"
        },
        "id": "vFV_F_CxpnYs",
        "outputId": "9a42c3db-9223-4982-d425-0d7217ea0e74"
      },
      "source": [
        "# create test using data above\n",
        "input = pd.DataFrame.from_dict(data = \n",
        "\t\t\t\t{\n",
        "         'Apr' : [0,1,0],\n",
        "         'Aug' : [1,0,1],\n",
        "         'Dec' : [0,0,0],\n",
        "         'Feb' : [0,0,0],\n",
        "         'Jan' : [0,0,0],\n",
        "         'Jul' : [0,0,0],\n",
        "         'Jun' : [0,0,0],\n",
        "         'Mar' : [0,0,0],\n",
        "         'May' : [0,0,0],\n",
        "         'Nov' : [0,0,0],\n",
        "         'Oct' : [0,0,0],\n",
        "         'Sep' : [0,0,0],\n",
        "         'Fri' : [1,0,0],\n",
        "         'Mon' : [0,0,1],\n",
        "         'Sat' : [0,0,0],\n",
        "         'Sun' : [0,0,0],\n",
        "         'Thu' : [0,0,0],\n",
        "         'Tue' : [0,1,0],\n",
        "         'Wed' : [0,0,0],\n",
        "         'year' : [2013,2017,2014],\n",
        "         'visib' : [7.8, 8.8, 9.8]\n",
        "        })\n",
        "\n",
        "estimator = tf.contrib.learn.SKCompat(tf.contrib.learn.DNNRegressor(model_dir='/tmp/DNN_regression_trained_model_v', hidden_units=[20,18,14], enable_centered_bias=False, feature_columns=tf.contrib.learn.infer_real_valued_columns_from_input(input.values)))\n",
        "\n",
        "preds = estimator.predict(x=input.values)\n",
        "\n",
        "predslistnorm = preds['scores']\n",
        "prednorm = format(str(predslistnorm))\n",
        "print(prednorm)"
      ],
      "execution_count": 191,
      "outputs": [
        {
          "output_type": "stream",
          "name": "stdout",
          "text": [
            "WARNING:tensorflow:float64 is not supported by many models, consider casting to float32.\n",
            "INFO:tensorflow:Using default config.\n",
            "INFO:tensorflow:Using config: {'_task_type': None, '_task_id': 0, '_cluster_spec': <tensorflow.python.training.server_lib.ClusterSpec object at 0x7f2ed6d1c510>, '_master': '', '_num_ps_replicas': 0, '_num_worker_replicas': 0, '_environment': 'local', '_is_chief': True, '_evaluation_master': '', '_train_distribute': None, '_eval_distribute': None, '_experimental_max_worker_delay_secs': None, '_device_fn': None, '_tf_config': gpu_options {\n",
            "  per_process_gpu_memory_fraction: 1.0\n",
            "}\n",
            ", '_tf_random_seed': None, '_save_summary_steps': 100, '_save_checkpoints_secs': 600, '_log_step_count_steps': 100, '_protocol': None, '_session_config': None, '_save_checkpoints_steps': None, '_keep_checkpoint_max': 5, '_keep_checkpoint_every_n_hours': 10000, '_model_dir': '/tmp/DNN_regression_trained_model_v', '_session_creation_timeout_secs': 7200}\n",
            "WARNING:tensorflow:float64 is not supported by many models, consider casting to float32.\n",
            "INFO:tensorflow:Graph was finalized.\n",
            "INFO:tensorflow:Restoring parameters from /tmp/DNN_regression_trained_model_v/model.ckpt-10000\n",
            "INFO:tensorflow:Running local_init_op.\n",
            "INFO:tensorflow:Done running local_init_op.\n",
            "[0.6030887  0.49991086 0.45769647]\n"
          ]
        }
      ]
    },
    {
      "cell_type": "markdown",
      "metadata": {
        "id": "_W3bcRC9JfEY"
      },
      "source": [
        "The normalised number of accidents for the test data is 0.644, 0.312 and 0.544 and the model predicted 0.661, 0.553 and 0.511 so the first and third sets of values were very accurate though the second one was less so."
      ]
    },
    {
      "cell_type": "markdown",
      "metadata": {
        "id": "LMbaqyTCJ34n"
      },
      "source": [
        "Test model on random data selected from validation data"
      ]
    },
    {
      "cell_type": "code",
      "metadata": {
        "colab": {
          "base_uri": "https://localhost:8080/",
          "height": 143
        },
        "id": "xre5KRp2J7fv",
        "outputId": "da3f4b8c-c8a1-48ab-f678-04ed4cb8eb22"
      },
      "source": [
        "np.random.seed([7])\n",
        "\n",
        "shuffle_visib_test.sample(n = 3)"
      ],
      "execution_count": 184,
      "outputs": [
        {
          "output_type": "execute_result",
          "data": {
            "text/html": [
              "<div>\n",
              "<style scoped>\n",
              "    .dataframe tbody tr th:only-of-type {\n",
              "        vertical-align: middle;\n",
              "    }\n",
              "\n",
              "    .dataframe tbody tr th {\n",
              "        vertical-align: top;\n",
              "    }\n",
              "\n",
              "    .dataframe thead th {\n",
              "        text-align: right;\n",
              "    }\n",
              "</style>\n",
              "<table border=\"1\" class=\"dataframe\">\n",
              "  <thead>\n",
              "    <tr style=\"text-align: right;\">\n",
              "      <th></th>\n",
              "      <th>Apr</th>\n",
              "      <th>Aug</th>\n",
              "      <th>Dec</th>\n",
              "      <th>Feb</th>\n",
              "      <th>Jan</th>\n",
              "      <th>Jul</th>\n",
              "      <th>Jun</th>\n",
              "      <th>Mar</th>\n",
              "      <th>May</th>\n",
              "      <th>Nov</th>\n",
              "      <th>Oct</th>\n",
              "      <th>Sep</th>\n",
              "      <th>Fri</th>\n",
              "      <th>Mon</th>\n",
              "      <th>Sat</th>\n",
              "      <th>Sun</th>\n",
              "      <th>Thu</th>\n",
              "      <th>Tue</th>\n",
              "      <th>Wed</th>\n",
              "      <th>year</th>\n",
              "      <th>visib</th>\n",
              "      <th>number_of_accidents</th>\n",
              "    </tr>\n",
              "  </thead>\n",
              "  <tbody>\n",
              "    <tr>\n",
              "      <th>261</th>\n",
              "      <td>0</td>\n",
              "      <td>0</td>\n",
              "      <td>0</td>\n",
              "      <td>0</td>\n",
              "      <td>0</td>\n",
              "      <td>0</td>\n",
              "      <td>0</td>\n",
              "      <td>0</td>\n",
              "      <td>0</td>\n",
              "      <td>0</td>\n",
              "      <td>0</td>\n",
              "      <td>1</td>\n",
              "      <td>0</td>\n",
              "      <td>0</td>\n",
              "      <td>0</td>\n",
              "      <td>0</td>\n",
              "      <td>1</td>\n",
              "      <td>0</td>\n",
              "      <td>0</td>\n",
              "      <td>2013</td>\n",
              "      <td>10.0</td>\n",
              "      <td>0.415138</td>\n",
              "    </tr>\n",
              "    <tr>\n",
              "      <th>1068</th>\n",
              "      <td>0</td>\n",
              "      <td>0</td>\n",
              "      <td>1</td>\n",
              "      <td>0</td>\n",
              "      <td>0</td>\n",
              "      <td>0</td>\n",
              "      <td>0</td>\n",
              "      <td>0</td>\n",
              "      <td>0</td>\n",
              "      <td>0</td>\n",
              "      <td>0</td>\n",
              "      <td>0</td>\n",
              "      <td>1</td>\n",
              "      <td>0</td>\n",
              "      <td>0</td>\n",
              "      <td>0</td>\n",
              "      <td>0</td>\n",
              "      <td>0</td>\n",
              "      <td>0</td>\n",
              "      <td>2015</td>\n",
              "      <td>2.4</td>\n",
              "      <td>0.866808</td>\n",
              "    </tr>\n",
              "    <tr>\n",
              "      <th>1944</th>\n",
              "      <td>0</td>\n",
              "      <td>0</td>\n",
              "      <td>0</td>\n",
              "      <td>0</td>\n",
              "      <td>0</td>\n",
              "      <td>0</td>\n",
              "      <td>0</td>\n",
              "      <td>0</td>\n",
              "      <td>1</td>\n",
              "      <td>0</td>\n",
              "      <td>0</td>\n",
              "      <td>0</td>\n",
              "      <td>1</td>\n",
              "      <td>0</td>\n",
              "      <td>0</td>\n",
              "      <td>0</td>\n",
              "      <td>0</td>\n",
              "      <td>0</td>\n",
              "      <td>0</td>\n",
              "      <td>2018</td>\n",
              "      <td>8.0</td>\n",
              "      <td>0.896861</td>\n",
              "    </tr>\n",
              "  </tbody>\n",
              "</table>\n",
              "</div>"
            ],
            "text/plain": [
              "      Apr  Aug  Dec  Feb  Jan  ...  Tue  Wed  year  visib  number_of_accidents\n",
              "261     0    0    0    0    0  ...    0    0  2013   10.0             0.415138\n",
              "1068    0    0    1    0    0  ...    0    0  2015    2.4             0.866808\n",
              "1944    0    0    0    0    0  ...    0    0  2018    8.0             0.896861\n",
              "\n",
              "[3 rows x 22 columns]"
            ]
          },
          "metadata": {},
          "execution_count": 184
        }
      ]
    },
    {
      "cell_type": "code",
      "metadata": {
        "colab": {
          "base_uri": "https://localhost:8080/"
        },
        "id": "voTkHeoKKJJk",
        "outputId": "565f8306-b78b-4b9a-dc61-d530abc5dffd"
      },
      "source": [
        "# create test using data above\n",
        "input = pd.DataFrame.from_dict(data = \n",
        "\t\t\t\t{\n",
        "         'Apr' : [0,0,0],\n",
        "         'Aug' : [0,0,0],\n",
        "         'Dec' : [0,1,0],\n",
        "         'Feb' : [0,0,0],\n",
        "         'Jan' : [0,0,0],\n",
        "         'Jul' : [0,0,0],\n",
        "         'Jun' : [0,0,0],\n",
        "         'Mar' : [0,0,0],\n",
        "         'May' : [0,0,1],\n",
        "         'Nov' : [0,0,0],\n",
        "         'Oct' : [0,0,0],\n",
        "         'Sep' : [1,0,0],\n",
        "         'Fri' : [0,1,1],\n",
        "         'Mon' : [0,0,0],\n",
        "         'Sat' : [0,0,0],\n",
        "         'Sun' : [0,0,0],\n",
        "         'Thu' : [1,0,0],\n",
        "         'Tue' : [0,0,0],\n",
        "         'Wed' : [0,0,0],\n",
        "         'year' : [2013,2015,2018],\n",
        "         'visib' : [10, 2.4, 8]\n",
        "        })\n",
        "\n",
        "estimator = tf.contrib.learn.SKCompat(tf.contrib.learn.DNNRegressor(model_dir='/tmp/DNN_regression_trained_model_v', hidden_units=[20,18,14], enable_centered_bias=False, feature_columns=tf.contrib.learn.infer_real_valued_columns_from_input(input.values)))\n",
        "\n",
        "preds = estimator.predict(x=input.values)\n",
        "\n",
        "predslistnorm = preds['scores']\n",
        "prednorm = format(str(predslistnorm))\n",
        "print(prednorm)"
      ],
      "execution_count": 192,
      "outputs": [
        {
          "output_type": "stream",
          "name": "stdout",
          "text": [
            "WARNING:tensorflow:float64 is not supported by many models, consider casting to float32.\n",
            "INFO:tensorflow:Using default config.\n",
            "INFO:tensorflow:Using config: {'_task_type': None, '_task_id': 0, '_cluster_spec': <tensorflow.python.training.server_lib.ClusterSpec object at 0x7f2f3a0d6790>, '_master': '', '_num_ps_replicas': 0, '_num_worker_replicas': 0, '_environment': 'local', '_is_chief': True, '_evaluation_master': '', '_train_distribute': None, '_eval_distribute': None, '_experimental_max_worker_delay_secs': None, '_device_fn': None, '_tf_config': gpu_options {\n",
            "  per_process_gpu_memory_fraction: 1.0\n",
            "}\n",
            ", '_tf_random_seed': None, '_save_summary_steps': 100, '_save_checkpoints_secs': 600, '_log_step_count_steps': 100, '_protocol': None, '_session_config': None, '_save_checkpoints_steps': None, '_keep_checkpoint_max': 5, '_keep_checkpoint_every_n_hours': 10000, '_model_dir': '/tmp/DNN_regression_trained_model_v', '_session_creation_timeout_secs': 7200}\n",
            "WARNING:tensorflow:float64 is not supported by many models, consider casting to float32.\n",
            "INFO:tensorflow:Graph was finalized.\n",
            "INFO:tensorflow:Restoring parameters from /tmp/DNN_regression_trained_model_v/model.ckpt-10000\n",
            "INFO:tensorflow:Running local_init_op.\n",
            "INFO:tensorflow:Done running local_init_op.\n",
            "[0.5644086 0.6296087 0.6761618]\n"
          ]
        }
      ]
    },
    {
      "cell_type": "markdown",
      "metadata": {
        "id": "nnSe1MV3KhVs"
      },
      "source": [
        "The normalised number of accidents for the random test data sample is 0.415, 0.869 and 0.897 and the model predicted 0.616, 0.692 and 0.726 so this is much less accurate than the previous test."
      ]
    },
    {
      "cell_type": "markdown",
      "metadata": {
        "id": "pcvrnQJyLEmZ"
      },
      "source": [
        "## Create and test model for temperature"
      ]
    },
    {
      "cell_type": "code",
      "metadata": {
        "colab": {
          "base_uri": "https://localhost:8080/"
        },
        "id": "EN4vdGIhLGWK",
        "outputId": "3669bdd9-b615-4f07-f94f-8838974bfd75"
      },
      "source": [
        "# shuffle temperature dataset\n",
        "shuffle_temp = df_dnn_temp.iloc[np.random.permutation(len(df_dnn_temp))]\n",
        "\n",
        "#create training and validation data\n",
        "shuffle_temp_train, shuffle_temp_test = train_test_split(shuffle_temp, test_size=0.1)\n",
        "\n",
        "#check training set\n",
        "print(shuffle_temp_train[:5])\n",
        "\n",
        "# choose predictors\n",
        "predictors_temp = shuffle_temp_train.iloc[:,0:21]\n",
        "\n",
        "# check predictors.\n",
        "print(predictors_temp[:6])"
      ],
      "execution_count": 186,
      "outputs": [
        {
          "output_type": "stream",
          "name": "stdout",
          "text": [
            "      Apr  Aug  Dec  Feb  Jan  ...  Tue  Wed  year  temp  number_of_accidents\n",
            "1369    0    0    0    0    0  ...    1    0  2016  63.8             0.482833\n",
            "824     1    0    0    0    0  ...    0    0  2015  47.5             0.680761\n",
            "322     0    0    0    0    0  ...    1    0  2013  47.0             0.561927\n",
            "1780    0    0    1    0    0  ...    0    0  2017  41.0             0.656118\n",
            "659     0    0    0    0    0  ...    1    0  2014  54.3             0.488426\n",
            "\n",
            "[5 rows x 22 columns]\n",
            "      Apr  Aug  Dec  Feb  Jan  Jul  Jun  ...  Sat  Sun  Thu  Tue  Wed  year  temp\n",
            "1369    0    0    0    0    0    0    0  ...    0    0    0    1    0  2016  63.8\n",
            "824     1    0    0    0    0    0    0  ...    0    0    0    0    0  2015  47.5\n",
            "322     0    0    0    0    0    0    0  ...    0    0    0    1    0  2013  47.0\n",
            "1780    0    0    1    0    0    0    0  ...    0    0    0    0    0  2017  41.0\n",
            "659     0    0    0    0    0    0    0  ...    0    0    0    1    0  2014  54.3\n",
            "1051    0    0    1    0    0    0    0  ...    0    0    0    1    0  2015  40.1\n",
            "\n",
            "[6 rows x 21 columns]\n"
          ]
        }
      ]
    },
    {
      "cell_type": "code",
      "metadata": {
        "colab": {
          "base_uri": "https://localhost:8080/"
        },
        "id": "YYU0PpI8LaoG",
        "outputId": "eaa2c8d8-4dca-42ab-8064-3c80c946c901"
      },
      "source": [
        "# Create outcome data - targets\n",
        "targets_temp = shuffle_temp_train.iloc[:,21]\n",
        "\n",
        "# check targets data.\n",
        "print(targets_temp[:6])"
      ],
      "execution_count": 187,
      "outputs": [
        {
          "output_type": "stream",
          "name": "stdout",
          "text": [
            "1369    0.482833\n",
            "824     0.680761\n",
            "322     0.561927\n",
            "1780    0.656118\n",
            "659     0.488426\n",
            "1051    0.822410\n",
            "Name: number_of_accidents, dtype: float64\n"
          ]
        }
      ]
    },
    {
      "cell_type": "code",
      "metadata": {
        "id": "T7k9W3r3LlLS"
      },
      "source": [
        "SCALE_num_accidents = 1.0"
      ],
      "execution_count": 188,
      "outputs": []
    },
    {
      "cell_type": "code",
      "metadata": {
        "id": "M9Z-1eNuLqa5"
      },
      "source": [
        "# Split our data into a training set = 80% of the length of the shuffle array\n",
        "trainsize = int(len(shuffle_temp_train['number_of_accidents'])*0.8)\n",
        "# The test set size = 20% of the length of the shuffle array.\n",
        "testsize = len(shuffle_temp_train['number_of_accidents']) - trainsize\n",
        "\n",
        "# Define the number of predictors\n",
        "nppredictors = 21\n",
        "# Define the number of targets\n",
        "noutputs = 1"
      ],
      "execution_count": 189,
      "outputs": []
    },
    {
      "cell_type": "markdown",
      "metadata": {
        "id": "ShSwNtL3LxsM"
      },
      "source": [
        "Create model"
      ]
    },
    {
      "cell_type": "code",
      "metadata": {
        "colab": {
          "base_uri": "https://localhost:8080/"
        },
        "id": "DFpbgRAfLx0R",
        "outputId": "9384ac59-eb76-444f-a3d8-030157743769"
      },
      "source": [
        "# create model\n",
        "tf.compat.v1.logging.set_verbosity(tf.compat.v1.logging.INFO)\n",
        "\n",
        "# removes previous saved model\n",
        "shutil.rmtree('/tmp/DNN_regression_trained_model_t', ignore_errors=True)\n",
        "\n",
        "estimator_temp = tf.contrib.learn.SKCompat(tf.contrib.learn.DNNRegressor(model_dir='/tmp/DNN_regression_trained_model_t', hidden_units=[20,18,14], optimizer=tf.train.AdamOptimizer(learning_rate=0.01), enable_centered_bias=False, feature_columns=tf.contrib.learn.infer_real_valued_columns_from_input(predictors_temp.values)))\n",
        "\n",
        "# show model is starting to train\n",
        "print(\"starting to train\");\n",
        "\n",
        "# Train the model\n",
        "estimator_temp.fit(predictors_temp[:trainsize].values, targets_temp[:trainsize].values.reshape(trainsize, noutputs)/SCALE_num_accidents, steps=10000)\n",
        "\n",
        "# check predictions\n",
        "preds = estimator_temp.predict(x=predictors_visib[trainsize:].values)\n",
        "\n",
        "# Apply the Scale value\n",
        "predslistscale = preds['scores']*SCALE_num_accidents\n",
        "\n",
        "# Calculate RMSE \n",
        "rmse = np.sqrt(np.mean((targets_temp[trainsize:].values - predslistscale)**2))\n",
        "print('DNNRegression temperature has RMSE of {0}'.format(rmse));\n",
        "\n",
        "# Calculate the mean of the number of accident values.\n",
        "avg = np.mean(shuffle_temp_train['number_of_accidents'][:trainsize])\n",
        "\n",
        "# Calculate the RMSE using number of accident values and the mean of all target values.\n",
        "rmse = np.sqrt(np.mean((shuffle_temp_train['number_of_accidents'][trainsize:] - avg)**2))\n",
        "print('Just using average = {0} has RMSE of {1}'.format(avg, rmse));"
      ],
      "execution_count": 193,
      "outputs": [
        {
          "output_type": "stream",
          "name": "stdout",
          "text": [
            "WARNING:tensorflow:float64 is not supported by many models, consider casting to float32.\n",
            "INFO:tensorflow:Using default config.\n",
            "INFO:tensorflow:Using config: {'_task_type': None, '_task_id': 0, '_cluster_spec': <tensorflow.python.training.server_lib.ClusterSpec object at 0x7f2f3a610b50>, '_master': '', '_num_ps_replicas': 0, '_num_worker_replicas': 0, '_environment': 'local', '_is_chief': True, '_evaluation_master': '', '_train_distribute': None, '_eval_distribute': None, '_experimental_max_worker_delay_secs': None, '_device_fn': None, '_tf_config': gpu_options {\n",
            "  per_process_gpu_memory_fraction: 1.0\n",
            "}\n",
            ", '_tf_random_seed': None, '_save_summary_steps': 100, '_save_checkpoints_secs': 600, '_log_step_count_steps': 100, '_protocol': None, '_session_config': None, '_save_checkpoints_steps': None, '_keep_checkpoint_max': 5, '_keep_checkpoint_every_n_hours': 10000, '_model_dir': '/tmp/DNN_regression_trained_model_t', '_session_creation_timeout_secs': 7200}\n",
            "starting to train\n",
            "WARNING:tensorflow:float64 is not supported by many models, consider casting to float32.\n",
            "WARNING:tensorflow:float64 is not supported by many models, consider casting to float32.\n",
            "INFO:tensorflow:Create CheckpointSaverHook.\n",
            "INFO:tensorflow:Graph was finalized.\n",
            "INFO:tensorflow:Running local_init_op.\n",
            "INFO:tensorflow:Done running local_init_op.\n",
            "INFO:tensorflow:Saving checkpoints for 0 into /tmp/DNN_regression_trained_model_t/model.ckpt.\n",
            "INFO:tensorflow:loss = 9273.452, step = 1\n",
            "INFO:tensorflow:global_step/sec: 423.321\n",
            "INFO:tensorflow:loss = 0.07509466, step = 101 (0.238 sec)\n",
            "INFO:tensorflow:global_step/sec: 529.415\n",
            "INFO:tensorflow:loss = 0.080378436, step = 201 (0.192 sec)\n",
            "INFO:tensorflow:global_step/sec: 572.374\n",
            "INFO:tensorflow:loss = 0.05670629, step = 301 (0.175 sec)\n",
            "INFO:tensorflow:global_step/sec: 532.712\n",
            "INFO:tensorflow:loss = 0.04780343, step = 401 (0.187 sec)\n",
            "INFO:tensorflow:global_step/sec: 583.563\n",
            "INFO:tensorflow:loss = 0.04090325, step = 501 (0.169 sec)\n",
            "INFO:tensorflow:global_step/sec: 579.87\n",
            "INFO:tensorflow:loss = 0.06275749, step = 601 (0.175 sec)\n",
            "INFO:tensorflow:global_step/sec: 550.307\n",
            "INFO:tensorflow:loss = 0.03548508, step = 701 (0.183 sec)\n",
            "INFO:tensorflow:global_step/sec: 616.534\n",
            "INFO:tensorflow:loss = 0.044243276, step = 801 (0.161 sec)\n",
            "INFO:tensorflow:global_step/sec: 580.49\n",
            "INFO:tensorflow:loss = 0.046638824, step = 901 (0.173 sec)\n",
            "INFO:tensorflow:global_step/sec: 544.907\n",
            "INFO:tensorflow:loss = 0.08616604, step = 1001 (0.183 sec)\n",
            "INFO:tensorflow:global_step/sec: 499.59\n",
            "INFO:tensorflow:loss = 0.045000885, step = 1101 (0.200 sec)\n",
            "INFO:tensorflow:global_step/sec: 582.316\n",
            "INFO:tensorflow:loss = 0.045134917, step = 1201 (0.172 sec)\n",
            "INFO:tensorflow:global_step/sec: 558.425\n",
            "INFO:tensorflow:loss = 0.07065607, step = 1301 (0.179 sec)\n",
            "INFO:tensorflow:global_step/sec: 588.175\n",
            "INFO:tensorflow:loss = 0.110776186, step = 1401 (0.170 sec)\n",
            "INFO:tensorflow:global_step/sec: 585.609\n",
            "INFO:tensorflow:loss = 0.10623108, step = 1501 (0.170 sec)\n",
            "INFO:tensorflow:global_step/sec: 576.314\n",
            "INFO:tensorflow:loss = 0.041739475, step = 1601 (0.175 sec)\n",
            "INFO:tensorflow:global_step/sec: 589.931\n",
            "INFO:tensorflow:loss = 0.08773513, step = 1701 (0.171 sec)\n",
            "INFO:tensorflow:global_step/sec: 585.505\n",
            "INFO:tensorflow:loss = 0.028485207, step = 1801 (0.169 sec)\n",
            "INFO:tensorflow:global_step/sec: 615.592\n",
            "INFO:tensorflow:loss = 0.051876023, step = 1901 (0.163 sec)\n",
            "INFO:tensorflow:global_step/sec: 614.764\n",
            "INFO:tensorflow:loss = 0.02904586, step = 2001 (0.163 sec)\n",
            "INFO:tensorflow:global_step/sec: 602.722\n",
            "INFO:tensorflow:loss = 0.03645796, step = 2101 (0.166 sec)\n",
            "INFO:tensorflow:global_step/sec: 566.492\n",
            "INFO:tensorflow:loss = 0.025085643, step = 2201 (0.176 sec)\n",
            "INFO:tensorflow:global_step/sec: 587.22\n",
            "INFO:tensorflow:loss = 0.02464221, step = 2301 (0.168 sec)\n",
            "INFO:tensorflow:global_step/sec: 594.333\n",
            "INFO:tensorflow:loss = 0.055183426, step = 2401 (0.171 sec)\n",
            "INFO:tensorflow:global_step/sec: 569.644\n",
            "INFO:tensorflow:loss = 0.03837353, step = 2501 (0.174 sec)\n",
            "INFO:tensorflow:global_step/sec: 573.698\n",
            "INFO:tensorflow:loss = 0.045204796, step = 2601 (0.177 sec)\n",
            "INFO:tensorflow:global_step/sec: 509.982\n",
            "INFO:tensorflow:loss = 0.043010306, step = 2701 (0.194 sec)\n",
            "INFO:tensorflow:global_step/sec: 486.306\n",
            "INFO:tensorflow:loss = 0.031801894, step = 2801 (0.205 sec)\n",
            "INFO:tensorflow:global_step/sec: 512.45\n",
            "INFO:tensorflow:loss = 0.022670371, step = 2901 (0.198 sec)\n",
            "INFO:tensorflow:global_step/sec: 586.8\n",
            "INFO:tensorflow:loss = 0.02317315, step = 3001 (0.168 sec)\n",
            "INFO:tensorflow:global_step/sec: 554.246\n",
            "INFO:tensorflow:loss = 0.0634145, step = 3101 (0.183 sec)\n",
            "INFO:tensorflow:global_step/sec: 576.735\n",
            "INFO:tensorflow:loss = 0.041955292, step = 3201 (0.174 sec)\n",
            "INFO:tensorflow:global_step/sec: 525.942\n",
            "INFO:tensorflow:loss = 0.028211337, step = 3301 (0.189 sec)\n",
            "INFO:tensorflow:global_step/sec: 533.135\n",
            "INFO:tensorflow:loss = 0.023895547, step = 3401 (0.189 sec)\n",
            "INFO:tensorflow:global_step/sec: 557.704\n",
            "INFO:tensorflow:loss = 0.048705116, step = 3501 (0.180 sec)\n",
            "INFO:tensorflow:global_step/sec: 597.472\n",
            "INFO:tensorflow:loss = 0.026752615, step = 3601 (0.167 sec)\n",
            "INFO:tensorflow:global_step/sec: 575.091\n",
            "INFO:tensorflow:loss = 0.02338498, step = 3701 (0.175 sec)\n",
            "INFO:tensorflow:global_step/sec: 544.731\n",
            "INFO:tensorflow:loss = 0.04146362, step = 3801 (0.184 sec)\n",
            "INFO:tensorflow:global_step/sec: 540.184\n",
            "INFO:tensorflow:loss = 0.04465044, step = 3901 (0.181 sec)\n",
            "INFO:tensorflow:global_step/sec: 594.361\n",
            "INFO:tensorflow:loss = 0.04702353, step = 4001 (0.170 sec)\n",
            "INFO:tensorflow:global_step/sec: 563.585\n",
            "INFO:tensorflow:loss = 0.026667695, step = 4101 (0.178 sec)\n",
            "INFO:tensorflow:global_step/sec: 545.439\n",
            "INFO:tensorflow:loss = 0.25439912, step = 4201 (0.183 sec)\n",
            "INFO:tensorflow:global_step/sec: 591.517\n",
            "INFO:tensorflow:loss = 0.055389807, step = 4301 (0.169 sec)\n",
            "INFO:tensorflow:global_step/sec: 578.63\n",
            "INFO:tensorflow:loss = 0.19976118, step = 4401 (0.175 sec)\n",
            "INFO:tensorflow:global_step/sec: 559.324\n",
            "INFO:tensorflow:loss = 1.8694822, step = 4501 (0.177 sec)\n",
            "INFO:tensorflow:global_step/sec: 560.94\n",
            "INFO:tensorflow:loss = 0.046672046, step = 4601 (0.178 sec)\n",
            "INFO:tensorflow:global_step/sec: 584.64\n",
            "INFO:tensorflow:loss = 0.020799786, step = 4701 (0.172 sec)\n",
            "INFO:tensorflow:global_step/sec: 582.784\n",
            "INFO:tensorflow:loss = 0.116484195, step = 4801 (0.170 sec)\n",
            "INFO:tensorflow:global_step/sec: 573.392\n",
            "INFO:tensorflow:loss = 0.14687978, step = 4901 (0.174 sec)\n",
            "INFO:tensorflow:global_step/sec: 541.766\n",
            "INFO:tensorflow:loss = 0.03636993, step = 5001 (0.182 sec)\n",
            "INFO:tensorflow:global_step/sec: 593.904\n",
            "INFO:tensorflow:loss = 0.022955649, step = 5101 (0.171 sec)\n",
            "INFO:tensorflow:global_step/sec: 554.208\n",
            "INFO:tensorflow:loss = 0.019976959, step = 5201 (0.177 sec)\n",
            "INFO:tensorflow:global_step/sec: 582.123\n",
            "INFO:tensorflow:loss = 0.027165623, step = 5301 (0.174 sec)\n",
            "INFO:tensorflow:global_step/sec: 635.862\n",
            "INFO:tensorflow:loss = 0.037070297, step = 5401 (0.157 sec)\n",
            "INFO:tensorflow:global_step/sec: 562.35\n",
            "INFO:tensorflow:loss = 0.029042574, step = 5501 (0.178 sec)\n",
            "INFO:tensorflow:global_step/sec: 578.319\n",
            "INFO:tensorflow:loss = 0.036158517, step = 5601 (0.173 sec)\n",
            "INFO:tensorflow:global_step/sec: 553.856\n",
            "INFO:tensorflow:loss = 0.04062032, step = 5701 (0.178 sec)\n",
            "INFO:tensorflow:global_step/sec: 621.41\n",
            "INFO:tensorflow:loss = 0.024996888, step = 5801 (0.163 sec)\n",
            "INFO:tensorflow:global_step/sec: 587.046\n",
            "INFO:tensorflow:loss = 0.27317303, step = 5901 (0.170 sec)\n",
            "INFO:tensorflow:global_step/sec: 570.751\n",
            "INFO:tensorflow:loss = 0.04644559, step = 6001 (0.176 sec)\n",
            "INFO:tensorflow:global_step/sec: 600.739\n",
            "INFO:tensorflow:loss = 0.053053528, step = 6101 (0.164 sec)\n",
            "INFO:tensorflow:global_step/sec: 522.817\n",
            "INFO:tensorflow:loss = 0.024729595, step = 6201 (0.193 sec)\n",
            "INFO:tensorflow:global_step/sec: 580.825\n",
            "INFO:tensorflow:loss = 0.08482055, step = 6301 (0.172 sec)\n",
            "INFO:tensorflow:global_step/sec: 587.792\n",
            "INFO:tensorflow:loss = 0.096316904, step = 6401 (0.170 sec)\n",
            "INFO:tensorflow:global_step/sec: 587.517\n",
            "INFO:tensorflow:loss = 0.036310792, step = 6501 (0.171 sec)\n",
            "INFO:tensorflow:global_step/sec: 574.351\n",
            "INFO:tensorflow:loss = 0.050186176, step = 6601 (0.174 sec)\n",
            "INFO:tensorflow:global_step/sec: 583.919\n",
            "INFO:tensorflow:loss = 0.13393292, step = 6701 (0.173 sec)\n",
            "INFO:tensorflow:global_step/sec: 545.347\n",
            "INFO:tensorflow:loss = 0.030010995, step = 6801 (0.181 sec)\n",
            "INFO:tensorflow:global_step/sec: 576.887\n",
            "INFO:tensorflow:loss = 0.026190978, step = 6901 (0.173 sec)\n",
            "INFO:tensorflow:global_step/sec: 576.057\n",
            "INFO:tensorflow:loss = 0.1868572, step = 7001 (0.174 sec)\n",
            "INFO:tensorflow:global_step/sec: 612.199\n",
            "INFO:tensorflow:loss = 0.03372792, step = 7101 (0.160 sec)\n",
            "INFO:tensorflow:global_step/sec: 556.331\n",
            "INFO:tensorflow:loss = 0.02531938, step = 7201 (0.183 sec)\n",
            "INFO:tensorflow:global_step/sec: 540.573\n",
            "INFO:tensorflow:loss = 0.0350997, step = 7301 (0.185 sec)\n",
            "INFO:tensorflow:global_step/sec: 565.256\n",
            "INFO:tensorflow:loss = 0.019148309, step = 7401 (0.176 sec)\n",
            "INFO:tensorflow:global_step/sec: 552.007\n",
            "INFO:tensorflow:loss = 0.25086844, step = 7501 (0.182 sec)\n",
            "INFO:tensorflow:global_step/sec: 602.678\n",
            "INFO:tensorflow:loss = 0.028425248, step = 7601 (0.163 sec)\n",
            "INFO:tensorflow:global_step/sec: 623.559\n",
            "INFO:tensorflow:loss = 5.7551985, step = 7701 (0.163 sec)\n",
            "INFO:tensorflow:global_step/sec: 590.276\n",
            "INFO:tensorflow:loss = 0.03961493, step = 7801 (0.169 sec)\n",
            "INFO:tensorflow:global_step/sec: 549.673\n",
            "INFO:tensorflow:loss = 0.047911666, step = 7901 (0.181 sec)\n",
            "INFO:tensorflow:global_step/sec: 611.483\n",
            "INFO:tensorflow:loss = 0.049579717, step = 8001 (0.165 sec)\n",
            "INFO:tensorflow:global_step/sec: 574.431\n",
            "INFO:tensorflow:loss = 0.04615105, step = 8101 (0.173 sec)\n",
            "INFO:tensorflow:global_step/sec: 572.488\n",
            "INFO:tensorflow:loss = 0.05429395, step = 8201 (0.174 sec)\n",
            "INFO:tensorflow:global_step/sec: 613.38\n",
            "INFO:tensorflow:loss = 0.039723735, step = 8301 (0.164 sec)\n",
            "INFO:tensorflow:global_step/sec: 628.909\n",
            "INFO:tensorflow:loss = 0.040814642, step = 8401 (0.160 sec)\n",
            "INFO:tensorflow:global_step/sec: 521.611\n",
            "INFO:tensorflow:loss = 0.046488084, step = 8501 (0.189 sec)\n",
            "INFO:tensorflow:global_step/sec: 556.411\n",
            "INFO:tensorflow:loss = 0.04680585, step = 8601 (0.180 sec)\n",
            "INFO:tensorflow:global_step/sec: 597.63\n",
            "INFO:tensorflow:loss = 0.04442147, step = 8701 (0.166 sec)\n",
            "INFO:tensorflow:global_step/sec: 549.434\n",
            "INFO:tensorflow:loss = 0.039994694, step = 8801 (0.186 sec)\n",
            "INFO:tensorflow:global_step/sec: 554.389\n",
            "INFO:tensorflow:loss = 0.049488276, step = 8901 (0.178 sec)\n",
            "INFO:tensorflow:global_step/sec: 529.201\n",
            "INFO:tensorflow:loss = 0.034192644, step = 9001 (0.187 sec)\n",
            "INFO:tensorflow:global_step/sec: 530.397\n",
            "INFO:tensorflow:loss = 0.05060043, step = 9101 (0.190 sec)\n",
            "INFO:tensorflow:global_step/sec: 577.511\n",
            "INFO:tensorflow:loss = 0.035711125, step = 9201 (0.174 sec)\n",
            "INFO:tensorflow:global_step/sec: 577.49\n",
            "INFO:tensorflow:loss = 0.036195017, step = 9301 (0.174 sec)\n",
            "INFO:tensorflow:global_step/sec: 581.52\n",
            "INFO:tensorflow:loss = 0.059989683, step = 9401 (0.172 sec)\n",
            "INFO:tensorflow:global_step/sec: 584.396\n",
            "INFO:tensorflow:loss = 0.04050517, step = 9501 (0.170 sec)\n",
            "INFO:tensorflow:global_step/sec: 569.82\n",
            "INFO:tensorflow:loss = 0.04430058, step = 9601 (0.173 sec)\n",
            "INFO:tensorflow:global_step/sec: 584.383\n",
            "INFO:tensorflow:loss = 0.043552727, step = 9701 (0.173 sec)\n",
            "INFO:tensorflow:global_step/sec: 577.711\n",
            "INFO:tensorflow:loss = 0.04680438, step = 9801 (0.173 sec)\n",
            "INFO:tensorflow:global_step/sec: 580.604\n",
            "INFO:tensorflow:loss = 0.040303797, step = 9901 (0.171 sec)\n",
            "INFO:tensorflow:Saving checkpoints for 10000 into /tmp/DNN_regression_trained_model_t/model.ckpt.\n",
            "INFO:tensorflow:Loss for final step: 0.045544405.\n",
            "WARNING:tensorflow:float64 is not supported by many models, consider casting to float32.\n",
            "INFO:tensorflow:Graph was finalized.\n",
            "INFO:tensorflow:Restoring parameters from /tmp/DNN_regression_trained_model_t/model.ckpt-10000\n",
            "INFO:tensorflow:Running local_init_op.\n",
            "INFO:tensorflow:Done running local_init_op.\n",
            "DNNRegression temperature has RMSE of 0.28828263424423645\n",
            "Just using average = 0.5110669486877827 has RMSE of 0.197437710138057\n"
          ]
        }
      ]
    },
    {
      "cell_type": "markdown",
      "metadata": {
        "id": "FJPrl6fEMdgb"
      },
      "source": [
        "The RMSE values are 0.288 and 0.197 which is not hugely accurate but the model will tested with the validation data nonetheless."
      ]
    },
    {
      "cell_type": "markdown",
      "metadata": {
        "id": "m74A_-e_MtLu"
      },
      "source": [
        "Test data with first three rows of validation data."
      ]
    },
    {
      "cell_type": "code",
      "metadata": {
        "colab": {
          "base_uri": "https://localhost:8080/",
          "height": 143
        },
        "id": "z49JdnSHMwym",
        "outputId": "8d1949d5-92ff-4e5d-9a64-d0d36b564610"
      },
      "source": [
        "shuffle_temp_test[:3]"
      ],
      "execution_count": 194,
      "outputs": [
        {
          "output_type": "execute_result",
          "data": {
            "text/html": [
              "<div>\n",
              "<style scoped>\n",
              "    .dataframe tbody tr th:only-of-type {\n",
              "        vertical-align: middle;\n",
              "    }\n",
              "\n",
              "    .dataframe tbody tr th {\n",
              "        vertical-align: top;\n",
              "    }\n",
              "\n",
              "    .dataframe thead th {\n",
              "        text-align: right;\n",
              "    }\n",
              "</style>\n",
              "<table border=\"1\" class=\"dataframe\">\n",
              "  <thead>\n",
              "    <tr style=\"text-align: right;\">\n",
              "      <th></th>\n",
              "      <th>Apr</th>\n",
              "      <th>Aug</th>\n",
              "      <th>Dec</th>\n",
              "      <th>Feb</th>\n",
              "      <th>Jan</th>\n",
              "      <th>Jul</th>\n",
              "      <th>Jun</th>\n",
              "      <th>Mar</th>\n",
              "      <th>May</th>\n",
              "      <th>Nov</th>\n",
              "      <th>Oct</th>\n",
              "      <th>Sep</th>\n",
              "      <th>Fri</th>\n",
              "      <th>Mon</th>\n",
              "      <th>Sat</th>\n",
              "      <th>Sun</th>\n",
              "      <th>Thu</th>\n",
              "      <th>Tue</th>\n",
              "      <th>Wed</th>\n",
              "      <th>year</th>\n",
              "      <th>temp</th>\n",
              "      <th>number_of_accidents</th>\n",
              "    </tr>\n",
              "  </thead>\n",
              "  <tbody>\n",
              "    <tr>\n",
              "      <th>469</th>\n",
              "      <td>1</td>\n",
              "      <td>0</td>\n",
              "      <td>0</td>\n",
              "      <td>0</td>\n",
              "      <td>0</td>\n",
              "      <td>0</td>\n",
              "      <td>0</td>\n",
              "      <td>0</td>\n",
              "      <td>0</td>\n",
              "      <td>0</td>\n",
              "      <td>0</td>\n",
              "      <td>0</td>\n",
              "      <td>0</td>\n",
              "      <td>1</td>\n",
              "      <td>0</td>\n",
              "      <td>0</td>\n",
              "      <td>0</td>\n",
              "      <td>0</td>\n",
              "      <td>0</td>\n",
              "      <td>2014</td>\n",
              "      <td>43.1</td>\n",
              "      <td>0.372685</td>\n",
              "    </tr>\n",
              "    <tr>\n",
              "      <th>225</th>\n",
              "      <td>0</td>\n",
              "      <td>1</td>\n",
              "      <td>0</td>\n",
              "      <td>0</td>\n",
              "      <td>0</td>\n",
              "      <td>0</td>\n",
              "      <td>0</td>\n",
              "      <td>0</td>\n",
              "      <td>0</td>\n",
              "      <td>0</td>\n",
              "      <td>0</td>\n",
              "      <td>0</td>\n",
              "      <td>0</td>\n",
              "      <td>0</td>\n",
              "      <td>0</td>\n",
              "      <td>0</td>\n",
              "      <td>0</td>\n",
              "      <td>0</td>\n",
              "      <td>1</td>\n",
              "      <td>2013</td>\n",
              "      <td>68.4</td>\n",
              "      <td>0.612385</td>\n",
              "    </tr>\n",
              "    <tr>\n",
              "      <th>1757</th>\n",
              "      <td>0</td>\n",
              "      <td>0</td>\n",
              "      <td>0</td>\n",
              "      <td>0</td>\n",
              "      <td>0</td>\n",
              "      <td>0</td>\n",
              "      <td>0</td>\n",
              "      <td>0</td>\n",
              "      <td>0</td>\n",
              "      <td>1</td>\n",
              "      <td>0</td>\n",
              "      <td>0</td>\n",
              "      <td>0</td>\n",
              "      <td>0</td>\n",
              "      <td>0</td>\n",
              "      <td>0</td>\n",
              "      <td>0</td>\n",
              "      <td>0</td>\n",
              "      <td>1</td>\n",
              "      <td>2017</td>\n",
              "      <td>43.9</td>\n",
              "      <td>0.721519</td>\n",
              "    </tr>\n",
              "  </tbody>\n",
              "</table>\n",
              "</div>"
            ],
            "text/plain": [
              "      Apr  Aug  Dec  Feb  Jan  ...  Tue  Wed  year  temp  number_of_accidents\n",
              "469     1    0    0    0    0  ...    0    0  2014  43.1             0.372685\n",
              "225     0    1    0    0    0  ...    0    1  2013  68.4             0.612385\n",
              "1757    0    0    0    0    0  ...    0    1  2017  43.9             0.721519\n",
              "\n",
              "[3 rows x 22 columns]"
            ]
          },
          "metadata": {},
          "execution_count": 194
        }
      ]
    },
    {
      "cell_type": "code",
      "metadata": {
        "colab": {
          "base_uri": "https://localhost:8080/"
        },
        "id": "xSLWViSfM7A2",
        "outputId": "cb2824c9-269f-4eda-8b5c-91adfa478741"
      },
      "source": [
        "# create test using data above\n",
        "input = pd.DataFrame.from_dict(data = \n",
        "\t\t\t\t{\n",
        "         'Apr' : [1,0,0],\n",
        "         'Aug' : [0,1,0],\n",
        "         'Dec' : [0,0,0],\n",
        "         'Feb' : [0,0,0],\n",
        "         'Jan' : [0,0,0],\n",
        "         'Jul' : [0,0,0],\n",
        "         'Jun' : [0,0,0],\n",
        "         'Mar' : [0,0,0],\n",
        "         'May' : [0,0,0],\n",
        "         'Nov' : [0,0,1],\n",
        "         'Oct' : [0,0,0],\n",
        "         'Sep' : [0,0,0],\n",
        "         'Fri' : [0,0,0],\n",
        "         'Mon' : [1,0,0],\n",
        "         'Sat' : [0,0,0],\n",
        "         'Sun' : [0,0,0],\n",
        "         'Thu' : [0,0,0],\n",
        "         'Tue' : [0,1,0],\n",
        "         'Wed' : [0,0,1],\n",
        "         'year' : [2014,2013,2017],\n",
        "         'temp' : [43.1, 68.4, 43.9]\n",
        "        })\n",
        "\n",
        "estimator = tf.contrib.learn.SKCompat(tf.contrib.learn.DNNRegressor(model_dir='/tmp/DNN_regression_trained_model_t', hidden_units=[20,18,14], enable_centered_bias=False, feature_columns=tf.contrib.learn.infer_real_valued_columns_from_input(input.values)))\n",
        "\n",
        "preds = estimator.predict(x=input.values)\n",
        "\n",
        "predslistnorm = preds['scores']\n",
        "prednorm = format(str(predslistnorm))\n",
        "print(prednorm)"
      ],
      "execution_count": 198,
      "outputs": [
        {
          "output_type": "stream",
          "name": "stdout",
          "text": [
            "WARNING:tensorflow:float64 is not supported by many models, consider casting to float32.\n",
            "INFO:tensorflow:Using default config.\n",
            "INFO:tensorflow:Using config: {'_task_type': None, '_task_id': 0, '_cluster_spec': <tensorflow.python.training.server_lib.ClusterSpec object at 0x7f2edddb2310>, '_master': '', '_num_ps_replicas': 0, '_num_worker_replicas': 0, '_environment': 'local', '_is_chief': True, '_evaluation_master': '', '_train_distribute': None, '_eval_distribute': None, '_experimental_max_worker_delay_secs': None, '_device_fn': None, '_tf_config': gpu_options {\n",
            "  per_process_gpu_memory_fraction: 1.0\n",
            "}\n",
            ", '_tf_random_seed': None, '_save_summary_steps': 100, '_save_checkpoints_secs': 600, '_log_step_count_steps': 100, '_protocol': None, '_session_config': None, '_save_checkpoints_steps': None, '_keep_checkpoint_max': 5, '_keep_checkpoint_every_n_hours': 10000, '_model_dir': '/tmp/DNN_regression_trained_model_t', '_session_creation_timeout_secs': 7200}\n",
            "WARNING:tensorflow:float64 is not supported by many models, consider casting to float32.\n",
            "INFO:tensorflow:Graph was finalized.\n",
            "INFO:tensorflow:Restoring parameters from /tmp/DNN_regression_trained_model_t/model.ckpt-10000\n",
            "INFO:tensorflow:Running local_init_op.\n",
            "INFO:tensorflow:Done running local_init_op.\n",
            "[0.40899962 0.48246878 0.41708797]\n"
          ]
        }
      ]
    },
    {
      "cell_type": "markdown",
      "metadata": {
        "id": "2XY5QM-_Nhel"
      },
      "source": [
        "The number of accidents from the test data are 0.373, 0.612 and 0.722 and the model returned values of 0.597, -0.081 and 0.585 so these are not accurate at all."
      ]
    },
    {
      "cell_type": "markdown",
      "metadata": {
        "id": "THt3o1CmN0by"
      },
      "source": [
        "Test with randomly selected rows from the validation data."
      ]
    },
    {
      "cell_type": "code",
      "metadata": {
        "colab": {
          "base_uri": "https://localhost:8080/",
          "height": 143
        },
        "id": "z_egEgIyM65-",
        "outputId": "f16a4314-9794-4c82-d3b2-2f98228f71ea"
      },
      "source": [
        "np.random.seed([8])\n",
        "\n",
        "shuffle_temp_test.sample(n = 3)"
      ],
      "execution_count": 196,
      "outputs": [
        {
          "output_type": "execute_result",
          "data": {
            "text/html": [
              "<div>\n",
              "<style scoped>\n",
              "    .dataframe tbody tr th:only-of-type {\n",
              "        vertical-align: middle;\n",
              "    }\n",
              "\n",
              "    .dataframe tbody tr th {\n",
              "        vertical-align: top;\n",
              "    }\n",
              "\n",
              "    .dataframe thead th {\n",
              "        text-align: right;\n",
              "    }\n",
              "</style>\n",
              "<table border=\"1\" class=\"dataframe\">\n",
              "  <thead>\n",
              "    <tr style=\"text-align: right;\">\n",
              "      <th></th>\n",
              "      <th>Apr</th>\n",
              "      <th>Aug</th>\n",
              "      <th>Dec</th>\n",
              "      <th>Feb</th>\n",
              "      <th>Jan</th>\n",
              "      <th>Jul</th>\n",
              "      <th>Jun</th>\n",
              "      <th>Mar</th>\n",
              "      <th>May</th>\n",
              "      <th>Nov</th>\n",
              "      <th>Oct</th>\n",
              "      <th>Sep</th>\n",
              "      <th>Fri</th>\n",
              "      <th>Mon</th>\n",
              "      <th>Sat</th>\n",
              "      <th>Sun</th>\n",
              "      <th>Thu</th>\n",
              "      <th>Tue</th>\n",
              "      <th>Wed</th>\n",
              "      <th>year</th>\n",
              "      <th>temp</th>\n",
              "      <th>number_of_accidents</th>\n",
              "    </tr>\n",
              "  </thead>\n",
              "  <tbody>\n",
              "    <tr>\n",
              "      <th>188</th>\n",
              "      <td>0</td>\n",
              "      <td>0</td>\n",
              "      <td>0</td>\n",
              "      <td>0</td>\n",
              "      <td>0</td>\n",
              "      <td>1</td>\n",
              "      <td>0</td>\n",
              "      <td>0</td>\n",
              "      <td>0</td>\n",
              "      <td>0</td>\n",
              "      <td>0</td>\n",
              "      <td>0</td>\n",
              "      <td>0</td>\n",
              "      <td>1</td>\n",
              "      <td>0</td>\n",
              "      <td>0</td>\n",
              "      <td>0</td>\n",
              "      <td>0</td>\n",
              "      <td>0</td>\n",
              "      <td>2013</td>\n",
              "      <td>72.6</td>\n",
              "      <td>0.600917</td>\n",
              "    </tr>\n",
              "    <tr>\n",
              "      <th>2482</th>\n",
              "      <td>0</td>\n",
              "      <td>0</td>\n",
              "      <td>0</td>\n",
              "      <td>0</td>\n",
              "      <td>0</td>\n",
              "      <td>0</td>\n",
              "      <td>0</td>\n",
              "      <td>0</td>\n",
              "      <td>0</td>\n",
              "      <td>1</td>\n",
              "      <td>0</td>\n",
              "      <td>0</td>\n",
              "      <td>0</td>\n",
              "      <td>0</td>\n",
              "      <td>0</td>\n",
              "      <td>1</td>\n",
              "      <td>0</td>\n",
              "      <td>0</td>\n",
              "      <td>0</td>\n",
              "      <td>2019</td>\n",
              "      <td>41.5</td>\n",
              "      <td>0.198661</td>\n",
              "    </tr>\n",
              "    <tr>\n",
              "      <th>1677</th>\n",
              "      <td>0</td>\n",
              "      <td>1</td>\n",
              "      <td>0</td>\n",
              "      <td>0</td>\n",
              "      <td>0</td>\n",
              "      <td>0</td>\n",
              "      <td>0</td>\n",
              "      <td>0</td>\n",
              "      <td>0</td>\n",
              "      <td>0</td>\n",
              "      <td>0</td>\n",
              "      <td>0</td>\n",
              "      <td>0</td>\n",
              "      <td>0</td>\n",
              "      <td>0</td>\n",
              "      <td>1</td>\n",
              "      <td>0</td>\n",
              "      <td>0</td>\n",
              "      <td>0</td>\n",
              "      <td>2017</td>\n",
              "      <td>62.3</td>\n",
              "      <td>0.267932</td>\n",
              "    </tr>\n",
              "  </tbody>\n",
              "</table>\n",
              "</div>"
            ],
            "text/plain": [
              "      Apr  Aug  Dec  Feb  Jan  ...  Tue  Wed  year  temp  number_of_accidents\n",
              "188     0    0    0    0    0  ...    0    0  2013  72.6             0.600917\n",
              "2482    0    0    0    0    0  ...    0    0  2019  41.5             0.198661\n",
              "1677    0    1    0    0    0  ...    0    0  2017  62.3             0.267932\n",
              "\n",
              "[3 rows x 22 columns]"
            ]
          },
          "metadata": {},
          "execution_count": 196
        }
      ]
    },
    {
      "cell_type": "code",
      "metadata": {
        "colab": {
          "base_uri": "https://localhost:8080/"
        },
        "id": "7EjnQjiyN-B8",
        "outputId": "f1ad1e5a-485c-430f-d7a0-64d89ae5859d"
      },
      "source": [
        "# create test using data above\n",
        "input = pd.DataFrame.from_dict(data = \n",
        "\t\t\t\t{\n",
        "         'Apr' : [0,0,0],\n",
        "         'Aug' : [0,0,1],\n",
        "         'Dec' : [0,0,0],\n",
        "         'Feb' : [0,0,0],\n",
        "         'Jan' : [0,0,0],\n",
        "         'Jul' : [1,0,0],\n",
        "         'Jun' : [0,0,0],\n",
        "         'Mar' : [0,0,0],\n",
        "         'May' : [0,0,0],\n",
        "         'Nov' : [0,1,0],\n",
        "         'Oct' : [0,0,0],\n",
        "         'Sep' : [0,0,0],\n",
        "         'Fri' : [0,0,0],\n",
        "         'Mon' : [1,0,0],\n",
        "         'Sat' : [0,0,0],\n",
        "         'Sun' : [0,1,1],\n",
        "         'Thu' : [0,0,0],\n",
        "         'Tue' : [0,0,0],\n",
        "         'Wed' : [0,0,1],\n",
        "         'year' : [2013,2019,2017],\n",
        "         'temp' : [72.6, 41.5, 62.3]\n",
        "        })\n",
        "\n",
        "estimator = tf.contrib.learn.SKCompat(tf.contrib.learn.DNNRegressor(model_dir='/tmp/DNN_regression_trained_model_t', hidden_units=[20,18,14], enable_centered_bias=False, feature_columns=tf.contrib.learn.infer_real_valued_columns_from_input(input.values)))\n",
        "\n",
        "preds = estimator.predict(x=input.values)\n",
        "\n",
        "predslistnorm = preds['scores']\n",
        "prednorm = format(str(predslistnorm))\n",
        "print(prednorm)"
      ],
      "execution_count": 199,
      "outputs": [
        {
          "output_type": "stream",
          "name": "stdout",
          "text": [
            "WARNING:tensorflow:float64 is not supported by many models, consider casting to float32.\n",
            "INFO:tensorflow:Using default config.\n",
            "INFO:tensorflow:Using config: {'_task_type': None, '_task_id': 0, '_cluster_spec': <tensorflow.python.training.server_lib.ClusterSpec object at 0x7f2ed8a6d050>, '_master': '', '_num_ps_replicas': 0, '_num_worker_replicas': 0, '_environment': 'local', '_is_chief': True, '_evaluation_master': '', '_train_distribute': None, '_eval_distribute': None, '_experimental_max_worker_delay_secs': None, '_device_fn': None, '_tf_config': gpu_options {\n",
            "  per_process_gpu_memory_fraction: 1.0\n",
            "}\n",
            ", '_tf_random_seed': None, '_save_summary_steps': 100, '_save_checkpoints_secs': 600, '_log_step_count_steps': 100, '_protocol': None, '_session_config': None, '_save_checkpoints_steps': None, '_keep_checkpoint_max': 5, '_keep_checkpoint_every_n_hours': 10000, '_model_dir': '/tmp/DNN_regression_trained_model_t', '_session_creation_timeout_secs': 7200}\n",
            "WARNING:tensorflow:float64 is not supported by many models, consider casting to float32.\n",
            "INFO:tensorflow:Graph was finalized.\n",
            "INFO:tensorflow:Restoring parameters from /tmp/DNN_regression_trained_model_t/model.ckpt-10000\n",
            "INFO:tensorflow:Running local_init_op.\n",
            "INFO:tensorflow:Done running local_init_op.\n",
            "[0.4927761  0.38560194 0.44717568]\n"
          ]
        }
      ]
    },
    {
      "cell_type": "markdown",
      "metadata": {
        "id": "jPBWsrHoOehz"
      },
      "source": [
        "The number of accidents from the test data are 0.601, 0.199 and 0.268 and the model returned values of 0.493, 0.386 and 0.447 so these are not accurate at all and reflect the result of the previous test."
      ]
    },
    {
      "cell_type": "code",
      "metadata": {
        "id": "eZ9bAmz3Owis"
      },
      "source": [
        ""
      ],
      "execution_count": null,
      "outputs": []
    }
  ]
}