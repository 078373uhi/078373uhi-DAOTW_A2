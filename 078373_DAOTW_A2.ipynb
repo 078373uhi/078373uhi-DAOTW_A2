{
  "nbformat": 4,
  "nbformat_minor": 0,
  "metadata": {
    "colab": {
      "name": "078373_DAOTW_A2.ipynb",
      "provenance": [],
      "collapsed_sections": [],
      "authorship_tag": "ABX9TyNAwZm16lomUqwQNLuF6iDT",
      "include_colab_link": true
    },
    "kernelspec": {
      "name": "python3",
      "display_name": "Python 3"
    },
    "language_info": {
      "name": "python"
    }
  },
  "cells": [
    {
      "cell_type": "markdown",
      "metadata": {
        "id": "view-in-github",
        "colab_type": "text"
      },
      "source": [
        "<a href=\"https://colab.research.google.com/github/078373uhi/078373uhi-DAOTW_A2/blob/main/078373_DAOTW_A2.ipynb\" target=\"_parent\"><img src=\"https://colab.research.google.com/assets/colab-badge.svg\" alt=\"Open In Colab\"/></a>"
      ]
    },
    {
      "cell_type": "markdown",
      "metadata": {
        "id": "MGf9BP2wGWLS"
      },
      "source": [
        "# Data Analytics on the Web - Assignment 2\n",
        "### Michelle Paterson 078373"
      ]
    },
    {
      "cell_type": "markdown",
      "metadata": {
        "id": "5S0L-J9J84QC"
      },
      "source": [
        "# Introduction"
      ]
    },
    {
      "cell_type": "markdown",
      "metadata": {
        "id": "AKX29Ruv-bEA"
      },
      "source": [
        "This report aims to create, test and evaluate a number of Linear Regression and Deep Neural Network models to investigate the relationship between weather variables and traffic collisions in a bid to accurately predict accidents.  This is to allow the better allocation of emergency service staff and resources.  To do so it will use the datasets previously created to train models before testing them to check the accuracy of the predictions made."
      ]
    },
    {
      "cell_type": "markdown",
      "metadata": {
        "id": "eZVkJXa6875H"
      },
      "source": [
        "# Methodology"
      ]
    },
    {
      "cell_type": "markdown",
      "metadata": {
        "id": "2ng573Wi_PH1"
      },
      "source": [
        "First the previously created datasets will be read in.  Those to be used in models will then be split into the main dataset with a portion withheld to be used as a validation dataset to test the completed models.\n",
        "\n",
        "Linear Regression models will test the linear relationship between visibility and number of accidents, temperature and number of accidents, fog and number of accidents, fog/temperature and number of accidents, and fog/temperature/visibility and number of accidents.\n",
        "\n",
        "Deep Neural Network models will investigate the complex relationships between visibility and number of accidents, temperature and number of accidents, fog and number of accidents, temperature/visibility and number of accidents, and fog/visibility and number of accidents.\n",
        "\n"
      ]
    },
    {
      "cell_type": "markdown",
      "metadata": {
        "id": "M9VACv-y8979"
      },
      "source": [
        "# Results"
      ]
    },
    {
      "cell_type": "markdown",
      "metadata": {
        "id": "_yZiLjDcfJ5g"
      },
      "source": [
        "## Load packages required"
      ]
    },
    {
      "cell_type": "code",
      "metadata": {
        "colab": {
          "base_uri": "https://localhost:8080/"
        },
        "id": "mGVnkRk-e6Fn",
        "outputId": "7264aa57-2a03-4ae4-915a-77e4ca00edd7"
      },
      "source": [
        "import pandas as pd\n",
        "import numpy as np\n",
        "import shutil\n",
        "import sklearn\n",
        "from sklearn.model_selection import train_test_split\n",
        "import random\n",
        "\n",
        "%tensorflow_version 1.x\n",
        "import tensorflow as tf\n",
        "\n",
        "print(tf.__version__)\n"
      ],
      "execution_count": 115,
      "outputs": [
        {
          "output_type": "stream",
          "name": "stdout",
          "text": [
            "1.15.2\n"
          ]
        }
      ]
    },
    {
      "cell_type": "markdown",
      "metadata": {
        "id": "bkmBpkUHjdd5"
      },
      "source": [
        "## Linear Regression Models\n"
      ]
    },
    {
      "cell_type": "markdown",
      "metadata": {
        "id": "SklcM5M59N3O"
      },
      "source": [
        "### Create dataframes from data created previously for linear regressions\n"
      ]
    },
    {
      "cell_type": "code",
      "metadata": {
        "id": "-lroJ2ROfO3y"
      },
      "source": [
        "df_dow_numacc = pd.read_csv('https://raw.githubusercontent.com/078373uhi/078373uhi-DAOTW_A2/main/lrdata_dow_numacc.csv', index_col=0, )\n",
        "df_dow_fog_numacc = pd.read_csv('https://raw.githubusercontent.com/078373uhi/078373uhi-DAOTW_A2/main/lrdata_dow_fog_numacc.csv', index_col=0, )\n",
        "df_dow_temp_numacc = pd.read_csv('https://raw.githubusercontent.com/078373uhi/078373uhi-DAOTW_A2/main/lrdata_dow_temp_numacc.csv', index_col=0, )\n",
        "df_dow_visib_numacc = pd.read_csv('https://raw.githubusercontent.com/078373uhi/078373uhi-DAOTW_A2/main/lrdata_dow_visib_numacc.csv', index_col=0, )\n",
        "df_fogvisib_numacc = pd.read_csv('https://raw.githubusercontent.com/078373uhi/078373uhi-DAOTW_A2/main/lrdata_fogvisib_numacc.csv', index_col=0, )\n",
        "df_tempfog_numacc = pd.read_csv('https://raw.githubusercontent.com/078373uhi/078373uhi-DAOTW_A2/main/lrdata_tempfog_numacc.csv', index_col=0, )\n",
        "df_tempvisib_numacc = pd.read_csv('https://raw.githubusercontent.com/078373uhi/078373uhi-DAOTW_A2/main/lrdata_tempvisib_numacc.csv', index_col=0, )\n",
        "df_tempfogvisib_numacc = pd.read_csv('https://raw.githubusercontent.com/078373uhi/078373uhi-DAOTW_A2/main/lrdata_tempfogvisib_numacc.csv', index_col=0, )"
      ],
      "execution_count": 203,
      "outputs": []
    },
    {
      "cell_type": "markdown",
      "metadata": {
        "id": "hqQLnUrexo6u"
      },
      "source": [
        "**Check dataframes**"
      ]
    },
    {
      "cell_type": "code",
      "metadata": {
        "colab": {
          "base_uri": "https://localhost:8080/"
        },
        "id": "-Fu_fZ6SxDSq",
        "outputId": "9c092b18-14c0-460e-989b-eda760815033"
      },
      "source": [
        "print(df_dow_numacc[:10])\n",
        "print(df_dow_fog_numacc[:10])\n",
        "print(df_dow_temp_numacc[:10])\n",
        "print(df_dow_visib_numacc[:10])\n",
        "print(df_fogvisib_numacc[:10])\n",
        "print(df_tempfog_numacc[:10])\n",
        "print(df_tempvisib_numacc[:10])\n",
        "print(df_tempfogvisib_numacc[:10])"
      ],
      "execution_count": 205,
      "outputs": [
        {
          "output_type": "stream",
          "name": "stdout",
          "text": [
            "    dayofweek  num_accidents\n",
            "1           4       0.059633\n",
            "2           5       0.286697\n",
            "3           6       0.444954\n",
            "4           7       0.344037\n",
            "5           1       0.077982\n",
            "6           2       0.087156\n",
            "7           3       0.380734\n",
            "8           4       0.362385\n",
            "9           5       0.302752\n",
            "10          6       0.458716\n",
            "    dayofweek  fog  num_accidents\n",
            "1           4    0       0.059633\n",
            "2           5    0       0.286697\n",
            "3           6    0       0.444954\n",
            "4           7    0       0.344037\n",
            "5           1    0       0.077982\n",
            "6           2    0       0.087156\n",
            "7           3    0       0.380734\n",
            "8           4    0       0.362385\n",
            "9           5    1       0.302752\n",
            "10          6    0       0.458716\n",
            "    dayofweek  temp  num_accidents\n",
            "1           4  38.0       0.059633\n",
            "2           5  27.5       0.286697\n",
            "3           6  21.8       0.444954\n",
            "4           7  32.2       0.344037\n",
            "5           1  37.3       0.077982\n",
            "6           2  35.7       0.087156\n",
            "7           3  35.9       0.380734\n",
            "8           4  39.8       0.362385\n",
            "9           5  39.9       0.302752\n",
            "10          6  43.5       0.458716\n",
            "    dayofweek  visib  num_accidents\n",
            "1           4   10.0       0.059633\n",
            "2           5   10.0       0.286697\n",
            "3           6   10.0       0.444954\n",
            "4           7   10.0       0.344037\n",
            "5           1   10.0       0.077982\n",
            "6           2    9.8       0.087156\n",
            "7           3    8.8       0.380734\n",
            "8           4    9.8       0.362385\n",
            "9           5    6.8       0.302752\n",
            "10          6    9.9       0.458716\n",
            "    dayofweek  fog  visib  num_accidents\n",
            "1           4    0   10.0       0.059633\n",
            "2           5    0   10.0       0.286697\n",
            "3           6    0   10.0       0.444954\n",
            "4           7    0   10.0       0.344037\n",
            "5           1    0   10.0       0.077982\n",
            "6           2    0    9.8       0.087156\n",
            "7           3    0    8.8       0.380734\n",
            "8           4    0    9.8       0.362385\n",
            "9           5    1    6.8       0.302752\n",
            "10          6    0    9.9       0.458716\n",
            "    dayofweek  temp  fog  num_accidents\n",
            "1           4  38.0    0       0.059633\n",
            "2           5  27.5    0       0.286697\n",
            "3           6  21.8    0       0.444954\n",
            "4           7  32.2    0       0.344037\n",
            "5           1  37.3    0       0.077982\n",
            "6           2  35.7    0       0.087156\n",
            "7           3  35.9    0       0.380734\n",
            "8           4  39.8    0       0.362385\n",
            "9           5  39.9    1       0.302752\n",
            "10          6  43.5    0       0.458716\n",
            "    dayofweek  temp  visib  num_accidents\n",
            "1           4  38.0   10.0       0.059633\n",
            "2           5  27.5   10.0       0.286697\n",
            "3           6  21.8   10.0       0.444954\n",
            "4           7  32.2   10.0       0.344037\n",
            "5           1  37.3   10.0       0.077982\n",
            "6           2  35.7    9.8       0.087156\n",
            "7           3  35.9    8.8       0.380734\n",
            "8           4  39.8    9.8       0.362385\n",
            "9           5  39.9    6.8       0.302752\n",
            "10          6  43.5    9.9       0.458716\n",
            "    dayofweek  temp  visib  fog  num_accidents\n",
            "1           4  38.0   10.0    0       0.059633\n",
            "2           5  27.5   10.0    0       0.286697\n",
            "3           6  21.8   10.0    0       0.444954\n",
            "4           7  32.2   10.0    0       0.344037\n",
            "5           1  37.3   10.0    0       0.077982\n",
            "6           2  35.7    9.8    0       0.087156\n",
            "7           3  35.9    8.8    0       0.380734\n",
            "8           4  39.8    9.8    0       0.362385\n",
            "9           5  39.9    6.8    1       0.302752\n",
            "10          6  43.5    9.9    0       0.458716\n"
          ]
        }
      ]
    },
    {
      "cell_type": "markdown",
      "metadata": {
        "id": "wDJUOs0ry5qS"
      },
      "source": [
        "### Create and test model for visibility"
      ]
    },
    {
      "cell_type": "code",
      "metadata": {
        "colab": {
          "base_uri": "https://localhost:8080/"
        },
        "id": "BpVfy7a8GaDg",
        "outputId": "ab8c42d6-f329-4aae-e2c1-2c91b394355f"
      },
      "source": [
        "#shuffle visibility dataset \n",
        "shuffle_visib = df_dow_visib_numacc.iloc[np.random.permutation(len(df_dow_visib_numacc))]\n",
        "\n",
        "#create training and validation data\n",
        "shuffle_visib_train, shuffle_visib_test = train_test_split(shuffle_visib, test_size=0.1)\n",
        "\n",
        "#select variables used for prediction\n",
        "predictors_visib = shuffle_visib_train.iloc[:,0:2]\n",
        "\n",
        "print(predictors_visib[:10])"
      ],
      "execution_count": 118,
      "outputs": [
        {
          "output_type": "stream",
          "name": "stdout",
          "text": [
            "      dayofweek  visib\n",
            "950           1   10.0\n",
            "210           3    6.5\n",
            "2299          6    9.6\n",
            "938           3    9.9\n",
            "789           1   10.0\n",
            "1152          7    9.5\n",
            "1612          5    3.6\n",
            "1693          2    6.3\n",
            "2394          3    9.5\n",
            "1277          6    5.9\n"
          ]
        }
      ]
    },
    {
      "cell_type": "code",
      "metadata": {
        "colab": {
          "base_uri": "https://localhost:8080/",
          "height": 206
        },
        "id": "VMskIDP0HVQc",
        "outputId": "9d7d331d-8f7b-42fb-f243-e56e1672aa60"
      },
      "source": [
        "shuffle_visib_train[:5]"
      ],
      "execution_count": 119,
      "outputs": [
        {
          "output_type": "execute_result",
          "data": {
            "text/html": [
              "<div>\n",
              "<style scoped>\n",
              "    .dataframe tbody tr th:only-of-type {\n",
              "        vertical-align: middle;\n",
              "    }\n",
              "\n",
              "    .dataframe tbody tr th {\n",
              "        vertical-align: top;\n",
              "    }\n",
              "\n",
              "    .dataframe thead th {\n",
              "        text-align: right;\n",
              "    }\n",
              "</style>\n",
              "<table border=\"1\" class=\"dataframe\">\n",
              "  <thead>\n",
              "    <tr style=\"text-align: right;\">\n",
              "      <th></th>\n",
              "      <th>dayofweek</th>\n",
              "      <th>visib</th>\n",
              "      <th>num_accidents</th>\n",
              "    </tr>\n",
              "  </thead>\n",
              "  <tbody>\n",
              "    <tr>\n",
              "      <th>950</th>\n",
              "      <td>1</td>\n",
              "      <td>10.0</td>\n",
              "      <td>0.397463</td>\n",
              "    </tr>\n",
              "    <tr>\n",
              "      <th>210</th>\n",
              "      <td>3</td>\n",
              "      <td>6.5</td>\n",
              "      <td>0.555046</td>\n",
              "    </tr>\n",
              "    <tr>\n",
              "      <th>2299</th>\n",
              "      <td>6</td>\n",
              "      <td>9.6</td>\n",
              "      <td>0.412946</td>\n",
              "    </tr>\n",
              "    <tr>\n",
              "      <th>938</th>\n",
              "      <td>3</td>\n",
              "      <td>9.9</td>\n",
              "      <td>0.568710</td>\n",
              "    </tr>\n",
              "    <tr>\n",
              "      <th>789</th>\n",
              "      <td>1</td>\n",
              "      <td>10.0</td>\n",
              "      <td>0.382664</td>\n",
              "    </tr>\n",
              "  </tbody>\n",
              "</table>\n",
              "</div>"
            ],
            "text/plain": [
              "      dayofweek  visib  num_accidents\n",
              "950           1   10.0       0.397463\n",
              "210           3    6.5       0.555046\n",
              "2299          6    9.6       0.412946\n",
              "938           3    9.9       0.568710\n",
              "789           1   10.0       0.382664"
            ]
          },
          "metadata": {},
          "execution_count": 119
        }
      ]
    },
    {
      "cell_type": "code",
      "metadata": {
        "colab": {
          "base_uri": "https://localhost:8080/"
        },
        "id": "w2MQV_i4HiP4",
        "outputId": "48973279-f8e6-4e7e-d43a-a02bfb8ea13b"
      },
      "source": [
        "#create targets \n",
        "targets_visib = shuffle_visib_train.iloc[:,2]\n",
        "\n",
        "print(targets_visib[:10])"
      ],
      "execution_count": 120,
      "outputs": [
        {
          "output_type": "stream",
          "name": "stdout",
          "text": [
            "950     0.397463\n",
            "210     0.555046\n",
            "2299    0.412946\n",
            "938     0.568710\n",
            "789     0.382664\n",
            "1152    0.238197\n",
            "1612    0.628692\n",
            "1693    0.352321\n",
            "2394    0.636161\n",
            "1277    0.849785\n",
            "Name: num_accidents, dtype: float64\n"
          ]
        }
      ]
    },
    {
      "cell_type": "code",
      "metadata": {
        "id": "0fMU14m0H-QI"
      },
      "source": [
        "SCALE_NUM_ACCIDENTS = 1.0"
      ],
      "execution_count": 121,
      "outputs": []
    },
    {
      "cell_type": "code",
      "metadata": {
        "id": "mxa8rX3XIGIr"
      },
      "source": [
        "# Training set (80% of the length of the shuffle array)\n",
        "trainsize = int(len(shuffle_visib_train['num_accidents'])*0.8)\n",
        "# Test set = 20% of the length of the shuffle array.\n",
        "testsize = len(shuffle_visib_train['num_accidents']) - trainsize\n",
        "\n",
        "# Define the number of input values \n",
        "nppredictors = 2\n",
        "# Define the number of output values\n",
        "noutputs = 1"
      ],
      "execution_count": 122,
      "outputs": []
    },
    {
      "cell_type": "markdown",
      "metadata": {
        "id": "sRJE0lY9nJpc"
      },
      "source": [
        "Create model"
      ]
    },
    {
      "cell_type": "code",
      "metadata": {
        "colab": {
          "base_uri": "https://localhost:8080/"
        },
        "id": "gn53N8BXaahp",
        "outputId": "abc5b471-f298-416f-a6f5-26cf226e81b6"
      },
      "source": [
        "tf.compat.v1.logging.set_verbosity(tf.compat.v1.logging.INFO)\n",
        "\n",
        "shutil.rmtree('/tmp/linear_regression_trained_model_v', ignore_errors=True)\n",
        "\n",
        "estimator_visib = tf.contrib.learn.SKCompat(tf.contrib.learn.LinearRegressor(model_dir='/tmp/linear_regression_trained_model_v', optimizer=tf.train.AdamOptimizer(learning_rate=0.1), enable_centered_bias=False, feature_columns=tf.contrib.learn.infer_real_valued_columns_from_input(predictors_visib.values)))\n",
        "\n",
        "# Starting to train\n",
        "print(\"starting to train\");\n",
        "\n",
        "# Train the model. \n",
        "estimator_visib.fit(predictors_visib[:trainsize].values, targets_visib[:trainsize].values.reshape(trainsize, noutputs)/SCALE_NUM_ACCIDENTS, steps=10000)\n",
        "\n",
        "# Check  predictions \n",
        "preds = estimator_visib.predict(x=predictors_visib[trainsize:].values)\n",
        "\n",
        "predslistscale = preds['scores']*SCALE_NUM_ACCIDENTS\n",
        "\n",
        "# pred = format(str(predslistscale)) # useful for checking outputs and printing.\n",
        "\n",
        "# Calculate RMSE\n",
        "rmse = np.sqrt(np.mean((targets_visib[trainsize:].values - predslistscale)**2))\n",
        "print('LinearRegression Visibility has RMSE of {0}'.format(rmse));\n",
        "\n",
        "# Calculate the mean of the Number of Accidents.\n",
        "avg = np.mean(shuffle_visib_train['num_accidents'][:trainsize])\n",
        "\n",
        "# Calculate the RMSE \n",
        "rmse = np.sqrt(np.mean((shuffle_visib_train['num_accidents'][trainsize:] - avg)**2))\n",
        "print('Just using average = {0} has RMSE of {1}'.format(avg, rmse));"
      ],
      "execution_count": 123,
      "outputs": [
        {
          "output_type": "stream",
          "name": "stdout",
          "text": [
            "WARNING:tensorflow:float64 is not supported by many models, consider casting to float32.\n",
            "INFO:tensorflow:Using default config.\n",
            "INFO:tensorflow:Using config: {'_task_type': None, '_task_id': 0, '_cluster_spec': <tensorflow.python.training.server_lib.ClusterSpec object at 0x7f4f9b333dd0>, '_master': '', '_num_ps_replicas': 0, '_num_worker_replicas': 0, '_environment': 'local', '_is_chief': True, '_evaluation_master': '', '_train_distribute': None, '_eval_distribute': None, '_experimental_max_worker_delay_secs': None, '_device_fn': None, '_tf_config': gpu_options {\n",
            "  per_process_gpu_memory_fraction: 1.0\n",
            "}\n",
            ", '_tf_random_seed': None, '_save_summary_steps': 100, '_save_checkpoints_secs': 600, '_log_step_count_steps': 100, '_protocol': None, '_session_config': None, '_save_checkpoints_steps': None, '_keep_checkpoint_max': 5, '_keep_checkpoint_every_n_hours': 10000, '_model_dir': '/tmp/linear_regression_trained_model_v', '_session_creation_timeout_secs': 7200}\n",
            "starting to train\n",
            "WARNING:tensorflow:float64 is not supported by many models, consider casting to float32.\n",
            "WARNING:tensorflow:float64 is not supported by many models, consider casting to float32.\n",
            "INFO:tensorflow:Create CheckpointSaverHook.\n",
            "INFO:tensorflow:Graph was finalized.\n",
            "INFO:tensorflow:Running local_init_op.\n",
            "INFO:tensorflow:Done running local_init_op.\n",
            "INFO:tensorflow:Saving checkpoints for 0 into /tmp/linear_regression_trained_model_v/model.ckpt.\n",
            "INFO:tensorflow:loss = 0.2899515, step = 1\n",
            "INFO:tensorflow:global_step/sec: 683.472\n",
            "INFO:tensorflow:loss = 0.034438223, step = 101 (0.153 sec)\n",
            "INFO:tensorflow:global_step/sec: 885.825\n",
            "INFO:tensorflow:loss = 0.026906993, step = 201 (0.112 sec)\n",
            "INFO:tensorflow:global_step/sec: 880.04\n",
            "INFO:tensorflow:loss = 0.028300636, step = 301 (0.110 sec)\n",
            "INFO:tensorflow:global_step/sec: 941.975\n",
            "INFO:tensorflow:loss = 0.037909623, step = 401 (0.106 sec)\n",
            "INFO:tensorflow:global_step/sec: 571.152\n",
            "INFO:tensorflow:loss = 0.033037227, step = 501 (0.174 sec)\n",
            "INFO:tensorflow:global_step/sec: 920.73\n",
            "INFO:tensorflow:loss = 0.02552734, step = 601 (0.108 sec)\n",
            "INFO:tensorflow:global_step/sec: 953.437\n",
            "INFO:tensorflow:loss = 0.030461753, step = 701 (0.105 sec)\n",
            "INFO:tensorflow:global_step/sec: 862.293\n",
            "INFO:tensorflow:loss = 0.032579616, step = 801 (0.116 sec)\n",
            "INFO:tensorflow:global_step/sec: 930.007\n",
            "INFO:tensorflow:loss = 0.035352103, step = 901 (0.108 sec)\n",
            "INFO:tensorflow:global_step/sec: 884.05\n",
            "INFO:tensorflow:loss = 0.028486343, step = 1001 (0.113 sec)\n",
            "INFO:tensorflow:global_step/sec: 975.406\n",
            "INFO:tensorflow:loss = 0.026078746, step = 1101 (0.102 sec)\n",
            "INFO:tensorflow:global_step/sec: 896.782\n",
            "INFO:tensorflow:loss = 0.051096812, step = 1201 (0.111 sec)\n",
            "INFO:tensorflow:global_step/sec: 867.971\n",
            "INFO:tensorflow:loss = 0.02296484, step = 1301 (0.116 sec)\n",
            "INFO:tensorflow:global_step/sec: 998.613\n",
            "INFO:tensorflow:loss = 0.030349342, step = 1401 (0.100 sec)\n",
            "INFO:tensorflow:global_step/sec: 938.957\n",
            "INFO:tensorflow:loss = 0.032173578, step = 1501 (0.106 sec)\n",
            "INFO:tensorflow:global_step/sec: 754.808\n",
            "INFO:tensorflow:loss = 0.032664906, step = 1601 (0.133 sec)\n",
            "INFO:tensorflow:global_step/sec: 859.589\n",
            "INFO:tensorflow:loss = 0.03831959, step = 1701 (0.117 sec)\n",
            "INFO:tensorflow:global_step/sec: 844.963\n",
            "INFO:tensorflow:loss = 0.030265078, step = 1801 (0.117 sec)\n",
            "INFO:tensorflow:global_step/sec: 943.223\n",
            "INFO:tensorflow:loss = 0.04031118, step = 1901 (0.107 sec)\n",
            "INFO:tensorflow:global_step/sec: 994.507\n",
            "INFO:tensorflow:loss = 0.035248987, step = 2001 (0.100 sec)\n",
            "INFO:tensorflow:global_step/sec: 940.916\n",
            "INFO:tensorflow:loss = 0.04083576, step = 2101 (0.106 sec)\n",
            "INFO:tensorflow:global_step/sec: 915.281\n",
            "INFO:tensorflow:loss = 0.03846176, step = 2201 (0.112 sec)\n",
            "INFO:tensorflow:global_step/sec: 878.815\n",
            "INFO:tensorflow:loss = 0.033003494, step = 2301 (0.115 sec)\n",
            "INFO:tensorflow:global_step/sec: 873.195\n",
            "INFO:tensorflow:loss = 0.043599308, step = 2401 (0.110 sec)\n",
            "INFO:tensorflow:global_step/sec: 818.34\n",
            "INFO:tensorflow:loss = 0.033501334, step = 2501 (0.123 sec)\n",
            "INFO:tensorflow:global_step/sec: 835.617\n",
            "INFO:tensorflow:loss = 0.02928681, step = 2601 (0.120 sec)\n",
            "INFO:tensorflow:global_step/sec: 871.776\n",
            "INFO:tensorflow:loss = 0.031699724, step = 2701 (0.115 sec)\n",
            "INFO:tensorflow:global_step/sec: 943.906\n",
            "INFO:tensorflow:loss = 0.044242233, step = 2801 (0.105 sec)\n",
            "INFO:tensorflow:global_step/sec: 829.722\n",
            "INFO:tensorflow:loss = 0.037488744, step = 2901 (0.124 sec)\n",
            "INFO:tensorflow:global_step/sec: 913.662\n",
            "INFO:tensorflow:loss = 0.045481786, step = 3001 (0.106 sec)\n",
            "INFO:tensorflow:global_step/sec: 968.44\n",
            "INFO:tensorflow:loss = 0.030658584, step = 3101 (0.103 sec)\n",
            "INFO:tensorflow:global_step/sec: 917.843\n",
            "INFO:tensorflow:loss = 0.031080429, step = 3201 (0.109 sec)\n",
            "INFO:tensorflow:global_step/sec: 928.052\n",
            "INFO:tensorflow:loss = 0.03585809, step = 3301 (0.107 sec)\n",
            "INFO:tensorflow:global_step/sec: 913.822\n",
            "INFO:tensorflow:loss = 0.027711026, step = 3401 (0.110 sec)\n",
            "INFO:tensorflow:global_step/sec: 755.484\n",
            "INFO:tensorflow:loss = 0.032459065, step = 3501 (0.131 sec)\n",
            "INFO:tensorflow:global_step/sec: 943.418\n",
            "INFO:tensorflow:loss = 0.03635683, step = 3601 (0.107 sec)\n",
            "INFO:tensorflow:global_step/sec: 922.494\n",
            "INFO:tensorflow:loss = 0.038233824, step = 3701 (0.107 sec)\n",
            "INFO:tensorflow:global_step/sec: 991.805\n",
            "INFO:tensorflow:loss = 0.03412746, step = 3801 (0.101 sec)\n",
            "INFO:tensorflow:global_step/sec: 937.815\n",
            "INFO:tensorflow:loss = 0.03189765, step = 3901 (0.107 sec)\n",
            "INFO:tensorflow:global_step/sec: 929.626\n",
            "INFO:tensorflow:loss = 0.042796616, step = 4001 (0.108 sec)\n",
            "INFO:tensorflow:global_step/sec: 972.279\n",
            "INFO:tensorflow:loss = 0.027332392, step = 4101 (0.102 sec)\n",
            "INFO:tensorflow:global_step/sec: 917.811\n",
            "INFO:tensorflow:loss = 0.053533774, step = 4201 (0.115 sec)\n",
            "INFO:tensorflow:global_step/sec: 854.392\n",
            "INFO:tensorflow:loss = 0.034684062, step = 4301 (0.111 sec)\n",
            "INFO:tensorflow:global_step/sec: 885.998\n",
            "INFO:tensorflow:loss = 0.027021378, step = 4401 (0.113 sec)\n",
            "INFO:tensorflow:global_step/sec: 793.647\n",
            "INFO:tensorflow:loss = 0.03379242, step = 4501 (0.128 sec)\n",
            "INFO:tensorflow:global_step/sec: 965.466\n",
            "INFO:tensorflow:loss = 0.06228119, step = 4601 (0.102 sec)\n",
            "INFO:tensorflow:global_step/sec: 851.231\n",
            "INFO:tensorflow:loss = 0.035221554, step = 4701 (0.117 sec)\n",
            "INFO:tensorflow:global_step/sec: 961.851\n",
            "INFO:tensorflow:loss = 0.028660143, step = 4801 (0.105 sec)\n",
            "INFO:tensorflow:global_step/sec: 983.475\n",
            "INFO:tensorflow:loss = 0.036907233, step = 4901 (0.101 sec)\n",
            "INFO:tensorflow:global_step/sec: 838.764\n",
            "INFO:tensorflow:loss = 0.033363942, step = 5001 (0.119 sec)\n",
            "INFO:tensorflow:global_step/sec: 911.332\n",
            "INFO:tensorflow:loss = 0.030267619, step = 5101 (0.110 sec)\n",
            "INFO:tensorflow:global_step/sec: 973.375\n",
            "INFO:tensorflow:loss = 0.029569665, step = 5201 (0.103 sec)\n",
            "INFO:tensorflow:global_step/sec: 920.08\n",
            "INFO:tensorflow:loss = 0.027744362, step = 5301 (0.108 sec)\n",
            "INFO:tensorflow:global_step/sec: 921.001\n",
            "INFO:tensorflow:loss = 0.02838431, step = 5401 (0.111 sec)\n",
            "INFO:tensorflow:global_step/sec: 985.86\n",
            "INFO:tensorflow:loss = 0.033216044, step = 5501 (0.102 sec)\n",
            "INFO:tensorflow:global_step/sec: 908.916\n",
            "INFO:tensorflow:loss = 0.043100834, step = 5601 (0.107 sec)\n",
            "INFO:tensorflow:global_step/sec: 904.21\n",
            "INFO:tensorflow:loss = 0.036761947, step = 5701 (0.111 sec)\n",
            "INFO:tensorflow:global_step/sec: 920.068\n",
            "INFO:tensorflow:loss = 0.043968596, step = 5801 (0.109 sec)\n",
            "INFO:tensorflow:global_step/sec: 896.313\n",
            "INFO:tensorflow:loss = 0.030143712, step = 5901 (0.112 sec)\n",
            "INFO:tensorflow:global_step/sec: 918.997\n",
            "INFO:tensorflow:loss = 0.033053637, step = 6001 (0.108 sec)\n",
            "INFO:tensorflow:global_step/sec: 975.883\n",
            "INFO:tensorflow:loss = 0.03333763, step = 6101 (0.102 sec)\n",
            "INFO:tensorflow:global_step/sec: 779.861\n",
            "INFO:tensorflow:loss = 0.03571281, step = 6201 (0.129 sec)\n",
            "INFO:tensorflow:global_step/sec: 868.041\n",
            "INFO:tensorflow:loss = 0.0330621, step = 6301 (0.116 sec)\n",
            "INFO:tensorflow:global_step/sec: 933.561\n",
            "INFO:tensorflow:loss = 0.038436502, step = 6401 (0.106 sec)\n",
            "INFO:tensorflow:global_step/sec: 996.831\n",
            "INFO:tensorflow:loss = 0.031260252, step = 6501 (0.102 sec)\n",
            "INFO:tensorflow:global_step/sec: 859.443\n",
            "INFO:tensorflow:loss = 0.02811965, step = 6601 (0.116 sec)\n",
            "INFO:tensorflow:global_step/sec: 847.493\n",
            "INFO:tensorflow:loss = 0.037030242, step = 6701 (0.120 sec)\n",
            "INFO:tensorflow:global_step/sec: 934.881\n",
            "INFO:tensorflow:loss = 0.036922567, step = 6801 (0.104 sec)\n",
            "INFO:tensorflow:global_step/sec: 821.644\n",
            "INFO:tensorflow:loss = 0.03987904, step = 6901 (0.122 sec)\n",
            "INFO:tensorflow:global_step/sec: 917.297\n",
            "INFO:tensorflow:loss = 0.03534171, step = 7001 (0.108 sec)\n",
            "INFO:tensorflow:global_step/sec: 923.876\n",
            "INFO:tensorflow:loss = 0.037225027, step = 7101 (0.108 sec)\n",
            "INFO:tensorflow:global_step/sec: 829.491\n",
            "INFO:tensorflow:loss = 0.044023976, step = 7201 (0.120 sec)\n",
            "INFO:tensorflow:global_step/sec: 967.667\n",
            "INFO:tensorflow:loss = 0.034888227, step = 7301 (0.104 sec)\n",
            "INFO:tensorflow:global_step/sec: 933.981\n",
            "INFO:tensorflow:loss = 0.038266037, step = 7401 (0.107 sec)\n",
            "INFO:tensorflow:global_step/sec: 958.105\n",
            "INFO:tensorflow:loss = 0.036511593, step = 7501 (0.105 sec)\n",
            "INFO:tensorflow:global_step/sec: 944.725\n",
            "INFO:tensorflow:loss = 0.03220077, step = 7601 (0.104 sec)\n",
            "INFO:tensorflow:global_step/sec: 861.901\n",
            "INFO:tensorflow:loss = 0.031660773, step = 7701 (0.117 sec)\n",
            "INFO:tensorflow:global_step/sec: 786.556\n",
            "INFO:tensorflow:loss = 0.046500713, step = 7801 (0.127 sec)\n",
            "INFO:tensorflow:global_step/sec: 888.985\n",
            "INFO:tensorflow:loss = 0.042861484, step = 7901 (0.116 sec)\n",
            "INFO:tensorflow:global_step/sec: 897.089\n",
            "INFO:tensorflow:loss = 0.03681301, step = 8001 (0.109 sec)\n",
            "INFO:tensorflow:global_step/sec: 871.073\n",
            "INFO:tensorflow:loss = 0.027103893, step = 8101 (0.115 sec)\n",
            "INFO:tensorflow:global_step/sec: 944.195\n",
            "INFO:tensorflow:loss = 0.05683603, step = 8201 (0.106 sec)\n",
            "INFO:tensorflow:global_step/sec: 923.012\n",
            "INFO:tensorflow:loss = 0.033474967, step = 8301 (0.110 sec)\n",
            "INFO:tensorflow:global_step/sec: 900.419\n",
            "INFO:tensorflow:loss = 0.077963114, step = 8401 (0.109 sec)\n",
            "INFO:tensorflow:global_step/sec: 792.001\n",
            "INFO:tensorflow:loss = 0.07916292, step = 8501 (0.127 sec)\n",
            "INFO:tensorflow:global_step/sec: 847.855\n",
            "INFO:tensorflow:loss = 0.026132293, step = 8601 (0.118 sec)\n",
            "INFO:tensorflow:global_step/sec: 953.121\n",
            "INFO:tensorflow:loss = 0.05456715, step = 8701 (0.105 sec)\n",
            "INFO:tensorflow:global_step/sec: 890.639\n",
            "INFO:tensorflow:loss = 0.034386136, step = 8801 (0.113 sec)\n",
            "INFO:tensorflow:global_step/sec: 932.984\n",
            "INFO:tensorflow:loss = 0.033515953, step = 8901 (0.106 sec)\n",
            "INFO:tensorflow:global_step/sec: 888.445\n",
            "INFO:tensorflow:loss = 0.027610665, step = 9001 (0.113 sec)\n",
            "INFO:tensorflow:global_step/sec: 976.051\n",
            "INFO:tensorflow:loss = 0.029634137, step = 9101 (0.103 sec)\n",
            "INFO:tensorflow:global_step/sec: 896.113\n",
            "INFO:tensorflow:loss = 0.03193499, step = 9201 (0.111 sec)\n",
            "INFO:tensorflow:global_step/sec: 950.854\n",
            "INFO:tensorflow:loss = 0.03097352, step = 9301 (0.105 sec)\n",
            "INFO:tensorflow:global_step/sec: 867.466\n",
            "INFO:tensorflow:loss = 0.028029554, step = 9401 (0.115 sec)\n",
            "INFO:tensorflow:global_step/sec: 969.266\n",
            "INFO:tensorflow:loss = 0.031976767, step = 9501 (0.104 sec)\n",
            "INFO:tensorflow:global_step/sec: 878.155\n",
            "INFO:tensorflow:loss = 0.026368454, step = 9601 (0.113 sec)\n",
            "INFO:tensorflow:global_step/sec: 903.001\n",
            "INFO:tensorflow:loss = 0.035520114, step = 9701 (0.111 sec)\n",
            "INFO:tensorflow:global_step/sec: 853.457\n",
            "INFO:tensorflow:loss = 0.031591218, step = 9801 (0.118 sec)\n",
            "INFO:tensorflow:global_step/sec: 875.793\n",
            "INFO:tensorflow:loss = 0.034536377, step = 9901 (0.113 sec)\n",
            "INFO:tensorflow:Saving checkpoints for 10000 into /tmp/linear_regression_trained_model_v/model.ckpt.\n",
            "INFO:tensorflow:Loss for final step: 0.041655574.\n",
            "WARNING:tensorflow:float64 is not supported by many models, consider casting to float32.\n",
            "INFO:tensorflow:Graph was finalized.\n",
            "INFO:tensorflow:Restoring parameters from /tmp/linear_regression_trained_model_v/model.ckpt-10000\n",
            "INFO:tensorflow:Running local_init_op.\n",
            "INFO:tensorflow:Done running local_init_op.\n",
            "LinearRegression Visibility has RMSE of 0.18308591767615162\n",
            "Just using average = 0.5125210744633346 has RMSE of 0.1947207056169854\n"
          ]
        }
      ]
    },
    {
      "cell_type": "markdown",
      "metadata": {
        "id": "S32afc4F63gf"
      },
      "source": [
        "It can be seen that the RMSE values are fairly close here (0.179 and 0.200) which is good so it will be tested with the validation dataset."
      ]
    },
    {
      "cell_type": "markdown",
      "metadata": {
        "id": "XP--WZionL_u"
      },
      "source": [
        "Test model with validation data"
      ]
    },
    {
      "cell_type": "code",
      "metadata": {
        "colab": {
          "base_uri": "https://localhost:8080/",
          "height": 143
        },
        "id": "J9dYROt73OUh",
        "outputId": "3bb91d18-55bc-48e2-ac3a-6a83e90e37cc"
      },
      "source": [
        "shuffle_visib_test[:3]"
      ],
      "execution_count": 124,
      "outputs": [
        {
          "output_type": "execute_result",
          "data": {
            "text/html": [
              "<div>\n",
              "<style scoped>\n",
              "    .dataframe tbody tr th:only-of-type {\n",
              "        vertical-align: middle;\n",
              "    }\n",
              "\n",
              "    .dataframe tbody tr th {\n",
              "        vertical-align: top;\n",
              "    }\n",
              "\n",
              "    .dataframe thead th {\n",
              "        text-align: right;\n",
              "    }\n",
              "</style>\n",
              "<table border=\"1\" class=\"dataframe\">\n",
              "  <thead>\n",
              "    <tr style=\"text-align: right;\">\n",
              "      <th></th>\n",
              "      <th>dayofweek</th>\n",
              "      <th>visib</th>\n",
              "      <th>num_accidents</th>\n",
              "    </tr>\n",
              "  </thead>\n",
              "  <tbody>\n",
              "    <tr>\n",
              "      <th>228</th>\n",
              "      <td>7</td>\n",
              "      <td>10.0</td>\n",
              "      <td>0.740826</td>\n",
              "    </tr>\n",
              "    <tr>\n",
              "      <th>469</th>\n",
              "      <td>3</td>\n",
              "      <td>7.0</td>\n",
              "      <td>0.356481</td>\n",
              "    </tr>\n",
              "    <tr>\n",
              "      <th>1756</th>\n",
              "      <td>2</td>\n",
              "      <td>10.0</td>\n",
              "      <td>0.331224</td>\n",
              "    </tr>\n",
              "  </tbody>\n",
              "</table>\n",
              "</div>"
            ],
            "text/plain": [
              "      dayofweek  visib  num_accidents\n",
              "228           7   10.0       0.740826\n",
              "469           3    7.0       0.356481\n",
              "1756          2   10.0       0.331224"
            ]
          },
          "metadata": {},
          "execution_count": 124
        }
      ]
    },
    {
      "cell_type": "code",
      "metadata": {
        "colab": {
          "base_uri": "https://localhost:8080/"
        },
        "id": "Ey3h9UzyKIp4",
        "outputId": "b65d7da1-8797-4f48-d562-8ccd1474368c"
      },
      "source": [
        "input = pd.DataFrame.from_dict(data = \n",
        "\t\t\t\t{'dayofweek' : [7,3,2],\n",
        "         'visib' : [10.0, 7.8, 9.4]\n",
        "        })\n",
        "\t\t\t\t\t\n",
        "\n",
        "estimator = tf.contrib.learn.SKCompat(tf.contrib.learn.LinearRegressor(model_dir='/tmp/linear_regression_trained_model_v', enable_centered_bias=False, feature_columns=tf.contrib.learn.infer_real_valued_columns_from_input(input.values)))\n",
        "\n",
        "preds = estimator.predict(x=input.values)\n",
        "\n",
        "predslistnorm = preds['scores']\n",
        "predslistscale = preds['scores']*850\n",
        "prednorm = format(str(predslistnorm))\n",
        "pred = format(str(predslistscale))\n",
        "print(prednorm)\n",
        "print(pred)"
      ],
      "execution_count": 125,
      "outputs": [
        {
          "output_type": "stream",
          "name": "stdout",
          "text": [
            "WARNING:tensorflow:float64 is not supported by many models, consider casting to float32.\n",
            "INFO:tensorflow:Using default config.\n",
            "INFO:tensorflow:Using config: {'_task_type': None, '_task_id': 0, '_cluster_spec': <tensorflow.python.training.server_lib.ClusterSpec object at 0x7f4fa079b090>, '_master': '', '_num_ps_replicas': 0, '_num_worker_replicas': 0, '_environment': 'local', '_is_chief': True, '_evaluation_master': '', '_train_distribute': None, '_eval_distribute': None, '_experimental_max_worker_delay_secs': None, '_device_fn': None, '_tf_config': gpu_options {\n",
            "  per_process_gpu_memory_fraction: 1.0\n",
            "}\n",
            ", '_tf_random_seed': None, '_save_summary_steps': 100, '_save_checkpoints_secs': 600, '_log_step_count_steps': 100, '_protocol': None, '_session_config': None, '_save_checkpoints_steps': None, '_keep_checkpoint_max': 5, '_keep_checkpoint_every_n_hours': 10000, '_model_dir': '/tmp/linear_regression_trained_model_v', '_session_creation_timeout_secs': 7200}\n",
            "WARNING:tensorflow:float64 is not supported by many models, consider casting to float32.\n",
            "INFO:tensorflow:Graph was finalized.\n",
            "INFO:tensorflow:Restoring parameters from /tmp/linear_regression_trained_model_v/model.ckpt-10000\n",
            "INFO:tensorflow:Running local_init_op.\n",
            "INFO:tensorflow:Done running local_init_op.\n",
            "[0.5838599  0.41650385 0.35044363]\n",
            "[496.28094 354.02826 297.87708]\n"
          ]
        }
      ]
    },
    {
      "cell_type": "markdown",
      "metadata": {
        "id": "iBbCuUf77Oos"
      },
      "source": [
        "Using the first three rows of the shuffled test dataset it can be seen that the expected accident values are 0.743, 0.565 and 0.462.  The actual values returned from the model are 0.685, 0.485 and 0.425.  The first two rows gave a quite good result but the third one was the most accurate."
      ]
    },
    {
      "cell_type": "markdown",
      "metadata": {
        "id": "GtwNlHIBnQUx"
      },
      "source": [
        "Test model with random validation data"
      ]
    },
    {
      "cell_type": "code",
      "metadata": {
        "colab": {
          "base_uri": "https://localhost:8080/",
          "height": 143
        },
        "id": "Uwz3Zy2p4Gui",
        "outputId": "97904cb1-a112-4894-c803-64014f8816e5"
      },
      "source": [
        "np.random.seed([2])\n",
        "\n",
        "shuffle_visib_test.sample(n = 3)"
      ],
      "execution_count": 126,
      "outputs": [
        {
          "output_type": "execute_result",
          "data": {
            "text/html": [
              "<div>\n",
              "<style scoped>\n",
              "    .dataframe tbody tr th:only-of-type {\n",
              "        vertical-align: middle;\n",
              "    }\n",
              "\n",
              "    .dataframe tbody tr th {\n",
              "        vertical-align: top;\n",
              "    }\n",
              "\n",
              "    .dataframe thead th {\n",
              "        text-align: right;\n",
              "    }\n",
              "</style>\n",
              "<table border=\"1\" class=\"dataframe\">\n",
              "  <thead>\n",
              "    <tr style=\"text-align: right;\">\n",
              "      <th></th>\n",
              "      <th>dayofweek</th>\n",
              "      <th>visib</th>\n",
              "      <th>num_accidents</th>\n",
              "    </tr>\n",
              "  </thead>\n",
              "  <tbody>\n",
              "    <tr>\n",
              "      <th>253</th>\n",
              "      <td>4</td>\n",
              "      <td>10.0</td>\n",
              "      <td>0.628440</td>\n",
              "    </tr>\n",
              "    <tr>\n",
              "      <th>990</th>\n",
              "      <td>6</td>\n",
              "      <td>7.8</td>\n",
              "      <td>0.818182</td>\n",
              "    </tr>\n",
              "    <tr>\n",
              "      <th>2165</th>\n",
              "      <td>5</td>\n",
              "      <td>10.0</td>\n",
              "      <td>0.567265</td>\n",
              "    </tr>\n",
              "  </tbody>\n",
              "</table>\n",
              "</div>"
            ],
            "text/plain": [
              "      dayofweek  visib  num_accidents\n",
              "253           4   10.0       0.628440\n",
              "990           6    7.8       0.818182\n",
              "2165          5   10.0       0.567265"
            ]
          },
          "metadata": {},
          "execution_count": 126
        }
      ]
    },
    {
      "cell_type": "code",
      "metadata": {
        "colab": {
          "base_uri": "https://localhost:8080/"
        },
        "id": "h2x39K_rmu3O",
        "outputId": "746d6e14-56b2-4c05-a9cd-4e72181c8695"
      },
      "source": [
        "input = pd.DataFrame.from_dict(data = \n",
        "\t\t\t\t{'dayofweek' : [3,1,2],\n",
        "         'visib' : [3.6, 10, 9.9]\n",
        "        })\n",
        "\t\t\t\t\t\n",
        "\n",
        "estimator = tf.contrib.learn.SKCompat(tf.contrib.learn.LinearRegressor(model_dir='/tmp/linear_regression_trained_model_v', enable_centered_bias=False, feature_columns=tf.contrib.learn.infer_real_valued_columns_from_input(input.values)))\n",
        "\n",
        "preds = estimator.predict(x=input.values)\n",
        "\n",
        "predslistnorm = preds['scores']\n",
        "predslistscale = preds['scores']*850\n",
        "prednorm = format(str(predslistnorm))\n",
        "pred = format(str(predslistscale))\n",
        "print(prednorm)\n",
        "print(pred)"
      ],
      "execution_count": 127,
      "outputs": [
        {
          "output_type": "stream",
          "name": "stdout",
          "text": [
            "WARNING:tensorflow:float64 is not supported by many models, consider casting to float32.\n",
            "INFO:tensorflow:Using default config.\n",
            "INFO:tensorflow:Using config: {'_task_type': None, '_task_id': 0, '_cluster_spec': <tensorflow.python.training.server_lib.ClusterSpec object at 0x7f4f9a9ca7d0>, '_master': '', '_num_ps_replicas': 0, '_num_worker_replicas': 0, '_environment': 'local', '_is_chief': True, '_evaluation_master': '', '_train_distribute': None, '_eval_distribute': None, '_experimental_max_worker_delay_secs': None, '_device_fn': None, '_tf_config': gpu_options {\n",
            "  per_process_gpu_memory_fraction: 1.0\n",
            "}\n",
            ", '_tf_random_seed': None, '_save_summary_steps': 100, '_save_checkpoints_secs': 600, '_log_step_count_steps': 100, '_protocol': None, '_session_config': None, '_save_checkpoints_steps': None, '_keep_checkpoint_max': 5, '_keep_checkpoint_every_n_hours': 10000, '_model_dir': '/tmp/linear_regression_trained_model_v', '_session_creation_timeout_secs': 7200}\n",
            "WARNING:tensorflow:float64 is not supported by many models, consider casting to float32.\n",
            "INFO:tensorflow:Graph was finalized.\n",
            "INFO:tensorflow:Restoring parameters from /tmp/linear_regression_trained_model_v/model.ckpt-10000\n",
            "INFO:tensorflow:Running local_init_op.\n",
            "INFO:tensorflow:Done running local_init_op.\n",
            "[0.46381974 0.29564905 0.34481078]\n",
            "[394.2468  251.3017  293.08917]\n"
          ]
        }
      ]
    },
    {
      "cell_type": "markdown",
      "metadata": {
        "id": "mCWmp2wN7yuA"
      },
      "source": [
        "Testing the model with a random selection of three rows from the test dataset gives a normalised number of accidents of 0.866, 0.355 and 0.419.  The model returned expected values of 0.503, 0.370 and 0.423.  The first row did not give an accurate result but the second and third rows are much closer."
      ]
    },
    {
      "cell_type": "markdown",
      "metadata": {
        "id": "qlDyZGiucXa8"
      },
      "source": [
        "### Create and test model for temperature"
      ]
    },
    {
      "cell_type": "code",
      "metadata": {
        "colab": {
          "base_uri": "https://localhost:8080/"
        },
        "id": "jzjtpDM6cwQM",
        "outputId": "6a622990-3f98-42f2-ddfe-ac1aeb2191f9"
      },
      "source": [
        "#shuffle temperature dataset \n",
        "shuffle_temp = df_dow_temp_numacc.iloc[np.random.permutation(len(df_dow_temp_numacc))]\n",
        "\n",
        "#create training and validation data\n",
        "shuffle_temp_train, shuffle_temp_test = train_test_split(shuffle_temp, test_size=0.1)\n",
        "\n",
        "#select variables used for prediction\n",
        "predictors_temp = shuffle_temp_train.iloc[:,0:2]\n",
        "\n",
        "print(predictors_temp[:10])"
      ],
      "execution_count": 128,
      "outputs": [
        {
          "output_type": "stream",
          "name": "stdout",
          "text": [
            "      dayofweek  temp\n",
            "1143          5  41.5\n",
            "1960          3  50.5\n",
            "678           2  53.2\n",
            "2180          6  38.6\n",
            "1288          3  63.1\n",
            "86            5  41.7\n",
            "161           3  62.2\n",
            "1428          3  39.5\n",
            "1663          7  75.6\n",
            "928           7  64.9\n"
          ]
        }
      ]
    },
    {
      "cell_type": "code",
      "metadata": {
        "colab": {
          "base_uri": "https://localhost:8080/",
          "height": 206
        },
        "id": "bFBEvUS5lYzB",
        "outputId": "5b64b149-0093-4ca7-cb65-2b5e30847234"
      },
      "source": [
        "shuffle_temp_train[:5]"
      ],
      "execution_count": 129,
      "outputs": [
        {
          "output_type": "execute_result",
          "data": {
            "text/html": [
              "<div>\n",
              "<style scoped>\n",
              "    .dataframe tbody tr th:only-of-type {\n",
              "        vertical-align: middle;\n",
              "    }\n",
              "\n",
              "    .dataframe tbody tr th {\n",
              "        vertical-align: top;\n",
              "    }\n",
              "\n",
              "    .dataframe thead th {\n",
              "        text-align: right;\n",
              "    }\n",
              "</style>\n",
              "<table border=\"1\" class=\"dataframe\">\n",
              "  <thead>\n",
              "    <tr style=\"text-align: right;\">\n",
              "      <th></th>\n",
              "      <th>dayofweek</th>\n",
              "      <th>temp</th>\n",
              "      <th>num_accidents</th>\n",
              "    </tr>\n",
              "  </thead>\n",
              "  <tbody>\n",
              "    <tr>\n",
              "      <th>1143</th>\n",
              "      <td>5</td>\n",
              "      <td>41.5</td>\n",
              "      <td>0.343348</td>\n",
              "    </tr>\n",
              "    <tr>\n",
              "      <th>1960</th>\n",
              "      <td>3</td>\n",
              "      <td>50.5</td>\n",
              "      <td>0.650224</td>\n",
              "    </tr>\n",
              "    <tr>\n",
              "      <th>678</th>\n",
              "      <td>2</td>\n",
              "      <td>53.2</td>\n",
              "      <td>0.136574</td>\n",
              "    </tr>\n",
              "    <tr>\n",
              "      <th>2180</th>\n",
              "      <td>6</td>\n",
              "      <td>38.6</td>\n",
              "      <td>0.912556</td>\n",
              "    </tr>\n",
              "    <tr>\n",
              "      <th>1288</th>\n",
              "      <td>3</td>\n",
              "      <td>63.1</td>\n",
              "      <td>0.542918</td>\n",
              "    </tr>\n",
              "  </tbody>\n",
              "</table>\n",
              "</div>"
            ],
            "text/plain": [
              "      dayofweek  temp  num_accidents\n",
              "1143          5  41.5       0.343348\n",
              "1960          3  50.5       0.650224\n",
              "678           2  53.2       0.136574\n",
              "2180          6  38.6       0.912556\n",
              "1288          3  63.1       0.542918"
            ]
          },
          "metadata": {},
          "execution_count": 129
        }
      ]
    },
    {
      "cell_type": "code",
      "metadata": {
        "colab": {
          "base_uri": "https://localhost:8080/"
        },
        "id": "Guu87d27ldFt",
        "outputId": "f3f7cc5c-6a56-46f0-d61a-7b63b320d616"
      },
      "source": [
        "#create targets \n",
        "targets_temp = shuffle_temp_train.iloc[:,2]\n",
        "\n",
        "print(targets_temp[:10])"
      ],
      "execution_count": 130,
      "outputs": [
        {
          "output_type": "stream",
          "name": "stdout",
          "text": [
            "1143    0.343348\n",
            "1960    0.650224\n",
            "678     0.136574\n",
            "2180    0.912556\n",
            "1288    0.542918\n",
            "86      0.197248\n",
            "161     0.616972\n",
            "1428    0.605150\n",
            "1663    0.763713\n",
            "928     0.638478\n",
            "Name: num_accidents, dtype: float64\n"
          ]
        }
      ]
    },
    {
      "cell_type": "code",
      "metadata": {
        "id": "mVjJ6MgY92nI"
      },
      "source": [
        "SCALE_NUM_ACCIDENTS = 1.0"
      ],
      "execution_count": null,
      "outputs": []
    },
    {
      "cell_type": "code",
      "metadata": {
        "id": "ZGVfaRApllsY"
      },
      "source": [
        "# Training set (80% of the length of the shuffle array)\n",
        "trainsize = int(len(shuffle_temp_train['num_accidents'])*0.8)\n",
        "# Test set = 20% of the length of the shuffle array.\n",
        "testsize = len(shuffle_temp_train['num_accidents']) - trainsize\n",
        "\n",
        "# Define the number of input values \n",
        "nppredictors = 2\n",
        "# Define the number of output values\n",
        "noutputs = 1"
      ],
      "execution_count": 131,
      "outputs": []
    },
    {
      "cell_type": "markdown",
      "metadata": {
        "id": "MjFnrT-snUaG"
      },
      "source": [
        "Create model"
      ]
    },
    {
      "cell_type": "code",
      "metadata": {
        "colab": {
          "base_uri": "https://localhost:8080/"
        },
        "id": "TnfIyLi1lvqq",
        "outputId": "2f1f6625-2b0c-4139-b8d2-4d7c0e9a5936"
      },
      "source": [
        "tf.compat.v1.logging.set_verbosity(tf.compat.v1.logging.INFO)\n",
        "\n",
        "shutil.rmtree('/tmp/linear_regression_trained_model_t', ignore_errors=True)\n",
        "\n",
        "estimator_temp = tf.contrib.learn.SKCompat(tf.contrib.learn.LinearRegressor(model_dir='/tmp/linear_regression_trained_model_t', optimizer=tf.train.AdamOptimizer(learning_rate=0.1), enable_centered_bias=False, feature_columns=tf.contrib.learn.infer_real_valued_columns_from_input(predictors_temp.values)))\n",
        "\n",
        "# Starting to train\n",
        "print(\"starting to train\");\n",
        "\n",
        "# Train the model. \n",
        "estimator_temp.fit(predictors_temp[:trainsize].values, targets_temp[:trainsize].values.reshape(trainsize, noutputs)/SCALE_NUM_ACCIDENTS, steps=10000)\n",
        "\n",
        "# Check  predictions \n",
        "preds = estimator_temp.predict(x=predictors_temp[trainsize:].values)\n",
        "\n",
        "predslistscale = preds['scores']*SCALE_NUM_ACCIDENTS\n",
        "\n",
        "# pred = format(str(predslistscale)) # useful for checking outputs and printing.\n",
        "\n",
        "# Calculate RMSE\n",
        "rmse = np.sqrt(np.mean((targets_temp[trainsize:].values - predslistscale)**2))\n",
        "print('LinearRegression Temperature has RMSE of {0}'.format(rmse));\n",
        "\n",
        "# Calculate the mean of the Number of Accidents.\n",
        "avg = np.mean(shuffle_temp_train['num_accidents'][:trainsize])\n",
        "\n",
        "# Calculate the RMSE \n",
        "rmse = np.sqrt(np.mean((shuffle_temp_train['num_accidents'][trainsize:] - avg)**2))\n",
        "print('Just using average = {0} has RMSE of {1}'.format(avg, rmse));"
      ],
      "execution_count": 132,
      "outputs": [
        {
          "output_type": "stream",
          "name": "stdout",
          "text": [
            "WARNING:tensorflow:float64 is not supported by many models, consider casting to float32.\n",
            "INFO:tensorflow:Using default config.\n",
            "INFO:tensorflow:Using config: {'_task_type': None, '_task_id': 0, '_cluster_spec': <tensorflow.python.training.server_lib.ClusterSpec object at 0x7f4fa0b38bd0>, '_master': '', '_num_ps_replicas': 0, '_num_worker_replicas': 0, '_environment': 'local', '_is_chief': True, '_evaluation_master': '', '_train_distribute': None, '_eval_distribute': None, '_experimental_max_worker_delay_secs': None, '_device_fn': None, '_tf_config': gpu_options {\n",
            "  per_process_gpu_memory_fraction: 1.0\n",
            "}\n",
            ", '_tf_random_seed': None, '_save_summary_steps': 100, '_save_checkpoints_secs': 600, '_log_step_count_steps': 100, '_protocol': None, '_session_config': None, '_save_checkpoints_steps': None, '_keep_checkpoint_max': 5, '_keep_checkpoint_every_n_hours': 10000, '_model_dir': '/tmp/linear_regression_trained_model_t', '_session_creation_timeout_secs': 7200}\n",
            "starting to train\n",
            "WARNING:tensorflow:float64 is not supported by many models, consider casting to float32.\n",
            "WARNING:tensorflow:float64 is not supported by many models, consider casting to float32.\n",
            "INFO:tensorflow:Create CheckpointSaverHook.\n",
            "INFO:tensorflow:Graph was finalized.\n",
            "INFO:tensorflow:Running local_init_op.\n",
            "INFO:tensorflow:Done running local_init_op.\n",
            "INFO:tensorflow:Saving checkpoints for 0 into /tmp/linear_regression_trained_model_t/model.ckpt.\n",
            "INFO:tensorflow:loss = 0.27863032, step = 1\n",
            "INFO:tensorflow:global_step/sec: 676.361\n",
            "INFO:tensorflow:loss = 0.02690099, step = 101 (0.155 sec)\n",
            "INFO:tensorflow:global_step/sec: 952.707\n",
            "INFO:tensorflow:loss = 0.023857791, step = 201 (0.104 sec)\n",
            "INFO:tensorflow:global_step/sec: 923.646\n",
            "INFO:tensorflow:loss = 0.026017737, step = 301 (0.107 sec)\n",
            "INFO:tensorflow:global_step/sec: 907.237\n",
            "INFO:tensorflow:loss = 0.025962887, step = 401 (0.108 sec)\n",
            "INFO:tensorflow:global_step/sec: 986.108\n",
            "INFO:tensorflow:loss = 0.030340264, step = 501 (0.109 sec)\n",
            "INFO:tensorflow:global_step/sec: 869.778\n",
            "INFO:tensorflow:loss = 0.024596017, step = 601 (0.109 sec)\n",
            "INFO:tensorflow:global_step/sec: 771.737\n",
            "INFO:tensorflow:loss = 0.024093144, step = 701 (0.132 sec)\n",
            "INFO:tensorflow:global_step/sec: 981.716\n",
            "INFO:tensorflow:loss = 0.033448294, step = 801 (0.101 sec)\n",
            "INFO:tensorflow:global_step/sec: 919.769\n",
            "INFO:tensorflow:loss = 0.028223839, step = 901 (0.109 sec)\n",
            "INFO:tensorflow:global_step/sec: 956.204\n",
            "INFO:tensorflow:loss = 0.031231815, step = 1001 (0.104 sec)\n",
            "INFO:tensorflow:global_step/sec: 934.179\n",
            "INFO:tensorflow:loss = 0.04002184, step = 1101 (0.108 sec)\n",
            "INFO:tensorflow:global_step/sec: 911.104\n",
            "INFO:tensorflow:loss = 0.024669664, step = 1201 (0.109 sec)\n",
            "INFO:tensorflow:global_step/sec: 885.56\n",
            "INFO:tensorflow:loss = 0.041872643, step = 1301 (0.113 sec)\n",
            "INFO:tensorflow:global_step/sec: 939.94\n",
            "INFO:tensorflow:loss = 0.028663948, step = 1401 (0.104 sec)\n",
            "INFO:tensorflow:global_step/sec: 925.776\n",
            "INFO:tensorflow:loss = 0.04923465, step = 1501 (0.112 sec)\n",
            "INFO:tensorflow:global_step/sec: 924.913\n",
            "INFO:tensorflow:loss = 0.030678192, step = 1601 (0.104 sec)\n",
            "INFO:tensorflow:global_step/sec: 970.679\n",
            "INFO:tensorflow:loss = 0.043395173, step = 1701 (0.103 sec)\n",
            "INFO:tensorflow:global_step/sec: 936.831\n",
            "INFO:tensorflow:loss = 0.22354491, step = 1801 (0.107 sec)\n",
            "INFO:tensorflow:global_step/sec: 999.858\n",
            "INFO:tensorflow:loss = 0.10921921, step = 1901 (0.102 sec)\n",
            "INFO:tensorflow:global_step/sec: 987.888\n",
            "INFO:tensorflow:loss = 0.03254916, step = 2001 (0.102 sec)\n",
            "INFO:tensorflow:global_step/sec: 909.91\n",
            "INFO:tensorflow:loss = 0.09766468, step = 2101 (0.110 sec)\n",
            "INFO:tensorflow:global_step/sec: 975.696\n",
            "INFO:tensorflow:loss = 0.16351056, step = 2201 (0.100 sec)\n",
            "INFO:tensorflow:global_step/sec: 909.537\n",
            "INFO:tensorflow:loss = 0.048776023, step = 2301 (0.111 sec)\n",
            "INFO:tensorflow:global_step/sec: 901.129\n",
            "INFO:tensorflow:loss = 0.028148018, step = 2401 (0.110 sec)\n",
            "INFO:tensorflow:global_step/sec: 891.709\n",
            "INFO:tensorflow:loss = 0.026265334, step = 2501 (0.113 sec)\n",
            "INFO:tensorflow:global_step/sec: 995\n",
            "INFO:tensorflow:loss = 0.13346857, step = 2601 (0.099 sec)\n",
            "INFO:tensorflow:global_step/sec: 850.492\n",
            "INFO:tensorflow:loss = 0.020422926, step = 2701 (0.121 sec)\n",
            "INFO:tensorflow:global_step/sec: 961.326\n",
            "INFO:tensorflow:loss = 0.036574244, step = 2801 (0.105 sec)\n",
            "INFO:tensorflow:global_step/sec: 786.683\n",
            "INFO:tensorflow:loss = 0.10580111, step = 2901 (0.126 sec)\n",
            "INFO:tensorflow:global_step/sec: 944.461\n",
            "INFO:tensorflow:loss = 0.038902115, step = 3001 (0.106 sec)\n",
            "INFO:tensorflow:global_step/sec: 957.105\n",
            "INFO:tensorflow:loss = 0.07466315, step = 3101 (0.101 sec)\n",
            "INFO:tensorflow:global_step/sec: 902.539\n",
            "INFO:tensorflow:loss = 0.03078701, step = 3201 (0.115 sec)\n",
            "INFO:tensorflow:global_step/sec: 859.851\n",
            "INFO:tensorflow:loss = 0.048384193, step = 3301 (0.118 sec)\n",
            "INFO:tensorflow:global_step/sec: 790.696\n",
            "INFO:tensorflow:loss = 0.047854327, step = 3401 (0.125 sec)\n",
            "INFO:tensorflow:global_step/sec: 851.724\n",
            "INFO:tensorflow:loss = 0.025335435, step = 3501 (0.115 sec)\n",
            "INFO:tensorflow:global_step/sec: 948.474\n",
            "INFO:tensorflow:loss = 0.07701701, step = 3601 (0.104 sec)\n",
            "INFO:tensorflow:global_step/sec: 917.743\n",
            "INFO:tensorflow:loss = 0.023038885, step = 3701 (0.110 sec)\n",
            "INFO:tensorflow:global_step/sec: 966.365\n",
            "INFO:tensorflow:loss = 0.10961421, step = 3801 (0.107 sec)\n",
            "INFO:tensorflow:global_step/sec: 921.829\n",
            "INFO:tensorflow:loss = 0.043777935, step = 3901 (0.105 sec)\n",
            "INFO:tensorflow:global_step/sec: 908.237\n",
            "INFO:tensorflow:loss = 0.036253933, step = 4001 (0.112 sec)\n",
            "INFO:tensorflow:global_step/sec: 912.654\n",
            "INFO:tensorflow:loss = 0.044805635, step = 4101 (0.108 sec)\n",
            "INFO:tensorflow:global_step/sec: 972.419\n",
            "INFO:tensorflow:loss = 0.07952356, step = 4201 (0.103 sec)\n",
            "INFO:tensorflow:global_step/sec: 895.056\n",
            "INFO:tensorflow:loss = 0.05044122, step = 4301 (0.110 sec)\n",
            "INFO:tensorflow:global_step/sec: 1007.52\n",
            "INFO:tensorflow:loss = 0.10621531, step = 4401 (0.100 sec)\n",
            "INFO:tensorflow:global_step/sec: 883.342\n",
            "INFO:tensorflow:loss = 0.098466165, step = 4501 (0.113 sec)\n",
            "INFO:tensorflow:global_step/sec: 937.053\n",
            "INFO:tensorflow:loss = 0.029179411, step = 4601 (0.109 sec)\n",
            "INFO:tensorflow:global_step/sec: 963.021\n",
            "INFO:tensorflow:loss = 0.028785981, step = 4701 (0.101 sec)\n",
            "INFO:tensorflow:global_step/sec: 949.421\n",
            "INFO:tensorflow:loss = 0.03654914, step = 4801 (0.109 sec)\n",
            "INFO:tensorflow:global_step/sec: 947.138\n",
            "INFO:tensorflow:loss = 0.08444781, step = 4901 (0.105 sec)\n",
            "INFO:tensorflow:global_step/sec: 845.043\n",
            "INFO:tensorflow:loss = 0.13277717, step = 5001 (0.118 sec)\n",
            "INFO:tensorflow:global_step/sec: 842.676\n",
            "INFO:tensorflow:loss = 0.12909496, step = 5101 (0.119 sec)\n",
            "INFO:tensorflow:global_step/sec: 844.422\n",
            "INFO:tensorflow:loss = 0.032925636, step = 5201 (0.117 sec)\n",
            "INFO:tensorflow:global_step/sec: 991.252\n",
            "INFO:tensorflow:loss = 0.067082494, step = 5301 (0.099 sec)\n",
            "INFO:tensorflow:global_step/sec: 931.169\n",
            "INFO:tensorflow:loss = 0.042761065, step = 5401 (0.111 sec)\n",
            "INFO:tensorflow:global_step/sec: 928.535\n",
            "INFO:tensorflow:loss = 0.034394402, step = 5501 (0.106 sec)\n",
            "INFO:tensorflow:global_step/sec: 873.582\n",
            "INFO:tensorflow:loss = 0.17263669, step = 5601 (0.115 sec)\n",
            "INFO:tensorflow:global_step/sec: 909.275\n",
            "INFO:tensorflow:loss = 0.043019034, step = 5701 (0.110 sec)\n",
            "INFO:tensorflow:global_step/sec: 859.494\n",
            "INFO:tensorflow:loss = 0.031353142, step = 5801 (0.117 sec)\n",
            "INFO:tensorflow:global_step/sec: 821.578\n",
            "INFO:tensorflow:loss = 0.030545648, step = 5901 (0.121 sec)\n",
            "INFO:tensorflow:global_step/sec: 960.072\n",
            "INFO:tensorflow:loss = 0.15948421, step = 6001 (0.103 sec)\n",
            "INFO:tensorflow:global_step/sec: 870.5\n",
            "INFO:tensorflow:loss = 0.054937746, step = 6101 (0.115 sec)\n",
            "INFO:tensorflow:global_step/sec: 896.276\n",
            "INFO:tensorflow:loss = 0.12428769, step = 6201 (0.113 sec)\n",
            "INFO:tensorflow:global_step/sec: 971.025\n",
            "INFO:tensorflow:loss = 0.115228176, step = 6301 (0.103 sec)\n",
            "INFO:tensorflow:global_step/sec: 962.999\n",
            "INFO:tensorflow:loss = 0.09979516, step = 6401 (0.103 sec)\n",
            "INFO:tensorflow:global_step/sec: 954.733\n",
            "INFO:tensorflow:loss = 0.06255795, step = 6501 (0.105 sec)\n",
            "INFO:tensorflow:global_step/sec: 988.009\n",
            "INFO:tensorflow:loss = 0.028651144, step = 6601 (0.100 sec)\n",
            "INFO:tensorflow:global_step/sec: 840.483\n",
            "INFO:tensorflow:loss = 0.034489874, step = 6701 (0.122 sec)\n",
            "INFO:tensorflow:global_step/sec: 859.716\n",
            "INFO:tensorflow:loss = 0.028868912, step = 6801 (0.113 sec)\n",
            "INFO:tensorflow:global_step/sec: 903.19\n",
            "INFO:tensorflow:loss = 0.037780497, step = 6901 (0.109 sec)\n",
            "INFO:tensorflow:global_step/sec: 980.564\n",
            "INFO:tensorflow:loss = 0.09934574, step = 7001 (0.103 sec)\n",
            "INFO:tensorflow:global_step/sec: 885.037\n",
            "INFO:tensorflow:loss = 0.15052113, step = 7101 (0.116 sec)\n",
            "INFO:tensorflow:global_step/sec: 896.192\n",
            "INFO:tensorflow:loss = 0.04801063, step = 7201 (0.112 sec)\n",
            "INFO:tensorflow:global_step/sec: 814.975\n",
            "INFO:tensorflow:loss = 0.070023336, step = 7301 (0.119 sec)\n",
            "INFO:tensorflow:global_step/sec: 982.922\n",
            "INFO:tensorflow:loss = 0.03729789, step = 7401 (0.102 sec)\n",
            "INFO:tensorflow:global_step/sec: 980.791\n",
            "INFO:tensorflow:loss = 0.03498175, step = 7501 (0.102 sec)\n",
            "INFO:tensorflow:global_step/sec: 1005.33\n",
            "INFO:tensorflow:loss = 0.1231658, step = 7601 (0.100 sec)\n",
            "INFO:tensorflow:global_step/sec: 880.984\n",
            "INFO:tensorflow:loss = 0.047321007, step = 7701 (0.116 sec)\n",
            "INFO:tensorflow:global_step/sec: 880.831\n",
            "INFO:tensorflow:loss = 0.049210038, step = 7801 (0.114 sec)\n",
            "INFO:tensorflow:global_step/sec: 900.081\n",
            "INFO:tensorflow:loss = 0.041724626, step = 7901 (0.108 sec)\n",
            "INFO:tensorflow:global_step/sec: 917.668\n",
            "INFO:tensorflow:loss = 0.029088784, step = 8001 (0.112 sec)\n",
            "INFO:tensorflow:global_step/sec: 989.218\n",
            "INFO:tensorflow:loss = 0.109928966, step = 8101 (0.098 sec)\n",
            "INFO:tensorflow:global_step/sec: 987.183\n",
            "INFO:tensorflow:loss = 0.050224528, step = 8201 (0.105 sec)\n",
            "INFO:tensorflow:global_step/sec: 878.948\n",
            "INFO:tensorflow:loss = 0.07792771, step = 8301 (0.113 sec)\n",
            "INFO:tensorflow:global_step/sec: 971.722\n",
            "INFO:tensorflow:loss = 0.18235585, step = 8401 (0.102 sec)\n",
            "INFO:tensorflow:global_step/sec: 952.351\n",
            "INFO:tensorflow:loss = 0.026518146, step = 8501 (0.107 sec)\n",
            "INFO:tensorflow:global_step/sec: 901.896\n",
            "INFO:tensorflow:loss = 0.025678463, step = 8601 (0.108 sec)\n",
            "INFO:tensorflow:global_step/sec: 870.511\n",
            "INFO:tensorflow:loss = 0.053322732, step = 8701 (0.115 sec)\n",
            "INFO:tensorflow:global_step/sec: 954.353\n",
            "INFO:tensorflow:loss = 0.037208483, step = 8801 (0.108 sec)\n",
            "INFO:tensorflow:global_step/sec: 768.427\n",
            "INFO:tensorflow:loss = 0.223084, step = 8901 (0.129 sec)\n",
            "INFO:tensorflow:global_step/sec: 927.344\n",
            "INFO:tensorflow:loss = 0.023943715, step = 9001 (0.109 sec)\n",
            "INFO:tensorflow:global_step/sec: 860.074\n",
            "INFO:tensorflow:loss = 0.059040844, step = 9101 (0.117 sec)\n",
            "INFO:tensorflow:global_step/sec: 907.171\n",
            "INFO:tensorflow:loss = 0.059650898, step = 9201 (0.108 sec)\n",
            "INFO:tensorflow:global_step/sec: 870.711\n",
            "INFO:tensorflow:loss = 0.108225755, step = 9301 (0.113 sec)\n",
            "INFO:tensorflow:global_step/sec: 952.223\n",
            "INFO:tensorflow:loss = 0.08357397, step = 9401 (0.109 sec)\n",
            "INFO:tensorflow:global_step/sec: 848.787\n",
            "INFO:tensorflow:loss = 0.119032264, step = 9501 (0.118 sec)\n",
            "INFO:tensorflow:global_step/sec: 858.732\n",
            "INFO:tensorflow:loss = 0.058859497, step = 9601 (0.113 sec)\n",
            "INFO:tensorflow:global_step/sec: 889.049\n",
            "INFO:tensorflow:loss = 0.09571913, step = 9701 (0.117 sec)\n",
            "INFO:tensorflow:global_step/sec: 873.411\n",
            "INFO:tensorflow:loss = 0.049507868, step = 9801 (0.109 sec)\n",
            "INFO:tensorflow:global_step/sec: 895.398\n",
            "INFO:tensorflow:loss = 0.074156, step = 9901 (0.117 sec)\n",
            "INFO:tensorflow:Saving checkpoints for 10000 into /tmp/linear_regression_trained_model_t/model.ckpt.\n",
            "INFO:tensorflow:Loss for final step: 0.04021115.\n",
            "WARNING:tensorflow:float64 is not supported by many models, consider casting to float32.\n",
            "INFO:tensorflow:Graph was finalized.\n",
            "INFO:tensorflow:Restoring parameters from /tmp/linear_regression_trained_model_t/model.ckpt-10000\n",
            "INFO:tensorflow:Running local_init_op.\n",
            "INFO:tensorflow:Done running local_init_op.\n",
            "LinearRegression Temperature has RMSE of 0.19697908304824302\n",
            "Just using average = 0.5152276404390383 has RMSE of 0.20792798234167448\n"
          ]
        }
      ]
    },
    {
      "cell_type": "markdown",
      "metadata": {
        "id": "yHbQ3Wre9MlI"
      },
      "source": [
        "The RMSE results are 0.181 and 0.196 which is a good result so the model will now be tested with the validation data."
      ]
    },
    {
      "cell_type": "markdown",
      "metadata": {
        "id": "y7VwCb2GnWKU"
      },
      "source": [
        "Test model with validation data"
      ]
    },
    {
      "cell_type": "code",
      "metadata": {
        "colab": {
          "base_uri": "https://localhost:8080/",
          "height": 143
        },
        "id": "7JlQyr4n9h9w",
        "outputId": "38f19f3f-39f8-401b-aa13-dcd65be8bc73"
      },
      "source": [
        "shuffle_temp_test[:3]"
      ],
      "execution_count": 133,
      "outputs": [
        {
          "output_type": "execute_result",
          "data": {
            "text/html": [
              "<div>\n",
              "<style scoped>\n",
              "    .dataframe tbody tr th:only-of-type {\n",
              "        vertical-align: middle;\n",
              "    }\n",
              "\n",
              "    .dataframe tbody tr th {\n",
              "        vertical-align: top;\n",
              "    }\n",
              "\n",
              "    .dataframe thead th {\n",
              "        text-align: right;\n",
              "    }\n",
              "</style>\n",
              "<table border=\"1\" class=\"dataframe\">\n",
              "  <thead>\n",
              "    <tr style=\"text-align: right;\">\n",
              "      <th></th>\n",
              "      <th>dayofweek</th>\n",
              "      <th>temp</th>\n",
              "      <th>num_accidents</th>\n",
              "    </tr>\n",
              "  </thead>\n",
              "  <tbody>\n",
              "    <tr>\n",
              "      <th>1613</th>\n",
              "      <td>6</td>\n",
              "      <td>55.7</td>\n",
              "      <td>0.597046</td>\n",
              "    </tr>\n",
              "    <tr>\n",
              "      <th>570</th>\n",
              "      <td>6</td>\n",
              "      <td>69.6</td>\n",
              "      <td>0.414352</td>\n",
              "    </tr>\n",
              "    <tr>\n",
              "      <th>2426</th>\n",
              "      <td>7</td>\n",
              "      <td>72.0</td>\n",
              "      <td>0.477679</td>\n",
              "    </tr>\n",
              "  </tbody>\n",
              "</table>\n",
              "</div>"
            ],
            "text/plain": [
              "      dayofweek  temp  num_accidents\n",
              "1613          6  55.7       0.597046\n",
              "570           6  69.6       0.414352\n",
              "2426          7  72.0       0.477679"
            ]
          },
          "metadata": {},
          "execution_count": 133
        }
      ]
    },
    {
      "cell_type": "code",
      "metadata": {
        "colab": {
          "base_uri": "https://localhost:8080/"
        },
        "id": "gkmf9-0WmME3",
        "outputId": "e39059b4-4c30-4db0-867c-21b1b457e3ed"
      },
      "source": [
        "input = pd.DataFrame.from_dict(data = \n",
        "\t\t\t\t{'dayofweek' : [4,7,3],\n",
        "         'temp' : [75.3, 31.2, 32.1]\n",
        "        })\n",
        "\t\t\t\t\t\n",
        "\n",
        "estimator = tf.contrib.learn.SKCompat(tf.contrib.learn.LinearRegressor(model_dir='/tmp/linear_regression_trained_model_t', enable_centered_bias=False, feature_columns=tf.contrib.learn.infer_real_valued_columns_from_input(input.values)))\n",
        "\n",
        "preds = estimator.predict(x=input.values)\n",
        "\n",
        "predslistnorm = preds['scores']\n",
        "predslistscale = preds['scores']*850\n",
        "prednorm = format(str(predslistnorm))\n",
        "pred = format(str(predslistscale))\n",
        "print(prednorm)\n",
        "print(pred)"
      ],
      "execution_count": 134,
      "outputs": [
        {
          "output_type": "stream",
          "name": "stdout",
          "text": [
            "WARNING:tensorflow:float64 is not supported by many models, consider casting to float32.\n",
            "INFO:tensorflow:Using default config.\n",
            "INFO:tensorflow:Using config: {'_task_type': None, '_task_id': 0, '_cluster_spec': <tensorflow.python.training.server_lib.ClusterSpec object at 0x7f4f9a916d50>, '_master': '', '_num_ps_replicas': 0, '_num_worker_replicas': 0, '_environment': 'local', '_is_chief': True, '_evaluation_master': '', '_train_distribute': None, '_eval_distribute': None, '_experimental_max_worker_delay_secs': None, '_device_fn': None, '_tf_config': gpu_options {\n",
            "  per_process_gpu_memory_fraction: 1.0\n",
            "}\n",
            ", '_tf_random_seed': None, '_save_summary_steps': 100, '_save_checkpoints_secs': 600, '_log_step_count_steps': 100, '_protocol': None, '_session_config': None, '_save_checkpoints_steps': None, '_keep_checkpoint_max': 5, '_keep_checkpoint_every_n_hours': 10000, '_model_dir': '/tmp/linear_regression_trained_model_t', '_session_creation_timeout_secs': 7200}\n",
            "WARNING:tensorflow:float64 is not supported by many models, consider casting to float32.\n",
            "INFO:tensorflow:Graph was finalized.\n",
            "INFO:tensorflow:Restoring parameters from /tmp/linear_regression_trained_model_t/model.ckpt-10000\n",
            "INFO:tensorflow:Running local_init_op.\n",
            "INFO:tensorflow:Done running local_init_op.\n",
            "[0.4692486  0.49881202 0.3489234 ]\n",
            "[398.8613  423.9902  296.58487]\n"
          ]
        }
      ]
    },
    {
      "cell_type": "markdown",
      "metadata": {
        "id": "XryINv849zO0"
      },
      "source": [
        "It can be seen that the normalised number of accidents from the test data is 0.693, 0.188 and 0.614 while the results of the model test are actually 0.506, 0.525 and 0.351.  This is much less accurate than the visibility model."
      ]
    },
    {
      "cell_type": "markdown",
      "metadata": {
        "id": "YlwxiiTjnZp3"
      },
      "source": [
        "Test model with random data from the validation data"
      ]
    },
    {
      "cell_type": "code",
      "metadata": {
        "colab": {
          "base_uri": "https://localhost:8080/",
          "height": 143
        },
        "id": "gjOeuN66-Q5l",
        "outputId": "ea68875c-9722-4dea-8990-8f98d3889181"
      },
      "source": [
        "np.random.seed([3])\n",
        "\n",
        "shuffle_temp_test.sample(n = 3)"
      ],
      "execution_count": 135,
      "outputs": [
        {
          "output_type": "execute_result",
          "data": {
            "text/html": [
              "<div>\n",
              "<style scoped>\n",
              "    .dataframe tbody tr th:only-of-type {\n",
              "        vertical-align: middle;\n",
              "    }\n",
              "\n",
              "    .dataframe tbody tr th {\n",
              "        vertical-align: top;\n",
              "    }\n",
              "\n",
              "    .dataframe thead th {\n",
              "        text-align: right;\n",
              "    }\n",
              "</style>\n",
              "<table border=\"1\" class=\"dataframe\">\n",
              "  <thead>\n",
              "    <tr style=\"text-align: right;\">\n",
              "      <th></th>\n",
              "      <th>dayofweek</th>\n",
              "      <th>temp</th>\n",
              "      <th>num_accidents</th>\n",
              "    </tr>\n",
              "  </thead>\n",
              "  <tbody>\n",
              "    <tr>\n",
              "      <th>591</th>\n",
              "      <td>6</td>\n",
              "      <td>67.8</td>\n",
              "      <td>0.613426</td>\n",
              "    </tr>\n",
              "    <tr>\n",
              "      <th>148</th>\n",
              "      <td>4</td>\n",
              "      <td>56.6</td>\n",
              "      <td>0.759174</td>\n",
              "    </tr>\n",
              "    <tr>\n",
              "      <th>12</th>\n",
              "      <td>1</td>\n",
              "      <td>42.7</td>\n",
              "      <td>0.275229</td>\n",
              "    </tr>\n",
              "  </tbody>\n",
              "</table>\n",
              "</div>"
            ],
            "text/plain": [
              "     dayofweek  temp  num_accidents\n",
              "591          6  67.8       0.613426\n",
              "148          4  56.6       0.759174\n",
              "12           1  42.7       0.275229"
            ]
          },
          "metadata": {},
          "execution_count": 135
        }
      ]
    },
    {
      "cell_type": "code",
      "metadata": {
        "colab": {
          "base_uri": "https://localhost:8080/"
        },
        "id": "G9rb1Pkhni-L",
        "outputId": "47b99870-92f4-4720-8800-621ae85270c9"
      },
      "source": [
        "input = pd.DataFrame.from_dict(data = \n",
        "\t\t\t\t{'dayofweek' : [5,5,3],\n",
        "         'temp' : [18.2, 59.2, 21.9]\n",
        "        })\n",
        "\t\t\t\t\t\n",
        "\n",
        "estimator = tf.contrib.learn.SKCompat(tf.contrib.learn.LinearRegressor(model_dir='/tmp/linear_regression_trained_model_t', enable_centered_bias=False, feature_columns=tf.contrib.learn.infer_real_valued_columns_from_input(input.values)))\n",
        "\n",
        "preds = estimator.predict(x=input.values)\n",
        "\n",
        "predslistnorm = preds['scores']\n",
        "predslistscale = preds['scores']*850\n",
        "prednorm = format(str(predslistnorm))\n",
        "pred = format(str(predslistscale))\n",
        "print(prednorm)\n",
        "print(pred)"
      ],
      "execution_count": 136,
      "outputs": [
        {
          "output_type": "stream",
          "name": "stdout",
          "text": [
            "WARNING:tensorflow:float64 is not supported by many models, consider casting to float32.\n",
            "INFO:tensorflow:Using default config.\n",
            "INFO:tensorflow:Using config: {'_task_type': None, '_task_id': 0, '_cluster_spec': <tensorflow.python.training.server_lib.ClusterSpec object at 0x7f4f9b70a450>, '_master': '', '_num_ps_replicas': 0, '_num_worker_replicas': 0, '_environment': 'local', '_is_chief': True, '_evaluation_master': '', '_train_distribute': None, '_eval_distribute': None, '_experimental_max_worker_delay_secs': None, '_device_fn': None, '_tf_config': gpu_options {\n",
            "  per_process_gpu_memory_fraction: 1.0\n",
            "}\n",
            ", '_tf_random_seed': None, '_save_summary_steps': 100, '_save_checkpoints_secs': 600, '_log_step_count_steps': 100, '_protocol': None, '_session_config': None, '_save_checkpoints_steps': None, '_keep_checkpoint_max': 5, '_keep_checkpoint_every_n_hours': 10000, '_model_dir': '/tmp/linear_regression_trained_model_t', '_session_creation_timeout_secs': 7200}\n",
            "WARNING:tensorflow:float64 is not supported by many models, consider casting to float32.\n",
            "INFO:tensorflow:Graph was finalized.\n",
            "INFO:tensorflow:Restoring parameters from /tmp/linear_regression_trained_model_t/model.ckpt-10000\n",
            "INFO:tensorflow:Running local_init_op.\n",
            "INFO:tensorflow:Done running local_init_op.\n",
            "[0.39820567 0.4764319  0.32946223]\n",
            "[338.47482 404.96713 280.0429 ]\n"
          ]
        }
      ]
    },
    {
      "cell_type": "markdown",
      "metadata": {
        "id": "tnmwqN2G-d79"
      },
      "source": [
        "It can be seen that the normalised number of accidents from the test data are 0.593, 0.693 and 0.888 while the results of the model test are actually 0.404, 0.509 and 0.325 which again is not a particularly accurate result."
      ]
    },
    {
      "cell_type": "markdown",
      "metadata": {
        "id": "o2agWG8Anxnl"
      },
      "source": [
        "### Create and test model for fog"
      ]
    },
    {
      "cell_type": "code",
      "metadata": {
        "colab": {
          "base_uri": "https://localhost:8080/"
        },
        "id": "Om5vb0MFn8mL",
        "outputId": "73c0cb44-2772-40b9-c2fd-9c5983ce00b5"
      },
      "source": [
        "#shuffle fog dataset \n",
        "shuffle_fog = df_dow_fog_numacc.iloc[np.random.permutation(len(df_dow_fog_numacc))]\n",
        "\n",
        "#create training and validation data\n",
        "shuffle_fog_train, shuffle_fog_test = train_test_split(shuffle_fog, test_size=0.1)\n",
        "\n",
        "#select variables used for prediction\n",
        "predictors_fog = shuffle_fog_train.iloc[:,0:2]\n",
        "\n",
        "print(predictors_fog[:10])"
      ],
      "execution_count": 137,
      "outputs": [
        {
          "output_type": "stream",
          "name": "stdout",
          "text": [
            "      dayofweek  fog\n",
            "1588          2    1\n",
            "1838          7    1\n",
            "317           5    0\n",
            "1476          2    0\n",
            "2000          1    1\n",
            "481           1    0\n",
            "2329          1    0\n",
            "1996          4    1\n",
            "1842          4    0\n",
            "2196          1    0\n"
          ]
        }
      ]
    },
    {
      "cell_type": "code",
      "metadata": {
        "colab": {
          "base_uri": "https://localhost:8080/",
          "height": 206
        },
        "id": "D8EHU-G6oU0z",
        "outputId": "68e1f02c-a8b2-48d0-9d6b-fc16272a7470"
      },
      "source": [
        "shuffle_fog_train[:5]"
      ],
      "execution_count": 138,
      "outputs": [
        {
          "output_type": "execute_result",
          "data": {
            "text/html": [
              "<div>\n",
              "<style scoped>\n",
              "    .dataframe tbody tr th:only-of-type {\n",
              "        vertical-align: middle;\n",
              "    }\n",
              "\n",
              "    .dataframe tbody tr th {\n",
              "        vertical-align: top;\n",
              "    }\n",
              "\n",
              "    .dataframe thead th {\n",
              "        text-align: right;\n",
              "    }\n",
              "</style>\n",
              "<table border=\"1\" class=\"dataframe\">\n",
              "  <thead>\n",
              "    <tr style=\"text-align: right;\">\n",
              "      <th></th>\n",
              "      <th>dayofweek</th>\n",
              "      <th>fog</th>\n",
              "      <th>num_accidents</th>\n",
              "    </tr>\n",
              "  </thead>\n",
              "  <tbody>\n",
              "    <tr>\n",
              "      <th>1588</th>\n",
              "      <td>2</td>\n",
              "      <td>1</td>\n",
              "      <td>0.301688</td>\n",
              "    </tr>\n",
              "    <tr>\n",
              "      <th>1838</th>\n",
              "      <td>7</td>\n",
              "      <td>1</td>\n",
              "      <td>0.683857</td>\n",
              "    </tr>\n",
              "    <tr>\n",
              "      <th>317</th>\n",
              "      <td>5</td>\n",
              "      <td>0</td>\n",
              "      <td>0.545872</td>\n",
              "    </tr>\n",
              "    <tr>\n",
              "      <th>1476</th>\n",
              "      <td>2</td>\n",
              "      <td>0</td>\n",
              "      <td>0.251055</td>\n",
              "    </tr>\n",
              "    <tr>\n",
              "      <th>2000</th>\n",
              "      <td>1</td>\n",
              "      <td>1</td>\n",
              "      <td>0.255605</td>\n",
              "    </tr>\n",
              "  </tbody>\n",
              "</table>\n",
              "</div>"
            ],
            "text/plain": [
              "      dayofweek  fog  num_accidents\n",
              "1588          2    1       0.301688\n",
              "1838          7    1       0.683857\n",
              "317           5    0       0.545872\n",
              "1476          2    0       0.251055\n",
              "2000          1    1       0.255605"
            ]
          },
          "metadata": {},
          "execution_count": 138
        }
      ]
    },
    {
      "cell_type": "code",
      "metadata": {
        "colab": {
          "base_uri": "https://localhost:8080/"
        },
        "id": "DPGpVPz-ocP6",
        "outputId": "f4b8ddff-6edf-42fd-bd8a-15034b72dadd"
      },
      "source": [
        "#create targets \n",
        "targets_fog = shuffle_fog_train.iloc[:,2]\n",
        "\n",
        "print(targets_fog[:10])"
      ],
      "execution_count": 139,
      "outputs": [
        {
          "output_type": "stream",
          "name": "stdout",
          "text": [
            "1588    0.301688\n",
            "1838    0.683857\n",
            "317     0.545872\n",
            "1476    0.251055\n",
            "2000    0.255605\n",
            "481     0.435185\n",
            "2329    0.656250\n",
            "1996    0.926009\n",
            "1842    0.488789\n",
            "2196    0.223214\n",
            "Name: num_accidents, dtype: float64\n"
          ]
        }
      ]
    },
    {
      "cell_type": "code",
      "metadata": {
        "id": "qAvWLzUTomAJ"
      },
      "source": [
        "# Training set (80% of the length of the shuffle array)\n",
        "trainsize = int(len(shuffle_fog_train['num_accidents'])*0.8)\n",
        "# Test set = 20% of the length of the shuffle array.\n",
        "testsize = len(shuffle_fog_train['num_accidents']) - trainsize\n",
        "\n",
        "# Define the number of input values \n",
        "nppredictors = 2\n",
        "# Define the number of output values\n",
        "noutputs = 1"
      ],
      "execution_count": 140,
      "outputs": []
    },
    {
      "cell_type": "markdown",
      "metadata": {
        "id": "mzObgvxlpMoL"
      },
      "source": [
        "Create model"
      ]
    },
    {
      "cell_type": "code",
      "metadata": {
        "colab": {
          "base_uri": "https://localhost:8080/"
        },
        "id": "zh3r6vw7ovvd",
        "outputId": "0448dc2d-bc14-4660-96c2-b17e96892982"
      },
      "source": [
        "tf.compat.v1.logging.set_verbosity(tf.compat.v1.logging.INFO)\n",
        "\n",
        "shutil.rmtree('/tmp/linear_regression_trained_model_f', ignore_errors=True)\n",
        "\n",
        "estimator_fog = tf.contrib.learn.SKCompat(tf.contrib.learn.LinearRegressor(model_dir='/tmp/linear_regression_trained_model_f', optimizer=tf.train.AdamOptimizer(learning_rate=0.1), enable_centered_bias=False, feature_columns=tf.contrib.learn.infer_real_valued_columns_from_input(predictors_fog.values)))\n",
        "\n",
        "# Starting to train\n",
        "print(\"starting to train\");\n",
        "\n",
        "# Train the model. \n",
        "estimator_fog.fit(predictors_fog[:trainsize].values, targets_fog[:trainsize].values.reshape(trainsize, noutputs)/SCALE_NUM_ACCIDENTS, steps=10000)\n",
        "\n",
        "# Check  predictions \n",
        "preds = estimator_fog.predict(x=predictors_fog[trainsize:].values)\n",
        "\n",
        "predslistscale = preds['scores']*SCALE_NUM_ACCIDENTS\n",
        "\n",
        "# pred = format(str(predslistscale)) # useful for checking outputs and printing.\n",
        "\n",
        "# Calculate RMSE\n",
        "rmse = np.sqrt(np.mean((targets_fog[trainsize:].values - predslistscale)**2))\n",
        "print('LinearRegression Fog has RMSE of {0}'.format(rmse));\n",
        "\n",
        "# Calculate the mean of the Number of Accidents.\n",
        "avg = np.mean(shuffle_fog_train['num_accidents'][:trainsize])\n",
        "\n",
        "# Calculate the RMSE \n",
        "rmse = np.sqrt(np.mean((shuffle_fog_train['num_accidents'][trainsize:] - avg)**2))\n",
        "print('Just using average = {0} has RMSE of {1}'.format(avg, rmse));"
      ],
      "execution_count": 141,
      "outputs": [
        {
          "output_type": "stream",
          "name": "stdout",
          "text": [
            "INFO:tensorflow:Using default config.\n",
            "INFO:tensorflow:Using config: {'_task_type': None, '_task_id': 0, '_cluster_spec': <tensorflow.python.training.server_lib.ClusterSpec object at 0x7f4f9b8fa410>, '_master': '', '_num_ps_replicas': 0, '_num_worker_replicas': 0, '_environment': 'local', '_is_chief': True, '_evaluation_master': '', '_train_distribute': None, '_eval_distribute': None, '_experimental_max_worker_delay_secs': None, '_device_fn': None, '_tf_config': gpu_options {\n",
            "  per_process_gpu_memory_fraction: 1.0\n",
            "}\n",
            ", '_tf_random_seed': None, '_save_summary_steps': 100, '_save_checkpoints_secs': 600, '_log_step_count_steps': 100, '_protocol': None, '_session_config': None, '_save_checkpoints_steps': None, '_keep_checkpoint_max': 5, '_keep_checkpoint_every_n_hours': 10000, '_model_dir': '/tmp/linear_regression_trained_model_f', '_session_creation_timeout_secs': 7200}\n",
            "starting to train\n",
            "WARNING:tensorflow:float64 is not supported by many models, consider casting to float32.\n",
            "INFO:tensorflow:Create CheckpointSaverHook.\n",
            "INFO:tensorflow:Graph was finalized.\n",
            "INFO:tensorflow:Running local_init_op.\n",
            "INFO:tensorflow:Done running local_init_op.\n",
            "INFO:tensorflow:Saving checkpoints for 0 into /tmp/linear_regression_trained_model_f/model.ckpt.\n",
            "INFO:tensorflow:loss = 0.32350954, step = 1\n",
            "INFO:tensorflow:global_step/sec: 718.805\n",
            "INFO:tensorflow:loss = 0.02947985, step = 101 (0.144 sec)\n",
            "INFO:tensorflow:global_step/sec: 908.849\n",
            "INFO:tensorflow:loss = 0.039594673, step = 201 (0.110 sec)\n",
            "INFO:tensorflow:global_step/sec: 957.54\n",
            "INFO:tensorflow:loss = 0.031438846, step = 301 (0.105 sec)\n",
            "INFO:tensorflow:global_step/sec: 957.178\n",
            "INFO:tensorflow:loss = 0.0342642, step = 401 (0.105 sec)\n",
            "INFO:tensorflow:global_step/sec: 831.54\n",
            "INFO:tensorflow:loss = 0.032171212, step = 501 (0.117 sec)\n",
            "INFO:tensorflow:global_step/sec: 948.125\n",
            "INFO:tensorflow:loss = 0.04069044, step = 601 (0.109 sec)\n",
            "INFO:tensorflow:global_step/sec: 905.084\n",
            "INFO:tensorflow:loss = 0.023787666, step = 701 (0.111 sec)\n",
            "INFO:tensorflow:global_step/sec: 976.664\n",
            "INFO:tensorflow:loss = 0.029145319, step = 801 (0.101 sec)\n",
            "INFO:tensorflow:global_step/sec: 961.789\n",
            "INFO:tensorflow:loss = 0.022953596, step = 901 (0.104 sec)\n",
            "INFO:tensorflow:global_step/sec: 894.058\n",
            "INFO:tensorflow:loss = 0.03748871, step = 1001 (0.110 sec)\n",
            "INFO:tensorflow:global_step/sec: 906.022\n",
            "INFO:tensorflow:loss = 0.027435271, step = 1101 (0.112 sec)\n",
            "INFO:tensorflow:global_step/sec: 960.144\n",
            "INFO:tensorflow:loss = 0.0472701, step = 1201 (0.105 sec)\n",
            "INFO:tensorflow:global_step/sec: 945.427\n",
            "INFO:tensorflow:loss = 0.029261323, step = 1301 (0.103 sec)\n",
            "INFO:tensorflow:global_step/sec: 902.606\n",
            "INFO:tensorflow:loss = 0.034755997, step = 1401 (0.111 sec)\n",
            "INFO:tensorflow:global_step/sec: 981.9\n",
            "INFO:tensorflow:loss = 0.029957438, step = 1501 (0.102 sec)\n",
            "INFO:tensorflow:global_step/sec: 952.666\n",
            "INFO:tensorflow:loss = 0.025042072, step = 1601 (0.105 sec)\n",
            "INFO:tensorflow:global_step/sec: 987.932\n",
            "INFO:tensorflow:loss = 0.036547154, step = 1701 (0.104 sec)\n",
            "INFO:tensorflow:global_step/sec: 961.308\n",
            "INFO:tensorflow:loss = 0.036556706, step = 1801 (0.104 sec)\n",
            "INFO:tensorflow:global_step/sec: 818.594\n",
            "INFO:tensorflow:loss = 0.039240483, step = 1901 (0.121 sec)\n",
            "INFO:tensorflow:global_step/sec: 846.527\n",
            "INFO:tensorflow:loss = 0.02966455, step = 2001 (0.119 sec)\n",
            "INFO:tensorflow:global_step/sec: 925.668\n",
            "INFO:tensorflow:loss = 0.030934451, step = 2101 (0.106 sec)\n",
            "INFO:tensorflow:global_step/sec: 926.318\n",
            "INFO:tensorflow:loss = 0.030230768, step = 2201 (0.109 sec)\n",
            "INFO:tensorflow:global_step/sec: 888.311\n",
            "INFO:tensorflow:loss = 0.027906522, step = 2301 (0.111 sec)\n",
            "INFO:tensorflow:global_step/sec: 839.213\n",
            "INFO:tensorflow:loss = 0.031197637, step = 2401 (0.118 sec)\n",
            "INFO:tensorflow:global_step/sec: 984.26\n",
            "INFO:tensorflow:loss = 0.03563703, step = 2501 (0.102 sec)\n",
            "INFO:tensorflow:global_step/sec: 988.486\n",
            "INFO:tensorflow:loss = 0.033524476, step = 2601 (0.101 sec)\n",
            "INFO:tensorflow:global_step/sec: 917.094\n",
            "INFO:tensorflow:loss = 0.04307082, step = 2701 (0.111 sec)\n",
            "INFO:tensorflow:global_step/sec: 966.454\n",
            "INFO:tensorflow:loss = 0.030972019, step = 2801 (0.103 sec)\n",
            "INFO:tensorflow:global_step/sec: 877.18\n",
            "INFO:tensorflow:loss = 0.026331732, step = 2901 (0.111 sec)\n",
            "INFO:tensorflow:global_step/sec: 865.23\n",
            "INFO:tensorflow:loss = 0.027924906, step = 3001 (0.116 sec)\n",
            "INFO:tensorflow:global_step/sec: 935.475\n",
            "INFO:tensorflow:loss = 0.028986879, step = 3101 (0.107 sec)\n",
            "INFO:tensorflow:global_step/sec: 955.703\n",
            "INFO:tensorflow:loss = 0.028593507, step = 3201 (0.108 sec)\n",
            "INFO:tensorflow:global_step/sec: 828.966\n",
            "INFO:tensorflow:loss = 0.0386872, step = 3301 (0.120 sec)\n",
            "INFO:tensorflow:global_step/sec: 899.44\n",
            "INFO:tensorflow:loss = 0.05236014, step = 3401 (0.109 sec)\n",
            "INFO:tensorflow:global_step/sec: 880.679\n",
            "INFO:tensorflow:loss = 0.033660192, step = 3501 (0.115 sec)\n",
            "INFO:tensorflow:global_step/sec: 987.174\n",
            "INFO:tensorflow:loss = 0.048329208, step = 3601 (0.099 sec)\n",
            "INFO:tensorflow:global_step/sec: 926.112\n",
            "INFO:tensorflow:loss = 0.045869365, step = 3701 (0.109 sec)\n",
            "INFO:tensorflow:global_step/sec: 908.948\n",
            "INFO:tensorflow:loss = 0.03965182, step = 3801 (0.109 sec)\n",
            "INFO:tensorflow:global_step/sec: 1012.65\n",
            "INFO:tensorflow:loss = 0.034407023, step = 3901 (0.102 sec)\n",
            "INFO:tensorflow:global_step/sec: 874.591\n",
            "INFO:tensorflow:loss = 0.032936215, step = 4001 (0.114 sec)\n",
            "INFO:tensorflow:global_step/sec: 879.717\n",
            "INFO:tensorflow:loss = 0.025997808, step = 4101 (0.111 sec)\n",
            "INFO:tensorflow:global_step/sec: 855.506\n",
            "INFO:tensorflow:loss = 0.02798653, step = 4201 (0.119 sec)\n",
            "INFO:tensorflow:global_step/sec: 966.245\n",
            "INFO:tensorflow:loss = 0.035154946, step = 4301 (0.103 sec)\n",
            "INFO:tensorflow:global_step/sec: 940.163\n",
            "INFO:tensorflow:loss = 0.031068206, step = 4401 (0.107 sec)\n",
            "INFO:tensorflow:global_step/sec: 841.022\n",
            "INFO:tensorflow:loss = 0.03454639, step = 4501 (0.118 sec)\n",
            "INFO:tensorflow:global_step/sec: 839.813\n",
            "INFO:tensorflow:loss = 0.03342507, step = 4601 (0.120 sec)\n",
            "INFO:tensorflow:global_step/sec: 894.93\n",
            "INFO:tensorflow:loss = 0.030333463, step = 4701 (0.112 sec)\n",
            "INFO:tensorflow:global_step/sec: 823.242\n",
            "INFO:tensorflow:loss = 0.056884926, step = 4801 (0.119 sec)\n",
            "INFO:tensorflow:global_step/sec: 913.688\n",
            "INFO:tensorflow:loss = 0.036118872, step = 4901 (0.110 sec)\n",
            "INFO:tensorflow:global_step/sec: 876.419\n",
            "INFO:tensorflow:loss = 0.03136593, step = 5001 (0.116 sec)\n",
            "INFO:tensorflow:global_step/sec: 848.472\n",
            "INFO:tensorflow:loss = 0.033805184, step = 5101 (0.119 sec)\n",
            "INFO:tensorflow:global_step/sec: 826.7\n",
            "INFO:tensorflow:loss = 0.029918289, step = 5201 (0.122 sec)\n",
            "INFO:tensorflow:global_step/sec: 915.052\n",
            "INFO:tensorflow:loss = 0.035635427, step = 5301 (0.107 sec)\n",
            "INFO:tensorflow:global_step/sec: 886.876\n",
            "INFO:tensorflow:loss = 0.03461668, step = 5401 (0.111 sec)\n",
            "INFO:tensorflow:global_step/sec: 896.192\n",
            "INFO:tensorflow:loss = 0.045157272, step = 5501 (0.114 sec)\n",
            "INFO:tensorflow:global_step/sec: 706.943\n",
            "INFO:tensorflow:loss = 0.029302565, step = 5601 (0.142 sec)\n",
            "INFO:tensorflow:global_step/sec: 872.957\n",
            "INFO:tensorflow:loss = 0.046753358, step = 5701 (0.113 sec)\n",
            "INFO:tensorflow:global_step/sec: 931.6\n",
            "INFO:tensorflow:loss = 0.03613397, step = 5801 (0.105 sec)\n",
            "INFO:tensorflow:global_step/sec: 882.792\n",
            "INFO:tensorflow:loss = 0.033774626, step = 5901 (0.113 sec)\n",
            "INFO:tensorflow:global_step/sec: 835.422\n",
            "INFO:tensorflow:loss = 0.032802776, step = 6001 (0.120 sec)\n",
            "INFO:tensorflow:global_step/sec: 897.147\n",
            "INFO:tensorflow:loss = 0.049715683, step = 6101 (0.114 sec)\n",
            "INFO:tensorflow:global_step/sec: 791.118\n",
            "INFO:tensorflow:loss = 0.033853337, step = 6201 (0.129 sec)\n",
            "INFO:tensorflow:global_step/sec: 926.836\n",
            "INFO:tensorflow:loss = 0.02838101, step = 6301 (0.106 sec)\n",
            "INFO:tensorflow:global_step/sec: 813.434\n",
            "INFO:tensorflow:loss = 0.0368907, step = 6401 (0.123 sec)\n",
            "INFO:tensorflow:global_step/sec: 931.627\n",
            "INFO:tensorflow:loss = 0.03238922, step = 6501 (0.106 sec)\n",
            "INFO:tensorflow:global_step/sec: 907.524\n",
            "INFO:tensorflow:loss = 0.034934267, step = 6601 (0.111 sec)\n",
            "INFO:tensorflow:global_step/sec: 731.358\n",
            "INFO:tensorflow:loss = 0.030108517, step = 6701 (0.138 sec)\n",
            "INFO:tensorflow:global_step/sec: 958.635\n",
            "INFO:tensorflow:loss = 0.042629223, step = 6801 (0.105 sec)\n",
            "INFO:tensorflow:global_step/sec: 881.008\n",
            "INFO:tensorflow:loss = 0.032344017, step = 6901 (0.111 sec)\n",
            "INFO:tensorflow:global_step/sec: 875.649\n",
            "INFO:tensorflow:loss = 0.027148418, step = 7001 (0.115 sec)\n",
            "INFO:tensorflow:global_step/sec: 941.381\n",
            "INFO:tensorflow:loss = 0.032722946, step = 7101 (0.105 sec)\n",
            "INFO:tensorflow:global_step/sec: 797.052\n",
            "INFO:tensorflow:loss = 0.038359247, step = 7201 (0.125 sec)\n",
            "INFO:tensorflow:global_step/sec: 903.125\n",
            "INFO:tensorflow:loss = 0.03774775, step = 7301 (0.113 sec)\n",
            "INFO:tensorflow:global_step/sec: 757.822\n",
            "INFO:tensorflow:loss = 0.04282248, step = 7401 (0.129 sec)\n",
            "INFO:tensorflow:global_step/sec: 876.474\n",
            "INFO:tensorflow:loss = 0.03774979, step = 7501 (0.119 sec)\n",
            "INFO:tensorflow:global_step/sec: 880.797\n",
            "INFO:tensorflow:loss = 0.027545698, step = 7601 (0.110 sec)\n",
            "INFO:tensorflow:global_step/sec: 715.628\n",
            "INFO:tensorflow:loss = 0.03639701, step = 7701 (0.140 sec)\n",
            "INFO:tensorflow:global_step/sec: 827.232\n",
            "INFO:tensorflow:loss = 0.03602113, step = 7801 (0.120 sec)\n",
            "INFO:tensorflow:global_step/sec: 890.857\n",
            "INFO:tensorflow:loss = 0.034804456, step = 7901 (0.117 sec)\n",
            "INFO:tensorflow:global_step/sec: 845.958\n",
            "INFO:tensorflow:loss = 0.029582325, step = 8001 (0.118 sec)\n",
            "INFO:tensorflow:global_step/sec: 799.928\n",
            "INFO:tensorflow:loss = 0.035490952, step = 8101 (0.124 sec)\n",
            "INFO:tensorflow:global_step/sec: 905.915\n",
            "INFO:tensorflow:loss = 0.030738566, step = 8201 (0.108 sec)\n",
            "INFO:tensorflow:global_step/sec: 897.907\n",
            "INFO:tensorflow:loss = 0.04083472, step = 8301 (0.116 sec)\n",
            "INFO:tensorflow:global_step/sec: 895.432\n",
            "INFO:tensorflow:loss = 0.03680159, step = 8401 (0.110 sec)\n",
            "INFO:tensorflow:global_step/sec: 806.692\n",
            "INFO:tensorflow:loss = 0.03861672, step = 8501 (0.124 sec)\n",
            "INFO:tensorflow:global_step/sec: 811.561\n",
            "INFO:tensorflow:loss = 0.030930366, step = 8601 (0.121 sec)\n",
            "INFO:tensorflow:global_step/sec: 917.375\n",
            "INFO:tensorflow:loss = 0.033848137, step = 8701 (0.110 sec)\n",
            "INFO:tensorflow:global_step/sec: 968.391\n",
            "INFO:tensorflow:loss = 0.026116576, step = 8801 (0.100 sec)\n",
            "INFO:tensorflow:global_step/sec: 934.645\n",
            "INFO:tensorflow:loss = 0.029304158, step = 8901 (0.108 sec)\n",
            "INFO:tensorflow:global_step/sec: 907.361\n",
            "INFO:tensorflow:loss = 0.028086383, step = 9001 (0.111 sec)\n",
            "INFO:tensorflow:global_step/sec: 888.454\n",
            "INFO:tensorflow:loss = 0.031635, step = 9101 (0.111 sec)\n",
            "INFO:tensorflow:global_step/sec: 944.98\n",
            "INFO:tensorflow:loss = 0.041352443, step = 9201 (0.106 sec)\n",
            "INFO:tensorflow:global_step/sec: 853.165\n",
            "INFO:tensorflow:loss = 0.034328975, step = 9301 (0.118 sec)\n",
            "INFO:tensorflow:global_step/sec: 991.531\n",
            "INFO:tensorflow:loss = 0.031065322, step = 9401 (0.101 sec)\n",
            "INFO:tensorflow:global_step/sec: 941.954\n",
            "INFO:tensorflow:loss = 0.036919247, step = 9501 (0.111 sec)\n",
            "INFO:tensorflow:global_step/sec: 879.232\n",
            "INFO:tensorflow:loss = 0.031382248, step = 9601 (0.114 sec)\n",
            "INFO:tensorflow:global_step/sec: 932.322\n",
            "INFO:tensorflow:loss = 0.037967235, step = 9701 (0.102 sec)\n",
            "INFO:tensorflow:global_step/sec: 900.763\n",
            "INFO:tensorflow:loss = 0.03422055, step = 9801 (0.115 sec)\n",
            "INFO:tensorflow:global_step/sec: 921.72\n",
            "INFO:tensorflow:loss = 0.03019388, step = 9901 (0.110 sec)\n",
            "INFO:tensorflow:Saving checkpoints for 10000 into /tmp/linear_regression_trained_model_f/model.ckpt.\n",
            "INFO:tensorflow:Loss for final step: 0.028555755.\n",
            "INFO:tensorflow:Graph was finalized.\n",
            "INFO:tensorflow:Restoring parameters from /tmp/linear_regression_trained_model_f/model.ckpt-10000\n",
            "INFO:tensorflow:Running local_init_op.\n",
            "INFO:tensorflow:Done running local_init_op.\n",
            "LinearRegression Fog has RMSE of 0.19653005087228106\n",
            "Just using average = 0.510646973762709 has RMSE of 0.1907480431967386\n"
          ]
        }
      ]
    },
    {
      "cell_type": "markdown",
      "metadata": {
        "id": "xTskKGQrDW_2"
      },
      "source": [
        "The RMSE values are close (0.175 and 0.197) so the model will now be tested with the validation data."
      ]
    },
    {
      "cell_type": "markdown",
      "metadata": {
        "id": "SWQRAMs9pJHB"
      },
      "source": [
        "Test model using validation data - first three rows."
      ]
    },
    {
      "cell_type": "code",
      "metadata": {
        "colab": {
          "base_uri": "https://localhost:8080/",
          "height": 143
        },
        "id": "89eqQwjGDh9i",
        "outputId": "fe9afa5c-92ba-4997-ed19-61dbf20d92d0"
      },
      "source": [
        "shuffle_fog_test[:3]"
      ],
      "execution_count": 142,
      "outputs": [
        {
          "output_type": "execute_result",
          "data": {
            "text/html": [
              "<div>\n",
              "<style scoped>\n",
              "    .dataframe tbody tr th:only-of-type {\n",
              "        vertical-align: middle;\n",
              "    }\n",
              "\n",
              "    .dataframe tbody tr th {\n",
              "        vertical-align: top;\n",
              "    }\n",
              "\n",
              "    .dataframe thead th {\n",
              "        text-align: right;\n",
              "    }\n",
              "</style>\n",
              "<table border=\"1\" class=\"dataframe\">\n",
              "  <thead>\n",
              "    <tr style=\"text-align: right;\">\n",
              "      <th></th>\n",
              "      <th>dayofweek</th>\n",
              "      <th>fog</th>\n",
              "      <th>num_accidents</th>\n",
              "    </tr>\n",
              "  </thead>\n",
              "  <tbody>\n",
              "    <tr>\n",
              "      <th>1341</th>\n",
              "      <td>7</td>\n",
              "      <td>0</td>\n",
              "      <td>0.712446</td>\n",
              "    </tr>\n",
              "    <tr>\n",
              "      <th>282</th>\n",
              "      <td>5</td>\n",
              "      <td>0</td>\n",
              "      <td>0.399083</td>\n",
              "    </tr>\n",
              "    <tr>\n",
              "      <th>1404</th>\n",
              "      <td>7</td>\n",
              "      <td>0</td>\n",
              "      <td>0.884120</td>\n",
              "    </tr>\n",
              "  </tbody>\n",
              "</table>\n",
              "</div>"
            ],
            "text/plain": [
              "      dayofweek  fog  num_accidents\n",
              "1341          7    0       0.712446\n",
              "282           5    0       0.399083\n",
              "1404          7    0       0.884120"
            ]
          },
          "metadata": {},
          "execution_count": 142
        }
      ]
    },
    {
      "cell_type": "code",
      "metadata": {
        "colab": {
          "base_uri": "https://localhost:8080/"
        },
        "id": "lgv9H7TEpRMN",
        "outputId": "fe2bf45a-c305-4450-9f8f-4b23335d4692"
      },
      "source": [
        "input = pd.DataFrame.from_dict(data = \n",
        "\t\t\t\t{'dayofweek' : [6,1,2],\n",
        "         'fog' : [0, 1, 0]\n",
        "        })\n",
        "\t\t\t\t\t\n",
        "\n",
        "estimator = tf.contrib.learn.SKCompat(tf.contrib.learn.LinearRegressor(model_dir='/tmp/linear_regression_trained_model_f', enable_centered_bias=False, feature_columns=tf.contrib.learn.infer_real_valued_columns_from_input(input.values)))\n",
        "\n",
        "preds = estimator.predict(x=input.values)\n",
        "\n",
        "predslistnorm = preds['scores']\n",
        "predslistscale = preds['scores']*850\n",
        "prednorm = format(str(predslistnorm))\n",
        "pred = format(str(predslistscale))\n",
        "print(prednorm)\n",
        "print(pred)"
      ],
      "execution_count": 143,
      "outputs": [
        {
          "output_type": "stream",
          "name": "stdout",
          "text": [
            "INFO:tensorflow:Using default config.\n",
            "INFO:tensorflow:Using config: {'_task_type': None, '_task_id': 0, '_cluster_spec': <tensorflow.python.training.server_lib.ClusterSpec object at 0x7f4f9b2c3590>, '_master': '', '_num_ps_replicas': 0, '_num_worker_replicas': 0, '_environment': 'local', '_is_chief': True, '_evaluation_master': '', '_train_distribute': None, '_eval_distribute': None, '_experimental_max_worker_delay_secs': None, '_device_fn': None, '_tf_config': gpu_options {\n",
            "  per_process_gpu_memory_fraction: 1.0\n",
            "}\n",
            ", '_tf_random_seed': None, '_save_summary_steps': 100, '_save_checkpoints_secs': 600, '_log_step_count_steps': 100, '_protocol': None, '_session_config': None, '_save_checkpoints_steps': None, '_keep_checkpoint_max': 5, '_keep_checkpoint_every_n_hours': 10000, '_model_dir': '/tmp/linear_regression_trained_model_f', '_session_creation_timeout_secs': 7200}\n",
            "INFO:tensorflow:Graph was finalized.\n",
            "INFO:tensorflow:Restoring parameters from /tmp/linear_regression_trained_model_f/model.ckpt-10000\n",
            "INFO:tensorflow:Running local_init_op.\n",
            "INFO:tensorflow:Done running local_init_op.\n",
            "[0.4994821  0.3299768  0.33760896]\n",
            "[424.55978 280.4803  286.96762]\n"
          ]
        }
      ]
    },
    {
      "cell_type": "markdown",
      "metadata": {
        "id": "FmC7UFGjEHbi"
      },
      "source": [
        "The values for number of accidents from the test data are 0.600, 0.541 and 0.103 whilst the values returned by the model are 0.559, 0.366 and 0.400 so the first set of values are very close however the next two sets are not."
      ]
    },
    {
      "cell_type": "markdown",
      "metadata": {
        "id": "eTQMTQa5poeH"
      },
      "source": [
        "Test model using random rows of validation data"
      ]
    },
    {
      "cell_type": "code",
      "metadata": {
        "colab": {
          "base_uri": "https://localhost:8080/",
          "height": 143
        },
        "id": "yczdvic9EsFX",
        "outputId": "0d0eeb38-1394-4bc7-bb93-4210a893e9d9"
      },
      "source": [
        "np.random.seed([4])\n",
        "\n",
        "shuffle_fog_test.sample(n = 3)"
      ],
      "execution_count": 144,
      "outputs": [
        {
          "output_type": "execute_result",
          "data": {
            "text/html": [
              "<div>\n",
              "<style scoped>\n",
              "    .dataframe tbody tr th:only-of-type {\n",
              "        vertical-align: middle;\n",
              "    }\n",
              "\n",
              "    .dataframe tbody tr th {\n",
              "        vertical-align: top;\n",
              "    }\n",
              "\n",
              "    .dataframe thead th {\n",
              "        text-align: right;\n",
              "    }\n",
              "</style>\n",
              "<table border=\"1\" class=\"dataframe\">\n",
              "  <thead>\n",
              "    <tr style=\"text-align: right;\">\n",
              "      <th></th>\n",
              "      <th>dayofweek</th>\n",
              "      <th>fog</th>\n",
              "      <th>num_accidents</th>\n",
              "    </tr>\n",
              "  </thead>\n",
              "  <tbody>\n",
              "    <tr>\n",
              "      <th>2131</th>\n",
              "      <td>6</td>\n",
              "      <td>0</td>\n",
              "      <td>0.665919</td>\n",
              "    </tr>\n",
              "    <tr>\n",
              "      <th>2347</th>\n",
              "      <td>5</td>\n",
              "      <td>0</td>\n",
              "      <td>0.669643</td>\n",
              "    </tr>\n",
              "    <tr>\n",
              "      <th>2200</th>\n",
              "      <td>5</td>\n",
              "      <td>1</td>\n",
              "      <td>0.354911</td>\n",
              "    </tr>\n",
              "  </tbody>\n",
              "</table>\n",
              "</div>"
            ],
            "text/plain": [
              "      dayofweek  fog  num_accidents\n",
              "2131          6    0       0.665919\n",
              "2347          5    0       0.669643\n",
              "2200          5    1       0.354911"
            ]
          },
          "metadata": {},
          "execution_count": 144
        }
      ]
    },
    {
      "cell_type": "code",
      "metadata": {
        "colab": {
          "base_uri": "https://localhost:8080/"
        },
        "id": "Upxgq_BCps6a",
        "outputId": "13626915-43db-406d-8523-7587df0b3a0b"
      },
      "source": [
        "input = pd.DataFrame.from_dict(data = \n",
        "\t\t\t\t{'dayofweek' : [5,7,4],\n",
        "         'fog' : [0, 0, 0]\n",
        "        })\n",
        "\t\t\t\t\t\n",
        "\n",
        "estimator = tf.contrib.learn.SKCompat(tf.contrib.learn.LinearRegressor(model_dir='/tmp/linear_regression_trained_model_f', enable_centered_bias=False, feature_columns=tf.contrib.learn.infer_real_valued_columns_from_input(input.values)))\n",
        "\n",
        "preds = estimator.predict(x=input.values)\n",
        "\n",
        "predslistnorm = preds['scores']\n",
        "predslistscale = preds['scores']*850\n",
        "prednorm = format(str(predslistnorm))\n",
        "pred = format(str(predslistscale))\n",
        "print(prednorm)\n",
        "print(pred)"
      ],
      "execution_count": 145,
      "outputs": [
        {
          "output_type": "stream",
          "name": "stdout",
          "text": [
            "INFO:tensorflow:Using default config.\n",
            "INFO:tensorflow:Using config: {'_task_type': None, '_task_id': 0, '_cluster_spec': <tensorflow.python.training.server_lib.ClusterSpec object at 0x7f4f9aa7a610>, '_master': '', '_num_ps_replicas': 0, '_num_worker_replicas': 0, '_environment': 'local', '_is_chief': True, '_evaluation_master': '', '_train_distribute': None, '_eval_distribute': None, '_experimental_max_worker_delay_secs': None, '_device_fn': None, '_tf_config': gpu_options {\n",
            "  per_process_gpu_memory_fraction: 1.0\n",
            "}\n",
            ", '_tf_random_seed': None, '_save_summary_steps': 100, '_save_checkpoints_secs': 600, '_log_step_count_steps': 100, '_protocol': None, '_session_config': None, '_save_checkpoints_steps': None, '_keep_checkpoint_max': 5, '_keep_checkpoint_every_n_hours': 10000, '_model_dir': '/tmp/linear_regression_trained_model_f', '_session_creation_timeout_secs': 7200}\n",
            "INFO:tensorflow:Graph was finalized.\n",
            "INFO:tensorflow:Restoring parameters from /tmp/linear_regression_trained_model_f/model.ckpt-10000\n",
            "INFO:tensorflow:Running local_init_op.\n",
            "INFO:tensorflow:Done running local_init_op.\n",
            "[0.45901382 0.5399504  0.41854554]\n",
            "[390.16174 458.95782 355.7637 ]\n"
          ]
        }
      ]
    },
    {
      "cell_type": "markdown",
      "metadata": {
        "id": "YVfsW5cWE55s"
      },
      "source": [
        "It can be seen that the actual values in the test data are 0.635, 0.667 and 0.587.  The values predicted by the model though are 0.519, 0.599 and 0.479.  This is not too far off though not extremely accurate either."
      ]
    },
    {
      "cell_type": "markdown",
      "metadata": {
        "id": "98zHjzGWuV84"
      },
      "source": [
        "### Create and test model for fog and temperature"
      ]
    },
    {
      "cell_type": "code",
      "metadata": {
        "colab": {
          "base_uri": "https://localhost:8080/"
        },
        "id": "xi7i1oaCucBq",
        "outputId": "dea553ce-54b2-48be-ccaf-2ad4e0486691"
      },
      "source": [
        "#shuffle fog/temperature dataset \n",
        "shuffle_fogtemp = df_tempfog_numacc.iloc[np.random.permutation(len(df_tempfog_numacc))]\n",
        "\n",
        "#create training and validation data\n",
        "shuffle_fogtemp_train, shuffle_fogtemp_test = train_test_split(shuffle_fogtemp, test_size=0.1)\n",
        "\n",
        "#select variables used for prediction\n",
        "predictors_fogtemp = shuffle_fogtemp_train.iloc[:,0:3]\n",
        "\n",
        "print(predictors_fogtemp[:10])"
      ],
      "execution_count": 146,
      "outputs": [
        {
          "output_type": "stream",
          "name": "stdout",
          "text": [
            "      dayofweek  temp  fog\n",
            "1364          2  57.6    0\n",
            "1562          4  49.8    0\n",
            "968           5  73.8    0\n",
            "1875          2  39.4    0\n",
            "37            5  34.8    0\n",
            "158           7  56.1    0\n",
            "1790          1  50.1    0\n",
            "1806          3  38.4    0\n",
            "509           1  54.6    0\n",
            "626           6  61.1    0\n"
          ]
        }
      ]
    },
    {
      "cell_type": "code",
      "metadata": {
        "colab": {
          "base_uri": "https://localhost:8080/",
          "height": 206
        },
        "id": "zGaHhxwqutpC",
        "outputId": "48c7071e-20d4-46ab-e912-828d8750ab35"
      },
      "source": [
        "shuffle_fogtemp_train[:5]"
      ],
      "execution_count": 147,
      "outputs": [
        {
          "output_type": "execute_result",
          "data": {
            "text/html": [
              "<div>\n",
              "<style scoped>\n",
              "    .dataframe tbody tr th:only-of-type {\n",
              "        vertical-align: middle;\n",
              "    }\n",
              "\n",
              "    .dataframe tbody tr th {\n",
              "        vertical-align: top;\n",
              "    }\n",
              "\n",
              "    .dataframe thead th {\n",
              "        text-align: right;\n",
              "    }\n",
              "</style>\n",
              "<table border=\"1\" class=\"dataframe\">\n",
              "  <thead>\n",
              "    <tr style=\"text-align: right;\">\n",
              "      <th></th>\n",
              "      <th>dayofweek</th>\n",
              "      <th>temp</th>\n",
              "      <th>fog</th>\n",
              "      <th>num_accidents</th>\n",
              "    </tr>\n",
              "  </thead>\n",
              "  <tbody>\n",
              "    <tr>\n",
              "      <th>1364</th>\n",
              "      <td>2</td>\n",
              "      <td>57.6</td>\n",
              "      <td>0</td>\n",
              "      <td>0.444206</td>\n",
              "    </tr>\n",
              "    <tr>\n",
              "      <th>1562</th>\n",
              "      <td>4</td>\n",
              "      <td>49.8</td>\n",
              "      <td>0</td>\n",
              "      <td>0.312236</td>\n",
              "    </tr>\n",
              "    <tr>\n",
              "      <th>968</th>\n",
              "      <td>5</td>\n",
              "      <td>73.8</td>\n",
              "      <td>0</td>\n",
              "      <td>0.526427</td>\n",
              "    </tr>\n",
              "    <tr>\n",
              "      <th>1875</th>\n",
              "      <td>2</td>\n",
              "      <td>39.4</td>\n",
              "      <td>0</td>\n",
              "      <td>0.163677</td>\n",
              "    </tr>\n",
              "    <tr>\n",
              "      <th>37</th>\n",
              "      <td>5</td>\n",
              "      <td>34.8</td>\n",
              "      <td>0</td>\n",
              "      <td>0.483945</td>\n",
              "    </tr>\n",
              "  </tbody>\n",
              "</table>\n",
              "</div>"
            ],
            "text/plain": [
              "      dayofweek  temp  fog  num_accidents\n",
              "1364          2  57.6    0       0.444206\n",
              "1562          4  49.8    0       0.312236\n",
              "968           5  73.8    0       0.526427\n",
              "1875          2  39.4    0       0.163677\n",
              "37            5  34.8    0       0.483945"
            ]
          },
          "metadata": {},
          "execution_count": 147
        }
      ]
    },
    {
      "cell_type": "code",
      "metadata": {
        "colab": {
          "base_uri": "https://localhost:8080/"
        },
        "id": "Qi-DRKiautw5",
        "outputId": "54efb3ed-0434-4998-a36f-50f7a18f1d10"
      },
      "source": [
        "#create targets \n",
        "targets_fogtemp = shuffle_fogtemp_train.iloc[:,3]\n",
        "\n",
        "print(targets_fogtemp[:10])"
      ],
      "execution_count": 148,
      "outputs": [
        {
          "output_type": "stream",
          "name": "stdout",
          "text": [
            "1364    0.444206\n",
            "1562    0.312236\n",
            "968     0.526427\n",
            "1875    0.163677\n",
            "37      0.483945\n",
            "158     1.000000\n",
            "1790    0.179325\n",
            "1806    0.746835\n",
            "509     0.291667\n",
            "626     0.671296\n",
            "Name: num_accidents, dtype: float64\n"
          ]
        }
      ]
    },
    {
      "cell_type": "markdown",
      "metadata": {
        "id": "k5Qgvpr4veQw"
      },
      "source": [
        "Create model"
      ]
    },
    {
      "cell_type": "code",
      "metadata": {
        "colab": {
          "base_uri": "https://localhost:8080/"
        },
        "id": "NlOkB40Su_wY",
        "outputId": "a3df5604-c69c-400a-9386-6c09e0e0a977"
      },
      "source": [
        "tf.compat.v1.logging.set_verbosity(tf.compat.v1.logging.INFO)\n",
        "\n",
        "shutil.rmtree('/tmp/linear_regression_trained_model_ft', ignore_errors=True)\n",
        "\n",
        "estimator_fogtemp = tf.contrib.learn.SKCompat(tf.contrib.learn.LinearRegressor(model_dir='/tmp/linear_regression_trained_model_ft', optimizer=tf.train.AdamOptimizer(learning_rate=0.1), enable_centered_bias=False, feature_columns=tf.contrib.learn.infer_real_valued_columns_from_input(predictors_fogtemp.values)))\n",
        "\n",
        "# Starting to train\n",
        "print(\"starting to train\");\n",
        "\n",
        "# Train the model. \n",
        "estimator_fogtemp.fit(predictors_fogtemp[:trainsize].values, targets_fogtemp[:trainsize].values.reshape(trainsize, noutputs)/SCALE_NUM_ACCIDENTS, steps=10000)\n",
        "\n",
        "# Check  predictions \n",
        "preds = estimator_fogtemp.predict(x=predictors_fogtemp[trainsize:].values)\n",
        "\n",
        "predslistscale = preds['scores']*SCALE_NUM_ACCIDENTS\n",
        "\n",
        "# pred = format(str(predslistscale)) # useful for checking outputs and printing.\n",
        "\n",
        "# Calculate RMSE\n",
        "rmse = np.sqrt(np.mean((targets_fogtemp[trainsize:].values - predslistscale)**2))\n",
        "print('LinearRegression Fog and Temperature has RMSE of {0}'.format(rmse));\n",
        "\n",
        "# Calculate the mean of the Number of Accidents.\n",
        "avg = np.mean(shuffle_fogtemp_train['num_accidents'][:trainsize])\n",
        "\n",
        "# Calculate the RMSE \n",
        "rmse = np.sqrt(np.mean((shuffle_fogtemp_train['num_accidents'][trainsize:] - avg)**2))\n",
        "print('Just using average = {0} has RMSE of {1}'.format(avg, rmse));"
      ],
      "execution_count": 149,
      "outputs": [
        {
          "output_type": "stream",
          "name": "stdout",
          "text": [
            "WARNING:tensorflow:float64 is not supported by many models, consider casting to float32.\n",
            "INFO:tensorflow:Using default config.\n",
            "INFO:tensorflow:Using config: {'_task_type': None, '_task_id': 0, '_cluster_spec': <tensorflow.python.training.server_lib.ClusterSpec object at 0x7f4fa086b110>, '_master': '', '_num_ps_replicas': 0, '_num_worker_replicas': 0, '_environment': 'local', '_is_chief': True, '_evaluation_master': '', '_train_distribute': None, '_eval_distribute': None, '_experimental_max_worker_delay_secs': None, '_device_fn': None, '_tf_config': gpu_options {\n",
            "  per_process_gpu_memory_fraction: 1.0\n",
            "}\n",
            ", '_tf_random_seed': None, '_save_summary_steps': 100, '_save_checkpoints_secs': 600, '_log_step_count_steps': 100, '_protocol': None, '_session_config': None, '_save_checkpoints_steps': None, '_keep_checkpoint_max': 5, '_keep_checkpoint_every_n_hours': 10000, '_model_dir': '/tmp/linear_regression_trained_model_ft', '_session_creation_timeout_secs': 7200}\n",
            "starting to train\n",
            "WARNING:tensorflow:float64 is not supported by many models, consider casting to float32.\n",
            "WARNING:tensorflow:float64 is not supported by many models, consider casting to float32.\n",
            "INFO:tensorflow:Create CheckpointSaverHook.\n",
            "INFO:tensorflow:Graph was finalized.\n",
            "INFO:tensorflow:Running local_init_op.\n",
            "INFO:tensorflow:Done running local_init_op.\n",
            "INFO:tensorflow:Saving checkpoints for 0 into /tmp/linear_regression_trained_model_ft/model.ckpt.\n",
            "INFO:tensorflow:loss = 0.28622645, step = 1\n",
            "INFO:tensorflow:global_step/sec: 693.711\n",
            "INFO:tensorflow:loss = 0.031946477, step = 101 (0.152 sec)\n",
            "INFO:tensorflow:global_step/sec: 887.629\n",
            "INFO:tensorflow:loss = 0.02421802, step = 201 (0.109 sec)\n",
            "INFO:tensorflow:global_step/sec: 834.32\n",
            "INFO:tensorflow:loss = 0.028187448, step = 301 (0.120 sec)\n",
            "INFO:tensorflow:global_step/sec: 812.96\n",
            "INFO:tensorflow:loss = 0.026925037, step = 401 (0.124 sec)\n",
            "INFO:tensorflow:global_step/sec: 954.038\n",
            "INFO:tensorflow:loss = 0.025543127, step = 501 (0.104 sec)\n",
            "INFO:tensorflow:global_step/sec: 895.503\n",
            "INFO:tensorflow:loss = 0.026249057, step = 601 (0.113 sec)\n",
            "INFO:tensorflow:global_step/sec: 878.839\n",
            "INFO:tensorflow:loss = 0.035787277, step = 701 (0.114 sec)\n",
            "INFO:tensorflow:global_step/sec: 832.854\n",
            "INFO:tensorflow:loss = 0.030111074, step = 801 (0.119 sec)\n",
            "INFO:tensorflow:global_step/sec: 859.998\n",
            "INFO:tensorflow:loss = 0.039875947, step = 901 (0.116 sec)\n",
            "INFO:tensorflow:global_step/sec: 959.301\n",
            "INFO:tensorflow:loss = 0.05898914, step = 1001 (0.107 sec)\n",
            "INFO:tensorflow:global_step/sec: 945.777\n",
            "INFO:tensorflow:loss = 0.03092442, step = 1101 (0.101 sec)\n",
            "INFO:tensorflow:global_step/sec: 952.312\n",
            "INFO:tensorflow:loss = 0.027101047, step = 1201 (0.109 sec)\n",
            "INFO:tensorflow:global_step/sec: 943.949\n",
            "INFO:tensorflow:loss = 0.09016122, step = 1301 (0.101 sec)\n",
            "INFO:tensorflow:global_step/sec: 913.591\n",
            "INFO:tensorflow:loss = 0.20975529, step = 1401 (0.113 sec)\n",
            "INFO:tensorflow:global_step/sec: 901.993\n",
            "INFO:tensorflow:loss = 0.038158685, step = 1501 (0.111 sec)\n",
            "INFO:tensorflow:global_step/sec: 906.622\n",
            "INFO:tensorflow:loss = 0.033989318, step = 1601 (0.107 sec)\n",
            "INFO:tensorflow:global_step/sec: 977.923\n",
            "INFO:tensorflow:loss = 0.03724359, step = 1701 (0.105 sec)\n",
            "INFO:tensorflow:global_step/sec: 930.744\n",
            "INFO:tensorflow:loss = 0.028772064, step = 1801 (0.107 sec)\n",
            "INFO:tensorflow:global_step/sec: 881.079\n",
            "INFO:tensorflow:loss = 0.08005722, step = 1901 (0.113 sec)\n",
            "INFO:tensorflow:global_step/sec: 870.036\n",
            "INFO:tensorflow:loss = 0.022843096, step = 2001 (0.113 sec)\n",
            "INFO:tensorflow:global_step/sec: 945.17\n",
            "INFO:tensorflow:loss = 0.057534114, step = 2101 (0.106 sec)\n",
            "INFO:tensorflow:global_step/sec: 980.007\n",
            "INFO:tensorflow:loss = 0.13671753, step = 2201 (0.103 sec)\n",
            "INFO:tensorflow:global_step/sec: 901.505\n",
            "INFO:tensorflow:loss = 0.08570755, step = 2301 (0.112 sec)\n",
            "INFO:tensorflow:global_step/sec: 864.514\n",
            "INFO:tensorflow:loss = 0.06959568, step = 2401 (0.115 sec)\n",
            "INFO:tensorflow:global_step/sec: 870.927\n",
            "INFO:tensorflow:loss = 0.034612916, step = 2501 (0.114 sec)\n",
            "INFO:tensorflow:global_step/sec: 856.764\n",
            "INFO:tensorflow:loss = 0.033257246, step = 2601 (0.118 sec)\n",
            "INFO:tensorflow:global_step/sec: 985.592\n",
            "INFO:tensorflow:loss = 0.029726032, step = 2701 (0.102 sec)\n",
            "INFO:tensorflow:global_step/sec: 879.635\n",
            "INFO:tensorflow:loss = 0.05273346, step = 2801 (0.114 sec)\n",
            "INFO:tensorflow:global_step/sec: 938.68\n",
            "INFO:tensorflow:loss = 0.09250891, step = 2901 (0.106 sec)\n",
            "INFO:tensorflow:global_step/sec: 921.704\n",
            "INFO:tensorflow:loss = 0.079070285, step = 3001 (0.108 sec)\n",
            "INFO:tensorflow:global_step/sec: 924.334\n",
            "INFO:tensorflow:loss = 0.03410206, step = 3101 (0.109 sec)\n",
            "INFO:tensorflow:global_step/sec: 923.959\n",
            "INFO:tensorflow:loss = 0.028636768, step = 3201 (0.108 sec)\n",
            "INFO:tensorflow:global_step/sec: 982.183\n",
            "INFO:tensorflow:loss = 0.028416798, step = 3301 (0.100 sec)\n",
            "INFO:tensorflow:global_step/sec: 950.529\n",
            "INFO:tensorflow:loss = 0.043344066, step = 3401 (0.111 sec)\n",
            "INFO:tensorflow:global_step/sec: 829.419\n",
            "INFO:tensorflow:loss = 0.08257611, step = 3501 (0.116 sec)\n",
            "INFO:tensorflow:global_step/sec: 899.77\n",
            "INFO:tensorflow:loss = 0.28187966, step = 3601 (0.109 sec)\n",
            "INFO:tensorflow:global_step/sec: 923.9\n",
            "INFO:tensorflow:loss = 0.041584164, step = 3701 (0.112 sec)\n",
            "INFO:tensorflow:global_step/sec: 923.626\n",
            "INFO:tensorflow:loss = 0.11026146, step = 3801 (0.108 sec)\n",
            "INFO:tensorflow:global_step/sec: 864.866\n",
            "INFO:tensorflow:loss = 0.042130753, step = 3901 (0.115 sec)\n",
            "INFO:tensorflow:global_step/sec: 938.203\n",
            "INFO:tensorflow:loss = 0.08306076, step = 4001 (0.103 sec)\n",
            "INFO:tensorflow:global_step/sec: 950.296\n",
            "INFO:tensorflow:loss = 0.05621731, step = 4101 (0.108 sec)\n",
            "INFO:tensorflow:global_step/sec: 969.99\n",
            "INFO:tensorflow:loss = 0.022689195, step = 4201 (0.103 sec)\n",
            "INFO:tensorflow:global_step/sec: 908.399\n",
            "INFO:tensorflow:loss = 0.02907164, step = 4301 (0.110 sec)\n",
            "INFO:tensorflow:global_step/sec: 931.393\n",
            "INFO:tensorflow:loss = 0.02653946, step = 4401 (0.108 sec)\n",
            "INFO:tensorflow:global_step/sec: 944.669\n",
            "INFO:tensorflow:loss = 0.027153295, step = 4501 (0.103 sec)\n",
            "INFO:tensorflow:global_step/sec: 955.409\n",
            "INFO:tensorflow:loss = 0.030725297, step = 4601 (0.106 sec)\n",
            "INFO:tensorflow:global_step/sec: 885.425\n",
            "INFO:tensorflow:loss = 0.02570518, step = 4701 (0.113 sec)\n",
            "INFO:tensorflow:global_step/sec: 971.063\n",
            "INFO:tensorflow:loss = 0.06442344, step = 4801 (0.105 sec)\n",
            "INFO:tensorflow:global_step/sec: 943.915\n",
            "INFO:tensorflow:loss = 0.11119117, step = 4901 (0.107 sec)\n",
            "INFO:tensorflow:global_step/sec: 952.777\n",
            "INFO:tensorflow:loss = 0.04578509, step = 5001 (0.105 sec)\n",
            "INFO:tensorflow:global_step/sec: 965.715\n",
            "INFO:tensorflow:loss = 0.04844576, step = 5101 (0.103 sec)\n",
            "INFO:tensorflow:global_step/sec: 888.552\n",
            "INFO:tensorflow:loss = 0.034427714, step = 5201 (0.112 sec)\n",
            "INFO:tensorflow:global_step/sec: 890.178\n",
            "INFO:tensorflow:loss = 0.038318716, step = 5301 (0.111 sec)\n",
            "INFO:tensorflow:global_step/sec: 871.211\n",
            "INFO:tensorflow:loss = 0.15279195, step = 5401 (0.113 sec)\n",
            "INFO:tensorflow:global_step/sec: 967.243\n",
            "INFO:tensorflow:loss = 0.13184288, step = 5501 (0.104 sec)\n",
            "INFO:tensorflow:global_step/sec: 882.697\n",
            "INFO:tensorflow:loss = 0.02475572, step = 5601 (0.115 sec)\n",
            "INFO:tensorflow:global_step/sec: 946.778\n",
            "INFO:tensorflow:loss = 0.08850693, step = 5701 (0.103 sec)\n",
            "INFO:tensorflow:global_step/sec: 944.089\n",
            "INFO:tensorflow:loss = 0.16469714, step = 5801 (0.110 sec)\n",
            "INFO:tensorflow:global_step/sec: 873.673\n",
            "INFO:tensorflow:loss = 0.085580766, step = 5901 (0.111 sec)\n",
            "INFO:tensorflow:global_step/sec: 959.514\n",
            "INFO:tensorflow:loss = 0.045026287, step = 6001 (0.109 sec)\n",
            "INFO:tensorflow:global_step/sec: 948.996\n",
            "INFO:tensorflow:loss = 0.09264439, step = 6101 (0.101 sec)\n",
            "INFO:tensorflow:global_step/sec: 950.247\n",
            "INFO:tensorflow:loss = 0.056561388, step = 6201 (0.110 sec)\n",
            "INFO:tensorflow:global_step/sec: 870.489\n",
            "INFO:tensorflow:loss = 0.05975754, step = 6301 (0.110 sec)\n",
            "INFO:tensorflow:global_step/sec: 846.532\n",
            "INFO:tensorflow:loss = 0.037584025, step = 6401 (0.121 sec)\n",
            "INFO:tensorflow:global_step/sec: 951.927\n",
            "INFO:tensorflow:loss = 0.04075081, step = 6501 (0.104 sec)\n",
            "INFO:tensorflow:global_step/sec: 936.229\n",
            "INFO:tensorflow:loss = 0.02751854, step = 6601 (0.105 sec)\n",
            "INFO:tensorflow:global_step/sec: 912.311\n",
            "INFO:tensorflow:loss = 0.03637749, step = 6701 (0.112 sec)\n",
            "INFO:tensorflow:global_step/sec: 976.28\n",
            "INFO:tensorflow:loss = 0.030315217, step = 6801 (0.103 sec)\n",
            "INFO:tensorflow:global_step/sec: 879.433\n",
            "INFO:tensorflow:loss = 0.057089068, step = 6901 (0.113 sec)\n",
            "INFO:tensorflow:global_step/sec: 915.397\n",
            "INFO:tensorflow:loss = 0.028524173, step = 7001 (0.109 sec)\n",
            "INFO:tensorflow:global_step/sec: 932.086\n",
            "INFO:tensorflow:loss = 0.029072328, step = 7101 (0.107 sec)\n",
            "INFO:tensorflow:global_step/sec: 902.797\n",
            "INFO:tensorflow:loss = 0.03268048, step = 7201 (0.110 sec)\n",
            "INFO:tensorflow:global_step/sec: 914.421\n",
            "INFO:tensorflow:loss = 0.043325506, step = 7301 (0.112 sec)\n",
            "INFO:tensorflow:global_step/sec: 936.862\n",
            "INFO:tensorflow:loss = 0.04109416, step = 7401 (0.107 sec)\n",
            "INFO:tensorflow:global_step/sec: 918.923\n",
            "INFO:tensorflow:loss = 0.11624321, step = 7501 (0.105 sec)\n",
            "INFO:tensorflow:global_step/sec: 921.418\n",
            "INFO:tensorflow:loss = 0.029723018, step = 7601 (0.109 sec)\n",
            "INFO:tensorflow:global_step/sec: 914.108\n",
            "INFO:tensorflow:loss = 0.03280909, step = 7701 (0.112 sec)\n",
            "INFO:tensorflow:global_step/sec: 926.566\n",
            "INFO:tensorflow:loss = 0.027772252, step = 7801 (0.108 sec)\n",
            "INFO:tensorflow:global_step/sec: 957.084\n",
            "INFO:tensorflow:loss = 0.02720477, step = 7901 (0.102 sec)\n",
            "INFO:tensorflow:global_step/sec: 950.354\n",
            "INFO:tensorflow:loss = 0.039030697, step = 8001 (0.104 sec)\n",
            "INFO:tensorflow:global_step/sec: 856.225\n",
            "INFO:tensorflow:loss = 0.05177109, step = 8101 (0.118 sec)\n",
            "INFO:tensorflow:global_step/sec: 949.954\n",
            "INFO:tensorflow:loss = 0.026448585, step = 8201 (0.105 sec)\n",
            "INFO:tensorflow:global_step/sec: 961.004\n",
            "INFO:tensorflow:loss = 0.060583808, step = 8301 (0.107 sec)\n",
            "INFO:tensorflow:global_step/sec: 981.739\n",
            "INFO:tensorflow:loss = 0.057049237, step = 8401 (0.102 sec)\n",
            "INFO:tensorflow:global_step/sec: 883.934\n",
            "INFO:tensorflow:loss = 0.031934477, step = 8501 (0.111 sec)\n",
            "INFO:tensorflow:global_step/sec: 892.682\n",
            "INFO:tensorflow:loss = 0.030637085, step = 8601 (0.116 sec)\n",
            "INFO:tensorflow:global_step/sec: 924.365\n",
            "INFO:tensorflow:loss = 0.035297282, step = 8701 (0.106 sec)\n",
            "INFO:tensorflow:global_step/sec: 984.336\n",
            "INFO:tensorflow:loss = 0.050314292, step = 8801 (0.104 sec)\n",
            "INFO:tensorflow:global_step/sec: 904.518\n",
            "INFO:tensorflow:loss = 0.029001513, step = 8901 (0.110 sec)\n",
            "INFO:tensorflow:global_step/sec: 833.51\n",
            "INFO:tensorflow:loss = 0.024659611, step = 9001 (0.120 sec)\n",
            "INFO:tensorflow:global_step/sec: 874.041\n",
            "INFO:tensorflow:loss = 0.059013136, step = 9101 (0.111 sec)\n",
            "INFO:tensorflow:global_step/sec: 956.747\n",
            "INFO:tensorflow:loss = 0.040502667, step = 9201 (0.104 sec)\n",
            "INFO:tensorflow:global_step/sec: 846.228\n",
            "INFO:tensorflow:loss = 0.029519487, step = 9301 (0.118 sec)\n",
            "INFO:tensorflow:global_step/sec: 934.789\n",
            "INFO:tensorflow:loss = 0.06567548, step = 9401 (0.111 sec)\n",
            "INFO:tensorflow:global_step/sec: 941.461\n",
            "INFO:tensorflow:loss = 0.13663507, step = 9501 (0.104 sec)\n",
            "INFO:tensorflow:global_step/sec: 972.204\n",
            "INFO:tensorflow:loss = 0.0367635, step = 9601 (0.106 sec)\n",
            "INFO:tensorflow:global_step/sec: 797.179\n",
            "INFO:tensorflow:loss = 0.067927524, step = 9701 (0.121 sec)\n",
            "INFO:tensorflow:global_step/sec: 976.764\n",
            "INFO:tensorflow:loss = 0.036290254, step = 9801 (0.105 sec)\n",
            "INFO:tensorflow:global_step/sec: 936.438\n",
            "INFO:tensorflow:loss = 0.20897542, step = 9901 (0.104 sec)\n",
            "INFO:tensorflow:Saving checkpoints for 10000 into /tmp/linear_regression_trained_model_ft/model.ckpt.\n",
            "INFO:tensorflow:Loss for final step: 0.095370404.\n",
            "WARNING:tensorflow:float64 is not supported by many models, consider casting to float32.\n",
            "INFO:tensorflow:Graph was finalized.\n",
            "INFO:tensorflow:Restoring parameters from /tmp/linear_regression_trained_model_ft/model.ckpt-10000\n",
            "INFO:tensorflow:Running local_init_op.\n",
            "INFO:tensorflow:Done running local_init_op.\n",
            "LinearRegression Fog and Temperature has RMSE of 0.22203548494080236\n",
            "Just using average = 0.5079408044332816 has RMSE of 0.19396561922968597\n"
          ]
        }
      ]
    },
    {
      "cell_type": "markdown",
      "metadata": {
        "id": "qg_yVuy3FY3M"
      },
      "source": [
        "The RMSE values are 0.222 and 0.194 which are good so the model will now be tested using the validation dataset."
      ]
    },
    {
      "cell_type": "markdown",
      "metadata": {
        "id": "tXzklCkWvap4"
      },
      "source": [
        "Test model using first three rows of the test data"
      ]
    },
    {
      "cell_type": "code",
      "metadata": {
        "colab": {
          "base_uri": "https://localhost:8080/",
          "height": 143
        },
        "id": "CZlv85D3FmMu",
        "outputId": "f3498474-2ade-483b-de11-abbf4e09b633"
      },
      "source": [
        "shuffle_fogtemp_test[:3]"
      ],
      "execution_count": 150,
      "outputs": [
        {
          "output_type": "execute_result",
          "data": {
            "text/html": [
              "<div>\n",
              "<style scoped>\n",
              "    .dataframe tbody tr th:only-of-type {\n",
              "        vertical-align: middle;\n",
              "    }\n",
              "\n",
              "    .dataframe tbody tr th {\n",
              "        vertical-align: top;\n",
              "    }\n",
              "\n",
              "    .dataframe thead th {\n",
              "        text-align: right;\n",
              "    }\n",
              "</style>\n",
              "<table border=\"1\" class=\"dataframe\">\n",
              "  <thead>\n",
              "    <tr style=\"text-align: right;\">\n",
              "      <th></th>\n",
              "      <th>dayofweek</th>\n",
              "      <th>temp</th>\n",
              "      <th>fog</th>\n",
              "      <th>num_accidents</th>\n",
              "    </tr>\n",
              "  </thead>\n",
              "  <tbody>\n",
              "    <tr>\n",
              "      <th>942</th>\n",
              "      <td>7</td>\n",
              "      <td>76.7</td>\n",
              "      <td>0</td>\n",
              "      <td>0.837209</td>\n",
              "    </tr>\n",
              "    <tr>\n",
              "      <th>1160</th>\n",
              "      <td>1</td>\n",
              "      <td>34.8</td>\n",
              "      <td>0</td>\n",
              "      <td>0.506438</td>\n",
              "    </tr>\n",
              "    <tr>\n",
              "      <th>62</th>\n",
              "      <td>2</td>\n",
              "      <td>37.4</td>\n",
              "      <td>0</td>\n",
              "      <td>0.337156</td>\n",
              "    </tr>\n",
              "  </tbody>\n",
              "</table>\n",
              "</div>"
            ],
            "text/plain": [
              "      dayofweek  temp  fog  num_accidents\n",
              "942           7  76.7    0       0.837209\n",
              "1160          1  34.8    0       0.506438\n",
              "62            2  37.4    0       0.337156"
            ]
          },
          "metadata": {},
          "execution_count": 150
        }
      ]
    },
    {
      "cell_type": "code",
      "metadata": {
        "colab": {
          "base_uri": "https://localhost:8080/"
        },
        "id": "4ygrc61Ava4K",
        "outputId": "8647ac44-1d75-46b2-f862-a6f05d4cd682"
      },
      "source": [
        "input = pd.DataFrame.from_dict(data = \n",
        "\t\t\t\t{'dayofweek' : [7,1,2],\n",
        "         'temp' : [76.7, 34.8, 37.4],\n",
        "     'fog' : [0, 0, 0]\n",
        "        })\n",
        "\t\t\t\t\t\n",
        "\n",
        "estimator = tf.contrib.learn.SKCompat(tf.contrib.learn.LinearRegressor(model_dir='/tmp/linear_regression_trained_model_ft', enable_centered_bias=False, feature_columns=tf.contrib.learn.infer_real_valued_columns_from_input(input.values)))\n",
        "\n",
        "preds = estimator.predict(x=input.values)\n",
        "\n",
        "predslistnorm = preds['scores']\n",
        "predslistscale = preds['scores']*850\n",
        "prednorm = format(str(predslistnorm))\n",
        "pred = format(str(predslistscale))\n",
        "print(prednorm)\n",
        "print(pred)"
      ],
      "execution_count": 151,
      "outputs": [
        {
          "output_type": "stream",
          "name": "stdout",
          "text": [
            "WARNING:tensorflow:float64 is not supported by many models, consider casting to float32.\n",
            "INFO:tensorflow:Using default config.\n",
            "INFO:tensorflow:Using config: {'_task_type': None, '_task_id': 0, '_cluster_spec': <tensorflow.python.training.server_lib.ClusterSpec object at 0x7f4f9b333110>, '_master': '', '_num_ps_replicas': 0, '_num_worker_replicas': 0, '_environment': 'local', '_is_chief': True, '_evaluation_master': '', '_train_distribute': None, '_eval_distribute': None, '_experimental_max_worker_delay_secs': None, '_device_fn': None, '_tf_config': gpu_options {\n",
            "  per_process_gpu_memory_fraction: 1.0\n",
            "}\n",
            ", '_tf_random_seed': None, '_save_summary_steps': 100, '_save_checkpoints_secs': 600, '_log_step_count_steps': 100, '_protocol': None, '_session_config': None, '_save_checkpoints_steps': None, '_keep_checkpoint_max': 5, '_keep_checkpoint_every_n_hours': 10000, '_model_dir': '/tmp/linear_regression_trained_model_ft', '_session_creation_timeout_secs': 7200}\n",
            "WARNING:tensorflow:float64 is not supported by many models, consider casting to float32.\n",
            "INFO:tensorflow:Graph was finalized.\n",
            "INFO:tensorflow:Restoring parameters from /tmp/linear_regression_trained_model_ft/model.ckpt-10000\n",
            "INFO:tensorflow:Running local_init_op.\n",
            "INFO:tensorflow:Done running local_init_op.\n",
            "[0.53818905 0.20599982 0.2616928 ]\n",
            "[457.4607  175.09985 222.43887]\n"
          ]
        }
      ]
    },
    {
      "cell_type": "markdown",
      "metadata": {
        "id": "qU_eSFtIFz88"
      },
      "source": [
        "The normalised number of accidents from the test data are 0.837, 0.506 and 0.337 however the predictions made by the model are 0.538, 0.206 and 0.262.  The first two sets of values are not accurate at all though the third is a bit closer."
      ]
    },
    {
      "cell_type": "markdown",
      "metadata": {
        "id": "Qk9SF2W8vgoN"
      },
      "source": [
        "Test model using random rows from the test data"
      ]
    },
    {
      "cell_type": "code",
      "metadata": {
        "colab": {
          "base_uri": "https://localhost:8080/",
          "height": 143
        },
        "id": "BMZFUD2_GN8q",
        "outputId": "2e57a925-d527-485f-b0dc-ff4dc866fcb1"
      },
      "source": [
        "np.random.seed([5])\n",
        "\n",
        "shuffle_fogtemp_test.sample(n = 3)"
      ],
      "execution_count": 152,
      "outputs": [
        {
          "output_type": "execute_result",
          "data": {
            "text/html": [
              "<div>\n",
              "<style scoped>\n",
              "    .dataframe tbody tr th:only-of-type {\n",
              "        vertical-align: middle;\n",
              "    }\n",
              "\n",
              "    .dataframe tbody tr th {\n",
              "        vertical-align: top;\n",
              "    }\n",
              "\n",
              "    .dataframe thead th {\n",
              "        text-align: right;\n",
              "    }\n",
              "</style>\n",
              "<table border=\"1\" class=\"dataframe\">\n",
              "  <thead>\n",
              "    <tr style=\"text-align: right;\">\n",
              "      <th></th>\n",
              "      <th>dayofweek</th>\n",
              "      <th>temp</th>\n",
              "      <th>fog</th>\n",
              "      <th>num_accidents</th>\n",
              "    </tr>\n",
              "  </thead>\n",
              "  <tbody>\n",
              "    <tr>\n",
              "      <th>2466</th>\n",
              "      <td>5</td>\n",
              "      <td>67.6</td>\n",
              "      <td>0</td>\n",
              "      <td>0.743304</td>\n",
              "    </tr>\n",
              "    <tr>\n",
              "      <th>2125</th>\n",
              "      <td>7</td>\n",
              "      <td>39.8</td>\n",
              "      <td>0</td>\n",
              "      <td>0.780269</td>\n",
              "    </tr>\n",
              "    <tr>\n",
              "      <th>749</th>\n",
              "      <td>3</td>\n",
              "      <td>41.7</td>\n",
              "      <td>0</td>\n",
              "      <td>0.293869</td>\n",
              "    </tr>\n",
              "  </tbody>\n",
              "</table>\n",
              "</div>"
            ],
            "text/plain": [
              "      dayofweek  temp  fog  num_accidents\n",
              "2466          5  67.6    0       0.743304\n",
              "2125          7  39.8    0       0.780269\n",
              "749           3  41.7    0       0.293869"
            ]
          },
          "metadata": {},
          "execution_count": 152
        }
      ]
    },
    {
      "cell_type": "code",
      "metadata": {
        "colab": {
          "base_uri": "https://localhost:8080/"
        },
        "id": "K_ZH1CwhwDcu",
        "outputId": "11340fff-4a43-4b3d-a8b2-ed8699a9658f"
      },
      "source": [
        "input = pd.DataFrame.from_dict(data = \n",
        "\t\t\t\t{'dayofweek' : [5,7,3],\n",
        "         'temp' : [67.6, 39.8, 41.7],\n",
        "     'fog' : [0, 0, 0]\n",
        "        })\n",
        "\t\t\t\t\t\n",
        "\n",
        "estimator = tf.contrib.learn.SKCompat(tf.contrib.learn.LinearRegressor(model_dir='/tmp/linear_regression_trained_model_ft', enable_centered_bias=False, feature_columns=tf.contrib.learn.infer_real_valued_columns_from_input(input.values)))\n",
        "\n",
        "preds = estimator.predict(x=input.values)\n",
        "\n",
        "predslistnorm = preds['scores']\n",
        "predslistscale = preds['scores']*850\n",
        "prednorm = format(str(predslistnorm))\n",
        "pred = format(str(predslistscale))\n",
        "print(prednorm)\n",
        "print(pred)"
      ],
      "execution_count": 153,
      "outputs": [
        {
          "output_type": "stream",
          "name": "stdout",
          "text": [
            "WARNING:tensorflow:float64 is not supported by many models, consider casting to float32.\n",
            "INFO:tensorflow:Using default config.\n",
            "INFO:tensorflow:Using config: {'_task_type': None, '_task_id': 0, '_cluster_spec': <tensorflow.python.training.server_lib.ClusterSpec object at 0x7f4fa0770c50>, '_master': '', '_num_ps_replicas': 0, '_num_worker_replicas': 0, '_environment': 'local', '_is_chief': True, '_evaluation_master': '', '_train_distribute': None, '_eval_distribute': None, '_experimental_max_worker_delay_secs': None, '_device_fn': None, '_tf_config': gpu_options {\n",
            "  per_process_gpu_memory_fraction: 1.0\n",
            "}\n",
            ", '_tf_random_seed': None, '_save_summary_steps': 100, '_save_checkpoints_secs': 600, '_log_step_count_steps': 100, '_protocol': None, '_session_config': None, '_save_checkpoints_steps': None, '_keep_checkpoint_max': 5, '_keep_checkpoint_every_n_hours': 10000, '_model_dir': '/tmp/linear_regression_trained_model_ft', '_session_creation_timeout_secs': 7200}\n",
            "WARNING:tensorflow:float64 is not supported by many models, consider casting to float32.\n",
            "INFO:tensorflow:Graph was finalized.\n",
            "INFO:tensorflow:Restoring parameters from /tmp/linear_regression_trained_model_ft/model.ckpt-10000\n",
            "INFO:tensorflow:Running local_init_op.\n",
            "INFO:tensorflow:Done running local_init_op.\n",
            "[0.42709503 0.540951   0.3172585 ]\n",
            "[363.03076 459.80835 269.66974]\n"
          ]
        }
      ]
    },
    {
      "cell_type": "markdown",
      "metadata": {
        "id": "pXeQU-0zGbPt"
      },
      "source": [
        "The actual normalised values of number of accidents tested are 0.743, 0.780 and 0.294 whilst the predictions of the model are 0.427, 0.541 and 0.317.  This gives a similar result to the previous test in that the first two sets of values are not close at all but the third one is ok."
      ]
    },
    {
      "cell_type": "markdown",
      "metadata": {
        "id": "ENhIVeRnxPul"
      },
      "source": [
        "### Create and test model for temperature, visibility and fog"
      ]
    },
    {
      "cell_type": "code",
      "metadata": {
        "colab": {
          "base_uri": "https://localhost:8080/"
        },
        "id": "3oPSoViZxZBK",
        "outputId": "c01cc51a-4fb2-4872-d4f1-0b925d0cc055"
      },
      "source": [
        "#shuffle fog/temperature/visibility dataset \n",
        "shuffle_fogtempvis = df_tempfogvisib_numacc.iloc[np.random.permutation(len(df_tempfogvisib_numacc))]\n",
        "\n",
        "#create training and validation data\n",
        "shuffle_fogtempvis_train, shuffle_fogtempvis_test = train_test_split(shuffle_fogtempvis, test_size=0.1)\n",
        "\n",
        "#select variables used for prediction\n",
        "predictors_fogtempvis = shuffle_fogtempvis_train.iloc[:,0:4]\n",
        "\n",
        "print(predictors_fogtempvis[:10])"
      ],
      "execution_count": 154,
      "outputs": [
        {
          "output_type": "stream",
          "name": "stdout",
          "text": [
            "      dayofweek  temp  visib  fog\n",
            "2080          4  68.9    7.4    1\n",
            "353           6  39.1   10.0    0\n",
            "1127          3  47.6    6.9    0\n",
            "630           3  67.9    8.2    1\n",
            "2066          4  73.0    3.5    1\n",
            "1732          6  69.4    4.9    1\n",
            "42            3  36.4    7.6    0\n",
            "1396          6  46.5    9.8    0\n",
            "1622          1  60.4    9.3    0\n",
            "1744          4  68.8    5.9    1\n"
          ]
        }
      ]
    },
    {
      "cell_type": "code",
      "metadata": {
        "colab": {
          "base_uri": "https://localhost:8080/",
          "height": 206
        },
        "id": "9BSXX_HoxpHq",
        "outputId": "f25b9eaa-ded7-4e77-d45a-201b7f16e73f"
      },
      "source": [
        "shuffle_fogtempvis_train[:5]"
      ],
      "execution_count": 155,
      "outputs": [
        {
          "output_type": "execute_result",
          "data": {
            "text/html": [
              "<div>\n",
              "<style scoped>\n",
              "    .dataframe tbody tr th:only-of-type {\n",
              "        vertical-align: middle;\n",
              "    }\n",
              "\n",
              "    .dataframe tbody tr th {\n",
              "        vertical-align: top;\n",
              "    }\n",
              "\n",
              "    .dataframe thead th {\n",
              "        text-align: right;\n",
              "    }\n",
              "</style>\n",
              "<table border=\"1\" class=\"dataframe\">\n",
              "  <thead>\n",
              "    <tr style=\"text-align: right;\">\n",
              "      <th></th>\n",
              "      <th>dayofweek</th>\n",
              "      <th>temp</th>\n",
              "      <th>visib</th>\n",
              "      <th>fog</th>\n",
              "      <th>num_accidents</th>\n",
              "    </tr>\n",
              "  </thead>\n",
              "  <tbody>\n",
              "    <tr>\n",
              "      <th>2080</th>\n",
              "      <td>4</td>\n",
              "      <td>68.9</td>\n",
              "      <td>7.4</td>\n",
              "      <td>1</td>\n",
              "      <td>0.325112</td>\n",
              "    </tr>\n",
              "    <tr>\n",
              "      <th>353</th>\n",
              "      <td>6</td>\n",
              "      <td>39.1</td>\n",
              "      <td>10.0</td>\n",
              "      <td>0</td>\n",
              "      <td>0.577982</td>\n",
              "    </tr>\n",
              "    <tr>\n",
              "      <th>1127</th>\n",
              "      <td>3</td>\n",
              "      <td>47.6</td>\n",
              "      <td>6.9</td>\n",
              "      <td>0</td>\n",
              "      <td>0.753219</td>\n",
              "    </tr>\n",
              "    <tr>\n",
              "      <th>630</th>\n",
              "      <td>3</td>\n",
              "      <td>67.9</td>\n",
              "      <td>8.2</td>\n",
              "      <td>1</td>\n",
              "      <td>0.699074</td>\n",
              "    </tr>\n",
              "    <tr>\n",
              "      <th>2066</th>\n",
              "      <td>4</td>\n",
              "      <td>73.0</td>\n",
              "      <td>3.5</td>\n",
              "      <td>1</td>\n",
              "      <td>0.708520</td>\n",
              "    </tr>\n",
              "  </tbody>\n",
              "</table>\n",
              "</div>"
            ],
            "text/plain": [
              "      dayofweek  temp  visib  fog  num_accidents\n",
              "2080          4  68.9    7.4    1       0.325112\n",
              "353           6  39.1   10.0    0       0.577982\n",
              "1127          3  47.6    6.9    0       0.753219\n",
              "630           3  67.9    8.2    1       0.699074\n",
              "2066          4  73.0    3.5    1       0.708520"
            ]
          },
          "metadata": {},
          "execution_count": 155
        }
      ]
    },
    {
      "cell_type": "code",
      "metadata": {
        "colab": {
          "base_uri": "https://localhost:8080/"
        },
        "id": "JVoZDxauxvhE",
        "outputId": "703373d4-6ad5-43d2-9a9b-3d24b1a4d20b"
      },
      "source": [
        "#create targets \n",
        "targets_fogtempvis = shuffle_fogtempvis_train.iloc[:,4]\n",
        "\n",
        "print(targets_fogtempvis[:10])"
      ],
      "execution_count": 156,
      "outputs": [
        {
          "output_type": "stream",
          "name": "stdout",
          "text": [
            "2080    0.325112\n",
            "353     0.577982\n",
            "1127    0.753219\n",
            "630     0.699074\n",
            "2066    0.708520\n",
            "1732    0.778481\n",
            "42      0.275229\n",
            "1396    1.000000\n",
            "1622    0.620253\n",
            "1744    0.837553\n",
            "Name: num_accidents, dtype: float64\n"
          ]
        }
      ]
    },
    {
      "cell_type": "markdown",
      "metadata": {
        "id": "QxRoToHXx27H"
      },
      "source": [
        "Create model"
      ]
    },
    {
      "cell_type": "code",
      "metadata": {
        "colab": {
          "base_uri": "https://localhost:8080/"
        },
        "id": "f7fTZ3k4x2Fu",
        "outputId": "7bf57c91-fd18-4087-f6f0-38f2153ab0b6"
      },
      "source": [
        "tf.compat.v1.logging.set_verbosity(tf.compat.v1.logging.INFO)\n",
        "\n",
        "shutil.rmtree('/tmp/linear_regression_trained_model_ftv', ignore_errors=True)\n",
        "\n",
        "estimator_fogtempvis = tf.contrib.learn.SKCompat(tf.contrib.learn.LinearRegressor(model_dir='/tmp/linear_regression_trained_model_ftv', optimizer=tf.train.AdamOptimizer(learning_rate=0.1), enable_centered_bias=False, feature_columns=tf.contrib.learn.infer_real_valued_columns_from_input(predictors_fogtempvis.values)))\n",
        "\n",
        "# Starting to train\n",
        "print(\"starting to train\");\n",
        "\n",
        "# Train the model. \n",
        "estimator_fogtempvis.fit(predictors_fogtempvis[:trainsize].values, targets_fogtempvis[:trainsize].values.reshape(trainsize, noutputs)/SCALE_NUM_ACCIDENTS, steps=10000)\n",
        "\n",
        "# Check  predictions \n",
        "preds = estimator_fogtempvis.predict(x=predictors_fogtempvis[trainsize:].values)\n",
        "\n",
        "predslistscale = preds['scores']*SCALE_NUM_ACCIDENTS\n",
        "\n",
        "# pred = format(str(predslistscale)) # useful for checking outputs and printing.\n",
        "\n",
        "# Calculate RMSE\n",
        "rmse = np.sqrt(np.mean((targets_fogtempvis[trainsize:].values - predslistscale)**2))\n",
        "print('LinearRegression Fog, Temperature and Visibility has RMSE of {0}'.format(rmse));\n",
        "\n",
        "# Calculate the mean of the Number of Accidents.\n",
        "avg = np.mean(shuffle_fogtempvis_train['num_accidents'][:trainsize])\n",
        "\n",
        "# Calculate the RMSE \n",
        "rmse = np.sqrt(np.mean((shuffle_fogtempvis_train['num_accidents'][trainsize:] - avg)**2))\n",
        "print('Just using average = {0} has RMSE of {1}'.format(avg, rmse));"
      ],
      "execution_count": 157,
      "outputs": [
        {
          "output_type": "stream",
          "name": "stdout",
          "text": [
            "WARNING:tensorflow:float64 is not supported by many models, consider casting to float32.\n",
            "INFO:tensorflow:Using default config.\n",
            "INFO:tensorflow:Using config: {'_task_type': None, '_task_id': 0, '_cluster_spec': <tensorflow.python.training.server_lib.ClusterSpec object at 0x7f4fa0bba4d0>, '_master': '', '_num_ps_replicas': 0, '_num_worker_replicas': 0, '_environment': 'local', '_is_chief': True, '_evaluation_master': '', '_train_distribute': None, '_eval_distribute': None, '_experimental_max_worker_delay_secs': None, '_device_fn': None, '_tf_config': gpu_options {\n",
            "  per_process_gpu_memory_fraction: 1.0\n",
            "}\n",
            ", '_tf_random_seed': None, '_save_summary_steps': 100, '_save_checkpoints_secs': 600, '_log_step_count_steps': 100, '_protocol': None, '_session_config': None, '_save_checkpoints_steps': None, '_keep_checkpoint_max': 5, '_keep_checkpoint_every_n_hours': 10000, '_model_dir': '/tmp/linear_regression_trained_model_ftv', '_session_creation_timeout_secs': 7200}\n",
            "starting to train\n",
            "WARNING:tensorflow:float64 is not supported by many models, consider casting to float32.\n",
            "WARNING:tensorflow:float64 is not supported by many models, consider casting to float32.\n",
            "INFO:tensorflow:Create CheckpointSaverHook.\n",
            "INFO:tensorflow:Graph was finalized.\n",
            "INFO:tensorflow:Running local_init_op.\n",
            "INFO:tensorflow:Done running local_init_op.\n",
            "INFO:tensorflow:Saving checkpoints for 0 into /tmp/linear_regression_trained_model_ftv/model.ckpt.\n",
            "INFO:tensorflow:loss = 0.31099957, step = 1\n",
            "INFO:tensorflow:global_step/sec: 716.382\n",
            "INFO:tensorflow:loss = 0.030222043, step = 101 (0.146 sec)\n",
            "INFO:tensorflow:global_step/sec: 807.337\n",
            "INFO:tensorflow:loss = 0.02042488, step = 201 (0.124 sec)\n",
            "INFO:tensorflow:global_step/sec: 990.482\n",
            "INFO:tensorflow:loss = 0.0449516, step = 301 (0.100 sec)\n",
            "INFO:tensorflow:global_step/sec: 929.395\n",
            "INFO:tensorflow:loss = 0.031081498, step = 401 (0.105 sec)\n",
            "INFO:tensorflow:global_step/sec: 924.536\n",
            "INFO:tensorflow:loss = 0.030046405, step = 501 (0.109 sec)\n",
            "INFO:tensorflow:global_step/sec: 931.651\n",
            "INFO:tensorflow:loss = 0.038446948, step = 601 (0.107 sec)\n",
            "INFO:tensorflow:global_step/sec: 753.129\n",
            "INFO:tensorflow:loss = 0.027394073, step = 701 (0.134 sec)\n",
            "INFO:tensorflow:global_step/sec: 912.301\n",
            "INFO:tensorflow:loss = 0.033430137, step = 801 (0.109 sec)\n",
            "INFO:tensorflow:global_step/sec: 955.427\n",
            "INFO:tensorflow:loss = 0.028368207, step = 901 (0.105 sec)\n",
            "INFO:tensorflow:global_step/sec: 950.277\n",
            "INFO:tensorflow:loss = 0.027556846, step = 1001 (0.109 sec)\n",
            "INFO:tensorflow:global_step/sec: 949.191\n",
            "INFO:tensorflow:loss = 0.02651746, step = 1101 (0.104 sec)\n",
            "INFO:tensorflow:global_step/sec: 942.754\n",
            "INFO:tensorflow:loss = 0.045555126, step = 1201 (0.106 sec)\n",
            "INFO:tensorflow:global_step/sec: 935.475\n",
            "INFO:tensorflow:loss = 0.03810107, step = 1301 (0.108 sec)\n",
            "INFO:tensorflow:global_step/sec: 892.21\n",
            "INFO:tensorflow:loss = 0.05083506, step = 1401 (0.111 sec)\n",
            "INFO:tensorflow:global_step/sec: 913.987\n",
            "INFO:tensorflow:loss = 0.055677086, step = 1501 (0.106 sec)\n",
            "INFO:tensorflow:global_step/sec: 863.802\n",
            "INFO:tensorflow:loss = 0.030920234, step = 1601 (0.115 sec)\n",
            "INFO:tensorflow:global_step/sec: 958.637\n",
            "INFO:tensorflow:loss = 0.04085628, step = 1701 (0.108 sec)\n",
            "INFO:tensorflow:global_step/sec: 896.249\n",
            "INFO:tensorflow:loss = 0.053504236, step = 1801 (0.111 sec)\n",
            "INFO:tensorflow:global_step/sec: 862.91\n",
            "INFO:tensorflow:loss = 0.037163403, step = 1901 (0.113 sec)\n",
            "INFO:tensorflow:global_step/sec: 943.199\n",
            "INFO:tensorflow:loss = 0.4086693, step = 2001 (0.109 sec)\n",
            "INFO:tensorflow:global_step/sec: 917.307\n",
            "INFO:tensorflow:loss = 0.07142018, step = 2101 (0.107 sec)\n",
            "INFO:tensorflow:global_step/sec: 903.992\n",
            "INFO:tensorflow:loss = 0.07900832, step = 2201 (0.113 sec)\n",
            "INFO:tensorflow:global_step/sec: 896.792\n",
            "INFO:tensorflow:loss = 0.02915135, step = 2301 (0.112 sec)\n",
            "INFO:tensorflow:global_step/sec: 882.237\n",
            "INFO:tensorflow:loss = 0.06332545, step = 2401 (0.112 sec)\n",
            "INFO:tensorflow:global_step/sec: 873.298\n",
            "INFO:tensorflow:loss = 0.029899236, step = 2501 (0.113 sec)\n",
            "INFO:tensorflow:global_step/sec: 902.208\n",
            "INFO:tensorflow:loss = 0.12541787, step = 2601 (0.112 sec)\n",
            "INFO:tensorflow:global_step/sec: 926.889\n",
            "INFO:tensorflow:loss = 0.06567696, step = 2701 (0.110 sec)\n",
            "INFO:tensorflow:global_step/sec: 932.024\n",
            "INFO:tensorflow:loss = 0.1517991, step = 2801 (0.107 sec)\n",
            "INFO:tensorflow:global_step/sec: 902.36\n",
            "INFO:tensorflow:loss = 0.20591195, step = 2901 (0.112 sec)\n",
            "INFO:tensorflow:global_step/sec: 880.623\n",
            "INFO:tensorflow:loss = 0.030484967, step = 3001 (0.113 sec)\n",
            "INFO:tensorflow:global_step/sec: 886.069\n",
            "INFO:tensorflow:loss = 0.04040174, step = 3101 (0.112 sec)\n",
            "INFO:tensorflow:global_step/sec: 967.971\n",
            "INFO:tensorflow:loss = 0.028320244, step = 3201 (0.101 sec)\n",
            "INFO:tensorflow:global_step/sec: 875.528\n",
            "INFO:tensorflow:loss = 0.25014597, step = 3301 (0.115 sec)\n",
            "INFO:tensorflow:global_step/sec: 814.175\n",
            "INFO:tensorflow:loss = 0.03629186, step = 3401 (0.127 sec)\n",
            "INFO:tensorflow:global_step/sec: 931.145\n",
            "INFO:tensorflow:loss = 0.031450093, step = 3501 (0.106 sec)\n",
            "INFO:tensorflow:global_step/sec: 908.165\n",
            "INFO:tensorflow:loss = 0.026112847, step = 3601 (0.109 sec)\n",
            "INFO:tensorflow:global_step/sec: 936.473\n",
            "INFO:tensorflow:loss = 0.13130975, step = 3701 (0.107 sec)\n",
            "INFO:tensorflow:global_step/sec: 869.488\n",
            "INFO:tensorflow:loss = 0.051692575, step = 3801 (0.115 sec)\n",
            "INFO:tensorflow:global_step/sec: 962.372\n",
            "INFO:tensorflow:loss = 0.08621976, step = 3901 (0.104 sec)\n",
            "INFO:tensorflow:global_step/sec: 892.73\n",
            "INFO:tensorflow:loss = 0.035909235, step = 4001 (0.112 sec)\n",
            "INFO:tensorflow:global_step/sec: 918.175\n",
            "INFO:tensorflow:loss = 0.033457212, step = 4101 (0.106 sec)\n",
            "INFO:tensorflow:global_step/sec: 971.27\n",
            "INFO:tensorflow:loss = 0.19530207, step = 4201 (0.103 sec)\n",
            "INFO:tensorflow:global_step/sec: 996.272\n",
            "INFO:tensorflow:loss = 0.045740344, step = 4301 (0.100 sec)\n",
            "INFO:tensorflow:global_step/sec: 851.369\n",
            "INFO:tensorflow:loss = 0.09967273, step = 4401 (0.122 sec)\n",
            "INFO:tensorflow:global_step/sec: 924.057\n",
            "INFO:tensorflow:loss = 0.1481457, step = 4501 (0.108 sec)\n",
            "INFO:tensorflow:global_step/sec: 902.908\n",
            "INFO:tensorflow:loss = 0.036181536, step = 4601 (0.110 sec)\n",
            "INFO:tensorflow:global_step/sec: 901.078\n",
            "INFO:tensorflow:loss = 0.037197284, step = 4701 (0.111 sec)\n",
            "INFO:tensorflow:global_step/sec: 988.139\n",
            "INFO:tensorflow:loss = 0.07665215, step = 4801 (0.098 sec)\n",
            "INFO:tensorflow:global_step/sec: 916.601\n",
            "INFO:tensorflow:loss = 0.028878547, step = 4901 (0.111 sec)\n",
            "INFO:tensorflow:global_step/sec: 970.165\n",
            "INFO:tensorflow:loss = 0.097297475, step = 5001 (0.105 sec)\n",
            "INFO:tensorflow:global_step/sec: 873.458\n",
            "INFO:tensorflow:loss = 0.02362154, step = 5101 (0.111 sec)\n",
            "INFO:tensorflow:global_step/sec: 986.793\n",
            "INFO:tensorflow:loss = 0.07259735, step = 5201 (0.102 sec)\n",
            "INFO:tensorflow:global_step/sec: 864.085\n",
            "INFO:tensorflow:loss = 0.03492607, step = 5301 (0.116 sec)\n",
            "INFO:tensorflow:global_step/sec: 900.987\n",
            "INFO:tensorflow:loss = 0.05104761, step = 5401 (0.110 sec)\n",
            "INFO:tensorflow:global_step/sec: 930.453\n",
            "INFO:tensorflow:loss = 0.064731985, step = 5501 (0.111 sec)\n",
            "INFO:tensorflow:global_step/sec: 923.931\n",
            "INFO:tensorflow:loss = 0.0690981, step = 5601 (0.108 sec)\n",
            "INFO:tensorflow:global_step/sec: 924.53\n",
            "INFO:tensorflow:loss = 0.03104205, step = 5701 (0.107 sec)\n",
            "INFO:tensorflow:global_step/sec: 998.492\n",
            "INFO:tensorflow:loss = 0.03779148, step = 5801 (0.101 sec)\n",
            "INFO:tensorflow:global_step/sec: 959.885\n",
            "INFO:tensorflow:loss = 0.043691043, step = 5901 (0.104 sec)\n",
            "INFO:tensorflow:global_step/sec: 972.816\n",
            "INFO:tensorflow:loss = 0.03774301, step = 6001 (0.103 sec)\n",
            "INFO:tensorflow:global_step/sec: 951.86\n",
            "INFO:tensorflow:loss = 0.03296552, step = 6101 (0.102 sec)\n",
            "INFO:tensorflow:global_step/sec: 891.631\n",
            "INFO:tensorflow:loss = 0.04683216, step = 6201 (0.113 sec)\n",
            "INFO:tensorflow:global_step/sec: 956.99\n",
            "INFO:tensorflow:loss = 0.0402207, step = 6301 (0.107 sec)\n",
            "INFO:tensorflow:global_step/sec: 916.481\n",
            "INFO:tensorflow:loss = 0.11769934, step = 6401 (0.109 sec)\n",
            "INFO:tensorflow:global_step/sec: 882.007\n",
            "INFO:tensorflow:loss = 0.07177649, step = 6501 (0.113 sec)\n",
            "INFO:tensorflow:global_step/sec: 953.106\n",
            "INFO:tensorflow:loss = 0.03475068, step = 6601 (0.105 sec)\n",
            "INFO:tensorflow:global_step/sec: 962.915\n",
            "INFO:tensorflow:loss = 0.044568874, step = 6701 (0.103 sec)\n",
            "INFO:tensorflow:global_step/sec: 852.343\n",
            "INFO:tensorflow:loss = 0.03621485, step = 6801 (0.116 sec)\n",
            "INFO:tensorflow:global_step/sec: 929.993\n",
            "INFO:tensorflow:loss = 0.057135005, step = 6901 (0.109 sec)\n",
            "INFO:tensorflow:global_step/sec: 1005.7\n",
            "INFO:tensorflow:loss = 0.05153944, step = 7001 (0.099 sec)\n",
            "INFO:tensorflow:global_step/sec: 944.755\n",
            "INFO:tensorflow:loss = 0.12433334, step = 7101 (0.105 sec)\n",
            "INFO:tensorflow:global_step/sec: 890.499\n",
            "INFO:tensorflow:loss = 0.38967213, step = 7201 (0.111 sec)\n",
            "INFO:tensorflow:global_step/sec: 939.993\n",
            "INFO:tensorflow:loss = 0.18922672, step = 7301 (0.113 sec)\n",
            "INFO:tensorflow:global_step/sec: 898.003\n",
            "INFO:tensorflow:loss = 0.033036616, step = 7401 (0.108 sec)\n",
            "INFO:tensorflow:global_step/sec: 979.742\n",
            "INFO:tensorflow:loss = 0.09381443, step = 7501 (0.102 sec)\n",
            "INFO:tensorflow:global_step/sec: 889.626\n",
            "INFO:tensorflow:loss = 0.050749265, step = 7601 (0.112 sec)\n",
            "INFO:tensorflow:global_step/sec: 974.792\n",
            "INFO:tensorflow:loss = 0.087196305, step = 7701 (0.100 sec)\n",
            "INFO:tensorflow:global_step/sec: 969.154\n",
            "INFO:tensorflow:loss = 0.031175686, step = 7801 (0.104 sec)\n",
            "INFO:tensorflow:global_step/sec: 898.249\n",
            "INFO:tensorflow:loss = 0.057411596, step = 7901 (0.115 sec)\n",
            "INFO:tensorflow:global_step/sec: 986.22\n",
            "INFO:tensorflow:loss = 0.11302887, step = 8001 (0.100 sec)\n",
            "INFO:tensorflow:global_step/sec: 979.57\n",
            "INFO:tensorflow:loss = 0.032893855, step = 8101 (0.103 sec)\n",
            "INFO:tensorflow:global_step/sec: 869.5\n",
            "INFO:tensorflow:loss = 0.0363428, step = 8201 (0.114 sec)\n",
            "INFO:tensorflow:global_step/sec: 949.773\n",
            "INFO:tensorflow:loss = 0.24369554, step = 8301 (0.103 sec)\n",
            "INFO:tensorflow:global_step/sec: 965.184\n",
            "INFO:tensorflow:loss = 0.03436935, step = 8401 (0.106 sec)\n",
            "INFO:tensorflow:global_step/sec: 935.884\n",
            "INFO:tensorflow:loss = 0.031014975, step = 8501 (0.108 sec)\n",
            "INFO:tensorflow:global_step/sec: 947.542\n",
            "INFO:tensorflow:loss = 0.1270231, step = 8601 (0.103 sec)\n",
            "INFO:tensorflow:global_step/sec: 928.447\n",
            "INFO:tensorflow:loss = 0.03747519, step = 8701 (0.110 sec)\n",
            "INFO:tensorflow:global_step/sec: 940.02\n",
            "INFO:tensorflow:loss = 0.03408296, step = 8801 (0.106 sec)\n",
            "INFO:tensorflow:global_step/sec: 949.369\n",
            "INFO:tensorflow:loss = 0.08250891, step = 8901 (0.106 sec)\n",
            "INFO:tensorflow:global_step/sec: 997.542\n",
            "INFO:tensorflow:loss = 0.028465651, step = 9001 (0.098 sec)\n",
            "INFO:tensorflow:global_step/sec: 910.064\n",
            "INFO:tensorflow:loss = 0.02860198, step = 9101 (0.111 sec)\n",
            "INFO:tensorflow:global_step/sec: 890.964\n",
            "INFO:tensorflow:loss = 0.072912455, step = 9201 (0.115 sec)\n",
            "INFO:tensorflow:global_step/sec: 916.812\n",
            "INFO:tensorflow:loss = 0.0329282, step = 9301 (0.109 sec)\n",
            "INFO:tensorflow:global_step/sec: 897.264\n",
            "INFO:tensorflow:loss = 0.15946874, step = 9401 (0.112 sec)\n",
            "INFO:tensorflow:global_step/sec: 921.74\n",
            "INFO:tensorflow:loss = 0.025529768, step = 9501 (0.105 sec)\n",
            "INFO:tensorflow:global_step/sec: 937.887\n",
            "INFO:tensorflow:loss = 0.07914302, step = 9601 (0.110 sec)\n",
            "INFO:tensorflow:global_step/sec: 931.788\n",
            "INFO:tensorflow:loss = 0.033924215, step = 9701 (0.109 sec)\n",
            "INFO:tensorflow:global_step/sec: 946.618\n",
            "INFO:tensorflow:loss = 0.034425206, step = 9801 (0.100 sec)\n",
            "INFO:tensorflow:global_step/sec: 1006.47\n",
            "INFO:tensorflow:loss = 0.036396034, step = 9901 (0.103 sec)\n",
            "INFO:tensorflow:Saving checkpoints for 10000 into /tmp/linear_regression_trained_model_ftv/model.ckpt.\n",
            "INFO:tensorflow:Loss for final step: 0.03135966.\n",
            "WARNING:tensorflow:float64 is not supported by many models, consider casting to float32.\n",
            "INFO:tensorflow:Graph was finalized.\n",
            "INFO:tensorflow:Restoring parameters from /tmp/linear_regression_trained_model_ftv/model.ckpt-10000\n",
            "INFO:tensorflow:Running local_init_op.\n",
            "INFO:tensorflow:Done running local_init_op.\n",
            "LinearRegression Fog, Temperature and Visibility has RMSE of 0.380791111864811\n",
            "Just using average = 0.5121407319613452 has RMSE of 0.20511958191170784\n"
          ]
        }
      ]
    },
    {
      "cell_type": "markdown",
      "metadata": {
        "id": "s9mHFvnZHXX6"
      },
      "source": [
        "The RMSE values of 0.381 and 0.205 are not particularly close for this model but it will be tested with the validation data."
      ]
    },
    {
      "cell_type": "markdown",
      "metadata": {
        "id": "nNjUuwtQyr7V"
      },
      "source": [
        "Test model using first three rows of validation data"
      ]
    },
    {
      "cell_type": "code",
      "metadata": {
        "colab": {
          "base_uri": "https://localhost:8080/",
          "height": 143
        },
        "id": "YAw4CAZHHlGM",
        "outputId": "deebb950-906d-4844-c9fb-fe4411dd72a2"
      },
      "source": [
        "shuffle_fogtempvis_test[:3]"
      ],
      "execution_count": 158,
      "outputs": [
        {
          "output_type": "execute_result",
          "data": {
            "text/html": [
              "<div>\n",
              "<style scoped>\n",
              "    .dataframe tbody tr th:only-of-type {\n",
              "        vertical-align: middle;\n",
              "    }\n",
              "\n",
              "    .dataframe tbody tr th {\n",
              "        vertical-align: top;\n",
              "    }\n",
              "\n",
              "    .dataframe thead th {\n",
              "        text-align: right;\n",
              "    }\n",
              "</style>\n",
              "<table border=\"1\" class=\"dataframe\">\n",
              "  <thead>\n",
              "    <tr style=\"text-align: right;\">\n",
              "      <th></th>\n",
              "      <th>dayofweek</th>\n",
              "      <th>temp</th>\n",
              "      <th>visib</th>\n",
              "      <th>fog</th>\n",
              "      <th>num_accidents</th>\n",
              "    </tr>\n",
              "  </thead>\n",
              "  <tbody>\n",
              "    <tr>\n",
              "      <th>1137</th>\n",
              "      <td>6</td>\n",
              "      <td>31.5</td>\n",
              "      <td>9.5</td>\n",
              "      <td>0</td>\n",
              "      <td>0.551502</td>\n",
              "    </tr>\n",
              "    <tr>\n",
              "      <th>1510</th>\n",
              "      <td>1</td>\n",
              "      <td>37.0</td>\n",
              "      <td>9.8</td>\n",
              "      <td>0</td>\n",
              "      <td>0.419831</td>\n",
              "    </tr>\n",
              "    <tr>\n",
              "      <th>1230</th>\n",
              "      <td>1</td>\n",
              "      <td>59.4</td>\n",
              "      <td>6.9</td>\n",
              "      <td>1</td>\n",
              "      <td>0.480687</td>\n",
              "    </tr>\n",
              "  </tbody>\n",
              "</table>\n",
              "</div>"
            ],
            "text/plain": [
              "      dayofweek  temp  visib  fog  num_accidents\n",
              "1137          6  31.5    9.5    0       0.551502\n",
              "1510          1  37.0    9.8    0       0.419831\n",
              "1230          1  59.4    6.9    1       0.480687"
            ]
          },
          "metadata": {},
          "execution_count": 158
        }
      ]
    },
    {
      "cell_type": "code",
      "metadata": {
        "colab": {
          "base_uri": "https://localhost:8080/"
        },
        "id": "ijIJJMEAywF7",
        "outputId": "cdb89855-dd73-46df-83b1-060ad9c4df94"
      },
      "source": [
        "input = pd.DataFrame.from_dict(data = \n",
        "\t\t\t\t{'dayofweek' : [6,1,1],\n",
        "         'temp' : [31.5, 37.0, 59.4],\n",
        "     'visib' : [9.5, 9.8, 6.9],\n",
        "     'fog' : [0, 0, 1]\n",
        "     \n",
        "        })\n",
        "\t\t\t\t\t\n",
        "\n",
        "estimator = tf.contrib.learn.SKCompat(tf.contrib.learn.LinearRegressor(model_dir='/tmp/linear_regression_trained_model_ftv', enable_centered_bias=False, feature_columns=tf.contrib.learn.infer_real_valued_columns_from_input(input.values)))\n",
        "\n",
        "preds = estimator.predict(x=input.values)\n",
        "\n",
        "predslistnorm = preds['scores']\n",
        "predslistscale = preds['scores']*850\n",
        "prednorm = format(str(predslistnorm))\n",
        "pred = format(str(predslistscale))\n",
        "print(prednorm)\n",
        "print(pred)"
      ],
      "execution_count": 159,
      "outputs": [
        {
          "output_type": "stream",
          "name": "stdout",
          "text": [
            "WARNING:tensorflow:float64 is not supported by many models, consider casting to float32.\n",
            "INFO:tensorflow:Using default config.\n",
            "INFO:tensorflow:Using config: {'_task_type': None, '_task_id': 0, '_cluster_spec': <tensorflow.python.training.server_lib.ClusterSpec object at 0x7f4f9b96ae50>, '_master': '', '_num_ps_replicas': 0, '_num_worker_replicas': 0, '_environment': 'local', '_is_chief': True, '_evaluation_master': '', '_train_distribute': None, '_eval_distribute': None, '_experimental_max_worker_delay_secs': None, '_device_fn': None, '_tf_config': gpu_options {\n",
            "  per_process_gpu_memory_fraction: 1.0\n",
            "}\n",
            ", '_tf_random_seed': None, '_save_summary_steps': 100, '_save_checkpoints_secs': 600, '_log_step_count_steps': 100, '_protocol': None, '_session_config': None, '_save_checkpoints_steps': None, '_keep_checkpoint_max': 5, '_keep_checkpoint_every_n_hours': 10000, '_model_dir': '/tmp/linear_regression_trained_model_ftv', '_session_creation_timeout_secs': 7200}\n",
            "WARNING:tensorflow:float64 is not supported by many models, consider casting to float32.\n",
            "INFO:tensorflow:Graph was finalized.\n",
            "INFO:tensorflow:Restoring parameters from /tmp/linear_regression_trained_model_ftv/model.ckpt-10000\n",
            "INFO:tensorflow:Running local_init_op.\n",
            "INFO:tensorflow:Done running local_init_op.\n",
            "[0.7904788  0.5379248  0.74793243]\n",
            "[671.907   457.2361  635.74255]\n"
          ]
        }
      ]
    },
    {
      "cell_type": "markdown",
      "metadata": {
        "id": "A8GJAy6rH1hs"
      },
      "source": [
        "It can be seen that the actual values for normalised number of accidents is 0.552, 0.420 and 0.481.  The model however predicted results of 0.790, 0.538 and 0.748 showing little accuracy."
      ]
    },
    {
      "cell_type": "markdown",
      "metadata": {
        "id": "O7pJVTbFzRd4"
      },
      "source": [
        "Test model using random rows"
      ]
    },
    {
      "cell_type": "code",
      "metadata": {
        "colab": {
          "base_uri": "https://localhost:8080/",
          "height": 143
        },
        "id": "PAGNtS37IIDJ",
        "outputId": "29de8b56-2e48-4699-cb3d-a85eaae554c2"
      },
      "source": [
        "np.random.seed([6])\n",
        "\n",
        "shuffle_fogtempvis_test.sample(n = 3)"
      ],
      "execution_count": 160,
      "outputs": [
        {
          "output_type": "execute_result",
          "data": {
            "text/html": [
              "<div>\n",
              "<style scoped>\n",
              "    .dataframe tbody tr th:only-of-type {\n",
              "        vertical-align: middle;\n",
              "    }\n",
              "\n",
              "    .dataframe tbody tr th {\n",
              "        vertical-align: top;\n",
              "    }\n",
              "\n",
              "    .dataframe thead th {\n",
              "        text-align: right;\n",
              "    }\n",
              "</style>\n",
              "<table border=\"1\" class=\"dataframe\">\n",
              "  <thead>\n",
              "    <tr style=\"text-align: right;\">\n",
              "      <th></th>\n",
              "      <th>dayofweek</th>\n",
              "      <th>temp</th>\n",
              "      <th>visib</th>\n",
              "      <th>fog</th>\n",
              "      <th>num_accidents</th>\n",
              "    </tr>\n",
              "  </thead>\n",
              "  <tbody>\n",
              "    <tr>\n",
              "      <th>850</th>\n",
              "      <td>6</td>\n",
              "      <td>48.1</td>\n",
              "      <td>10.0</td>\n",
              "      <td>0</td>\n",
              "      <td>0.598309</td>\n",
              "    </tr>\n",
              "    <tr>\n",
              "      <th>2257</th>\n",
              "      <td>6</td>\n",
              "      <td>22.1</td>\n",
              "      <td>10.0</td>\n",
              "      <td>0</td>\n",
              "      <td>0.448661</td>\n",
              "    </tr>\n",
              "    <tr>\n",
              "      <th>1458</th>\n",
              "      <td>5</td>\n",
              "      <td>39.1</td>\n",
              "      <td>10.0</td>\n",
              "      <td>0</td>\n",
              "      <td>0.388412</td>\n",
              "    </tr>\n",
              "  </tbody>\n",
              "</table>\n",
              "</div>"
            ],
            "text/plain": [
              "      dayofweek  temp  visib  fog  num_accidents\n",
              "850           6  48.1   10.0    0       0.598309\n",
              "2257          6  22.1   10.0    0       0.448661\n",
              "1458          5  39.1   10.0    0       0.388412"
            ]
          },
          "metadata": {},
          "execution_count": 160
        }
      ]
    },
    {
      "cell_type": "code",
      "metadata": {
        "colab": {
          "base_uri": "https://localhost:8080/"
        },
        "id": "wE4-2F1fzVd9",
        "outputId": "5b65d373-4a4f-46ad-a3cc-be1bd0b811c4"
      },
      "source": [
        "input = pd.DataFrame.from_dict(data = \n",
        "\t\t\t\t{'dayofweek' : [6,6,5],\n",
        "         'temp' : [48.1, 22.1, 39.1],\n",
        "     'visib' : [10, 10, 10],\n",
        "     'fog' : [0, 0, 0]\n",
        "        })\n",
        "\t\t\t\t\t\n",
        "\n",
        "estimator = tf.contrib.learn.SKCompat(tf.contrib.learn.LinearRegressor(model_dir='/tmp/linear_regression_trained_model_ftv', enable_centered_bias=False, feature_columns=tf.contrib.learn.infer_real_valued_columns_from_input(input.values)))\n",
        "\n",
        "preds = estimator.predict(x=input.values)\n",
        "\n",
        "predslistnorm = preds['scores']\n",
        "predslistscale = preds['scores']*850\n",
        "prednorm = format(str(predslistnorm))\n",
        "pred = format(str(predslistscale))\n",
        "print(prednorm)\n",
        "print(pred)"
      ],
      "execution_count": 161,
      "outputs": [
        {
          "output_type": "stream",
          "name": "stdout",
          "text": [
            "WARNING:tensorflow:float64 is not supported by many models, consider casting to float32.\n",
            "INFO:tensorflow:Using default config.\n",
            "INFO:tensorflow:Using config: {'_task_type': None, '_task_id': 0, '_cluster_spec': <tensorflow.python.training.server_lib.ClusterSpec object at 0x7f4fa2f547d0>, '_master': '', '_num_ps_replicas': 0, '_num_worker_replicas': 0, '_environment': 'local', '_is_chief': True, '_evaluation_master': '', '_train_distribute': None, '_eval_distribute': None, '_experimental_max_worker_delay_secs': None, '_device_fn': None, '_tf_config': gpu_options {\n",
            "  per_process_gpu_memory_fraction: 1.0\n",
            "}\n",
            ", '_tf_random_seed': None, '_save_summary_steps': 100, '_save_checkpoints_secs': 600, '_log_step_count_steps': 100, '_protocol': None, '_session_config': None, '_save_checkpoints_steps': None, '_keep_checkpoint_max': 5, '_keep_checkpoint_every_n_hours': 10000, '_model_dir': '/tmp/linear_regression_trained_model_ftv', '_session_creation_timeout_secs': 7200}\n",
            "WARNING:tensorflow:float64 is not supported by many models, consider casting to float32.\n",
            "INFO:tensorflow:Graph was finalized.\n",
            "INFO:tensorflow:Restoring parameters from /tmp/linear_regression_trained_model_ftv/model.ckpt-10000\n",
            "INFO:tensorflow:Running local_init_op.\n",
            "INFO:tensorflow:Done running local_init_op.\n",
            "[0.9282831  0.716419   0.79516685]\n",
            "[789.04065 608.9561  675.89185]\n"
          ]
        }
      ]
    },
    {
      "cell_type": "markdown",
      "metadata": {
        "id": "Usm17W-9IW_X"
      },
      "source": [
        "The normalised number of accident values from the test data are 0.598, 0.449 and 0.388 but the model returned values of 0.928, 0.716 and 0.795, again showing little accuracy and supporting the previous test and the RMSE test that the model is not accurate."
      ]
    },
    {
      "cell_type": "markdown",
      "metadata": {
        "id": "Jx6VffuB2y5O"
      },
      "source": [
        "## DNN Models"
      ]
    },
    {
      "cell_type": "markdown",
      "metadata": {
        "id": "lO6U7Ylu-Tso"
      },
      "source": [
        "### Create dataframes from data created previously for dnn models"
      ]
    },
    {
      "cell_type": "code",
      "metadata": {
        "id": "kTB85Xfr24nh"
      },
      "source": [
        "df_dnn_numacc = pd.read_csv('https://raw.githubusercontent.com/078373uhi/078373uhi-DAOTW_A2/main/dnndata_numacc.csv', index_col=0, )\n",
        "df_dnn_fog = pd.read_csv('https://raw.githubusercontent.com/078373uhi/078373uhi-DAOTW_A2/main/dnndata_fog_numacc.csv', index_col=0, )\n",
        "df_dnn_temp = pd.read_csv('https://raw.githubusercontent.com/078373uhi/078373uhi-DAOTW_A2/main/dnndata_temp_numacc.csv', index_col=0, )\n",
        "df_dnn_visib = pd.read_csv('https://raw.githubusercontent.com/078373uhi/078373uhi-DAOTW_A2/main/dnndata_visib_numacc.csv', index_col=0, )\n",
        "df_dnn_fogvisib = pd.read_csv('https://raw.githubusercontent.com/078373uhi/078373uhi-DAOTW_A2/main/dnndata_fogvisib_numacc.csv', index_col=0, )\n",
        "df_dnn_tempfog = pd.read_csv('https://raw.githubusercontent.com/078373uhi/078373uhi-DAOTW_A2/main/dnndata_tempfog_numacc.csv', index_col=0, )\n",
        "df_dnn_tempvisib = pd.read_csv('https://raw.githubusercontent.com/078373uhi/078373uhi-DAOTW_A2/main/dnndata_tempvisib_numacc.csv', index_col=0, )\n",
        "df_dnn_tempfogvisib = pd.read_csv('https://raw.githubusercontent.com/078373uhi/078373uhi-DAOTW_A2/main/dnndata_tempfogvisib_numacc.csv', index_col=0, )"
      ],
      "execution_count": 162,
      "outputs": []
    },
    {
      "cell_type": "markdown",
      "metadata": {
        "id": "4BIfgMOG4jpq"
      },
      "source": [
        "**Check dataframes**"
      ]
    },
    {
      "cell_type": "code",
      "metadata": {
        "colab": {
          "base_uri": "https://localhost:8080/"
        },
        "id": "CL_WWNc94j0j",
        "outputId": "0d121823-ab2d-4b7d-adf0-1223a99c8ed0"
      },
      "source": [
        "print(df_dnn_numacc[:10])\n",
        "print(df_dnn_fog[:10])\n",
        "print(df_dnn_temp[:10])\n",
        "print(df_dnn_visib[:10])\n",
        "print(df_dnn_fogvisib[:10])\n",
        "print(df_dnn_tempfog[:10])\n",
        "print(df_dnn_tempvisib[:10])\n",
        "print(df_dnn_tempfogvisib[:10])"
      ],
      "execution_count": 163,
      "outputs": [
        {
          "output_type": "stream",
          "name": "stdout",
          "text": [
            "    Apr  Aug  Dec  Feb  Jan  Jul  ...  Sun  Thu  Tue  Wed  year  number_of_accidents\n",
            "1     0    0    0    0    1    0  ...    0    0    1    0  2013             0.059633\n",
            "2     0    0    0    0    1    0  ...    0    0    0    1  2013             0.286697\n",
            "3     0    0    0    0    1    0  ...    0    1    0    0  2013             0.444954\n",
            "4     0    0    0    0    1    0  ...    0    0    0    0  2013             0.344037\n",
            "5     0    0    0    0    1    0  ...    0    0    0    0  2013             0.077982\n",
            "6     0    0    0    0    1    0  ...    1    0    0    0  2013             0.087156\n",
            "7     0    0    0    0    1    0  ...    0    0    0    0  2013             0.380734\n",
            "8     0    0    0    0    1    0  ...    0    0    1    0  2013             0.362385\n",
            "9     0    0    0    0    1    0  ...    0    0    0    1  2013             0.302752\n",
            "10    0    0    0    0    1    0  ...    0    1    0    0  2013             0.458716\n",
            "\n",
            "[10 rows x 21 columns]\n",
            "    Apr  Aug  Dec  Feb  Jan  Jul  ...  Thu  Tue  Wed  year  fog  number_of_accidents\n",
            "1     0    0    0    0    1    0  ...    0    1    0  2013    0             0.059633\n",
            "2     0    0    0    0    1    0  ...    0    0    1  2013    0             0.286697\n",
            "3     0    0    0    0    1    0  ...    1    0    0  2013    0             0.444954\n",
            "4     0    0    0    0    1    0  ...    0    0    0  2013    0             0.344037\n",
            "5     0    0    0    0    1    0  ...    0    0    0  2013    0             0.077982\n",
            "6     0    0    0    0    1    0  ...    0    0    0  2013    0             0.087156\n",
            "7     0    0    0    0    1    0  ...    0    0    0  2013    0             0.380734\n",
            "8     0    0    0    0    1    0  ...    0    1    0  2013    0             0.362385\n",
            "9     0    0    0    0    1    0  ...    0    0    1  2013    1             0.302752\n",
            "10    0    0    0    0    1    0  ...    1    0    0  2013    0             0.458716\n",
            "\n",
            "[10 rows x 22 columns]\n",
            "    Apr  Aug  Dec  Feb  Jan  ...  Tue  Wed  year  temp  number_of_accidents\n",
            "1     0    0    0    0    1  ...    1    0  2013  38.0             0.059633\n",
            "2     0    0    0    0    1  ...    0    1  2013  27.5             0.286697\n",
            "3     0    0    0    0    1  ...    0    0  2013  21.8             0.444954\n",
            "4     0    0    0    0    1  ...    0    0  2013  32.2             0.344037\n",
            "5     0    0    0    0    1  ...    0    0  2013  37.3             0.077982\n",
            "6     0    0    0    0    1  ...    0    0  2013  35.7             0.087156\n",
            "7     0    0    0    0    1  ...    0    0  2013  35.9             0.380734\n",
            "8     0    0    0    0    1  ...    1    0  2013  39.8             0.362385\n",
            "9     0    0    0    0    1  ...    0    1  2013  39.9             0.302752\n",
            "10    0    0    0    0    1  ...    0    0  2013  43.5             0.458716\n",
            "\n",
            "[10 rows x 22 columns]\n",
            "    Apr  Aug  Dec  Feb  Jan  ...  Tue  Wed  year  visib  number_of_accidents\n",
            "1     0    0    0    0    1  ...    1    0  2013   10.0             0.059633\n",
            "2     0    0    0    0    1  ...    0    1  2013   10.0             0.286697\n",
            "3     0    0    0    0    1  ...    0    0  2013   10.0             0.444954\n",
            "4     0    0    0    0    1  ...    0    0  2013   10.0             0.344037\n",
            "5     0    0    0    0    1  ...    0    0  2013   10.0             0.077982\n",
            "6     0    0    0    0    1  ...    0    0  2013    9.8             0.087156\n",
            "7     0    0    0    0    1  ...    0    0  2013    8.8             0.380734\n",
            "8     0    0    0    0    1  ...    1    0  2013    9.8             0.362385\n",
            "9     0    0    0    0    1  ...    0    1  2013    6.8             0.302752\n",
            "10    0    0    0    0    1  ...    0    0  2013    9.9             0.458716\n",
            "\n",
            "[10 rows x 22 columns]\n",
            "    Apr  Aug  Dec  Feb  Jan  ...  Wed  year  fog  visib  number_of_accidents\n",
            "1     0    0    0    0    1  ...    0  2013    0   10.0             0.059633\n",
            "2     0    0    0    0    1  ...    1  2013    0   10.0             0.286697\n",
            "3     0    0    0    0    1  ...    0  2013    0   10.0             0.444954\n",
            "4     0    0    0    0    1  ...    0  2013    0   10.0             0.344037\n",
            "5     0    0    0    0    1  ...    0  2013    0   10.0             0.077982\n",
            "6     0    0    0    0    1  ...    0  2013    0    9.8             0.087156\n",
            "7     0    0    0    0    1  ...    0  2013    0    8.8             0.380734\n",
            "8     0    0    0    0    1  ...    0  2013    0    9.8             0.362385\n",
            "9     0    0    0    0    1  ...    1  2013    1    6.8             0.302752\n",
            "10    0    0    0    0    1  ...    0  2013    0    9.9             0.458716\n",
            "\n",
            "[10 rows x 23 columns]\n",
            "    Apr  Aug  Dec  Feb  Jan  ...  Wed  year  temp  fog  number_of_accidents\n",
            "1     0    0    0    0    1  ...    0  2013  38.0    0             0.059633\n",
            "2     0    0    0    0    1  ...    1  2013  27.5    0             0.286697\n",
            "3     0    0    0    0    1  ...    0  2013  21.8    0             0.444954\n",
            "4     0    0    0    0    1  ...    0  2013  32.2    0             0.344037\n",
            "5     0    0    0    0    1  ...    0  2013  37.3    0             0.077982\n",
            "6     0    0    0    0    1  ...    0  2013  35.7    0             0.087156\n",
            "7     0    0    0    0    1  ...    0  2013  35.9    0             0.380734\n",
            "8     0    0    0    0    1  ...    0  2013  39.8    0             0.362385\n",
            "9     0    0    0    0    1  ...    1  2013  39.9    1             0.302752\n",
            "10    0    0    0    0    1  ...    0  2013  43.5    0             0.458716\n",
            "\n",
            "[10 rows x 23 columns]\n",
            "    Apr  Aug  Dec  Feb  Jan  ...  Wed  year  temp  visib  number_of_accidents\n",
            "1     0    0    0    0    1  ...    0  2013  38.0   10.0             0.059633\n",
            "2     0    0    0    0    1  ...    1  2013  27.5   10.0             0.286697\n",
            "3     0    0    0    0    1  ...    0  2013  21.8   10.0             0.444954\n",
            "4     0    0    0    0    1  ...    0  2013  32.2   10.0             0.344037\n",
            "5     0    0    0    0    1  ...    0  2013  37.3   10.0             0.077982\n",
            "6     0    0    0    0    1  ...    0  2013  35.7    9.8             0.087156\n",
            "7     0    0    0    0    1  ...    0  2013  35.9    8.8             0.380734\n",
            "8     0    0    0    0    1  ...    0  2013  39.8    9.8             0.362385\n",
            "9     0    0    0    0    1  ...    1  2013  39.9    6.8             0.302752\n",
            "10    0    0    0    0    1  ...    0  2013  43.5    9.9             0.458716\n",
            "\n",
            "[10 rows x 23 columns]\n",
            "    Apr  Aug  Dec  Feb  Jan  ...  year  temp  fog  visib  number_of_accidents\n",
            "1     0    0    0    0    1  ...  2013  38.0    0   10.0             0.059633\n",
            "2     0    0    0    0    1  ...  2013  27.5    0   10.0             0.286697\n",
            "3     0    0    0    0    1  ...  2013  21.8    0   10.0             0.444954\n",
            "4     0    0    0    0    1  ...  2013  32.2    0   10.0             0.344037\n",
            "5     0    0    0    0    1  ...  2013  37.3    0   10.0             0.077982\n",
            "6     0    0    0    0    1  ...  2013  35.7    0    9.8             0.087156\n",
            "7     0    0    0    0    1  ...  2013  35.9    0    8.8             0.380734\n",
            "8     0    0    0    0    1  ...  2013  39.8    0    9.8             0.362385\n",
            "9     0    0    0    0    1  ...  2013  39.9    1    6.8             0.302752\n",
            "10    0    0    0    0    1  ...  2013  43.5    0    9.9             0.458716\n",
            "\n",
            "[10 rows x 24 columns]\n"
          ]
        }
      ]
    },
    {
      "cell_type": "markdown",
      "metadata": {
        "id": "ZEcJ0brcfjZn"
      },
      "source": [
        "### Create and test model for visiblity"
      ]
    },
    {
      "cell_type": "code",
      "metadata": {
        "colab": {
          "base_uri": "https://localhost:8080/"
        },
        "id": "UOhn3yB_fism",
        "outputId": "0dbfb89c-3b30-4d63-b7a5-c7f89cb44d3c"
      },
      "source": [
        "# shuffle visibility dataset\n",
        "shuffle_visib = df_dnn_visib.iloc[np.random.permutation(len(df_dnn_visib))]\n",
        "\n",
        "#create training and validation data\n",
        "shuffle_visib_train, shuffle_visib_test = train_test_split(shuffle_visib, test_size=0.1)\n",
        "\n",
        "#check training set\n",
        "print(shuffle_visib_train[:5])\n",
        "\n",
        "# choose predictors\n",
        "predictors_visib = shuffle_visib_train.iloc[:,0:21]\n",
        "\n",
        "# check predictors.\n",
        "print(predictors_visib[:6])"
      ],
      "execution_count": 164,
      "outputs": [
        {
          "output_type": "stream",
          "name": "stdout",
          "text": [
            "      Apr  Aug  Dec  Feb  Jan  ...  Tue  Wed  year  visib  number_of_accidents\n",
            "1735    0    0    0    0    0  ...    1    0  2017    8.7             0.662447\n",
            "1473    0    0    0    1    0  ...    0    1  2017    9.7             0.428270\n",
            "2152    0    0    1    0    0  ...    0    0  2018    5.3             0.858744\n",
            "2174    0    0    0    0    1  ...    0    0  2019   10.0             0.042411\n",
            "2372    0    0    0    0    0  ...    1    0  2019    6.6             0.631696\n",
            "\n",
            "[5 rows x 22 columns]\n",
            "      Apr  Aug  Dec  Feb  Jan  Jul  Jun  ...  Sat  Sun  Thu  Tue  Wed  year  visib\n",
            "1735    0    0    0    0    0    0    0  ...    0    0    0    1    0  2017    8.7\n",
            "1473    0    0    0    1    0    0    0  ...    0    0    0    0    1  2017    9.7\n",
            "2152    0    0    1    0    0    0    0  ...    0    0    0    0    0  2018    5.3\n",
            "2174    0    0    0    0    1    0    0  ...    0    1    0    0    0  2019   10.0\n",
            "2372    0    0    0    0    0    1    0  ...    0    0    0    1    0  2019    6.6\n",
            "46      0    0    0    1    0    0    0  ...    0    0    0    0    0  2013    9.8\n",
            "\n",
            "[6 rows x 21 columns]\n"
          ]
        }
      ]
    },
    {
      "cell_type": "code",
      "metadata": {
        "colab": {
          "base_uri": "https://localhost:8080/"
        },
        "id": "a2cqVFQblBZL",
        "outputId": "e1e81459-fa12-4800-ed8e-2491b80238b4"
      },
      "source": [
        "# Create outcome data - targets\n",
        "targets_visib = shuffle_visib_train.iloc[:,21]\n",
        "\n",
        "# check targets data.\n",
        "print(targets_visib[:6])"
      ],
      "execution_count": 165,
      "outputs": [
        {
          "output_type": "stream",
          "name": "stdout",
          "text": [
            "1735    0.662447\n",
            "1473    0.428270\n",
            "2152    0.858744\n",
            "2174    0.042411\n",
            "2372    0.631696\n",
            "46      0.571101\n",
            "Name: number_of_accidents, dtype: float64\n"
          ]
        }
      ]
    },
    {
      "cell_type": "code",
      "metadata": {
        "id": "HwErs13-lKiD"
      },
      "source": [
        "SCALE_num_accidents = 1.0"
      ],
      "execution_count": 166,
      "outputs": []
    },
    {
      "cell_type": "code",
      "metadata": {
        "id": "8s435RMelOdq"
      },
      "source": [
        "# Split our data into a training set = 80% of the length of the shuffle array\n",
        "trainsize = int(len(shuffle_visib_train['number_of_accidents'])*0.8)\n",
        "# The test set size = 20% of the length of the shuffle array.\n",
        "testsize = len(shuffle_visib_train['number_of_accidents']) - trainsize\n",
        "\n",
        "# Define the number of predictors\n",
        "nppredictors = 21\n",
        "# Define the number of targets\n",
        "noutputs = 1"
      ],
      "execution_count": 167,
      "outputs": []
    },
    {
      "cell_type": "markdown",
      "metadata": {
        "id": "gBSBUCu7I5gE"
      },
      "source": [
        "Create model"
      ]
    },
    {
      "cell_type": "code",
      "metadata": {
        "colab": {
          "base_uri": "https://localhost:8080/"
        },
        "id": "Pj0hJkMulikb",
        "outputId": "7496ca76-8891-4753-a27f-d155d393a4de"
      },
      "source": [
        "# create model\n",
        "tf.compat.v1.logging.set_verbosity(tf.compat.v1.logging.INFO)\n",
        "\n",
        "# removes previous saved model\n",
        "shutil.rmtree('/tmp/DNN_regression_trained_model_v', ignore_errors=True)\n",
        "\n",
        "estimator_visib = tf.contrib.learn.SKCompat(tf.contrib.learn.DNNRegressor(model_dir='/tmp/DNN_regression_trained_model_v', hidden_units=[20,18,14], optimizer=tf.train.AdamOptimizer(learning_rate=0.01), enable_centered_bias=False, feature_columns=tf.contrib.learn.infer_real_valued_columns_from_input(predictors_visib.values)))\n",
        "\n",
        "# show model is starting to train\n",
        "print(\"starting to train\");\n",
        "\n",
        "# Train the model\n",
        "estimator_visib.fit(predictors_visib[:trainsize].values, targets_visib[:trainsize].values.reshape(trainsize, noutputs)/SCALE_num_accidents, steps=10000)\n",
        "\n",
        "# check predictions\n",
        "preds = estimator_visib.predict(x=predictors_visib[trainsize:].values)\n",
        "\n",
        "# Apply the Scale value\n",
        "predslistscale = preds['scores']*SCALE_num_accidents\n",
        "\n",
        "# Calculate RMSE \n",
        "rmse = np.sqrt(np.mean((targets_visib[trainsize:].values - predslistscale)**2))\n",
        "print('DNNRegression visibility has RMSE of {0}'.format(rmse));\n",
        "\n",
        "# Calculate the mean of the number of accident values.\n",
        "avg = np.mean(shuffle_visib_train['number_of_accidents'][:trainsize])\n",
        "\n",
        "# Calculate the RMSE using number of accident values and the mean of all target values.\n",
        "rmse = np.sqrt(np.mean((shuffle_visib_train['number_of_accidents'][trainsize:] - avg)**2))\n",
        "print('Just using average = {0} has RMSE of {1}'.format(avg, rmse));"
      ],
      "execution_count": 168,
      "outputs": [
        {
          "output_type": "stream",
          "name": "stdout",
          "text": [
            "WARNING:tensorflow:float64 is not supported by many models, consider casting to float32.\n",
            "INFO:tensorflow:Using default config.\n",
            "INFO:tensorflow:Using config: {'_task_type': None, '_task_id': 0, '_cluster_spec': <tensorflow.python.training.server_lib.ClusterSpec object at 0x7f4f9b96a350>, '_master': '', '_num_ps_replicas': 0, '_num_worker_replicas': 0, '_environment': 'local', '_is_chief': True, '_evaluation_master': '', '_train_distribute': None, '_eval_distribute': None, '_experimental_max_worker_delay_secs': None, '_device_fn': None, '_tf_config': gpu_options {\n",
            "  per_process_gpu_memory_fraction: 1.0\n",
            "}\n",
            ", '_tf_random_seed': None, '_save_summary_steps': 100, '_save_checkpoints_secs': 600, '_log_step_count_steps': 100, '_protocol': None, '_session_config': None, '_save_checkpoints_steps': None, '_keep_checkpoint_max': 5, '_keep_checkpoint_every_n_hours': 10000, '_model_dir': '/tmp/DNN_regression_trained_model_v', '_session_creation_timeout_secs': 7200}\n",
            "starting to train\n",
            "WARNING:tensorflow:float64 is not supported by many models, consider casting to float32.\n",
            "WARNING:tensorflow:float64 is not supported by many models, consider casting to float32.\n",
            "INFO:tensorflow:Create CheckpointSaverHook.\n",
            "INFO:tensorflow:Graph was finalized.\n",
            "INFO:tensorflow:Running local_init_op.\n",
            "INFO:tensorflow:Done running local_init_op.\n",
            "INFO:tensorflow:Saving checkpoints for 0 into /tmp/DNN_regression_trained_model_v/model.ckpt.\n",
            "INFO:tensorflow:loss = 24963.602, step = 1\n",
            "INFO:tensorflow:global_step/sec: 442.389\n",
            "INFO:tensorflow:loss = 0.08964616, step = 101 (0.232 sec)\n",
            "INFO:tensorflow:global_step/sec: 636.416\n",
            "INFO:tensorflow:loss = 0.045681562, step = 201 (0.157 sec)\n",
            "INFO:tensorflow:global_step/sec: 520.819\n",
            "INFO:tensorflow:loss = 0.052218337, step = 301 (0.188 sec)\n",
            "INFO:tensorflow:global_step/sec: 596.268\n",
            "INFO:tensorflow:loss = 0.046005987, step = 401 (0.170 sec)\n",
            "INFO:tensorflow:global_step/sec: 583.403\n",
            "INFO:tensorflow:loss = 0.04243011, step = 501 (0.172 sec)\n",
            "INFO:tensorflow:global_step/sec: 569.538\n",
            "INFO:tensorflow:loss = 0.031602316, step = 601 (0.175 sec)\n",
            "INFO:tensorflow:global_step/sec: 565.064\n",
            "INFO:tensorflow:loss = 0.041170686, step = 701 (0.176 sec)\n",
            "INFO:tensorflow:global_step/sec: 591.621\n",
            "INFO:tensorflow:loss = 0.035368018, step = 801 (0.169 sec)\n",
            "INFO:tensorflow:global_step/sec: 577.723\n",
            "INFO:tensorflow:loss = 0.033387378, step = 901 (0.173 sec)\n",
            "INFO:tensorflow:global_step/sec: 614.709\n",
            "INFO:tensorflow:loss = 0.03571326, step = 1001 (0.163 sec)\n",
            "INFO:tensorflow:global_step/sec: 601.972\n",
            "INFO:tensorflow:loss = 0.031451497, step = 1101 (0.169 sec)\n",
            "INFO:tensorflow:global_step/sec: 591.909\n",
            "INFO:tensorflow:loss = 0.029220354, step = 1201 (0.165 sec)\n",
            "INFO:tensorflow:global_step/sec: 580.52\n",
            "INFO:tensorflow:loss = 0.025978064, step = 1301 (0.170 sec)\n",
            "INFO:tensorflow:global_step/sec: 652.762\n",
            "INFO:tensorflow:loss = 0.0279558, step = 1401 (0.156 sec)\n",
            "INFO:tensorflow:global_step/sec: 575.971\n",
            "INFO:tensorflow:loss = 0.023496337, step = 1501 (0.173 sec)\n",
            "INFO:tensorflow:global_step/sec: 625.293\n",
            "INFO:tensorflow:loss = 0.021042597, step = 1601 (0.163 sec)\n",
            "INFO:tensorflow:global_step/sec: 607.816\n",
            "INFO:tensorflow:loss = 0.024714865, step = 1701 (0.162 sec)\n",
            "INFO:tensorflow:global_step/sec: 621.905\n",
            "INFO:tensorflow:loss = 0.03275448, step = 1801 (0.160 sec)\n",
            "INFO:tensorflow:global_step/sec: 636.275\n",
            "INFO:tensorflow:loss = 0.028608356, step = 1901 (0.158 sec)\n",
            "INFO:tensorflow:global_step/sec: 654.222\n",
            "INFO:tensorflow:loss = 0.030348618, step = 2001 (0.154 sec)\n",
            "INFO:tensorflow:global_step/sec: 607.429\n",
            "INFO:tensorflow:loss = 0.022359451, step = 2101 (0.165 sec)\n",
            "INFO:tensorflow:global_step/sec: 570.849\n",
            "INFO:tensorflow:loss = 0.023597497, step = 2201 (0.172 sec)\n",
            "INFO:tensorflow:global_step/sec: 628.286\n",
            "INFO:tensorflow:loss = 0.025178725, step = 2301 (0.161 sec)\n",
            "INFO:tensorflow:global_step/sec: 630.166\n",
            "INFO:tensorflow:loss = 0.024642643, step = 2401 (0.158 sec)\n",
            "INFO:tensorflow:global_step/sec: 654.497\n",
            "INFO:tensorflow:loss = 0.02694216, step = 2501 (0.153 sec)\n",
            "INFO:tensorflow:global_step/sec: 624.576\n",
            "INFO:tensorflow:loss = 0.01992721, step = 2601 (0.157 sec)\n",
            "INFO:tensorflow:global_step/sec: 616.951\n",
            "INFO:tensorflow:loss = 0.02862325, step = 2701 (0.165 sec)\n",
            "INFO:tensorflow:global_step/sec: 606.237\n",
            "INFO:tensorflow:loss = 0.021007478, step = 2801 (0.162 sec)\n",
            "INFO:tensorflow:global_step/sec: 569.652\n",
            "INFO:tensorflow:loss = 0.02800178, step = 2901 (0.176 sec)\n",
            "INFO:tensorflow:global_step/sec: 605.967\n",
            "INFO:tensorflow:loss = 0.039768018, step = 3001 (0.167 sec)\n",
            "INFO:tensorflow:global_step/sec: 643.843\n",
            "INFO:tensorflow:loss = 0.021805078, step = 3101 (0.156 sec)\n",
            "INFO:tensorflow:global_step/sec: 627.8\n",
            "INFO:tensorflow:loss = 0.026623663, step = 3201 (0.160 sec)\n",
            "INFO:tensorflow:global_step/sec: 597.974\n",
            "INFO:tensorflow:loss = 0.028238248, step = 3301 (0.167 sec)\n",
            "INFO:tensorflow:global_step/sec: 589.177\n",
            "INFO:tensorflow:loss = 0.04919424, step = 3401 (0.170 sec)\n",
            "INFO:tensorflow:global_step/sec: 591.192\n",
            "INFO:tensorflow:loss = 0.048222024, step = 3501 (0.166 sec)\n",
            "INFO:tensorflow:global_step/sec: 627.939\n",
            "INFO:tensorflow:loss = 9.475998, step = 3601 (0.162 sec)\n",
            "INFO:tensorflow:global_step/sec: 634.511\n",
            "INFO:tensorflow:loss = 0.020327201, step = 3701 (0.158 sec)\n",
            "INFO:tensorflow:global_step/sec: 625.468\n",
            "INFO:tensorflow:loss = 0.2845323, step = 3801 (0.160 sec)\n",
            "INFO:tensorflow:global_step/sec: 630.32\n",
            "INFO:tensorflow:loss = 0.030911215, step = 3901 (0.158 sec)\n",
            "INFO:tensorflow:global_step/sec: 587.974\n",
            "INFO:tensorflow:loss = 1.7530668, step = 4001 (0.170 sec)\n",
            "INFO:tensorflow:global_step/sec: 653.757\n",
            "INFO:tensorflow:loss = 0.16523668, step = 4101 (0.154 sec)\n",
            "INFO:tensorflow:global_step/sec: 630.15\n",
            "INFO:tensorflow:loss = 0.121367276, step = 4201 (0.158 sec)\n",
            "INFO:tensorflow:global_step/sec: 603.247\n",
            "INFO:tensorflow:loss = 0.032212466, step = 4301 (0.165 sec)\n",
            "INFO:tensorflow:global_step/sec: 644.201\n",
            "INFO:tensorflow:loss = 0.6789736, step = 4401 (0.155 sec)\n",
            "INFO:tensorflow:global_step/sec: 641.9\n",
            "INFO:tensorflow:loss = 2.3018541, step = 4501 (0.157 sec)\n",
            "INFO:tensorflow:global_step/sec: 620.607\n",
            "INFO:tensorflow:loss = 0.16423973, step = 4601 (0.162 sec)\n",
            "INFO:tensorflow:global_step/sec: 520.793\n",
            "INFO:tensorflow:loss = 0.0908201, step = 4701 (0.191 sec)\n",
            "INFO:tensorflow:global_step/sec: 627.264\n",
            "INFO:tensorflow:loss = 0.030492818, step = 4801 (0.159 sec)\n",
            "INFO:tensorflow:global_step/sec: 605.724\n",
            "INFO:tensorflow:loss = 0.26338077, step = 4901 (0.164 sec)\n",
            "INFO:tensorflow:global_step/sec: 618.481\n",
            "INFO:tensorflow:loss = 0.0786766, step = 5001 (0.163 sec)\n",
            "INFO:tensorflow:global_step/sec: 605.487\n",
            "INFO:tensorflow:loss = 0.31803462, step = 5101 (0.163 sec)\n",
            "INFO:tensorflow:global_step/sec: 646.696\n",
            "INFO:tensorflow:loss = 0.059823066, step = 5201 (0.158 sec)\n",
            "INFO:tensorflow:global_step/sec: 584.557\n",
            "INFO:tensorflow:loss = 0.27881685, step = 5301 (0.171 sec)\n",
            "INFO:tensorflow:global_step/sec: 616.21\n",
            "INFO:tensorflow:loss = 0.10749318, step = 5401 (0.162 sec)\n",
            "INFO:tensorflow:global_step/sec: 610.769\n",
            "INFO:tensorflow:loss = 0.044183947, step = 5501 (0.164 sec)\n",
            "INFO:tensorflow:global_step/sec: 633.598\n",
            "INFO:tensorflow:loss = 0.21937889, step = 5601 (0.155 sec)\n",
            "INFO:tensorflow:global_step/sec: 618.655\n",
            "INFO:tensorflow:loss = 0.15994604, step = 5701 (0.161 sec)\n",
            "INFO:tensorflow:global_step/sec: 602.917\n",
            "INFO:tensorflow:loss = 0.13177362, step = 5801 (0.169 sec)\n",
            "INFO:tensorflow:global_step/sec: 545.436\n",
            "INFO:tensorflow:loss = 0.7664731, step = 5901 (0.183 sec)\n",
            "INFO:tensorflow:global_step/sec: 606.082\n",
            "INFO:tensorflow:loss = 0.11787169, step = 6001 (0.165 sec)\n",
            "INFO:tensorflow:global_step/sec: 642.225\n",
            "INFO:tensorflow:loss = 0.7204046, step = 6101 (0.156 sec)\n",
            "INFO:tensorflow:global_step/sec: 554.746\n",
            "INFO:tensorflow:loss = 0.018888107, step = 6201 (0.178 sec)\n",
            "INFO:tensorflow:global_step/sec: 626.493\n",
            "INFO:tensorflow:loss = 0.028008465, step = 6301 (0.163 sec)\n",
            "INFO:tensorflow:global_step/sec: 631.149\n",
            "INFO:tensorflow:loss = 0.13745089, step = 6401 (0.155 sec)\n",
            "INFO:tensorflow:global_step/sec: 574.896\n",
            "INFO:tensorflow:loss = 0.25919557, step = 6501 (0.177 sec)\n",
            "INFO:tensorflow:global_step/sec: 639.846\n",
            "INFO:tensorflow:loss = 0.3354497, step = 6601 (0.154 sec)\n",
            "INFO:tensorflow:global_step/sec: 632.113\n",
            "INFO:tensorflow:loss = 0.071540825, step = 6701 (0.160 sec)\n",
            "INFO:tensorflow:global_step/sec: 602.033\n",
            "INFO:tensorflow:loss = 0.35893, step = 6801 (0.165 sec)\n",
            "INFO:tensorflow:global_step/sec: 631.491\n",
            "INFO:tensorflow:loss = 0.15063882, step = 6901 (0.162 sec)\n",
            "INFO:tensorflow:global_step/sec: 584.374\n",
            "INFO:tensorflow:loss = 0.028033886, step = 7001 (0.168 sec)\n",
            "INFO:tensorflow:global_step/sec: 538.536\n",
            "INFO:tensorflow:loss = 0.057942558, step = 7101 (0.188 sec)\n",
            "INFO:tensorflow:global_step/sec: 487.752\n",
            "INFO:tensorflow:loss = 0.028146978, step = 7201 (0.206 sec)\n",
            "INFO:tensorflow:global_step/sec: 498.413\n",
            "INFO:tensorflow:loss = 0.042898044, step = 7301 (0.197 sec)\n",
            "INFO:tensorflow:global_step/sec: 525.11\n",
            "INFO:tensorflow:loss = 0.065450445, step = 7401 (0.194 sec)\n",
            "INFO:tensorflow:global_step/sec: 564.118\n",
            "INFO:tensorflow:loss = 0.05649251, step = 7501 (0.177 sec)\n",
            "INFO:tensorflow:global_step/sec: 539.898\n",
            "INFO:tensorflow:loss = 0.026521599, step = 7601 (0.182 sec)\n",
            "INFO:tensorflow:global_step/sec: 509.122\n",
            "INFO:tensorflow:loss = 0.07121086, step = 7701 (0.203 sec)\n",
            "INFO:tensorflow:global_step/sec: 524.722\n",
            "INFO:tensorflow:loss = 0.023586698, step = 7801 (0.190 sec)\n",
            "INFO:tensorflow:global_step/sec: 545.723\n",
            "INFO:tensorflow:loss = 0.018530427, step = 7901 (0.182 sec)\n",
            "INFO:tensorflow:global_step/sec: 574.803\n",
            "INFO:tensorflow:loss = 0.07938242, step = 8001 (0.173 sec)\n",
            "INFO:tensorflow:global_step/sec: 581.114\n",
            "INFO:tensorflow:loss = 0.27452752, step = 8101 (0.169 sec)\n",
            "INFO:tensorflow:global_step/sec: 532.981\n",
            "INFO:tensorflow:loss = 0.023207575, step = 8201 (0.190 sec)\n",
            "INFO:tensorflow:global_step/sec: 557.104\n",
            "INFO:tensorflow:loss = 0.031882524, step = 8301 (0.180 sec)\n",
            "INFO:tensorflow:global_step/sec: 576.013\n",
            "INFO:tensorflow:loss = 0.04930006, step = 8401 (0.175 sec)\n",
            "INFO:tensorflow:global_step/sec: 587.277\n",
            "INFO:tensorflow:loss = 0.015832234, step = 8501 (0.169 sec)\n",
            "INFO:tensorflow:global_step/sec: 598.221\n",
            "INFO:tensorflow:loss = 0.031181676, step = 8601 (0.170 sec)\n",
            "INFO:tensorflow:global_step/sec: 560.143\n",
            "INFO:tensorflow:loss = 0.03425782, step = 8701 (0.176 sec)\n",
            "INFO:tensorflow:global_step/sec: 464.691\n",
            "INFO:tensorflow:loss = 0.038278025, step = 8801 (0.214 sec)\n",
            "INFO:tensorflow:global_step/sec: 570.282\n",
            "INFO:tensorflow:loss = 0.02352057, step = 8901 (0.174 sec)\n",
            "INFO:tensorflow:global_step/sec: 552.752\n",
            "INFO:tensorflow:loss = 0.05704443, step = 9001 (0.181 sec)\n",
            "INFO:tensorflow:global_step/sec: 605.939\n",
            "INFO:tensorflow:loss = 0.02188737, step = 9101 (0.164 sec)\n",
            "INFO:tensorflow:global_step/sec: 572.293\n",
            "INFO:tensorflow:loss = 0.04497705, step = 9201 (0.178 sec)\n",
            "INFO:tensorflow:global_step/sec: 591.359\n",
            "INFO:tensorflow:loss = 0.037822068, step = 9301 (0.168 sec)\n",
            "INFO:tensorflow:global_step/sec: 579.36\n",
            "INFO:tensorflow:loss = 0.029340481, step = 9401 (0.174 sec)\n",
            "INFO:tensorflow:global_step/sec: 579.54\n",
            "INFO:tensorflow:loss = 0.056144185, step = 9501 (0.168 sec)\n",
            "INFO:tensorflow:global_step/sec: 620.663\n",
            "INFO:tensorflow:loss = 0.03758041, step = 9601 (0.161 sec)\n",
            "INFO:tensorflow:global_step/sec: 628.996\n",
            "INFO:tensorflow:loss = 0.04665541, step = 9701 (0.162 sec)\n",
            "INFO:tensorflow:global_step/sec: 577.122\n",
            "INFO:tensorflow:loss = 0.03672313, step = 9801 (0.174 sec)\n",
            "INFO:tensorflow:global_step/sec: 505.345\n",
            "INFO:tensorflow:loss = 0.025502335, step = 9901 (0.195 sec)\n",
            "INFO:tensorflow:Saving checkpoints for 10000 into /tmp/DNN_regression_trained_model_v/model.ckpt.\n",
            "INFO:tensorflow:Loss for final step: 0.033937756.\n",
            "WARNING:tensorflow:float64 is not supported by many models, consider casting to float32.\n",
            "INFO:tensorflow:Graph was finalized.\n",
            "INFO:tensorflow:Restoring parameters from /tmp/DNN_regression_trained_model_v/model.ckpt-10000\n",
            "INFO:tensorflow:Running local_init_op.\n",
            "INFO:tensorflow:Done running local_init_op.\n",
            "DNNRegression visibility has RMSE of 0.16546989749423802\n",
            "Just using average = 0.5107583735292887 has RMSE of 0.19674260956329978\n"
          ]
        }
      ]
    },
    {
      "cell_type": "markdown",
      "metadata": {
        "id": "OtAsYb38I7sn"
      },
      "source": [
        "The RMSE results are 0.146 and 0.197 which are close so the model will be tested on the validation data."
      ]
    },
    {
      "cell_type": "markdown",
      "metadata": {
        "id": "o1WEvt0Czy1r"
      },
      "source": [
        "Test model on first three rows of validation data."
      ]
    },
    {
      "cell_type": "code",
      "metadata": {
        "colab": {
          "base_uri": "https://localhost:8080/",
          "height": 143
        },
        "id": "cIZvo7I4vl-c",
        "outputId": "52ff44ae-5b6e-457f-af86-22d49aa7d69f"
      },
      "source": [
        "shuffle_visib_test[:3]"
      ],
      "execution_count": 169,
      "outputs": [
        {
          "output_type": "execute_result",
          "data": {
            "text/html": [
              "<div>\n",
              "<style scoped>\n",
              "    .dataframe tbody tr th:only-of-type {\n",
              "        vertical-align: middle;\n",
              "    }\n",
              "\n",
              "    .dataframe tbody tr th {\n",
              "        vertical-align: top;\n",
              "    }\n",
              "\n",
              "    .dataframe thead th {\n",
              "        text-align: right;\n",
              "    }\n",
              "</style>\n",
              "<table border=\"1\" class=\"dataframe\">\n",
              "  <thead>\n",
              "    <tr style=\"text-align: right;\">\n",
              "      <th></th>\n",
              "      <th>Apr</th>\n",
              "      <th>Aug</th>\n",
              "      <th>Dec</th>\n",
              "      <th>Feb</th>\n",
              "      <th>Jan</th>\n",
              "      <th>Jul</th>\n",
              "      <th>Jun</th>\n",
              "      <th>Mar</th>\n",
              "      <th>May</th>\n",
              "      <th>Nov</th>\n",
              "      <th>Oct</th>\n",
              "      <th>Sep</th>\n",
              "      <th>Fri</th>\n",
              "      <th>Mon</th>\n",
              "      <th>Sat</th>\n",
              "      <th>Sun</th>\n",
              "      <th>Thu</th>\n",
              "      <th>Tue</th>\n",
              "      <th>Wed</th>\n",
              "      <th>year</th>\n",
              "      <th>visib</th>\n",
              "      <th>number_of_accidents</th>\n",
              "    </tr>\n",
              "  </thead>\n",
              "  <tbody>\n",
              "    <tr>\n",
              "      <th>234</th>\n",
              "      <td>0</td>\n",
              "      <td>1</td>\n",
              "      <td>0</td>\n",
              "      <td>0</td>\n",
              "      <td>0</td>\n",
              "      <td>0</td>\n",
              "      <td>0</td>\n",
              "      <td>0</td>\n",
              "      <td>0</td>\n",
              "      <td>0</td>\n",
              "      <td>0</td>\n",
              "      <td>0</td>\n",
              "      <td>1</td>\n",
              "      <td>0</td>\n",
              "      <td>0</td>\n",
              "      <td>0</td>\n",
              "      <td>0</td>\n",
              "      <td>0</td>\n",
              "      <td>0</td>\n",
              "      <td>2013</td>\n",
              "      <td>7.8</td>\n",
              "      <td>0.644495</td>\n",
              "    </tr>\n",
              "    <tr>\n",
              "      <th>1542</th>\n",
              "      <td>1</td>\n",
              "      <td>0</td>\n",
              "      <td>0</td>\n",
              "      <td>0</td>\n",
              "      <td>0</td>\n",
              "      <td>0</td>\n",
              "      <td>0</td>\n",
              "      <td>0</td>\n",
              "      <td>0</td>\n",
              "      <td>0</td>\n",
              "      <td>0</td>\n",
              "      <td>0</td>\n",
              "      <td>0</td>\n",
              "      <td>0</td>\n",
              "      <td>0</td>\n",
              "      <td>0</td>\n",
              "      <td>0</td>\n",
              "      <td>1</td>\n",
              "      <td>0</td>\n",
              "      <td>2017</td>\n",
              "      <td>8.8</td>\n",
              "      <td>0.312236</td>\n",
              "    </tr>\n",
              "    <tr>\n",
              "      <th>588</th>\n",
              "      <td>0</td>\n",
              "      <td>1</td>\n",
              "      <td>0</td>\n",
              "      <td>0</td>\n",
              "      <td>0</td>\n",
              "      <td>0</td>\n",
              "      <td>0</td>\n",
              "      <td>0</td>\n",
              "      <td>0</td>\n",
              "      <td>0</td>\n",
              "      <td>0</td>\n",
              "      <td>0</td>\n",
              "      <td>0</td>\n",
              "      <td>1</td>\n",
              "      <td>0</td>\n",
              "      <td>0</td>\n",
              "      <td>0</td>\n",
              "      <td>0</td>\n",
              "      <td>0</td>\n",
              "      <td>2014</td>\n",
              "      <td>9.8</td>\n",
              "      <td>0.543981</td>\n",
              "    </tr>\n",
              "  </tbody>\n",
              "</table>\n",
              "</div>"
            ],
            "text/plain": [
              "      Apr  Aug  Dec  Feb  Jan  ...  Tue  Wed  year  visib  number_of_accidents\n",
              "234     0    1    0    0    0  ...    0    0  2013    7.8             0.644495\n",
              "1542    1    0    0    0    0  ...    1    0  2017    8.8             0.312236\n",
              "588     0    1    0    0    0  ...    0    0  2014    9.8             0.543981\n",
              "\n",
              "[3 rows x 22 columns]"
            ]
          },
          "metadata": {},
          "execution_count": 169
        }
      ]
    },
    {
      "cell_type": "code",
      "metadata": {
        "colab": {
          "base_uri": "https://localhost:8080/"
        },
        "id": "vFV_F_CxpnYs",
        "outputId": "52e50d82-335c-4c7f-caa9-60b0d5f0b262"
      },
      "source": [
        "# create test using data above\n",
        "input = pd.DataFrame.from_dict(data = \n",
        "\t\t\t\t{\n",
        "         'Apr' : [0,1,0],\n",
        "         'Aug' : [1,0,1],\n",
        "         'Dec' : [0,0,0],\n",
        "         'Feb' : [0,0,0],\n",
        "         'Jan' : [0,0,0],\n",
        "         'Jul' : [0,0,0],\n",
        "         'Jun' : [0,0,0],\n",
        "         'Mar' : [0,0,0],\n",
        "         'May' : [0,0,0],\n",
        "         'Nov' : [0,0,0],\n",
        "         'Oct' : [0,0,0],\n",
        "         'Sep' : [0,0,0],\n",
        "         'Fri' : [1,0,0],\n",
        "         'Mon' : [0,0,1],\n",
        "         'Sat' : [0,0,0],\n",
        "         'Sun' : [0,0,0],\n",
        "         'Thu' : [0,0,0],\n",
        "         'Tue' : [0,1,0],\n",
        "         'Wed' : [0,0,0],\n",
        "         'year' : [2013,2017,2014],\n",
        "         'visib' : [7.8, 8.8, 9.8]\n",
        "        })\n",
        "\n",
        "estimator = tf.contrib.learn.SKCompat(tf.contrib.learn.DNNRegressor(model_dir='/tmp/DNN_regression_trained_model_v', hidden_units=[20,18,14], enable_centered_bias=False, feature_columns=tf.contrib.learn.infer_real_valued_columns_from_input(input.values)))\n",
        "\n",
        "preds = estimator.predict(x=input.values)\n",
        "\n",
        "predslistnorm = preds['scores']\n",
        "prednorm = format(str(predslistnorm))\n",
        "print(prednorm)"
      ],
      "execution_count": 170,
      "outputs": [
        {
          "output_type": "stream",
          "name": "stdout",
          "text": [
            "WARNING:tensorflow:float64 is not supported by many models, consider casting to float32.\n",
            "INFO:tensorflow:Using default config.\n",
            "INFO:tensorflow:Using config: {'_task_type': None, '_task_id': 0, '_cluster_spec': <tensorflow.python.training.server_lib.ClusterSpec object at 0x7f4fa0bd44d0>, '_master': '', '_num_ps_replicas': 0, '_num_worker_replicas': 0, '_environment': 'local', '_is_chief': True, '_evaluation_master': '', '_train_distribute': None, '_eval_distribute': None, '_experimental_max_worker_delay_secs': None, '_device_fn': None, '_tf_config': gpu_options {\n",
            "  per_process_gpu_memory_fraction: 1.0\n",
            "}\n",
            ", '_tf_random_seed': None, '_save_summary_steps': 100, '_save_checkpoints_secs': 600, '_log_step_count_steps': 100, '_protocol': None, '_session_config': None, '_save_checkpoints_steps': None, '_keep_checkpoint_max': 5, '_keep_checkpoint_every_n_hours': 10000, '_model_dir': '/tmp/DNN_regression_trained_model_v', '_session_creation_timeout_secs': 7200}\n",
            "WARNING:tensorflow:float64 is not supported by many models, consider casting to float32.\n",
            "INFO:tensorflow:Graph was finalized.\n",
            "INFO:tensorflow:Restoring parameters from /tmp/DNN_regression_trained_model_v/model.ckpt-10000\n",
            "INFO:tensorflow:Running local_init_op.\n",
            "INFO:tensorflow:Done running local_init_op.\n",
            "[0.5549856 0.452478  0.4069534]\n"
          ]
        }
      ]
    },
    {
      "cell_type": "markdown",
      "metadata": {
        "id": "_W3bcRC9JfEY"
      },
      "source": [
        "The normalised number of accidents for the test data is 0.644, 0.312 and 0.544 and the model predicted 0.661, 0.553 and 0.511 so the first and third sets of values were very accurate though the second one was less so."
      ]
    },
    {
      "cell_type": "markdown",
      "metadata": {
        "id": "LMbaqyTCJ34n"
      },
      "source": [
        "Test model on random data selected from validation data"
      ]
    },
    {
      "cell_type": "code",
      "metadata": {
        "colab": {
          "base_uri": "https://localhost:8080/",
          "height": 143
        },
        "id": "xre5KRp2J7fv",
        "outputId": "793b1920-6c09-477b-fdad-c956da788e46"
      },
      "source": [
        "np.random.seed([7])\n",
        "\n",
        "shuffle_visib_test.sample(n = 3)"
      ],
      "execution_count": 171,
      "outputs": [
        {
          "output_type": "execute_result",
          "data": {
            "text/html": [
              "<div>\n",
              "<style scoped>\n",
              "    .dataframe tbody tr th:only-of-type {\n",
              "        vertical-align: middle;\n",
              "    }\n",
              "\n",
              "    .dataframe tbody tr th {\n",
              "        vertical-align: top;\n",
              "    }\n",
              "\n",
              "    .dataframe thead th {\n",
              "        text-align: right;\n",
              "    }\n",
              "</style>\n",
              "<table border=\"1\" class=\"dataframe\">\n",
              "  <thead>\n",
              "    <tr style=\"text-align: right;\">\n",
              "      <th></th>\n",
              "      <th>Apr</th>\n",
              "      <th>Aug</th>\n",
              "      <th>Dec</th>\n",
              "      <th>Feb</th>\n",
              "      <th>Jan</th>\n",
              "      <th>Jul</th>\n",
              "      <th>Jun</th>\n",
              "      <th>Mar</th>\n",
              "      <th>May</th>\n",
              "      <th>Nov</th>\n",
              "      <th>Oct</th>\n",
              "      <th>Sep</th>\n",
              "      <th>Fri</th>\n",
              "      <th>Mon</th>\n",
              "      <th>Sat</th>\n",
              "      <th>Sun</th>\n",
              "      <th>Thu</th>\n",
              "      <th>Tue</th>\n",
              "      <th>Wed</th>\n",
              "      <th>year</th>\n",
              "      <th>visib</th>\n",
              "      <th>number_of_accidents</th>\n",
              "    </tr>\n",
              "  </thead>\n",
              "  <tbody>\n",
              "    <tr>\n",
              "      <th>261</th>\n",
              "      <td>0</td>\n",
              "      <td>0</td>\n",
              "      <td>0</td>\n",
              "      <td>0</td>\n",
              "      <td>0</td>\n",
              "      <td>0</td>\n",
              "      <td>0</td>\n",
              "      <td>0</td>\n",
              "      <td>0</td>\n",
              "      <td>0</td>\n",
              "      <td>0</td>\n",
              "      <td>1</td>\n",
              "      <td>0</td>\n",
              "      <td>0</td>\n",
              "      <td>0</td>\n",
              "      <td>0</td>\n",
              "      <td>1</td>\n",
              "      <td>0</td>\n",
              "      <td>0</td>\n",
              "      <td>2013</td>\n",
              "      <td>10.0</td>\n",
              "      <td>0.415138</td>\n",
              "    </tr>\n",
              "    <tr>\n",
              "      <th>1068</th>\n",
              "      <td>0</td>\n",
              "      <td>0</td>\n",
              "      <td>1</td>\n",
              "      <td>0</td>\n",
              "      <td>0</td>\n",
              "      <td>0</td>\n",
              "      <td>0</td>\n",
              "      <td>0</td>\n",
              "      <td>0</td>\n",
              "      <td>0</td>\n",
              "      <td>0</td>\n",
              "      <td>0</td>\n",
              "      <td>1</td>\n",
              "      <td>0</td>\n",
              "      <td>0</td>\n",
              "      <td>0</td>\n",
              "      <td>0</td>\n",
              "      <td>0</td>\n",
              "      <td>0</td>\n",
              "      <td>2015</td>\n",
              "      <td>2.4</td>\n",
              "      <td>0.866808</td>\n",
              "    </tr>\n",
              "    <tr>\n",
              "      <th>1944</th>\n",
              "      <td>0</td>\n",
              "      <td>0</td>\n",
              "      <td>0</td>\n",
              "      <td>0</td>\n",
              "      <td>0</td>\n",
              "      <td>0</td>\n",
              "      <td>0</td>\n",
              "      <td>0</td>\n",
              "      <td>1</td>\n",
              "      <td>0</td>\n",
              "      <td>0</td>\n",
              "      <td>0</td>\n",
              "      <td>1</td>\n",
              "      <td>0</td>\n",
              "      <td>0</td>\n",
              "      <td>0</td>\n",
              "      <td>0</td>\n",
              "      <td>0</td>\n",
              "      <td>0</td>\n",
              "      <td>2018</td>\n",
              "      <td>8.0</td>\n",
              "      <td>0.896861</td>\n",
              "    </tr>\n",
              "  </tbody>\n",
              "</table>\n",
              "</div>"
            ],
            "text/plain": [
              "      Apr  Aug  Dec  Feb  Jan  ...  Tue  Wed  year  visib  number_of_accidents\n",
              "261     0    0    0    0    0  ...    0    0  2013   10.0             0.415138\n",
              "1068    0    0    1    0    0  ...    0    0  2015    2.4             0.866808\n",
              "1944    0    0    0    0    0  ...    0    0  2018    8.0             0.896861\n",
              "\n",
              "[3 rows x 22 columns]"
            ]
          },
          "metadata": {},
          "execution_count": 171
        }
      ]
    },
    {
      "cell_type": "code",
      "metadata": {
        "colab": {
          "base_uri": "https://localhost:8080/"
        },
        "id": "voTkHeoKKJJk",
        "outputId": "574abfff-8d1c-4c66-c36d-e2f85d1ff5cb"
      },
      "source": [
        "# create test using data above\n",
        "input = pd.DataFrame.from_dict(data = \n",
        "\t\t\t\t{\n",
        "         'Apr' : [0,0,0],\n",
        "         'Aug' : [0,0,0],\n",
        "         'Dec' : [0,1,0],\n",
        "         'Feb' : [0,0,0],\n",
        "         'Jan' : [0,0,0],\n",
        "         'Jul' : [0,0,0],\n",
        "         'Jun' : [0,0,0],\n",
        "         'Mar' : [0,0,0],\n",
        "         'May' : [0,0,1],\n",
        "         'Nov' : [0,0,0],\n",
        "         'Oct' : [0,0,0],\n",
        "         'Sep' : [1,0,0],\n",
        "         'Fri' : [0,1,1],\n",
        "         'Mon' : [0,0,0],\n",
        "         'Sat' : [0,0,0],\n",
        "         'Sun' : [0,0,0],\n",
        "         'Thu' : [1,0,0],\n",
        "         'Tue' : [0,0,0],\n",
        "         'Wed' : [0,0,0],\n",
        "         'year' : [2013,2015,2018],\n",
        "         'visib' : [10, 2.4, 8]\n",
        "        })\n",
        "\n",
        "estimator = tf.contrib.learn.SKCompat(tf.contrib.learn.DNNRegressor(model_dir='/tmp/DNN_regression_trained_model_v', hidden_units=[20,18,14], enable_centered_bias=False, feature_columns=tf.contrib.learn.infer_real_valued_columns_from_input(input.values)))\n",
        "\n",
        "preds = estimator.predict(x=input.values)\n",
        "\n",
        "predslistnorm = preds['scores']\n",
        "prednorm = format(str(predslistnorm))\n",
        "print(prednorm)"
      ],
      "execution_count": 172,
      "outputs": [
        {
          "output_type": "stream",
          "name": "stdout",
          "text": [
            "WARNING:tensorflow:float64 is not supported by many models, consider casting to float32.\n",
            "INFO:tensorflow:Using default config.\n",
            "INFO:tensorflow:Using config: {'_task_type': None, '_task_id': 0, '_cluster_spec': <tensorflow.python.training.server_lib.ClusterSpec object at 0x7f4fa0a44590>, '_master': '', '_num_ps_replicas': 0, '_num_worker_replicas': 0, '_environment': 'local', '_is_chief': True, '_evaluation_master': '', '_train_distribute': None, '_eval_distribute': None, '_experimental_max_worker_delay_secs': None, '_device_fn': None, '_tf_config': gpu_options {\n",
            "  per_process_gpu_memory_fraction: 1.0\n",
            "}\n",
            ", '_tf_random_seed': None, '_save_summary_steps': 100, '_save_checkpoints_secs': 600, '_log_step_count_steps': 100, '_protocol': None, '_session_config': None, '_save_checkpoints_steps': None, '_keep_checkpoint_max': 5, '_keep_checkpoint_every_n_hours': 10000, '_model_dir': '/tmp/DNN_regression_trained_model_v', '_session_creation_timeout_secs': 7200}\n",
            "WARNING:tensorflow:float64 is not supported by many models, consider casting to float32.\n",
            "INFO:tensorflow:Graph was finalized.\n",
            "INFO:tensorflow:Restoring parameters from /tmp/DNN_regression_trained_model_v/model.ckpt-10000\n",
            "INFO:tensorflow:Running local_init_op.\n",
            "INFO:tensorflow:Done running local_init_op.\n",
            "[0.51420456 0.5897575  0.62646013]\n"
          ]
        }
      ]
    },
    {
      "cell_type": "markdown",
      "metadata": {
        "id": "nnSe1MV3KhVs"
      },
      "source": [
        "The normalised number of accidents for the random test data sample is 0.415, 0.869 and 0.897 and the model predicted 0.616, 0.692 and 0.726 so this is much less accurate than the previous test."
      ]
    },
    {
      "cell_type": "markdown",
      "metadata": {
        "id": "pcvrnQJyLEmZ"
      },
      "source": [
        "### Create and test model for temperature"
      ]
    },
    {
      "cell_type": "code",
      "metadata": {
        "colab": {
          "base_uri": "https://localhost:8080/"
        },
        "id": "EN4vdGIhLGWK",
        "outputId": "197c4978-a4de-4f2a-b676-442ea4649d67"
      },
      "source": [
        "# shuffle temperature dataset\n",
        "shuffle_temp = df_dnn_temp.iloc[np.random.permutation(len(df_dnn_temp))]\n",
        "\n",
        "#create training and validation data\n",
        "shuffle_temp_train, shuffle_temp_test = train_test_split(shuffle_temp, test_size=0.1)\n",
        "\n",
        "#check training set\n",
        "print(shuffle_temp_train[:5])\n",
        "\n",
        "# choose predictors\n",
        "predictors_temp = shuffle_temp_train.iloc[:,0:21]\n",
        "\n",
        "# check predictors.\n",
        "print(predictors_temp[:6])"
      ],
      "execution_count": 173,
      "outputs": [
        {
          "output_type": "stream",
          "name": "stdout",
          "text": [
            "      Apr  Aug  Dec  Feb  Jan  ...  Tue  Wed  year  temp  number_of_accidents\n",
            "1369    0    0    0    0    0  ...    1    0  2016  63.8             0.482833\n",
            "824     1    0    0    0    0  ...    0    0  2015  47.5             0.680761\n",
            "322     0    0    0    0    0  ...    1    0  2013  47.0             0.561927\n",
            "1780    0    0    1    0    0  ...    0    0  2017  41.0             0.656118\n",
            "659     0    0    0    0    0  ...    1    0  2014  54.3             0.488426\n",
            "\n",
            "[5 rows x 22 columns]\n",
            "      Apr  Aug  Dec  Feb  Jan  Jul  Jun  ...  Sat  Sun  Thu  Tue  Wed  year  temp\n",
            "1369    0    0    0    0    0    0    0  ...    0    0    0    1    0  2016  63.8\n",
            "824     1    0    0    0    0    0    0  ...    0    0    0    0    0  2015  47.5\n",
            "322     0    0    0    0    0    0    0  ...    0    0    0    1    0  2013  47.0\n",
            "1780    0    0    1    0    0    0    0  ...    0    0    0    0    0  2017  41.0\n",
            "659     0    0    0    0    0    0    0  ...    0    0    0    1    0  2014  54.3\n",
            "1051    0    0    1    0    0    0    0  ...    0    0    0    1    0  2015  40.1\n",
            "\n",
            "[6 rows x 21 columns]\n"
          ]
        }
      ]
    },
    {
      "cell_type": "code",
      "metadata": {
        "colab": {
          "base_uri": "https://localhost:8080/"
        },
        "id": "YYU0PpI8LaoG",
        "outputId": "ef45bf58-57e2-41a6-9cb5-90d0e01bc083"
      },
      "source": [
        "# Create outcome data - targets\n",
        "targets_temp = shuffle_temp_train.iloc[:,21]\n",
        "\n",
        "# check targets data.\n",
        "print(targets_temp[:6])"
      ],
      "execution_count": 174,
      "outputs": [
        {
          "output_type": "stream",
          "name": "stdout",
          "text": [
            "1369    0.482833\n",
            "824     0.680761\n",
            "322     0.561927\n",
            "1780    0.656118\n",
            "659     0.488426\n",
            "1051    0.822410\n",
            "Name: number_of_accidents, dtype: float64\n"
          ]
        }
      ]
    },
    {
      "cell_type": "code",
      "metadata": {
        "id": "T7k9W3r3LlLS"
      },
      "source": [
        "SCALE_num_accidents = 1.0"
      ],
      "execution_count": 175,
      "outputs": []
    },
    {
      "cell_type": "code",
      "metadata": {
        "id": "M9Z-1eNuLqa5"
      },
      "source": [
        "# Split our data into a training set = 80% of the length of the shuffle array\n",
        "trainsize = int(len(shuffle_temp_train['number_of_accidents'])*0.8)\n",
        "# The test set size = 20% of the length of the shuffle array.\n",
        "testsize = len(shuffle_temp_train['number_of_accidents']) - trainsize\n",
        "\n",
        "# Define the number of predictors\n",
        "nppredictors = 21\n",
        "# Define the number of targets\n",
        "noutputs = 1"
      ],
      "execution_count": 176,
      "outputs": []
    },
    {
      "cell_type": "markdown",
      "metadata": {
        "id": "ShSwNtL3LxsM"
      },
      "source": [
        "Create model"
      ]
    },
    {
      "cell_type": "code",
      "metadata": {
        "colab": {
          "base_uri": "https://localhost:8080/"
        },
        "id": "DFpbgRAfLx0R",
        "outputId": "f1b7a486-db2c-4ed9-ae76-60778623608c"
      },
      "source": [
        "# create model\n",
        "tf.compat.v1.logging.set_verbosity(tf.compat.v1.logging.INFO)\n",
        "\n",
        "# removes previous saved model\n",
        "shutil.rmtree('/tmp/DNN_regression_trained_model_t', ignore_errors=True)\n",
        "\n",
        "estimator_temp = tf.contrib.learn.SKCompat(tf.contrib.learn.DNNRegressor(model_dir='/tmp/DNN_regression_trained_model_t', hidden_units=[20,18,14], optimizer=tf.train.AdamOptimizer(learning_rate=0.01), enable_centered_bias=False, feature_columns=tf.contrib.learn.infer_real_valued_columns_from_input(predictors_temp.values)))\n",
        "\n",
        "# show model is starting to train\n",
        "print(\"starting to train\");\n",
        "\n",
        "# Train the model\n",
        "estimator_temp.fit(predictors_temp[:trainsize].values, targets_temp[:trainsize].values.reshape(trainsize, noutputs)/SCALE_num_accidents, steps=10000)\n",
        "\n",
        "# check predictions\n",
        "preds = estimator_temp.predict(x=predictors_temp[trainsize:].values)\n",
        "\n",
        "# Apply the Scale value\n",
        "predslistscale = preds['scores']*SCALE_num_accidents\n",
        "\n",
        "# Calculate RMSE \n",
        "rmse = np.sqrt(np.mean((targets_temp[trainsize:].values - predslistscale)**2))\n",
        "print('DNNRegression temperature has RMSE of {0}'.format(rmse));\n",
        "\n",
        "# Calculate the mean of the number of accident values.\n",
        "avg = np.mean(shuffle_temp_train['number_of_accidents'][:trainsize])\n",
        "\n",
        "# Calculate the RMSE using number of accident values and the mean of all target values.\n",
        "rmse = np.sqrt(np.mean((shuffle_temp_train['number_of_accidents'][trainsize:] - avg)**2))\n",
        "print('Just using average = {0} has RMSE of {1}'.format(avg, rmse));"
      ],
      "execution_count": 101,
      "outputs": [
        {
          "output_type": "stream",
          "name": "stdout",
          "text": [
            "WARNING:tensorflow:float64 is not supported by many models, consider casting to float32.\n",
            "INFO:tensorflow:Using default config.\n",
            "INFO:tensorflow:Using config: {'_task_type': None, '_task_id': 0, '_cluster_spec': <tensorflow.python.training.server_lib.ClusterSpec object at 0x7f4fa0b0a210>, '_master': '', '_num_ps_replicas': 0, '_num_worker_replicas': 0, '_environment': 'local', '_is_chief': True, '_evaluation_master': '', '_train_distribute': None, '_eval_distribute': None, '_experimental_max_worker_delay_secs': None, '_device_fn': None, '_tf_config': gpu_options {\n",
            "  per_process_gpu_memory_fraction: 1.0\n",
            "}\n",
            ", '_tf_random_seed': None, '_save_summary_steps': 100, '_save_checkpoints_secs': 600, '_log_step_count_steps': 100, '_protocol': None, '_session_config': None, '_save_checkpoints_steps': None, '_keep_checkpoint_max': 5, '_keep_checkpoint_every_n_hours': 10000, '_model_dir': '/tmp/DNN_regression_trained_model_t', '_session_creation_timeout_secs': 7200}\n",
            "starting to train\n",
            "WARNING:tensorflow:float64 is not supported by many models, consider casting to float32.\n",
            "WARNING:tensorflow:float64 is not supported by many models, consider casting to float32.\n",
            "INFO:tensorflow:Create CheckpointSaverHook.\n",
            "INFO:tensorflow:Graph was finalized.\n",
            "INFO:tensorflow:Running local_init_op.\n",
            "INFO:tensorflow:Done running local_init_op.\n",
            "INFO:tensorflow:Saving checkpoints for 0 into /tmp/DNN_regression_trained_model_t/model.ckpt.\n",
            "INFO:tensorflow:loss = 459679.1, step = 1\n",
            "INFO:tensorflow:global_step/sec: 446.813\n",
            "INFO:tensorflow:loss = 0.0724081, step = 101 (0.228 sec)\n",
            "INFO:tensorflow:global_step/sec: 529.723\n",
            "INFO:tensorflow:loss = 0.079922654, step = 201 (0.192 sec)\n",
            "INFO:tensorflow:global_step/sec: 589.393\n",
            "INFO:tensorflow:loss = 0.06452825, step = 301 (0.165 sec)\n",
            "INFO:tensorflow:global_step/sec: 623.899\n",
            "INFO:tensorflow:loss = 0.063296184, step = 401 (0.162 sec)\n",
            "INFO:tensorflow:global_step/sec: 566.237\n",
            "INFO:tensorflow:loss = 0.09860838, step = 501 (0.178 sec)\n",
            "INFO:tensorflow:global_step/sec: 559.565\n",
            "INFO:tensorflow:loss = 0.06999837, step = 601 (0.178 sec)\n",
            "INFO:tensorflow:global_step/sec: 609.654\n",
            "INFO:tensorflow:loss = 0.051026218, step = 701 (0.165 sec)\n",
            "INFO:tensorflow:global_step/sec: 580.846\n",
            "INFO:tensorflow:loss = 0.052071862, step = 801 (0.173 sec)\n",
            "INFO:tensorflow:global_step/sec: 624.204\n",
            "INFO:tensorflow:loss = 0.041119482, step = 901 (0.159 sec)\n",
            "INFO:tensorflow:global_step/sec: 579.799\n",
            "INFO:tensorflow:loss = 0.045284588, step = 1001 (0.173 sec)\n",
            "INFO:tensorflow:global_step/sec: 611.598\n",
            "INFO:tensorflow:loss = 0.042175047, step = 1101 (0.165 sec)\n",
            "INFO:tensorflow:global_step/sec: 615.748\n",
            "INFO:tensorflow:loss = 0.041339405, step = 1201 (0.163 sec)\n",
            "INFO:tensorflow:global_step/sec: 554.13\n",
            "INFO:tensorflow:loss = 0.4625387, step = 1301 (0.181 sec)\n",
            "INFO:tensorflow:global_step/sec: 598.05\n",
            "INFO:tensorflow:loss = 0.1434255, step = 1401 (0.162 sec)\n",
            "INFO:tensorflow:global_step/sec: 578.926\n",
            "INFO:tensorflow:loss = 0.06507696, step = 1501 (0.175 sec)\n",
            "INFO:tensorflow:global_step/sec: 614.156\n",
            "INFO:tensorflow:loss = 0.14689793, step = 1601 (0.163 sec)\n",
            "INFO:tensorflow:global_step/sec: 605.227\n",
            "INFO:tensorflow:loss = 0.67355, step = 1701 (0.165 sec)\n",
            "INFO:tensorflow:global_step/sec: 642.12\n",
            "INFO:tensorflow:loss = 0.0312161, step = 1801 (0.156 sec)\n",
            "INFO:tensorflow:global_step/sec: 631.847\n",
            "INFO:tensorflow:loss = 0.21278623, step = 1901 (0.159 sec)\n",
            "INFO:tensorflow:global_step/sec: 555.554\n",
            "INFO:tensorflow:loss = 0.7789649, step = 2001 (0.177 sec)\n",
            "INFO:tensorflow:global_step/sec: 611.894\n",
            "INFO:tensorflow:loss = 0.0543405, step = 2101 (0.167 sec)\n",
            "INFO:tensorflow:global_step/sec: 629.601\n",
            "INFO:tensorflow:loss = 0.29449782, step = 2201 (0.157 sec)\n",
            "INFO:tensorflow:global_step/sec: 628.087\n",
            "INFO:tensorflow:loss = 0.3246566, step = 2301 (0.163 sec)\n",
            "INFO:tensorflow:global_step/sec: 612.554\n",
            "INFO:tensorflow:loss = 0.24245816, step = 2401 (0.160 sec)\n",
            "INFO:tensorflow:global_step/sec: 661.592\n",
            "INFO:tensorflow:loss = 0.051791627, step = 2501 (0.152 sec)\n",
            "INFO:tensorflow:global_step/sec: 579.45\n",
            "INFO:tensorflow:loss = 0.26778227, step = 2601 (0.172 sec)\n",
            "INFO:tensorflow:global_step/sec: 623.749\n",
            "INFO:tensorflow:loss = 0.13725473, step = 2701 (0.163 sec)\n",
            "INFO:tensorflow:global_step/sec: 621.653\n",
            "INFO:tensorflow:loss = 0.1591996, step = 2801 (0.158 sec)\n",
            "INFO:tensorflow:global_step/sec: 621.111\n",
            "INFO:tensorflow:loss = 0.029961415, step = 2901 (0.161 sec)\n",
            "INFO:tensorflow:global_step/sec: 644.536\n",
            "INFO:tensorflow:loss = 0.13274941, step = 3001 (0.153 sec)\n",
            "INFO:tensorflow:global_step/sec: 607.295\n",
            "INFO:tensorflow:loss = 0.026703004, step = 3101 (0.167 sec)\n",
            "INFO:tensorflow:global_step/sec: 618.304\n",
            "INFO:tensorflow:loss = 0.79394853, step = 3201 (0.163 sec)\n",
            "INFO:tensorflow:global_step/sec: 623.182\n",
            "INFO:tensorflow:loss = 0.06451374, step = 3301 (0.158 sec)\n",
            "INFO:tensorflow:global_step/sec: 656.812\n",
            "INFO:tensorflow:loss = 0.11077526, step = 3401 (0.153 sec)\n",
            "INFO:tensorflow:global_step/sec: 581.905\n",
            "INFO:tensorflow:loss = 0.024733156, step = 3501 (0.173 sec)\n",
            "INFO:tensorflow:global_step/sec: 609.662\n",
            "INFO:tensorflow:loss = 0.059026193, step = 3601 (0.164 sec)\n",
            "INFO:tensorflow:global_step/sec: 626.081\n",
            "INFO:tensorflow:loss = 0.03467891, step = 3701 (0.159 sec)\n",
            "INFO:tensorflow:global_step/sec: 592.49\n",
            "INFO:tensorflow:loss = 0.17548549, step = 3801 (0.168 sec)\n",
            "INFO:tensorflow:global_step/sec: 588.403\n",
            "INFO:tensorflow:loss = 0.14323536, step = 3901 (0.171 sec)\n",
            "INFO:tensorflow:global_step/sec: 639.011\n",
            "INFO:tensorflow:loss = 0.3059943, step = 4001 (0.158 sec)\n",
            "INFO:tensorflow:global_step/sec: 605.589\n",
            "INFO:tensorflow:loss = 0.76897275, step = 4101 (0.166 sec)\n",
            "INFO:tensorflow:global_step/sec: 578.881\n",
            "INFO:tensorflow:loss = 0.20022592, step = 4201 (0.169 sec)\n",
            "INFO:tensorflow:global_step/sec: 600.834\n",
            "INFO:tensorflow:loss = 0.034605354, step = 4301 (0.170 sec)\n",
            "INFO:tensorflow:global_step/sec: 601.981\n",
            "INFO:tensorflow:loss = 0.27905205, step = 4401 (0.163 sec)\n",
            "INFO:tensorflow:global_step/sec: 541.423\n",
            "INFO:tensorflow:loss = 0.35660815, step = 4501 (0.189 sec)\n",
            "INFO:tensorflow:global_step/sec: 559.235\n",
            "INFO:tensorflow:loss = 0.30093503, step = 4601 (0.177 sec)\n",
            "INFO:tensorflow:global_step/sec: 609.225\n",
            "INFO:tensorflow:loss = 0.023610845, step = 4701 (0.164 sec)\n",
            "INFO:tensorflow:global_step/sec: 619.772\n",
            "INFO:tensorflow:loss = 0.31623387, step = 4801 (0.161 sec)\n",
            "INFO:tensorflow:global_step/sec: 585.016\n",
            "INFO:tensorflow:loss = 0.15379812, step = 4901 (0.172 sec)\n",
            "INFO:tensorflow:global_step/sec: 635.78\n",
            "INFO:tensorflow:loss = 0.019224536, step = 5001 (0.156 sec)\n",
            "INFO:tensorflow:global_step/sec: 566.018\n",
            "INFO:tensorflow:loss = 0.10417353, step = 5101 (0.178 sec)\n",
            "INFO:tensorflow:global_step/sec: 598.566\n",
            "INFO:tensorflow:loss = 0.027516373, step = 5201 (0.164 sec)\n",
            "INFO:tensorflow:global_step/sec: 608.337\n",
            "INFO:tensorflow:loss = 0.043117017, step = 5301 (0.166 sec)\n",
            "INFO:tensorflow:global_step/sec: 645.729\n",
            "INFO:tensorflow:loss = 0.03155555, step = 5401 (0.155 sec)\n",
            "INFO:tensorflow:global_step/sec: 567.257\n",
            "INFO:tensorflow:loss = 0.030004632, step = 5501 (0.175 sec)\n",
            "INFO:tensorflow:global_step/sec: 624.249\n",
            "INFO:tensorflow:loss = 0.025887197, step = 5601 (0.160 sec)\n",
            "INFO:tensorflow:global_step/sec: 561.277\n",
            "INFO:tensorflow:loss = 0.0864559, step = 5701 (0.177 sec)\n",
            "INFO:tensorflow:global_step/sec: 619.248\n",
            "INFO:tensorflow:loss = 0.02087067, step = 5801 (0.166 sec)\n",
            "INFO:tensorflow:global_step/sec: 598.16\n",
            "INFO:tensorflow:loss = 0.023036677, step = 5901 (0.165 sec)\n",
            "INFO:tensorflow:global_step/sec: 575.325\n",
            "INFO:tensorflow:loss = 0.07963718, step = 6001 (0.171 sec)\n",
            "INFO:tensorflow:global_step/sec: 633.68\n",
            "INFO:tensorflow:loss = 0.03038562, step = 6101 (0.158 sec)\n",
            "INFO:tensorflow:global_step/sec: 579.094\n",
            "INFO:tensorflow:loss = 0.21543357, step = 6201 (0.173 sec)\n",
            "INFO:tensorflow:global_step/sec: 594.884\n",
            "INFO:tensorflow:loss = 0.090955004, step = 6301 (0.172 sec)\n",
            "INFO:tensorflow:global_step/sec: 580.426\n",
            "INFO:tensorflow:loss = 0.06110008, step = 6401 (0.172 sec)\n",
            "INFO:tensorflow:global_step/sec: 579.149\n",
            "INFO:tensorflow:loss = 0.13268723, step = 6501 (0.173 sec)\n",
            "INFO:tensorflow:global_step/sec: 584.606\n",
            "INFO:tensorflow:loss = 0.14753175, step = 6601 (0.170 sec)\n",
            "INFO:tensorflow:global_step/sec: 594.969\n",
            "INFO:tensorflow:loss = 0.025537414, step = 6701 (0.166 sec)\n",
            "INFO:tensorflow:global_step/sec: 609.204\n",
            "INFO:tensorflow:loss = 0.023504853, step = 6801 (0.164 sec)\n",
            "INFO:tensorflow:global_step/sec: 560.687\n",
            "INFO:tensorflow:loss = 0.08609332, step = 6901 (0.178 sec)\n",
            "INFO:tensorflow:global_step/sec: 664.277\n",
            "INFO:tensorflow:loss = 0.0869741, step = 7001 (0.151 sec)\n",
            "INFO:tensorflow:global_step/sec: 592.059\n",
            "INFO:tensorflow:loss = 0.02764038, step = 7101 (0.172 sec)\n",
            "INFO:tensorflow:global_step/sec: 618.016\n",
            "INFO:tensorflow:loss = 0.019464664, step = 7201 (0.162 sec)\n",
            "INFO:tensorflow:global_step/sec: 562.816\n",
            "INFO:tensorflow:loss = 0.02436702, step = 7301 (0.177 sec)\n",
            "INFO:tensorflow:global_step/sec: 570.166\n",
            "INFO:tensorflow:loss = 0.07622276, step = 7401 (0.173 sec)\n",
            "INFO:tensorflow:global_step/sec: 598.224\n",
            "INFO:tensorflow:loss = 0.18954772, step = 7501 (0.170 sec)\n",
            "INFO:tensorflow:global_step/sec: 589.738\n",
            "INFO:tensorflow:loss = 0.020999087, step = 7601 (0.172 sec)\n",
            "INFO:tensorflow:global_step/sec: 571.796\n",
            "INFO:tensorflow:loss = 0.020976221, step = 7701 (0.170 sec)\n",
            "INFO:tensorflow:global_step/sec: 602.624\n",
            "INFO:tensorflow:loss = 0.1733445, step = 7801 (0.169 sec)\n",
            "INFO:tensorflow:global_step/sec: 609.031\n",
            "INFO:tensorflow:loss = 0.030254882, step = 7901 (0.163 sec)\n",
            "INFO:tensorflow:global_step/sec: 564.867\n",
            "INFO:tensorflow:loss = 0.028981516, step = 8001 (0.179 sec)\n",
            "INFO:tensorflow:global_step/sec: 564.813\n",
            "INFO:tensorflow:loss = 0.025891049, step = 8101 (0.175 sec)\n",
            "INFO:tensorflow:global_step/sec: 605.915\n",
            "INFO:tensorflow:loss = 0.03133913, step = 8201 (0.166 sec)\n",
            "INFO:tensorflow:global_step/sec: 583.78\n",
            "INFO:tensorflow:loss = 0.017877674, step = 8301 (0.173 sec)\n",
            "INFO:tensorflow:global_step/sec: 614.925\n",
            "INFO:tensorflow:loss = 0.024470879, step = 8401 (0.160 sec)\n",
            "INFO:tensorflow:global_step/sec: 607.212\n",
            "INFO:tensorflow:loss = 0.02178559, step = 8501 (0.165 sec)\n",
            "INFO:tensorflow:global_step/sec: 588.352\n",
            "INFO:tensorflow:loss = 0.024160303, step = 8601 (0.170 sec)\n",
            "INFO:tensorflow:global_step/sec: 597.017\n",
            "INFO:tensorflow:loss = 0.026038231, step = 8701 (0.168 sec)\n",
            "INFO:tensorflow:global_step/sec: 606.863\n",
            "INFO:tensorflow:loss = 0.02900741, step = 8801 (0.161 sec)\n",
            "INFO:tensorflow:global_step/sec: 634.73\n",
            "INFO:tensorflow:loss = 0.054504275, step = 8901 (0.160 sec)\n",
            "INFO:tensorflow:global_step/sec: 620.967\n",
            "INFO:tensorflow:loss = 0.02625472, step = 9001 (0.164 sec)\n",
            "INFO:tensorflow:global_step/sec: 601.09\n",
            "INFO:tensorflow:loss = 0.13552254, step = 9101 (0.164 sec)\n",
            "INFO:tensorflow:global_step/sec: 619.104\n",
            "INFO:tensorflow:loss = 0.0226355, step = 9201 (0.162 sec)\n",
            "INFO:tensorflow:global_step/sec: 577.062\n",
            "INFO:tensorflow:loss = 0.018946791, step = 9301 (0.173 sec)\n",
            "INFO:tensorflow:global_step/sec: 617.889\n",
            "INFO:tensorflow:loss = 0.038681436, step = 9401 (0.161 sec)\n",
            "INFO:tensorflow:global_step/sec: 635.777\n",
            "INFO:tensorflow:loss = 0.02030995, step = 9501 (0.157 sec)\n",
            "INFO:tensorflow:global_step/sec: 450.362\n",
            "INFO:tensorflow:loss = 0.026667058, step = 9601 (0.223 sec)\n",
            "INFO:tensorflow:global_step/sec: 623.998\n",
            "INFO:tensorflow:loss = 0.033621337, step = 9701 (0.159 sec)\n",
            "INFO:tensorflow:global_step/sec: 645.19\n",
            "INFO:tensorflow:loss = 0.058028422, step = 9801 (0.157 sec)\n",
            "INFO:tensorflow:global_step/sec: 575.175\n",
            "INFO:tensorflow:loss = 0.06855637, step = 9901 (0.174 sec)\n",
            "INFO:tensorflow:Saving checkpoints for 10000 into /tmp/DNN_regression_trained_model_t/model.ckpt.\n",
            "INFO:tensorflow:Loss for final step: 0.022802763.\n",
            "WARNING:tensorflow:float64 is not supported by many models, consider casting to float32.\n",
            "INFO:tensorflow:Graph was finalized.\n",
            "INFO:tensorflow:Restoring parameters from /tmp/DNN_regression_trained_model_t/model.ckpt-10000\n",
            "INFO:tensorflow:Running local_init_op.\n",
            "INFO:tensorflow:Done running local_init_op.\n",
            "DNNRegression temperature has RMSE of 0.15330273546703047\n",
            "Just using average = 0.5110669486877827 has RMSE of 0.197437710138057\n"
          ]
        }
      ]
    },
    {
      "cell_type": "markdown",
      "metadata": {
        "id": "FJPrl6fEMdgb"
      },
      "source": [
        "The RMSE values are 0.288 and 0.197 which is not hugely accurate but the model will tested with the validation data nonetheless."
      ]
    },
    {
      "cell_type": "markdown",
      "metadata": {
        "id": "m74A_-e_MtLu"
      },
      "source": [
        "Test data with first three rows of validation data."
      ]
    },
    {
      "cell_type": "code",
      "metadata": {
        "colab": {
          "base_uri": "https://localhost:8080/",
          "height": 143
        },
        "id": "z49JdnSHMwym",
        "outputId": "5454917b-bd4f-407f-8db3-1a7451367596"
      },
      "source": [
        "shuffle_temp_test[:3]"
      ],
      "execution_count": 102,
      "outputs": [
        {
          "output_type": "execute_result",
          "data": {
            "text/html": [
              "<div>\n",
              "<style scoped>\n",
              "    .dataframe tbody tr th:only-of-type {\n",
              "        vertical-align: middle;\n",
              "    }\n",
              "\n",
              "    .dataframe tbody tr th {\n",
              "        vertical-align: top;\n",
              "    }\n",
              "\n",
              "    .dataframe thead th {\n",
              "        text-align: right;\n",
              "    }\n",
              "</style>\n",
              "<table border=\"1\" class=\"dataframe\">\n",
              "  <thead>\n",
              "    <tr style=\"text-align: right;\">\n",
              "      <th></th>\n",
              "      <th>Apr</th>\n",
              "      <th>Aug</th>\n",
              "      <th>Dec</th>\n",
              "      <th>Feb</th>\n",
              "      <th>Jan</th>\n",
              "      <th>Jul</th>\n",
              "      <th>Jun</th>\n",
              "      <th>Mar</th>\n",
              "      <th>May</th>\n",
              "      <th>Nov</th>\n",
              "      <th>Oct</th>\n",
              "      <th>Sep</th>\n",
              "      <th>Fri</th>\n",
              "      <th>Mon</th>\n",
              "      <th>Sat</th>\n",
              "      <th>Sun</th>\n",
              "      <th>Thu</th>\n",
              "      <th>Tue</th>\n",
              "      <th>Wed</th>\n",
              "      <th>year</th>\n",
              "      <th>temp</th>\n",
              "      <th>number_of_accidents</th>\n",
              "    </tr>\n",
              "  </thead>\n",
              "  <tbody>\n",
              "    <tr>\n",
              "      <th>469</th>\n",
              "      <td>1</td>\n",
              "      <td>0</td>\n",
              "      <td>0</td>\n",
              "      <td>0</td>\n",
              "      <td>0</td>\n",
              "      <td>0</td>\n",
              "      <td>0</td>\n",
              "      <td>0</td>\n",
              "      <td>0</td>\n",
              "      <td>0</td>\n",
              "      <td>0</td>\n",
              "      <td>0</td>\n",
              "      <td>0</td>\n",
              "      <td>1</td>\n",
              "      <td>0</td>\n",
              "      <td>0</td>\n",
              "      <td>0</td>\n",
              "      <td>0</td>\n",
              "      <td>0</td>\n",
              "      <td>2014</td>\n",
              "      <td>43.1</td>\n",
              "      <td>0.372685</td>\n",
              "    </tr>\n",
              "    <tr>\n",
              "      <th>225</th>\n",
              "      <td>0</td>\n",
              "      <td>1</td>\n",
              "      <td>0</td>\n",
              "      <td>0</td>\n",
              "      <td>0</td>\n",
              "      <td>0</td>\n",
              "      <td>0</td>\n",
              "      <td>0</td>\n",
              "      <td>0</td>\n",
              "      <td>0</td>\n",
              "      <td>0</td>\n",
              "      <td>0</td>\n",
              "      <td>0</td>\n",
              "      <td>0</td>\n",
              "      <td>0</td>\n",
              "      <td>0</td>\n",
              "      <td>0</td>\n",
              "      <td>0</td>\n",
              "      <td>1</td>\n",
              "      <td>2013</td>\n",
              "      <td>68.4</td>\n",
              "      <td>0.612385</td>\n",
              "    </tr>\n",
              "    <tr>\n",
              "      <th>1757</th>\n",
              "      <td>0</td>\n",
              "      <td>0</td>\n",
              "      <td>0</td>\n",
              "      <td>0</td>\n",
              "      <td>0</td>\n",
              "      <td>0</td>\n",
              "      <td>0</td>\n",
              "      <td>0</td>\n",
              "      <td>0</td>\n",
              "      <td>1</td>\n",
              "      <td>0</td>\n",
              "      <td>0</td>\n",
              "      <td>0</td>\n",
              "      <td>0</td>\n",
              "      <td>0</td>\n",
              "      <td>0</td>\n",
              "      <td>0</td>\n",
              "      <td>0</td>\n",
              "      <td>1</td>\n",
              "      <td>2017</td>\n",
              "      <td>43.9</td>\n",
              "      <td>0.721519</td>\n",
              "    </tr>\n",
              "  </tbody>\n",
              "</table>\n",
              "</div>"
            ],
            "text/plain": [
              "      Apr  Aug  Dec  Feb  Jan  ...  Tue  Wed  year  temp  number_of_accidents\n",
              "469     1    0    0    0    0  ...    0    0  2014  43.1             0.372685\n",
              "225     0    1    0    0    0  ...    0    1  2013  68.4             0.612385\n",
              "1757    0    0    0    0    0  ...    0    1  2017  43.9             0.721519\n",
              "\n",
              "[3 rows x 22 columns]"
            ]
          },
          "metadata": {},
          "execution_count": 102
        }
      ]
    },
    {
      "cell_type": "code",
      "metadata": {
        "colab": {
          "base_uri": "https://localhost:8080/"
        },
        "id": "xSLWViSfM7A2",
        "outputId": "cbd03d69-324a-45a1-8c24-a619ccc0c643"
      },
      "source": [
        "# create test using data above\n",
        "input = pd.DataFrame.from_dict(data = \n",
        "\t\t\t\t{\n",
        "         'Apr' : [1,0,0],\n",
        "         'Aug' : [0,1,0],\n",
        "         'Dec' : [0,0,0],\n",
        "         'Feb' : [0,0,0],\n",
        "         'Jan' : [0,0,0],\n",
        "         'Jul' : [0,0,0],\n",
        "         'Jun' : [0,0,0],\n",
        "         'Mar' : [0,0,0],\n",
        "         'May' : [0,0,0],\n",
        "         'Nov' : [0,0,1],\n",
        "         'Oct' : [0,0,0],\n",
        "         'Sep' : [0,0,0],\n",
        "         'Fri' : [0,0,0],\n",
        "         'Mon' : [1,0,0],\n",
        "         'Sat' : [0,0,0],\n",
        "         'Sun' : [0,0,0],\n",
        "         'Thu' : [0,0,0],\n",
        "         'Tue' : [0,1,0],\n",
        "         'Wed' : [0,0,1],\n",
        "         'year' : [2014,2013,2017],\n",
        "         'temp' : [43.1, 68.4, 43.9]\n",
        "        })\n",
        "\n",
        "estimator = tf.contrib.learn.SKCompat(tf.contrib.learn.DNNRegressor(model_dir='/tmp/DNN_regression_trained_model_t', hidden_units=[20,18,14], enable_centered_bias=False, feature_columns=tf.contrib.learn.infer_real_valued_columns_from_input(input.values)))\n",
        "\n",
        "preds = estimator.predict(x=input.values)\n",
        "\n",
        "predslistnorm = preds['scores']\n",
        "prednorm = format(str(predslistnorm))\n",
        "print(prednorm)"
      ],
      "execution_count": 103,
      "outputs": [
        {
          "output_type": "stream",
          "name": "stdout",
          "text": [
            "WARNING:tensorflow:float64 is not supported by many models, consider casting to float32.\n",
            "INFO:tensorflow:Using default config.\n",
            "INFO:tensorflow:Using config: {'_task_type': None, '_task_id': 0, '_cluster_spec': <tensorflow.python.training.server_lib.ClusterSpec object at 0x7f4fa09cfa50>, '_master': '', '_num_ps_replicas': 0, '_num_worker_replicas': 0, '_environment': 'local', '_is_chief': True, '_evaluation_master': '', '_train_distribute': None, '_eval_distribute': None, '_experimental_max_worker_delay_secs': None, '_device_fn': None, '_tf_config': gpu_options {\n",
            "  per_process_gpu_memory_fraction: 1.0\n",
            "}\n",
            ", '_tf_random_seed': None, '_save_summary_steps': 100, '_save_checkpoints_secs': 600, '_log_step_count_steps': 100, '_protocol': None, '_session_config': None, '_save_checkpoints_steps': None, '_keep_checkpoint_max': 5, '_keep_checkpoint_every_n_hours': 10000, '_model_dir': '/tmp/DNN_regression_trained_model_t', '_session_creation_timeout_secs': 7200}\n",
            "WARNING:tensorflow:float64 is not supported by many models, consider casting to float32.\n",
            "INFO:tensorflow:Graph was finalized.\n",
            "INFO:tensorflow:Restoring parameters from /tmp/DNN_regression_trained_model_t/model.ckpt-10000\n",
            "INFO:tensorflow:Running local_init_op.\n",
            "INFO:tensorflow:Done running local_init_op.\n",
            "[0.43412077 0.50688136 0.52749574]\n"
          ]
        }
      ]
    },
    {
      "cell_type": "markdown",
      "metadata": {
        "id": "2XY5QM-_Nhel"
      },
      "source": [
        "The number of accidents from the test data are 0.373, 0.612 and 0.722 and the model returned values of 0.597, -0.081 and 0.585 so these are not accurate at all."
      ]
    },
    {
      "cell_type": "markdown",
      "metadata": {
        "id": "THt3o1CmN0by"
      },
      "source": [
        "Test with randomly selected rows from the validation data."
      ]
    },
    {
      "cell_type": "code",
      "metadata": {
        "colab": {
          "base_uri": "https://localhost:8080/",
          "height": 143
        },
        "id": "z_egEgIyM65-",
        "outputId": "4c9dc6e9-d5ae-4483-a3c9-8794d10be7ba"
      },
      "source": [
        "np.random.seed([8])\n",
        "\n",
        "shuffle_temp_test.sample(n = 3)"
      ],
      "execution_count": 104,
      "outputs": [
        {
          "output_type": "execute_result",
          "data": {
            "text/html": [
              "<div>\n",
              "<style scoped>\n",
              "    .dataframe tbody tr th:only-of-type {\n",
              "        vertical-align: middle;\n",
              "    }\n",
              "\n",
              "    .dataframe tbody tr th {\n",
              "        vertical-align: top;\n",
              "    }\n",
              "\n",
              "    .dataframe thead th {\n",
              "        text-align: right;\n",
              "    }\n",
              "</style>\n",
              "<table border=\"1\" class=\"dataframe\">\n",
              "  <thead>\n",
              "    <tr style=\"text-align: right;\">\n",
              "      <th></th>\n",
              "      <th>Apr</th>\n",
              "      <th>Aug</th>\n",
              "      <th>Dec</th>\n",
              "      <th>Feb</th>\n",
              "      <th>Jan</th>\n",
              "      <th>Jul</th>\n",
              "      <th>Jun</th>\n",
              "      <th>Mar</th>\n",
              "      <th>May</th>\n",
              "      <th>Nov</th>\n",
              "      <th>Oct</th>\n",
              "      <th>Sep</th>\n",
              "      <th>Fri</th>\n",
              "      <th>Mon</th>\n",
              "      <th>Sat</th>\n",
              "      <th>Sun</th>\n",
              "      <th>Thu</th>\n",
              "      <th>Tue</th>\n",
              "      <th>Wed</th>\n",
              "      <th>year</th>\n",
              "      <th>temp</th>\n",
              "      <th>number_of_accidents</th>\n",
              "    </tr>\n",
              "  </thead>\n",
              "  <tbody>\n",
              "    <tr>\n",
              "      <th>188</th>\n",
              "      <td>0</td>\n",
              "      <td>0</td>\n",
              "      <td>0</td>\n",
              "      <td>0</td>\n",
              "      <td>0</td>\n",
              "      <td>1</td>\n",
              "      <td>0</td>\n",
              "      <td>0</td>\n",
              "      <td>0</td>\n",
              "      <td>0</td>\n",
              "      <td>0</td>\n",
              "      <td>0</td>\n",
              "      <td>0</td>\n",
              "      <td>1</td>\n",
              "      <td>0</td>\n",
              "      <td>0</td>\n",
              "      <td>0</td>\n",
              "      <td>0</td>\n",
              "      <td>0</td>\n",
              "      <td>2013</td>\n",
              "      <td>72.6</td>\n",
              "      <td>0.600917</td>\n",
              "    </tr>\n",
              "    <tr>\n",
              "      <th>2482</th>\n",
              "      <td>0</td>\n",
              "      <td>0</td>\n",
              "      <td>0</td>\n",
              "      <td>0</td>\n",
              "      <td>0</td>\n",
              "      <td>0</td>\n",
              "      <td>0</td>\n",
              "      <td>0</td>\n",
              "      <td>0</td>\n",
              "      <td>1</td>\n",
              "      <td>0</td>\n",
              "      <td>0</td>\n",
              "      <td>0</td>\n",
              "      <td>0</td>\n",
              "      <td>0</td>\n",
              "      <td>1</td>\n",
              "      <td>0</td>\n",
              "      <td>0</td>\n",
              "      <td>0</td>\n",
              "      <td>2019</td>\n",
              "      <td>41.5</td>\n",
              "      <td>0.198661</td>\n",
              "    </tr>\n",
              "    <tr>\n",
              "      <th>1677</th>\n",
              "      <td>0</td>\n",
              "      <td>1</td>\n",
              "      <td>0</td>\n",
              "      <td>0</td>\n",
              "      <td>0</td>\n",
              "      <td>0</td>\n",
              "      <td>0</td>\n",
              "      <td>0</td>\n",
              "      <td>0</td>\n",
              "      <td>0</td>\n",
              "      <td>0</td>\n",
              "      <td>0</td>\n",
              "      <td>0</td>\n",
              "      <td>0</td>\n",
              "      <td>0</td>\n",
              "      <td>1</td>\n",
              "      <td>0</td>\n",
              "      <td>0</td>\n",
              "      <td>0</td>\n",
              "      <td>2017</td>\n",
              "      <td>62.3</td>\n",
              "      <td>0.267932</td>\n",
              "    </tr>\n",
              "  </tbody>\n",
              "</table>\n",
              "</div>"
            ],
            "text/plain": [
              "      Apr  Aug  Dec  Feb  Jan  ...  Tue  Wed  year  temp  number_of_accidents\n",
              "188     0    0    0    0    0  ...    0    0  2013  72.6             0.600917\n",
              "2482    0    0    0    0    0  ...    0    0  2019  41.5             0.198661\n",
              "1677    0    1    0    0    0  ...    0    0  2017  62.3             0.267932\n",
              "\n",
              "[3 rows x 22 columns]"
            ]
          },
          "metadata": {},
          "execution_count": 104
        }
      ]
    },
    {
      "cell_type": "code",
      "metadata": {
        "colab": {
          "base_uri": "https://localhost:8080/"
        },
        "id": "7EjnQjiyN-B8",
        "outputId": "3f1e9834-eb1c-49e2-b97e-8dac8324a3c1"
      },
      "source": [
        "# create test using data above\n",
        "input = pd.DataFrame.from_dict(data = \n",
        "\t\t\t\t{\n",
        "         'Apr' : [0,0,0],\n",
        "         'Aug' : [0,0,1],\n",
        "         'Dec' : [0,0,0],\n",
        "         'Feb' : [0,0,0],\n",
        "         'Jan' : [0,0,0],\n",
        "         'Jul' : [1,0,0],\n",
        "         'Jun' : [0,0,0],\n",
        "         'Mar' : [0,0,0],\n",
        "         'May' : [0,0,0],\n",
        "         'Nov' : [0,1,0],\n",
        "         'Oct' : [0,0,0],\n",
        "         'Sep' : [0,0,0],\n",
        "         'Fri' : [0,0,0],\n",
        "         'Mon' : [1,0,0],\n",
        "         'Sat' : [0,0,0],\n",
        "         'Sun' : [0,1,1],\n",
        "         'Thu' : [0,0,0],\n",
        "         'Tue' : [0,0,0],\n",
        "         'Wed' : [0,0,1],\n",
        "         'year' : [2013,2019,2017],\n",
        "         'temp' : [72.6, 41.5, 62.3]\n",
        "        })\n",
        "\n",
        "estimator = tf.contrib.learn.SKCompat(tf.contrib.learn.DNNRegressor(model_dir='/tmp/DNN_regression_trained_model_t', hidden_units=[20,18,14], enable_centered_bias=False, feature_columns=tf.contrib.learn.infer_real_valued_columns_from_input(input.values)))\n",
        "\n",
        "preds = estimator.predict(x=input.values)\n",
        "\n",
        "predslistnorm = preds['scores']\n",
        "prednorm = format(str(predslistnorm))\n",
        "print(prednorm)"
      ],
      "execution_count": 105,
      "outputs": [
        {
          "output_type": "stream",
          "name": "stdout",
          "text": [
            "WARNING:tensorflow:float64 is not supported by many models, consider casting to float32.\n",
            "INFO:tensorflow:Using default config.\n",
            "INFO:tensorflow:Using config: {'_task_type': None, '_task_id': 0, '_cluster_spec': <tensorflow.python.training.server_lib.ClusterSpec object at 0x7f4fa0763cd0>, '_master': '', '_num_ps_replicas': 0, '_num_worker_replicas': 0, '_environment': 'local', '_is_chief': True, '_evaluation_master': '', '_train_distribute': None, '_eval_distribute': None, '_experimental_max_worker_delay_secs': None, '_device_fn': None, '_tf_config': gpu_options {\n",
            "  per_process_gpu_memory_fraction: 1.0\n",
            "}\n",
            ", '_tf_random_seed': None, '_save_summary_steps': 100, '_save_checkpoints_secs': 600, '_log_step_count_steps': 100, '_protocol': None, '_session_config': None, '_save_checkpoints_steps': None, '_keep_checkpoint_max': 5, '_keep_checkpoint_every_n_hours': 10000, '_model_dir': '/tmp/DNN_regression_trained_model_t', '_session_creation_timeout_secs': 7200}\n",
            "WARNING:tensorflow:float64 is not supported by many models, consider casting to float32.\n",
            "INFO:tensorflow:Graph was finalized.\n",
            "INFO:tensorflow:Restoring parameters from /tmp/DNN_regression_trained_model_t/model.ckpt-10000\n",
            "INFO:tensorflow:Running local_init_op.\n",
            "INFO:tensorflow:Done running local_init_op.\n",
            "[0.4968537  0.27930963 0.270249  ]\n"
          ]
        }
      ]
    },
    {
      "cell_type": "markdown",
      "metadata": {
        "id": "jPBWsrHoOehz"
      },
      "source": [
        "The number of accidents from the test data are 0.601, 0.199 and 0.268 and the model returned values of 0.493, 0.386 and 0.447 so these are not accurate at all and reflect the result of the previous test."
      ]
    },
    {
      "cell_type": "markdown",
      "metadata": {
        "id": "-qP7myFCmpHY"
      },
      "source": [
        "### Create and test DNN model for fog"
      ]
    },
    {
      "cell_type": "code",
      "metadata": {
        "colab": {
          "base_uri": "https://localhost:8080/"
        },
        "id": "eZ9bAmz3Owis",
        "outputId": "aae7b84c-249c-4b07-9647-d0caa37462b1"
      },
      "source": [
        "# shuffle temperature dataset\n",
        "shuffle_fog = df_dnn_fog.iloc[np.random.permutation(len(df_dnn_fog))]\n",
        "\n",
        "#create training and validation data\n",
        "shuffle_fog_train, shuffle_fog_test = train_test_split(shuffle_fog, test_size=0.1)\n",
        "\n",
        "#check training set\n",
        "print(shuffle_fog_train[:5])\n",
        "\n",
        "# choose predictors\n",
        "predictors_fog = shuffle_fog_train.iloc[:,0:21]\n",
        "\n",
        "# check predictors.\n",
        "print(predictors_fog[:6])"
      ],
      "execution_count": 106,
      "outputs": [
        {
          "output_type": "stream",
          "name": "stdout",
          "text": [
            "      Apr  Aug  Dec  Feb  Jan  ...  Tue  Wed  year  fog  number_of_accidents\n",
            "2298    0    0    0    0    0  ...    0    0  2019    0             0.828125\n",
            "43      0    0    0    1    0  ...    1    0  2013    1             0.327982\n",
            "412     0    0    0    1    0  ...    0    0  2014    1             0.525463\n",
            "745     0    0    0    0    1  ...    0    0  2015    0             0.268499\n",
            "807     0    0    0    0    0  ...    1    0  2015    0             0.572939\n",
            "\n",
            "[5 rows x 22 columns]\n",
            "      Apr  Aug  Dec  Feb  Jan  Jul  Jun  ...  Sat  Sun  Thu  Tue  Wed  year  fog\n",
            "2298    0    0    0    0    0    0    0  ...    0    0    0    0    0  2019    0\n",
            "43      0    0    0    1    0    0    0  ...    0    0    0    1    0  2013    1\n",
            "412     0    0    0    1    0    0    0  ...    1    0    0    0    0  2014    1\n",
            "745     0    0    0    0    1    0    0  ...    0    0    0    0    0  2015    0\n",
            "807     0    0    0    0    0    0    0  ...    0    0    0    1    0  2015    0\n",
            "2126    0    0    0    0    0    0    0  ...    0    1    0    0    0  2018    0\n",
            "\n",
            "[6 rows x 21 columns]\n"
          ]
        }
      ]
    },
    {
      "cell_type": "code",
      "metadata": {
        "colab": {
          "base_uri": "https://localhost:8080/"
        },
        "id": "5lnqSTy4mqE7",
        "outputId": "9a71c3b6-ec58-46f5-a219-292dadaced54"
      },
      "source": [
        "# Create outcome data - targets\n",
        "targets_fog = shuffle_fog_train.iloc[:,21]\n",
        "\n",
        "# check targets data.\n",
        "print(targets_fog[:6])"
      ],
      "execution_count": 107,
      "outputs": [
        {
          "output_type": "stream",
          "name": "stdout",
          "text": [
            "2298    0.828125\n",
            "43      0.327982\n",
            "412     0.525463\n",
            "745     0.268499\n",
            "807     0.572939\n",
            "2126    0.188341\n",
            "Name: number_of_accidents, dtype: float64\n"
          ]
        }
      ]
    },
    {
      "cell_type": "code",
      "metadata": {
        "id": "dnkyBpphn48W"
      },
      "source": [
        "SCALE_num_accidents = 1.0"
      ],
      "execution_count": 108,
      "outputs": []
    },
    {
      "cell_type": "code",
      "metadata": {
        "id": "y6QNIxign-Yp"
      },
      "source": [
        "# Split our data into a training set = 80% of the length of the shuffle array\n",
        "trainsize = int(len(shuffle_fog_train['number_of_accidents'])*0.8)\n",
        "# The test set size = 20% of the length of the shuffle array.\n",
        "testsize = len(shuffle_fog_train['number_of_accidents']) - trainsize\n",
        "\n",
        "# Define the number of predictors\n",
        "nppredictors = 21\n",
        "# Define the number of targets\n",
        "noutputs = 1"
      ],
      "execution_count": 109,
      "outputs": []
    },
    {
      "cell_type": "markdown",
      "metadata": {
        "id": "5SuyCCTUmpDZ"
      },
      "source": [
        "Create model"
      ]
    },
    {
      "cell_type": "code",
      "metadata": {
        "colab": {
          "base_uri": "https://localhost:8080/"
        },
        "id": "6J75PGTCoC-L",
        "outputId": "97824d7e-4032-4d93-b411-3dde12106398"
      },
      "source": [
        "# create model\n",
        "tf.compat.v1.logging.set_verbosity(tf.compat.v1.logging.INFO)\n",
        "\n",
        "# removes previous saved model\n",
        "shutil.rmtree('/tmp/DNN_regression_trained_model_f', ignore_errors=True)\n",
        "\n",
        "estimator_fog = tf.contrib.learn.SKCompat(tf.contrib.learn.DNNRegressor(model_dir='/tmp/DNN_regression_trained_model_f', hidden_units=[20,18,14], optimizer=tf.train.AdamOptimizer(learning_rate=0.01), enable_centered_bias=False, feature_columns=tf.contrib.learn.infer_real_valued_columns_from_input(predictors_fog.values)))\n",
        "\n",
        "# show model is starting to train\n",
        "print(\"starting to train\");\n",
        "\n",
        "# Train the model\n",
        "estimator_fog.fit(predictors_fog[:trainsize].values, targets_fog[:trainsize].values.reshape(trainsize, noutputs)/SCALE_num_accidents, steps=10000)\n",
        "\n",
        "# check predictions\n",
        "preds = estimator_fog.predict(x=predictors_fog[trainsize:].values)\n",
        "\n",
        "# Apply the Scale value\n",
        "predslistscale = preds['scores']*SCALE_num_accidents\n",
        "\n",
        "# Calculate RMSE \n",
        "rmse = np.sqrt(np.mean((targets_fog[trainsize:].values - predslistscale)**2))\n",
        "print('DNNRegression fog has RMSE of {0}'.format(rmse));\n",
        "\n",
        "# Calculate the mean of the number of accident values.\n",
        "avg = np.mean(shuffle_fog_train['number_of_accidents'][:trainsize])\n",
        "\n",
        "# Calculate the RMSE using number of accident values and the mean of all target values.\n",
        "rmse = np.sqrt(np.mean((shuffle_fog_train['number_of_accidents'][trainsize:] - avg)**2))\n",
        "print('Just using average = {0} has RMSE of {1}'.format(avg, rmse));"
      ],
      "execution_count": 110,
      "outputs": [
        {
          "output_type": "stream",
          "name": "stdout",
          "text": [
            "INFO:tensorflow:Using default config.\n",
            "INFO:tensorflow:Using config: {'_task_type': None, '_task_id': 0, '_cluster_spec': <tensorflow.python.training.server_lib.ClusterSpec object at 0x7f4f9ae0e610>, '_master': '', '_num_ps_replicas': 0, '_num_worker_replicas': 0, '_environment': 'local', '_is_chief': True, '_evaluation_master': '', '_train_distribute': None, '_eval_distribute': None, '_experimental_max_worker_delay_secs': None, '_device_fn': None, '_tf_config': gpu_options {\n",
            "  per_process_gpu_memory_fraction: 1.0\n",
            "}\n",
            ", '_tf_random_seed': None, '_save_summary_steps': 100, '_save_checkpoints_secs': 600, '_log_step_count_steps': 100, '_protocol': None, '_session_config': None, '_save_checkpoints_steps': None, '_keep_checkpoint_max': 5, '_keep_checkpoint_every_n_hours': 10000, '_model_dir': '/tmp/DNN_regression_trained_model_f', '_session_creation_timeout_secs': 7200}\n",
            "starting to train\n",
            "WARNING:tensorflow:float64 is not supported by many models, consider casting to float32.\n",
            "INFO:tensorflow:Create CheckpointSaverHook.\n",
            "INFO:tensorflow:Graph was finalized.\n",
            "INFO:tensorflow:Running local_init_op.\n",
            "INFO:tensorflow:Done running local_init_op.\n",
            "INFO:tensorflow:Saving checkpoints for 0 into /tmp/DNN_regression_trained_model_f/model.ckpt.\n",
            "INFO:tensorflow:loss = 3567.1416, step = 1\n",
            "INFO:tensorflow:global_step/sec: 449.055\n",
            "INFO:tensorflow:loss = 0.039631978, step = 101 (0.228 sec)\n",
            "INFO:tensorflow:global_step/sec: 317.181\n",
            "INFO:tensorflow:loss = 0.042414278, step = 201 (0.311 sec)\n",
            "INFO:tensorflow:global_step/sec: 580.981\n",
            "INFO:tensorflow:loss = 0.040138386, step = 301 (0.172 sec)\n",
            "INFO:tensorflow:global_step/sec: 599.144\n",
            "INFO:tensorflow:loss = 0.036093585, step = 401 (0.169 sec)\n",
            "INFO:tensorflow:global_step/sec: 644.293\n",
            "INFO:tensorflow:loss = 0.036972743, step = 501 (0.153 sec)\n",
            "INFO:tensorflow:global_step/sec: 603.404\n",
            "INFO:tensorflow:loss = 0.038903646, step = 601 (0.168 sec)\n",
            "INFO:tensorflow:global_step/sec: 604.529\n",
            "INFO:tensorflow:loss = 0.035396196, step = 701 (0.163 sec)\n",
            "INFO:tensorflow:global_step/sec: 638.926\n",
            "INFO:tensorflow:loss = 0.032690283, step = 801 (0.158 sec)\n",
            "INFO:tensorflow:global_step/sec: 596.499\n",
            "INFO:tensorflow:loss = 0.036716595, step = 901 (0.167 sec)\n",
            "INFO:tensorflow:global_step/sec: 622.618\n",
            "INFO:tensorflow:loss = 0.030221706, step = 1001 (0.164 sec)\n",
            "INFO:tensorflow:global_step/sec: 615.2\n",
            "INFO:tensorflow:loss = 0.02982938, step = 1101 (0.159 sec)\n",
            "INFO:tensorflow:global_step/sec: 634.272\n",
            "INFO:tensorflow:loss = 0.034137446, step = 1201 (0.158 sec)\n",
            "INFO:tensorflow:global_step/sec: 558.152\n",
            "INFO:tensorflow:loss = 0.032748614, step = 1301 (0.179 sec)\n",
            "INFO:tensorflow:global_step/sec: 596.177\n",
            "INFO:tensorflow:loss = 0.02204163, step = 1401 (0.168 sec)\n",
            "INFO:tensorflow:global_step/sec: 636.397\n",
            "INFO:tensorflow:loss = 0.030098828, step = 1501 (0.161 sec)\n",
            "INFO:tensorflow:global_step/sec: 640.505\n",
            "INFO:tensorflow:loss = 0.024382796, step = 1601 (0.156 sec)\n",
            "INFO:tensorflow:global_step/sec: 614.829\n",
            "INFO:tensorflow:loss = 0.033656027, step = 1701 (0.159 sec)\n",
            "INFO:tensorflow:global_step/sec: 622.956\n",
            "INFO:tensorflow:loss = 0.021554623, step = 1801 (0.164 sec)\n",
            "INFO:tensorflow:global_step/sec: 625.007\n",
            "INFO:tensorflow:loss = 0.028344408, step = 1901 (0.158 sec)\n",
            "INFO:tensorflow:global_step/sec: 651.03\n",
            "INFO:tensorflow:loss = 0.02515404, step = 2001 (0.153 sec)\n",
            "INFO:tensorflow:global_step/sec: 622.981\n",
            "INFO:tensorflow:loss = 0.026097992, step = 2101 (0.164 sec)\n",
            "INFO:tensorflow:global_step/sec: 641.919\n",
            "INFO:tensorflow:loss = 0.022727154, step = 2201 (0.153 sec)\n",
            "INFO:tensorflow:global_step/sec: 638.475\n",
            "INFO:tensorflow:loss = 0.025746519, step = 2301 (0.157 sec)\n",
            "INFO:tensorflow:global_step/sec: 637.548\n",
            "INFO:tensorflow:loss = 0.024737626, step = 2401 (0.157 sec)\n",
            "INFO:tensorflow:global_step/sec: 565.517\n",
            "INFO:tensorflow:loss = 0.06945332, step = 2501 (0.177 sec)\n",
            "INFO:tensorflow:global_step/sec: 654.212\n",
            "INFO:tensorflow:loss = 0.016856007, step = 2601 (0.153 sec)\n",
            "INFO:tensorflow:global_step/sec: 610.617\n",
            "INFO:tensorflow:loss = 0.034173764, step = 2701 (0.164 sec)\n",
            "INFO:tensorflow:global_step/sec: 552\n",
            "INFO:tensorflow:loss = 0.02837401, step = 2801 (0.181 sec)\n",
            "INFO:tensorflow:global_step/sec: 621.957\n",
            "INFO:tensorflow:loss = 0.07619165, step = 2901 (0.161 sec)\n",
            "INFO:tensorflow:global_step/sec: 585.869\n",
            "INFO:tensorflow:loss = 0.107183054, step = 3001 (0.174 sec)\n",
            "INFO:tensorflow:global_step/sec: 569.994\n",
            "INFO:tensorflow:loss = 0.026224248, step = 3101 (0.177 sec)\n",
            "INFO:tensorflow:global_step/sec: 549.501\n",
            "INFO:tensorflow:loss = 0.14101815, step = 3201 (0.177 sec)\n",
            "INFO:tensorflow:global_step/sec: 618.6\n",
            "INFO:tensorflow:loss = 0.03223812, step = 3301 (0.164 sec)\n",
            "INFO:tensorflow:global_step/sec: 622.761\n",
            "INFO:tensorflow:loss = 0.081608936, step = 3401 (0.163 sec)\n",
            "INFO:tensorflow:global_step/sec: 634.136\n",
            "INFO:tensorflow:loss = 0.07931988, step = 3501 (0.153 sec)\n",
            "INFO:tensorflow:global_step/sec: 542.862\n",
            "INFO:tensorflow:loss = 0.023402955, step = 3601 (0.187 sec)\n",
            "INFO:tensorflow:global_step/sec: 556.194\n",
            "INFO:tensorflow:loss = 0.11735733, step = 3701 (0.177 sec)\n",
            "INFO:tensorflow:global_step/sec: 574.645\n",
            "INFO:tensorflow:loss = 0.06556368, step = 3801 (0.176 sec)\n",
            "INFO:tensorflow:global_step/sec: 590.188\n",
            "INFO:tensorflow:loss = 0.015401006, step = 3901 (0.167 sec)\n",
            "INFO:tensorflow:global_step/sec: 617.732\n",
            "INFO:tensorflow:loss = 0.030861754, step = 4001 (0.161 sec)\n",
            "INFO:tensorflow:global_step/sec: 641.23\n",
            "INFO:tensorflow:loss = 0.022219379, step = 4101 (0.156 sec)\n",
            "INFO:tensorflow:global_step/sec: 662.578\n",
            "INFO:tensorflow:loss = 0.074990496, step = 4201 (0.151 sec)\n",
            "INFO:tensorflow:global_step/sec: 582.49\n",
            "INFO:tensorflow:loss = 0.053428635, step = 4301 (0.171 sec)\n",
            "INFO:tensorflow:global_step/sec: 601.82\n",
            "INFO:tensorflow:loss = 0.035227604, step = 4401 (0.166 sec)\n",
            "INFO:tensorflow:global_step/sec: 614.821\n",
            "INFO:tensorflow:loss = 0.020808924, step = 4501 (0.163 sec)\n",
            "INFO:tensorflow:global_step/sec: 612.992\n",
            "INFO:tensorflow:loss = 0.06686594, step = 4601 (0.164 sec)\n",
            "INFO:tensorflow:global_step/sec: 626.835\n",
            "INFO:tensorflow:loss = 0.022771658, step = 4701 (0.162 sec)\n",
            "INFO:tensorflow:global_step/sec: 626.458\n",
            "INFO:tensorflow:loss = 0.024101824, step = 4801 (0.156 sec)\n",
            "INFO:tensorflow:global_step/sec: 608.295\n",
            "INFO:tensorflow:loss = 0.071380526, step = 4901 (0.165 sec)\n",
            "INFO:tensorflow:global_step/sec: 575.143\n",
            "INFO:tensorflow:loss = 0.01710168, step = 5001 (0.174 sec)\n",
            "INFO:tensorflow:global_step/sec: 544.139\n",
            "INFO:tensorflow:loss = 0.018494165, step = 5101 (0.184 sec)\n",
            "INFO:tensorflow:global_step/sec: 601.935\n",
            "INFO:tensorflow:loss = 0.04057602, step = 5201 (0.166 sec)\n",
            "INFO:tensorflow:global_step/sec: 628.338\n",
            "INFO:tensorflow:loss = 0.035866663, step = 5301 (0.159 sec)\n",
            "INFO:tensorflow:global_step/sec: 596.581\n",
            "INFO:tensorflow:loss = 0.020049151, step = 5401 (0.168 sec)\n",
            "INFO:tensorflow:global_step/sec: 620.607\n",
            "INFO:tensorflow:loss = 0.032948278, step = 5501 (0.161 sec)\n",
            "INFO:tensorflow:global_step/sec: 602.544\n",
            "INFO:tensorflow:loss = 0.04062634, step = 5601 (0.166 sec)\n",
            "INFO:tensorflow:global_step/sec: 605.294\n",
            "INFO:tensorflow:loss = 0.02622048, step = 5701 (0.165 sec)\n",
            "INFO:tensorflow:global_step/sec: 623.738\n",
            "INFO:tensorflow:loss = 0.023670252, step = 5801 (0.164 sec)\n",
            "INFO:tensorflow:global_step/sec: 582.342\n",
            "INFO:tensorflow:loss = 0.026546583, step = 5901 (0.170 sec)\n",
            "INFO:tensorflow:global_step/sec: 652.053\n",
            "INFO:tensorflow:loss = 0.049902253, step = 6001 (0.153 sec)\n",
            "INFO:tensorflow:global_step/sec: 595.859\n",
            "INFO:tensorflow:loss = 0.02816369, step = 6101 (0.166 sec)\n",
            "INFO:tensorflow:global_step/sec: 595.124\n",
            "INFO:tensorflow:loss = 0.023371527, step = 6201 (0.168 sec)\n",
            "INFO:tensorflow:global_step/sec: 592.057\n",
            "INFO:tensorflow:loss = 0.036147937, step = 6301 (0.169 sec)\n",
            "INFO:tensorflow:global_step/sec: 615.717\n",
            "INFO:tensorflow:loss = 0.026885571, step = 6401 (0.163 sec)\n",
            "INFO:tensorflow:global_step/sec: 639.118\n",
            "INFO:tensorflow:loss = 0.022138078, step = 6501 (0.156 sec)\n",
            "INFO:tensorflow:global_step/sec: 636.072\n",
            "INFO:tensorflow:loss = 0.036747776, step = 6601 (0.158 sec)\n",
            "INFO:tensorflow:global_step/sec: 620.072\n",
            "INFO:tensorflow:loss = 0.017708985, step = 6701 (0.160 sec)\n",
            "INFO:tensorflow:global_step/sec: 593.039\n",
            "INFO:tensorflow:loss = 0.031113103, step = 6801 (0.171 sec)\n",
            "INFO:tensorflow:global_step/sec: 615.873\n",
            "INFO:tensorflow:loss = 0.023688674, step = 6901 (0.161 sec)\n",
            "INFO:tensorflow:global_step/sec: 602.227\n",
            "INFO:tensorflow:loss = 0.020510938, step = 7001 (0.165 sec)\n",
            "INFO:tensorflow:global_step/sec: 624.587\n",
            "INFO:tensorflow:loss = 0.023629362, step = 7101 (0.162 sec)\n",
            "INFO:tensorflow:global_step/sec: 638.861\n",
            "INFO:tensorflow:loss = 0.022101209, step = 7201 (0.160 sec)\n",
            "INFO:tensorflow:global_step/sec: 619.228\n",
            "INFO:tensorflow:loss = 0.030206883, step = 7301 (0.158 sec)\n",
            "INFO:tensorflow:global_step/sec: 626.039\n",
            "INFO:tensorflow:loss = 0.026250055, step = 7401 (0.159 sec)\n",
            "INFO:tensorflow:global_step/sec: 610.773\n",
            "INFO:tensorflow:loss = 0.017638754, step = 7501 (0.163 sec)\n",
            "INFO:tensorflow:global_step/sec: 636.851\n",
            "INFO:tensorflow:loss = 0.025971781, step = 7601 (0.157 sec)\n",
            "INFO:tensorflow:global_step/sec: 620.338\n",
            "INFO:tensorflow:loss = 0.018828204, step = 7701 (0.161 sec)\n",
            "INFO:tensorflow:global_step/sec: 619.09\n",
            "INFO:tensorflow:loss = 0.029086756, step = 7801 (0.162 sec)\n",
            "INFO:tensorflow:global_step/sec: 616.265\n",
            "INFO:tensorflow:loss = 0.013798237, step = 7901 (0.165 sec)\n",
            "INFO:tensorflow:global_step/sec: 610.759\n",
            "INFO:tensorflow:loss = 0.020800209, step = 8001 (0.161 sec)\n",
            "INFO:tensorflow:global_step/sec: 578.696\n",
            "INFO:tensorflow:loss = 0.027566176, step = 8101 (0.174 sec)\n",
            "INFO:tensorflow:global_step/sec: 625.373\n",
            "INFO:tensorflow:loss = 0.024976064, step = 8201 (0.159 sec)\n",
            "INFO:tensorflow:global_step/sec: 581.717\n",
            "INFO:tensorflow:loss = 0.022681268, step = 8301 (0.174 sec)\n",
            "INFO:tensorflow:global_step/sec: 609.778\n",
            "INFO:tensorflow:loss = 0.017677646, step = 8401 (0.162 sec)\n",
            "INFO:tensorflow:global_step/sec: 652.621\n",
            "INFO:tensorflow:loss = 0.02219901, step = 8501 (0.153 sec)\n",
            "INFO:tensorflow:global_step/sec: 621.193\n",
            "INFO:tensorflow:loss = 0.016883986, step = 8601 (0.161 sec)\n",
            "INFO:tensorflow:global_step/sec: 605.596\n",
            "INFO:tensorflow:loss = 0.020515066, step = 8701 (0.165 sec)\n",
            "INFO:tensorflow:global_step/sec: 634.697\n",
            "INFO:tensorflow:loss = 0.023869187, step = 8801 (0.158 sec)\n",
            "INFO:tensorflow:global_step/sec: 624.698\n",
            "INFO:tensorflow:loss = 0.020255018, step = 8901 (0.160 sec)\n",
            "INFO:tensorflow:global_step/sec: 659.811\n",
            "INFO:tensorflow:loss = 0.029181551, step = 9001 (0.151 sec)\n",
            "INFO:tensorflow:global_step/sec: 643.557\n",
            "INFO:tensorflow:loss = 0.028698968, step = 9101 (0.155 sec)\n",
            "INFO:tensorflow:global_step/sec: 627.688\n",
            "INFO:tensorflow:loss = 0.02996904, step = 9201 (0.160 sec)\n",
            "INFO:tensorflow:global_step/sec: 653.574\n",
            "INFO:tensorflow:loss = 0.024954489, step = 9301 (0.154 sec)\n",
            "INFO:tensorflow:global_step/sec: 579.369\n",
            "INFO:tensorflow:loss = 0.02113543, step = 9401 (0.171 sec)\n",
            "INFO:tensorflow:global_step/sec: 657.698\n",
            "INFO:tensorflow:loss = 0.021979563, step = 9501 (0.152 sec)\n",
            "INFO:tensorflow:global_step/sec: 611.742\n",
            "INFO:tensorflow:loss = 0.024461169, step = 9601 (0.163 sec)\n",
            "INFO:tensorflow:global_step/sec: 649.739\n",
            "INFO:tensorflow:loss = 0.020058816, step = 9701 (0.154 sec)\n",
            "INFO:tensorflow:global_step/sec: 614.982\n",
            "INFO:tensorflow:loss = 0.017745882, step = 9801 (0.163 sec)\n",
            "INFO:tensorflow:global_step/sec: 618.829\n",
            "INFO:tensorflow:loss = 0.04121323, step = 9901 (0.163 sec)\n",
            "INFO:tensorflow:Saving checkpoints for 10000 into /tmp/DNN_regression_trained_model_f/model.ckpt.\n",
            "INFO:tensorflow:Loss for final step: 0.020954119.\n",
            "INFO:tensorflow:Graph was finalized.\n",
            "INFO:tensorflow:Restoring parameters from /tmp/DNN_regression_trained_model_f/model.ckpt-10000\n",
            "INFO:tensorflow:Running local_init_op.\n",
            "INFO:tensorflow:Done running local_init_op.\n",
            "DNNRegression fog has RMSE of 0.16656989055854965\n",
            "Just using average = 0.5147356213482636 has RMSE of 0.2102228251199676\n"
          ]
        }
      ]
    },
    {
      "cell_type": "markdown",
      "metadata": {
        "id": "lZhVXJG3oz74"
      },
      "source": [
        "The RMSE values are 0.167 and 0.210 which is fairly close so this model will now be tested with the validation data.\n",
        "\n",
        "Test data with first three rows of validation data"
      ]
    },
    {
      "cell_type": "code",
      "metadata": {
        "colab": {
          "base_uri": "https://localhost:8080/",
          "height": 143
        },
        "id": "49T1n2GgpCw2",
        "outputId": "9ebd7bb2-0692-4c47-fc3c-57ebb815ac2f"
      },
      "source": [
        "shuffle_fog_test[:3]"
      ],
      "execution_count": 111,
      "outputs": [
        {
          "output_type": "execute_result",
          "data": {
            "text/html": [
              "<div>\n",
              "<style scoped>\n",
              "    .dataframe tbody tr th:only-of-type {\n",
              "        vertical-align: middle;\n",
              "    }\n",
              "\n",
              "    .dataframe tbody tr th {\n",
              "        vertical-align: top;\n",
              "    }\n",
              "\n",
              "    .dataframe thead th {\n",
              "        text-align: right;\n",
              "    }\n",
              "</style>\n",
              "<table border=\"1\" class=\"dataframe\">\n",
              "  <thead>\n",
              "    <tr style=\"text-align: right;\">\n",
              "      <th></th>\n",
              "      <th>Apr</th>\n",
              "      <th>Aug</th>\n",
              "      <th>Dec</th>\n",
              "      <th>Feb</th>\n",
              "      <th>Jan</th>\n",
              "      <th>Jul</th>\n",
              "      <th>Jun</th>\n",
              "      <th>Mar</th>\n",
              "      <th>May</th>\n",
              "      <th>Nov</th>\n",
              "      <th>Oct</th>\n",
              "      <th>Sep</th>\n",
              "      <th>Fri</th>\n",
              "      <th>Mon</th>\n",
              "      <th>Sat</th>\n",
              "      <th>Sun</th>\n",
              "      <th>Thu</th>\n",
              "      <th>Tue</th>\n",
              "      <th>Wed</th>\n",
              "      <th>year</th>\n",
              "      <th>fog</th>\n",
              "      <th>number_of_accidents</th>\n",
              "    </tr>\n",
              "  </thead>\n",
              "  <tbody>\n",
              "    <tr>\n",
              "      <th>32</th>\n",
              "      <td>0</td>\n",
              "      <td>0</td>\n",
              "      <td>0</td>\n",
              "      <td>1</td>\n",
              "      <td>0</td>\n",
              "      <td>0</td>\n",
              "      <td>0</td>\n",
              "      <td>0</td>\n",
              "      <td>0</td>\n",
              "      <td>0</td>\n",
              "      <td>0</td>\n",
              "      <td>0</td>\n",
              "      <td>1</td>\n",
              "      <td>0</td>\n",
              "      <td>0</td>\n",
              "      <td>0</td>\n",
              "      <td>0</td>\n",
              "      <td>0</td>\n",
              "      <td>0</td>\n",
              "      <td>2013</td>\n",
              "      <td>0</td>\n",
              "      <td>0.502294</td>\n",
              "    </tr>\n",
              "    <tr>\n",
              "      <th>2418</th>\n",
              "      <td>0</td>\n",
              "      <td>0</td>\n",
              "      <td>0</td>\n",
              "      <td>0</td>\n",
              "      <td>0</td>\n",
              "      <td>0</td>\n",
              "      <td>0</td>\n",
              "      <td>0</td>\n",
              "      <td>0</td>\n",
              "      <td>0</td>\n",
              "      <td>0</td>\n",
              "      <td>1</td>\n",
              "      <td>0</td>\n",
              "      <td>0</td>\n",
              "      <td>1</td>\n",
              "      <td>0</td>\n",
              "      <td>0</td>\n",
              "      <td>0</td>\n",
              "      <td>0</td>\n",
              "      <td>2019</td>\n",
              "      <td>0</td>\n",
              "      <td>0.296875</td>\n",
              "    </tr>\n",
              "    <tr>\n",
              "      <th>923</th>\n",
              "      <td>0</td>\n",
              "      <td>0</td>\n",
              "      <td>0</td>\n",
              "      <td>0</td>\n",
              "      <td>0</td>\n",
              "      <td>1</td>\n",
              "      <td>0</td>\n",
              "      <td>0</td>\n",
              "      <td>0</td>\n",
              "      <td>0</td>\n",
              "      <td>0</td>\n",
              "      <td>0</td>\n",
              "      <td>0</td>\n",
              "      <td>0</td>\n",
              "      <td>1</td>\n",
              "      <td>0</td>\n",
              "      <td>0</td>\n",
              "      <td>0</td>\n",
              "      <td>0</td>\n",
              "      <td>2015</td>\n",
              "      <td>0</td>\n",
              "      <td>0.198732</td>\n",
              "    </tr>\n",
              "  </tbody>\n",
              "</table>\n",
              "</div>"
            ],
            "text/plain": [
              "      Apr  Aug  Dec  Feb  Jan  ...  Tue  Wed  year  fog  number_of_accidents\n",
              "32      0    0    0    1    0  ...    0    0  2013    0             0.502294\n",
              "2418    0    0    0    0    0  ...    0    0  2019    0             0.296875\n",
              "923     0    0    0    0    0  ...    0    0  2015    0             0.198732\n",
              "\n",
              "[3 rows x 22 columns]"
            ]
          },
          "metadata": {},
          "execution_count": 111
        }
      ]
    },
    {
      "cell_type": "code",
      "metadata": {
        "colab": {
          "base_uri": "https://localhost:8080/"
        },
        "id": "El_8e53-pQfp",
        "outputId": "b4a7f4af-97c6-4ab2-8a7d-500edf20164d"
      },
      "source": [
        "# create test using data above\n",
        "input = pd.DataFrame.from_dict(data = \n",
        "\t\t\t\t{\n",
        "         'Apr' : [0,0,0],\n",
        "         'Aug' : [0,0,0],\n",
        "         'Dec' : [0,0,0],\n",
        "         'Feb' : [1,0,0],\n",
        "         'Jan' : [0,0,0],\n",
        "         'Jul' : [0,0,1],\n",
        "         'Jun' : [0,0,0],\n",
        "         'Mar' : [0,0,0],\n",
        "         'May' : [0,0,0],\n",
        "         'Nov' : [0,0,0],\n",
        "         'Oct' : [0,0,0],\n",
        "         'Sep' : [0,1,0],\n",
        "         'Fri' : [0,0,0],\n",
        "         'Mon' : [1,0,0],\n",
        "         'Sat' : [0,1,1],\n",
        "         'Sun' : [0,0,0],\n",
        "         'Thu' : [0,0,0],\n",
        "         'Tue' : [0,0,0],\n",
        "         'Wed' : [0,0,0],\n",
        "         'year' : [2013,2019,2015],\n",
        "         'fog' : [0,0,0]\n",
        "        })\n",
        "\n",
        "estimator = tf.contrib.learn.SKCompat(tf.contrib.learn.DNNRegressor(model_dir='/tmp/DNN_regression_trained_model_f', hidden_units=[20,18,14], enable_centered_bias=False, feature_columns=tf.contrib.learn.infer_real_valued_columns_from_input(input.values)))\n",
        "\n",
        "preds = estimator.predict(x=input.values)\n",
        "\n",
        "predslistnorm = preds['scores']\n",
        "prednorm = format(str(predslistnorm))\n",
        "print(prednorm)"
      ],
      "execution_count": 112,
      "outputs": [
        {
          "output_type": "stream",
          "name": "stdout",
          "text": [
            "INFO:tensorflow:Using default config.\n",
            "INFO:tensorflow:Using config: {'_task_type': None, '_task_id': 0, '_cluster_spec': <tensorflow.python.training.server_lib.ClusterSpec object at 0x7f4f9a8e4ad0>, '_master': '', '_num_ps_replicas': 0, '_num_worker_replicas': 0, '_environment': 'local', '_is_chief': True, '_evaluation_master': '', '_train_distribute': None, '_eval_distribute': None, '_experimental_max_worker_delay_secs': None, '_device_fn': None, '_tf_config': gpu_options {\n",
            "  per_process_gpu_memory_fraction: 1.0\n",
            "}\n",
            ", '_tf_random_seed': None, '_save_summary_steps': 100, '_save_checkpoints_secs': 600, '_log_step_count_steps': 100, '_protocol': None, '_session_config': None, '_save_checkpoints_steps': None, '_keep_checkpoint_max': 5, '_keep_checkpoint_every_n_hours': 10000, '_model_dir': '/tmp/DNN_regression_trained_model_f', '_session_creation_timeout_secs': 7200}\n",
            "INFO:tensorflow:Graph was finalized.\n",
            "INFO:tensorflow:Restoring parameters from /tmp/DNN_regression_trained_model_f/model.ckpt-10000\n",
            "INFO:tensorflow:Running local_init_op.\n",
            "INFO:tensorflow:Done running local_init_op.\n",
            "[0.46346423 0.49826267 0.4635196 ]\n"
          ]
        }
      ]
    },
    {
      "cell_type": "markdown",
      "metadata": {
        "id": "QJdYs3pArJAc"
      },
      "source": [
        "The actual values from the test data are 0.502, 0.297 and 0.199 while the predicted values from the model are 0.463, 0.498 and 0.464.  The first pair of values are quite close but the second and third pairs are not.\n",
        "\n",
        "Test model with random three rows from validation data."
      ]
    },
    {
      "cell_type": "code",
      "metadata": {
        "colab": {
          "base_uri": "https://localhost:8080/",
          "height": 143
        },
        "id": "HTbfeZTxri-w",
        "outputId": "c70235ff-fb43-4725-d440-874da7cd0ecc"
      },
      "source": [
        "np.random.seed([9])\n",
        "\n",
        "shuffle_fog_test.sample(n = 3)"
      ],
      "execution_count": 113,
      "outputs": [
        {
          "output_type": "execute_result",
          "data": {
            "text/html": [
              "<div>\n",
              "<style scoped>\n",
              "    .dataframe tbody tr th:only-of-type {\n",
              "        vertical-align: middle;\n",
              "    }\n",
              "\n",
              "    .dataframe tbody tr th {\n",
              "        vertical-align: top;\n",
              "    }\n",
              "\n",
              "    .dataframe thead th {\n",
              "        text-align: right;\n",
              "    }\n",
              "</style>\n",
              "<table border=\"1\" class=\"dataframe\">\n",
              "  <thead>\n",
              "    <tr style=\"text-align: right;\">\n",
              "      <th></th>\n",
              "      <th>Apr</th>\n",
              "      <th>Aug</th>\n",
              "      <th>Dec</th>\n",
              "      <th>Feb</th>\n",
              "      <th>Jan</th>\n",
              "      <th>Jul</th>\n",
              "      <th>Jun</th>\n",
              "      <th>Mar</th>\n",
              "      <th>May</th>\n",
              "      <th>Nov</th>\n",
              "      <th>Oct</th>\n",
              "      <th>Sep</th>\n",
              "      <th>Fri</th>\n",
              "      <th>Mon</th>\n",
              "      <th>Sat</th>\n",
              "      <th>Sun</th>\n",
              "      <th>Thu</th>\n",
              "      <th>Tue</th>\n",
              "      <th>Wed</th>\n",
              "      <th>year</th>\n",
              "      <th>fog</th>\n",
              "      <th>number_of_accidents</th>\n",
              "    </tr>\n",
              "  </thead>\n",
              "  <tbody>\n",
              "    <tr>\n",
              "      <th>28</th>\n",
              "      <td>0</td>\n",
              "      <td>0</td>\n",
              "      <td>0</td>\n",
              "      <td>0</td>\n",
              "      <td>1</td>\n",
              "      <td>0</td>\n",
              "      <td>0</td>\n",
              "      <td>0</td>\n",
              "      <td>0</td>\n",
              "      <td>0</td>\n",
              "      <td>0</td>\n",
              "      <td>0</td>\n",
              "      <td>0</td>\n",
              "      <td>1</td>\n",
              "      <td>0</td>\n",
              "      <td>0</td>\n",
              "      <td>0</td>\n",
              "      <td>0</td>\n",
              "      <td>0</td>\n",
              "      <td>2013</td>\n",
              "      <td>0</td>\n",
              "      <td>0.348624</td>\n",
              "    </tr>\n",
              "    <tr>\n",
              "      <th>2476</th>\n",
              "      <td>0</td>\n",
              "      <td>0</td>\n",
              "      <td>0</td>\n",
              "      <td>0</td>\n",
              "      <td>0</td>\n",
              "      <td>0</td>\n",
              "      <td>0</td>\n",
              "      <td>0</td>\n",
              "      <td>0</td>\n",
              "      <td>1</td>\n",
              "      <td>0</td>\n",
              "      <td>0</td>\n",
              "      <td>0</td>\n",
              "      <td>1</td>\n",
              "      <td>0</td>\n",
              "      <td>0</td>\n",
              "      <td>0</td>\n",
              "      <td>0</td>\n",
              "      <td>0</td>\n",
              "      <td>2019</td>\n",
              "      <td>0</td>\n",
              "      <td>0.281250</td>\n",
              "    </tr>\n",
              "    <tr>\n",
              "      <th>1076</th>\n",
              "      <td>0</td>\n",
              "      <td>0</td>\n",
              "      <td>1</td>\n",
              "      <td>0</td>\n",
              "      <td>0</td>\n",
              "      <td>0</td>\n",
              "      <td>0</td>\n",
              "      <td>0</td>\n",
              "      <td>0</td>\n",
              "      <td>0</td>\n",
              "      <td>0</td>\n",
              "      <td>0</td>\n",
              "      <td>0</td>\n",
              "      <td>0</td>\n",
              "      <td>0</td>\n",
              "      <td>1</td>\n",
              "      <td>0</td>\n",
              "      <td>0</td>\n",
              "      <td>0</td>\n",
              "      <td>2015</td>\n",
              "      <td>1</td>\n",
              "      <td>0.340381</td>\n",
              "    </tr>\n",
              "  </tbody>\n",
              "</table>\n",
              "</div>"
            ],
            "text/plain": [
              "      Apr  Aug  Dec  Feb  Jan  ...  Tue  Wed  year  fog  number_of_accidents\n",
              "28      0    0    0    0    1  ...    0    0  2013    0             0.348624\n",
              "2476    0    0    0    0    0  ...    0    0  2019    0             0.281250\n",
              "1076    0    0    1    0    0  ...    0    0  2015    1             0.340381\n",
              "\n",
              "[3 rows x 22 columns]"
            ]
          },
          "metadata": {},
          "execution_count": 113
        }
      ]
    },
    {
      "cell_type": "code",
      "metadata": {
        "colab": {
          "base_uri": "https://localhost:8080/"
        },
        "id": "5npOxkDQro3W",
        "outputId": "c8abb926-2b4b-4e59-f37c-0f03f01be57d"
      },
      "source": [
        "# create test using data above\n",
        "input = pd.DataFrame.from_dict(data = \n",
        "\t\t\t\t{\n",
        "         'Apr' : [0,0,0],\n",
        "         'Aug' : [0,0,0],\n",
        "         'Dec' : [0,0,1],\n",
        "         'Feb' : [0,0,0],\n",
        "         'Jan' : [1,0,0],\n",
        "         'Jul' : [0,0,0],\n",
        "         'Jun' : [0,0,0],\n",
        "         'Mar' : [0,0,0],\n",
        "         'May' : [0,0,0],\n",
        "         'Nov' : [0,1,0],\n",
        "         'Oct' : [0,0,0],\n",
        "         'Sep' : [0,0,0],\n",
        "         'Fri' : [0,0,0],\n",
        "         'Mon' : [1,1,0],\n",
        "         'Sat' : [0,1,0],\n",
        "         'Sun' : [0,0,1],\n",
        "         'Thu' : [0,0,0],\n",
        "         'Tue' : [0,0,0],\n",
        "         'Wed' : [0,0,0],\n",
        "         'year' : [2013,2019,2015],\n",
        "         'fog' : [0,0,1]\n",
        "        })\n",
        "\n",
        "estimator = tf.contrib.learn.SKCompat(tf.contrib.learn.DNNRegressor(model_dir='/tmp/DNN_regression_trained_model_f', hidden_units=[20,18,14], enable_centered_bias=False, feature_columns=tf.contrib.learn.infer_real_valued_columns_from_input(input.values)))\n",
        "\n",
        "preds = estimator.predict(x=input.values)\n",
        "\n",
        "predslistnorm = preds['scores']\n",
        "prednorm = format(str(predslistnorm))\n",
        "print(prednorm)"
      ],
      "execution_count": 114,
      "outputs": [
        {
          "output_type": "stream",
          "name": "stdout",
          "text": [
            "INFO:tensorflow:Using default config.\n",
            "INFO:tensorflow:Using config: {'_task_type': None, '_task_id': 0, '_cluster_spec': <tensorflow.python.training.server_lib.ClusterSpec object at 0x7f4f9aac09d0>, '_master': '', '_num_ps_replicas': 0, '_num_worker_replicas': 0, '_environment': 'local', '_is_chief': True, '_evaluation_master': '', '_train_distribute': None, '_eval_distribute': None, '_experimental_max_worker_delay_secs': None, '_device_fn': None, '_tf_config': gpu_options {\n",
            "  per_process_gpu_memory_fraction: 1.0\n",
            "}\n",
            ", '_tf_random_seed': None, '_save_summary_steps': 100, '_save_checkpoints_secs': 600, '_log_step_count_steps': 100, '_protocol': None, '_session_config': None, '_save_checkpoints_steps': None, '_keep_checkpoint_max': 5, '_keep_checkpoint_every_n_hours': 10000, '_model_dir': '/tmp/DNN_regression_trained_model_f', '_session_creation_timeout_secs': 7200}\n",
            "INFO:tensorflow:Graph was finalized.\n",
            "INFO:tensorflow:Restoring parameters from /tmp/DNN_regression_trained_model_f/model.ckpt-10000\n",
            "INFO:tensorflow:Running local_init_op.\n",
            "INFO:tensorflow:Done running local_init_op.\n",
            "[0.45951873 0.48591882 0.35790893]\n"
          ]
        }
      ]
    },
    {
      "cell_type": "markdown",
      "metadata": {
        "id": "39Vuk160sGqx"
      },
      "source": [
        "The actual values from the validation data are 0.349, 0.281 and 0.340 but the results from the model are 0.460, 0.486 and 0.358.  The third row tested was very close though the other two were not."
      ]
    },
    {
      "cell_type": "markdown",
      "metadata": {
        "id": "RgQ8D9xqsgZh"
      },
      "source": [
        "### Create and test model for temperature and visibility"
      ]
    },
    {
      "cell_type": "code",
      "metadata": {
        "colab": {
          "base_uri": "https://localhost:8080/"
        },
        "id": "_8lo8OMauP39",
        "outputId": "cd30370f-f2ef-491c-8191-0ae939b219dd"
      },
      "source": [
        "# shuffle temperature and visibility dataset\n",
        "shuffle_tempvis = df_dnn_tempvisib.iloc[np.random.permutation(len(df_dnn_tempvisib))]\n",
        "\n",
        "#create training and validation data\n",
        "shuffle_tempvis_train, shuffle_tempvis_test = train_test_split(shuffle_tempvis, test_size=0.1)\n",
        "\n",
        "#check training set\n",
        "print(shuffle_tempvis_train[:5])\n",
        "\n",
        "# choose predictors\n",
        "predictors_tempvis = shuffle_tempvis_train.iloc[:,0:22]\n",
        "\n",
        "# check predictors.\n",
        "print(predictors_tempvis[:6])"
      ],
      "execution_count": 179,
      "outputs": [
        {
          "output_type": "stream",
          "name": "stdout",
          "text": [
            "      Apr  Aug  Dec  Feb  Jan  ...  Wed  year  temp  visib  number_of_accidents\n",
            "2241    0    0    0    0    0  ...    0  2019  40.7   10.0             0.600446\n",
            "1132    0    0    0    1    0  ...    0  2016  36.5   10.0             0.553648\n",
            "1730    0    0    0    0    0  ...    0  2017  59.7   10.0             0.833333\n",
            "305     0    0    0    0    0  ...    0  2013  57.4    6.4             0.449541\n",
            "2153    0    0    1    0    0  ...    0  2018  48.3    4.1             0.378924\n",
            "\n",
            "[5 rows x 23 columns]\n",
            "      Apr  Aug  Dec  Feb  Jan  Jul  Jun  ...  Sun  Thu  Tue  Wed  year  temp  visib\n",
            "2241    0    0    0    0    0    0    0  ...    0    1    0    0  2019  40.7   10.0\n",
            "1132    0    0    0    1    0    0    0  ...    0    0    1    0  2016  36.5   10.0\n",
            "1730    0    0    0    0    0    0    0  ...    0    1    0    0  2017  59.7   10.0\n",
            "305     0    0    0    0    0    0    0  ...    0    0    0    0  2013  57.4    6.4\n",
            "2153    0    0    1    0    0    0    0  ...    0    0    0    0  2018  48.3    4.1\n",
            "2176    0    0    0    0    1    0    0  ...    0    0    1    0  2019  29.4   10.0\n",
            "\n",
            "[6 rows x 22 columns]\n"
          ]
        }
      ]
    },
    {
      "cell_type": "code",
      "metadata": {
        "colab": {
          "base_uri": "https://localhost:8080/"
        },
        "id": "-Do-2tN4upuq",
        "outputId": "157a37e7-989a-41b6-8dfe-6f8b57e9d7fb"
      },
      "source": [
        "# Create outcome data - targets\n",
        "targets_tempvis = shuffle_tempvis_train.iloc[:,22]\n",
        "\n",
        "# check targets data.\n",
        "print(targets_tempvis[:6])"
      ],
      "execution_count": 181,
      "outputs": [
        {
          "output_type": "stream",
          "name": "stdout",
          "text": [
            "2241    0.600446\n",
            "1132    0.553648\n",
            "1730    0.833333\n",
            "305     0.449541\n",
            "2153    0.378924\n",
            "2176    0.587054\n",
            "Name: number_of_accidents, dtype: float64\n"
          ]
        }
      ]
    },
    {
      "cell_type": "code",
      "metadata": {
        "id": "KpHflXqPu26N"
      },
      "source": [
        "SCALE_num_accidents = 1.0"
      ],
      "execution_count": 182,
      "outputs": []
    },
    {
      "cell_type": "code",
      "metadata": {
        "id": "6NKWLbs1u9gZ"
      },
      "source": [
        "# Split our data into a training set = 80% of the length of the shuffle array\n",
        "trainsize = int(len(shuffle_tempvis_train['number_of_accidents'])*0.8)\n",
        "# The test set size = 20% of the length of the shuffle array.\n",
        "testsize = len(shuffle_tempvis_train['number_of_accidents']) - trainsize\n",
        "\n",
        "# Define the number of predictors\n",
        "nppredictors = 22\n",
        "# Define the number of targets\n",
        "noutputs = 1"
      ],
      "execution_count": 183,
      "outputs": []
    },
    {
      "cell_type": "markdown",
      "metadata": {
        "id": "_lMlHaznvU1I"
      },
      "source": [
        "Create model"
      ]
    },
    {
      "cell_type": "code",
      "metadata": {
        "colab": {
          "base_uri": "https://localhost:8080/"
        },
        "id": "sA_uEptZvU9F",
        "outputId": "a5b5943d-c6bb-4dc1-d2a0-5a36226693f6"
      },
      "source": [
        "# create model\n",
        "tf.compat.v1.logging.set_verbosity(tf.compat.v1.logging.INFO)\n",
        "\n",
        "# removes previous saved model\n",
        "shutil.rmtree('/tmp/DNN_regression_trained_model_tv', ignore_errors=True)\n",
        "\n",
        "estimator_tempvis = tf.contrib.learn.SKCompat(tf.contrib.learn.DNNRegressor(model_dir='/tmp/DNN_regression_trained_model_tv', hidden_units=[20,18,14], optimizer=tf.train.AdamOptimizer(learning_rate=0.01), enable_centered_bias=False, feature_columns=tf.contrib.learn.infer_real_valued_columns_from_input(predictors_tempvis.values)))\n",
        "\n",
        "# show model is starting to train\n",
        "print(\"starting to train\");\n",
        "\n",
        "# Train the model\n",
        "estimator_tempvis.fit(predictors_tempvis[:trainsize].values, targets_tempvis[:trainsize].values.reshape(trainsize, noutputs)/SCALE_num_accidents, steps=10000)\n",
        "\n",
        "# check predictions\n",
        "preds = estimator_tempvis.predict(x=predictors_tempvis[trainsize:].values)\n",
        "\n",
        "# Apply the Scale value\n",
        "predslistscale = preds['scores']*SCALE_num_accidents\n",
        "\n",
        "# Calculate RMSE \n",
        "rmse = np.sqrt(np.mean((targets_tempvis[trainsize:].values - predslistscale)**2))\n",
        "print('DNNRegression temperature and visibility has RMSE of {0}'.format(rmse));\n",
        "\n",
        "# Calculate the mean of the number of accident values.\n",
        "avg = np.mean(shuffle_tempvis_train['number_of_accidents'][:trainsize])\n",
        "\n",
        "# Calculate the RMSE using number of accident values and the mean of all target values.\n",
        "rmse = np.sqrt(np.mean((shuffle_tempvis_train['number_of_accidents'][trainsize:] - avg)**2))\n",
        "print('Just using average = {0} has RMSE of {1}'.format(avg, rmse));"
      ],
      "execution_count": 184,
      "outputs": [
        {
          "output_type": "stream",
          "name": "stdout",
          "text": [
            "WARNING:tensorflow:float64 is not supported by many models, consider casting to float32.\n",
            "INFO:tensorflow:Using default config.\n",
            "INFO:tensorflow:Using config: {'_task_type': None, '_task_id': 0, '_cluster_spec': <tensorflow.python.training.server_lib.ClusterSpec object at 0x7f4f9a92e310>, '_master': '', '_num_ps_replicas': 0, '_num_worker_replicas': 0, '_environment': 'local', '_is_chief': True, '_evaluation_master': '', '_train_distribute': None, '_eval_distribute': None, '_experimental_max_worker_delay_secs': None, '_device_fn': None, '_tf_config': gpu_options {\n",
            "  per_process_gpu_memory_fraction: 1.0\n",
            "}\n",
            ", '_tf_random_seed': None, '_save_summary_steps': 100, '_save_checkpoints_secs': 600, '_log_step_count_steps': 100, '_protocol': None, '_session_config': None, '_save_checkpoints_steps': None, '_keep_checkpoint_max': 5, '_keep_checkpoint_every_n_hours': 10000, '_model_dir': '/tmp/DNN_regression_trained_model_tv', '_session_creation_timeout_secs': 7200}\n",
            "starting to train\n",
            "WARNING:tensorflow:float64 is not supported by many models, consider casting to float32.\n",
            "WARNING:tensorflow:float64 is not supported by many models, consider casting to float32.\n",
            "INFO:tensorflow:Create CheckpointSaverHook.\n",
            "INFO:tensorflow:Graph was finalized.\n",
            "INFO:tensorflow:Running local_init_op.\n",
            "INFO:tensorflow:Done running local_init_op.\n",
            "INFO:tensorflow:Saving checkpoints for 0 into /tmp/DNN_regression_trained_model_tv/model.ckpt.\n",
            "INFO:tensorflow:loss = 1985.2397, step = 1\n",
            "INFO:tensorflow:global_step/sec: 395.549\n",
            "INFO:tensorflow:loss = 0.0894587, step = 101 (0.259 sec)\n",
            "INFO:tensorflow:global_step/sec: 550.615\n",
            "INFO:tensorflow:loss = 0.068214655, step = 201 (0.181 sec)\n",
            "INFO:tensorflow:global_step/sec: 565.314\n",
            "INFO:tensorflow:loss = 0.058637783, step = 301 (0.173 sec)\n",
            "INFO:tensorflow:global_step/sec: 556.808\n",
            "INFO:tensorflow:loss = 0.071643874, step = 401 (0.183 sec)\n",
            "INFO:tensorflow:global_step/sec: 553.597\n",
            "INFO:tensorflow:loss = 0.04936508, step = 501 (0.180 sec)\n",
            "INFO:tensorflow:global_step/sec: 604.922\n",
            "INFO:tensorflow:loss = 0.035726164, step = 601 (0.166 sec)\n",
            "INFO:tensorflow:global_step/sec: 536.836\n",
            "INFO:tensorflow:loss = 0.034361053, step = 701 (0.186 sec)\n",
            "INFO:tensorflow:global_step/sec: 605.95\n",
            "INFO:tensorflow:loss = 0.033532053, step = 801 (0.166 sec)\n",
            "INFO:tensorflow:global_step/sec: 587.624\n",
            "INFO:tensorflow:loss = 0.026182294, step = 901 (0.169 sec)\n",
            "INFO:tensorflow:global_step/sec: 542.256\n",
            "INFO:tensorflow:loss = 0.0330808, step = 1001 (0.185 sec)\n",
            "INFO:tensorflow:global_step/sec: 625.051\n",
            "INFO:tensorflow:loss = 0.13606724, step = 1101 (0.161 sec)\n",
            "INFO:tensorflow:global_step/sec: 600.687\n",
            "INFO:tensorflow:loss = 0.03277871, step = 1201 (0.165 sec)\n",
            "INFO:tensorflow:global_step/sec: 576.806\n",
            "INFO:tensorflow:loss = 0.030978648, step = 1301 (0.171 sec)\n",
            "INFO:tensorflow:global_step/sec: 560.626\n",
            "INFO:tensorflow:loss = 0.20635846, step = 1401 (0.182 sec)\n",
            "INFO:tensorflow:global_step/sec: 563.935\n",
            "INFO:tensorflow:loss = 0.12325591, step = 1501 (0.177 sec)\n",
            "INFO:tensorflow:global_step/sec: 574.235\n",
            "INFO:tensorflow:loss = 0.038507037, step = 1601 (0.173 sec)\n",
            "INFO:tensorflow:global_step/sec: 590.501\n",
            "INFO:tensorflow:loss = 0.39970535, step = 1701 (0.169 sec)\n",
            "INFO:tensorflow:global_step/sec: 610.879\n",
            "INFO:tensorflow:loss = 0.595803, step = 1801 (0.165 sec)\n",
            "INFO:tensorflow:global_step/sec: 612.449\n",
            "INFO:tensorflow:loss = 0.7531477, step = 1901 (0.162 sec)\n",
            "INFO:tensorflow:global_step/sec: 613.381\n",
            "INFO:tensorflow:loss = 0.34529823, step = 2001 (0.164 sec)\n",
            "INFO:tensorflow:global_step/sec: 576.591\n",
            "INFO:tensorflow:loss = 7.3135176, step = 2101 (0.175 sec)\n",
            "INFO:tensorflow:global_step/sec: 577.631\n",
            "INFO:tensorflow:loss = 0.021379555, step = 2201 (0.170 sec)\n",
            "INFO:tensorflow:global_step/sec: 621.439\n",
            "INFO:tensorflow:loss = 0.2281473, step = 2301 (0.163 sec)\n",
            "INFO:tensorflow:global_step/sec: 607.986\n",
            "INFO:tensorflow:loss = 0.13707921, step = 2401 (0.163 sec)\n",
            "INFO:tensorflow:global_step/sec: 586.765\n",
            "INFO:tensorflow:loss = 0.5686655, step = 2501 (0.171 sec)\n",
            "INFO:tensorflow:global_step/sec: 595.076\n",
            "INFO:tensorflow:loss = 0.097436085, step = 2601 (0.165 sec)\n",
            "INFO:tensorflow:global_step/sec: 565.535\n",
            "INFO:tensorflow:loss = 0.7765035, step = 2701 (0.180 sec)\n",
            "INFO:tensorflow:global_step/sec: 589.565\n",
            "INFO:tensorflow:loss = 0.33885473, step = 2801 (0.166 sec)\n",
            "INFO:tensorflow:global_step/sec: 579.809\n",
            "INFO:tensorflow:loss = 0.027613856, step = 2901 (0.175 sec)\n",
            "INFO:tensorflow:global_step/sec: 605.04\n",
            "INFO:tensorflow:loss = 0.028469162, step = 3001 (0.165 sec)\n",
            "INFO:tensorflow:global_step/sec: 594.981\n",
            "INFO:tensorflow:loss = 0.09075564, step = 3101 (0.169 sec)\n",
            "INFO:tensorflow:global_step/sec: 597.007\n",
            "INFO:tensorflow:loss = 0.13072541, step = 3201 (0.165 sec)\n",
            "INFO:tensorflow:global_step/sec: 651.623\n",
            "INFO:tensorflow:loss = 0.33316952, step = 3301 (0.155 sec)\n",
            "INFO:tensorflow:global_step/sec: 537.416\n",
            "INFO:tensorflow:loss = 0.019275554, step = 3401 (0.187 sec)\n",
            "INFO:tensorflow:global_step/sec: 631.406\n",
            "INFO:tensorflow:loss = 0.33642602, step = 3501 (0.159 sec)\n",
            "INFO:tensorflow:global_step/sec: 619.49\n",
            "INFO:tensorflow:loss = 1.3100858, step = 3601 (0.158 sec)\n",
            "INFO:tensorflow:global_step/sec: 606.162\n",
            "INFO:tensorflow:loss = 0.20752208, step = 3701 (0.165 sec)\n",
            "INFO:tensorflow:global_step/sec: 634.828\n",
            "INFO:tensorflow:loss = 0.16902304, step = 3801 (0.160 sec)\n",
            "INFO:tensorflow:global_step/sec: 596.095\n",
            "INFO:tensorflow:loss = 0.18578324, step = 3901 (0.166 sec)\n",
            "INFO:tensorflow:global_step/sec: 584.302\n",
            "INFO:tensorflow:loss = 0.02200424, step = 4001 (0.171 sec)\n",
            "INFO:tensorflow:global_step/sec: 633.895\n",
            "INFO:tensorflow:loss = 0.12123357, step = 4101 (0.159 sec)\n",
            "INFO:tensorflow:global_step/sec: 598.698\n",
            "INFO:tensorflow:loss = 0.06853093, step = 4201 (0.166 sec)\n",
            "INFO:tensorflow:global_step/sec: 588.415\n",
            "INFO:tensorflow:loss = 0.03147958, step = 4301 (0.172 sec)\n",
            "INFO:tensorflow:global_step/sec: 464.768\n",
            "INFO:tensorflow:loss = 0.022815038, step = 4401 (0.217 sec)\n",
            "INFO:tensorflow:global_step/sec: 585.601\n",
            "INFO:tensorflow:loss = 0.20103131, step = 4501 (0.170 sec)\n",
            "INFO:tensorflow:global_step/sec: 549.725\n",
            "INFO:tensorflow:loss = 0.10292402, step = 4601 (0.181 sec)\n",
            "INFO:tensorflow:global_step/sec: 550.941\n",
            "INFO:tensorflow:loss = 0.026552837, step = 4701 (0.182 sec)\n",
            "INFO:tensorflow:global_step/sec: 581.666\n",
            "INFO:tensorflow:loss = 0.2911124, step = 4801 (0.172 sec)\n",
            "INFO:tensorflow:global_step/sec: 539.444\n",
            "INFO:tensorflow:loss = 0.090096, step = 4901 (0.184 sec)\n",
            "INFO:tensorflow:global_step/sec: 619.883\n",
            "INFO:tensorflow:loss = 0.026445763, step = 5001 (0.163 sec)\n",
            "INFO:tensorflow:global_step/sec: 594.623\n",
            "INFO:tensorflow:loss = 0.04413361, step = 5101 (0.168 sec)\n",
            "INFO:tensorflow:global_step/sec: 557.663\n",
            "INFO:tensorflow:loss = 0.11773868, step = 5201 (0.179 sec)\n",
            "INFO:tensorflow:global_step/sec: 561.857\n",
            "INFO:tensorflow:loss = 0.14793532, step = 5301 (0.178 sec)\n",
            "INFO:tensorflow:global_step/sec: 617.815\n",
            "INFO:tensorflow:loss = 0.019752918, step = 5401 (0.161 sec)\n",
            "INFO:tensorflow:global_step/sec: 613.455\n",
            "INFO:tensorflow:loss = 0.09815561, step = 5501 (0.162 sec)\n",
            "INFO:tensorflow:global_step/sec: 624.609\n",
            "INFO:tensorflow:loss = 0.13220058, step = 5601 (0.159 sec)\n",
            "INFO:tensorflow:global_step/sec: 622.395\n",
            "INFO:tensorflow:loss = 0.027873505, step = 5701 (0.161 sec)\n",
            "INFO:tensorflow:global_step/sec: 588.945\n",
            "INFO:tensorflow:loss = 0.026244063, step = 5801 (0.173 sec)\n",
            "INFO:tensorflow:global_step/sec: 616.319\n",
            "INFO:tensorflow:loss = 0.07204525, step = 5901 (0.159 sec)\n",
            "INFO:tensorflow:global_step/sec: 614.346\n",
            "INFO:tensorflow:loss = 0.035334498, step = 6001 (0.163 sec)\n",
            "INFO:tensorflow:global_step/sec: 660.212\n",
            "INFO:tensorflow:loss = 0.053296175, step = 6101 (0.153 sec)\n",
            "INFO:tensorflow:global_step/sec: 629.455\n",
            "INFO:tensorflow:loss = 0.053347625, step = 6201 (0.159 sec)\n",
            "INFO:tensorflow:global_step/sec: 633.105\n",
            "INFO:tensorflow:loss = 0.021574585, step = 6301 (0.155 sec)\n",
            "INFO:tensorflow:global_step/sec: 609.689\n",
            "INFO:tensorflow:loss = 0.07522758, step = 6401 (0.167 sec)\n",
            "INFO:tensorflow:global_step/sec: 606.565\n",
            "INFO:tensorflow:loss = 0.13662705, step = 6501 (0.165 sec)\n",
            "INFO:tensorflow:global_step/sec: 597.913\n",
            "INFO:tensorflow:loss = 0.03940104, step = 6601 (0.166 sec)\n",
            "INFO:tensorflow:global_step/sec: 588.695\n",
            "INFO:tensorflow:loss = 0.034165677, step = 6701 (0.171 sec)\n",
            "INFO:tensorflow:global_step/sec: 627.982\n",
            "INFO:tensorflow:loss = 0.23294863, step = 6801 (0.157 sec)\n",
            "INFO:tensorflow:global_step/sec: 620.098\n",
            "INFO:tensorflow:loss = 0.077038735, step = 6901 (0.166 sec)\n",
            "INFO:tensorflow:global_step/sec: 574.458\n",
            "INFO:tensorflow:loss = 0.031117372, step = 7001 (0.170 sec)\n",
            "INFO:tensorflow:global_step/sec: 648.207\n",
            "INFO:tensorflow:loss = 0.023648415, step = 7101 (0.157 sec)\n",
            "INFO:tensorflow:global_step/sec: 604.863\n",
            "INFO:tensorflow:loss = 0.049090028, step = 7201 (0.165 sec)\n",
            "INFO:tensorflow:global_step/sec: 610.968\n",
            "INFO:tensorflow:loss = 0.016562602, step = 7301 (0.169 sec)\n",
            "INFO:tensorflow:global_step/sec: 567.722\n",
            "INFO:tensorflow:loss = 0.033228725, step = 7401 (0.172 sec)\n",
            "INFO:tensorflow:global_step/sec: 620.428\n",
            "INFO:tensorflow:loss = 0.022964587, step = 7501 (0.161 sec)\n",
            "INFO:tensorflow:global_step/sec: 584.247\n",
            "INFO:tensorflow:loss = 0.0637676, step = 7601 (0.169 sec)\n",
            "INFO:tensorflow:global_step/sec: 568.21\n",
            "INFO:tensorflow:loss = 0.09447123, step = 7701 (0.178 sec)\n",
            "INFO:tensorflow:global_step/sec: 619.369\n",
            "INFO:tensorflow:loss = 0.060927764, step = 7801 (0.159 sec)\n",
            "INFO:tensorflow:global_step/sec: 618.828\n",
            "INFO:tensorflow:loss = 0.029958798, step = 7901 (0.163 sec)\n",
            "INFO:tensorflow:global_step/sec: 613.476\n",
            "INFO:tensorflow:loss = 0.021553874, step = 8001 (0.165 sec)\n",
            "INFO:tensorflow:global_step/sec: 616.873\n",
            "INFO:tensorflow:loss = 0.02712327, step = 8101 (0.161 sec)\n",
            "INFO:tensorflow:global_step/sec: 629.117\n",
            "INFO:tensorflow:loss = 0.022291724, step = 8201 (0.162 sec)\n",
            "INFO:tensorflow:global_step/sec: 536.95\n",
            "INFO:tensorflow:loss = 0.020649612, step = 8301 (0.185 sec)\n",
            "INFO:tensorflow:global_step/sec: 593.05\n",
            "INFO:tensorflow:loss = 0.016697906, step = 8401 (0.169 sec)\n",
            "INFO:tensorflow:global_step/sec: 588.884\n",
            "INFO:tensorflow:loss = 0.04894217, step = 8501 (0.170 sec)\n",
            "INFO:tensorflow:global_step/sec: 596.939\n",
            "INFO:tensorflow:loss = 0.023842383, step = 8601 (0.167 sec)\n",
            "INFO:tensorflow:global_step/sec: 609.635\n",
            "INFO:tensorflow:loss = 0.018528804, step = 8701 (0.164 sec)\n",
            "INFO:tensorflow:global_step/sec: 591.88\n",
            "INFO:tensorflow:loss = 0.035969973, step = 8801 (0.167 sec)\n",
            "INFO:tensorflow:global_step/sec: 594.304\n",
            "INFO:tensorflow:loss = 0.029059544, step = 8901 (0.169 sec)\n",
            "INFO:tensorflow:global_step/sec: 587.986\n",
            "INFO:tensorflow:loss = 0.022921214, step = 9001 (0.170 sec)\n",
            "INFO:tensorflow:global_step/sec: 604.023\n",
            "INFO:tensorflow:loss = 0.01840635, step = 9101 (0.166 sec)\n",
            "INFO:tensorflow:global_step/sec: 599.517\n",
            "INFO:tensorflow:loss = 0.036976602, step = 9201 (0.168 sec)\n",
            "INFO:tensorflow:global_step/sec: 524.055\n",
            "INFO:tensorflow:loss = 0.016791219, step = 9301 (0.187 sec)\n",
            "INFO:tensorflow:global_step/sec: 527.453\n",
            "INFO:tensorflow:loss = 0.027095165, step = 9401 (0.195 sec)\n",
            "INFO:tensorflow:global_step/sec: 535.852\n",
            "INFO:tensorflow:loss = 0.028422125, step = 9501 (0.185 sec)\n",
            "INFO:tensorflow:global_step/sec: 556.542\n",
            "INFO:tensorflow:loss = 0.020802993, step = 9601 (0.181 sec)\n",
            "INFO:tensorflow:global_step/sec: 569.984\n",
            "INFO:tensorflow:loss = 0.033360552, step = 9701 (0.170 sec)\n",
            "INFO:tensorflow:global_step/sec: 601.143\n",
            "INFO:tensorflow:loss = 0.024987895, step = 9801 (0.171 sec)\n",
            "INFO:tensorflow:global_step/sec: 558.395\n",
            "INFO:tensorflow:loss = 0.022271845, step = 9901 (0.174 sec)\n",
            "INFO:tensorflow:Saving checkpoints for 10000 into /tmp/DNN_regression_trained_model_tv/model.ckpt.\n",
            "INFO:tensorflow:Loss for final step: 0.02414079.\n",
            "WARNING:tensorflow:float64 is not supported by many models, consider casting to float32.\n",
            "INFO:tensorflow:Graph was finalized.\n",
            "INFO:tensorflow:Restoring parameters from /tmp/DNN_regression_trained_model_tv/model.ckpt-10000\n",
            "INFO:tensorflow:Running local_init_op.\n",
            "INFO:tensorflow:Done running local_init_op.\n",
            "DNNRegression temperature and visibility has RMSE of 0.1471220871215632\n",
            "Just using average = 0.5152848412864697 has RMSE of 0.1955497497019188\n"
          ]
        }
      ]
    },
    {
      "cell_type": "markdown",
      "metadata": {
        "id": "Pk00kAIfw_Ay"
      },
      "source": [
        "The RMSE values are 0.147 and 0.196 which are close so the model will now be tested with the validation data.\n",
        "\n",
        "Test the model with the first three rows of validation data"
      ]
    },
    {
      "cell_type": "code",
      "metadata": {
        "colab": {
          "base_uri": "https://localhost:8080/",
          "height": 143
        },
        "id": "TxZZuv13xKEh",
        "outputId": "ef4b3810-54cd-4718-d42c-a1cd543b7e9e"
      },
      "source": [
        "shuffle_tempvis_test[:3]"
      ],
      "execution_count": 185,
      "outputs": [
        {
          "output_type": "execute_result",
          "data": {
            "text/html": [
              "<div>\n",
              "<style scoped>\n",
              "    .dataframe tbody tr th:only-of-type {\n",
              "        vertical-align: middle;\n",
              "    }\n",
              "\n",
              "    .dataframe tbody tr th {\n",
              "        vertical-align: top;\n",
              "    }\n",
              "\n",
              "    .dataframe thead th {\n",
              "        text-align: right;\n",
              "    }\n",
              "</style>\n",
              "<table border=\"1\" class=\"dataframe\">\n",
              "  <thead>\n",
              "    <tr style=\"text-align: right;\">\n",
              "      <th></th>\n",
              "      <th>Apr</th>\n",
              "      <th>Aug</th>\n",
              "      <th>Dec</th>\n",
              "      <th>Feb</th>\n",
              "      <th>Jan</th>\n",
              "      <th>Jul</th>\n",
              "      <th>Jun</th>\n",
              "      <th>Mar</th>\n",
              "      <th>May</th>\n",
              "      <th>Nov</th>\n",
              "      <th>Oct</th>\n",
              "      <th>Sep</th>\n",
              "      <th>Fri</th>\n",
              "      <th>Mon</th>\n",
              "      <th>Sat</th>\n",
              "      <th>Sun</th>\n",
              "      <th>Thu</th>\n",
              "      <th>Tue</th>\n",
              "      <th>Wed</th>\n",
              "      <th>year</th>\n",
              "      <th>temp</th>\n",
              "      <th>visib</th>\n",
              "      <th>number_of_accidents</th>\n",
              "    </tr>\n",
              "  </thead>\n",
              "  <tbody>\n",
              "    <tr>\n",
              "      <th>940</th>\n",
              "      <td>0</td>\n",
              "      <td>1</td>\n",
              "      <td>0</td>\n",
              "      <td>0</td>\n",
              "      <td>0</td>\n",
              "      <td>0</td>\n",
              "      <td>0</td>\n",
              "      <td>0</td>\n",
              "      <td>0</td>\n",
              "      <td>0</td>\n",
              "      <td>0</td>\n",
              "      <td>0</td>\n",
              "      <td>0</td>\n",
              "      <td>0</td>\n",
              "      <td>0</td>\n",
              "      <td>0</td>\n",
              "      <td>0</td>\n",
              "      <td>1</td>\n",
              "      <td>0</td>\n",
              "      <td>2015</td>\n",
              "      <td>67.9</td>\n",
              "      <td>7.5</td>\n",
              "      <td>0.515856</td>\n",
              "    </tr>\n",
              "    <tr>\n",
              "      <th>1766</th>\n",
              "      <td>0</td>\n",
              "      <td>0</td>\n",
              "      <td>0</td>\n",
              "      <td>0</td>\n",
              "      <td>0</td>\n",
              "      <td>0</td>\n",
              "      <td>0</td>\n",
              "      <td>0</td>\n",
              "      <td>0</td>\n",
              "      <td>1</td>\n",
              "      <td>0</td>\n",
              "      <td>0</td>\n",
              "      <td>1</td>\n",
              "      <td>0</td>\n",
              "      <td>0</td>\n",
              "      <td>0</td>\n",
              "      <td>0</td>\n",
              "      <td>0</td>\n",
              "      <td>0</td>\n",
              "      <td>2017</td>\n",
              "      <td>40.8</td>\n",
              "      <td>10.0</td>\n",
              "      <td>0.276371</td>\n",
              "    </tr>\n",
              "    <tr>\n",
              "      <th>2183</th>\n",
              "      <td>0</td>\n",
              "      <td>0</td>\n",
              "      <td>0</td>\n",
              "      <td>0</td>\n",
              "      <td>1</td>\n",
              "      <td>0</td>\n",
              "      <td>0</td>\n",
              "      <td>0</td>\n",
              "      <td>0</td>\n",
              "      <td>0</td>\n",
              "      <td>0</td>\n",
              "      <td>0</td>\n",
              "      <td>0</td>\n",
              "      <td>0</td>\n",
              "      <td>0</td>\n",
              "      <td>0</td>\n",
              "      <td>0</td>\n",
              "      <td>1</td>\n",
              "      <td>0</td>\n",
              "      <td>2019</td>\n",
              "      <td>15.8</td>\n",
              "      <td>10.0</td>\n",
              "      <td>0.607143</td>\n",
              "    </tr>\n",
              "  </tbody>\n",
              "</table>\n",
              "</div>"
            ],
            "text/plain": [
              "      Apr  Aug  Dec  Feb  Jan  ...  Wed  year  temp  visib  number_of_accidents\n",
              "940     0    1    0    0    0  ...    0  2015  67.9    7.5             0.515856\n",
              "1766    0    0    0    0    0  ...    0  2017  40.8   10.0             0.276371\n",
              "2183    0    0    0    0    1  ...    0  2019  15.8   10.0             0.607143\n",
              "\n",
              "[3 rows x 23 columns]"
            ]
          },
          "metadata": {},
          "execution_count": 185
        }
      ]
    },
    {
      "cell_type": "code",
      "metadata": {
        "colab": {
          "base_uri": "https://localhost:8080/"
        },
        "id": "SDvHN63pxTh-",
        "outputId": "3a3700f4-14b9-4e40-82ca-1d6a2fbf5ed1"
      },
      "source": [
        "# create test using data above\n",
        "input = pd.DataFrame.from_dict(data = \n",
        "\t\t\t\t{\n",
        "         'Apr' : [0,0,0],\n",
        "         'Aug' : [1,0,0],\n",
        "         'Dec' : [0,0,0],\n",
        "         'Feb' : [0,0,0],\n",
        "         'Jan' : [0,0,1],\n",
        "         'Jul' : [0,0,0],\n",
        "         'Jun' : [0,0,0],\n",
        "         'Mar' : [0,0,0],\n",
        "         'May' : [0,0,0],\n",
        "         'Nov' : [0,1,0],\n",
        "         'Oct' : [0,0,0],\n",
        "         'Sep' : [0,0,0],\n",
        "         'Fri' : [0,0,0],\n",
        "         'Mon' : [0,0,0],\n",
        "         'Sat' : [0,0,0],\n",
        "         'Sun' : [0,0,0],\n",
        "         'Thu' : [0,0,0],\n",
        "         'Tue' : [1,0,1],\n",
        "         'Wed' : [0,0,0],\n",
        "         'year' : [2015,2017,2019],\n",
        "         'temp' : [67.9,40.8,15.8],\n",
        "     'visib' : [7.5,10,10]\n",
        "        })\n",
        "\n",
        "estimator = tf.contrib.learn.SKCompat(tf.contrib.learn.DNNRegressor(model_dir='/tmp/DNN_regression_trained_model_tv', hidden_units=[20,18,14], enable_centered_bias=False, feature_columns=tf.contrib.learn.infer_real_valued_columns_from_input(input.values)))\n",
        "\n",
        "preds = estimator.predict(x=input.values)\n",
        "\n",
        "predslistnorm = preds['scores']\n",
        "prednorm = format(str(predslistnorm))\n",
        "print(prednorm)"
      ],
      "execution_count": 187,
      "outputs": [
        {
          "output_type": "stream",
          "name": "stdout",
          "text": [
            "WARNING:tensorflow:float64 is not supported by many models, consider casting to float32.\n",
            "INFO:tensorflow:Using default config.\n",
            "INFO:tensorflow:Using config: {'_task_type': None, '_task_id': 0, '_cluster_spec': <tensorflow.python.training.server_lib.ClusterSpec object at 0x7f4f9b2c6e50>, '_master': '', '_num_ps_replicas': 0, '_num_worker_replicas': 0, '_environment': 'local', '_is_chief': True, '_evaluation_master': '', '_train_distribute': None, '_eval_distribute': None, '_experimental_max_worker_delay_secs': None, '_device_fn': None, '_tf_config': gpu_options {\n",
            "  per_process_gpu_memory_fraction: 1.0\n",
            "}\n",
            ", '_tf_random_seed': None, '_save_summary_steps': 100, '_save_checkpoints_secs': 600, '_log_step_count_steps': 100, '_protocol': None, '_session_config': None, '_save_checkpoints_steps': None, '_keep_checkpoint_max': 5, '_keep_checkpoint_every_n_hours': 10000, '_model_dir': '/tmp/DNN_regression_trained_model_tv', '_session_creation_timeout_secs': 7200}\n",
            "WARNING:tensorflow:float64 is not supported by many models, consider casting to float32.\n",
            "INFO:tensorflow:Graph was finalized.\n",
            "INFO:tensorflow:Restoring parameters from /tmp/DNN_regression_trained_model_tv/model.ckpt-10000\n",
            "INFO:tensorflow:Running local_init_op.\n",
            "INFO:tensorflow:Done running local_init_op.\n",
            "[0.54075253 0.52691376 0.42627916]\n"
          ]
        }
      ]
    },
    {
      "cell_type": "markdown",
      "metadata": {
        "id": "1wUg6vUox0xO"
      },
      "source": [
        "The actual accident values from the test data are 0.516, 0.276 and 0.607 whilst the values returned by the model are 0.541, 0.527 and 0.426.  So the first pair are close but the other two are not.\n",
        "\n",
        "Test the model using three random rows from the validation model"
      ]
    },
    {
      "cell_type": "code",
      "metadata": {
        "colab": {
          "base_uri": "https://localhost:8080/",
          "height": 143
        },
        "id": "iKR5ZOnkyRD0",
        "outputId": "0ebf970e-9813-4173-8bda-60f33f41edce"
      },
      "source": [
        "np.random.seed([10])\n",
        "\n",
        "shuffle_tempvis_test.sample(n = 3)"
      ],
      "execution_count": 188,
      "outputs": [
        {
          "output_type": "execute_result",
          "data": {
            "text/html": [
              "<div>\n",
              "<style scoped>\n",
              "    .dataframe tbody tr th:only-of-type {\n",
              "        vertical-align: middle;\n",
              "    }\n",
              "\n",
              "    .dataframe tbody tr th {\n",
              "        vertical-align: top;\n",
              "    }\n",
              "\n",
              "    .dataframe thead th {\n",
              "        text-align: right;\n",
              "    }\n",
              "</style>\n",
              "<table border=\"1\" class=\"dataframe\">\n",
              "  <thead>\n",
              "    <tr style=\"text-align: right;\">\n",
              "      <th></th>\n",
              "      <th>Apr</th>\n",
              "      <th>Aug</th>\n",
              "      <th>Dec</th>\n",
              "      <th>Feb</th>\n",
              "      <th>Jan</th>\n",
              "      <th>Jul</th>\n",
              "      <th>Jun</th>\n",
              "      <th>Mar</th>\n",
              "      <th>May</th>\n",
              "      <th>Nov</th>\n",
              "      <th>Oct</th>\n",
              "      <th>Sep</th>\n",
              "      <th>Fri</th>\n",
              "      <th>Mon</th>\n",
              "      <th>Sat</th>\n",
              "      <th>Sun</th>\n",
              "      <th>Thu</th>\n",
              "      <th>Tue</th>\n",
              "      <th>Wed</th>\n",
              "      <th>year</th>\n",
              "      <th>temp</th>\n",
              "      <th>visib</th>\n",
              "      <th>number_of_accidents</th>\n",
              "    </tr>\n",
              "  </thead>\n",
              "  <tbody>\n",
              "    <tr>\n",
              "      <th>1397</th>\n",
              "      <td>0</td>\n",
              "      <td>0</td>\n",
              "      <td>0</td>\n",
              "      <td>0</td>\n",
              "      <td>0</td>\n",
              "      <td>0</td>\n",
              "      <td>0</td>\n",
              "      <td>0</td>\n",
              "      <td>0</td>\n",
              "      <td>1</td>\n",
              "      <td>0</td>\n",
              "      <td>0</td>\n",
              "      <td>0</td>\n",
              "      <td>0</td>\n",
              "      <td>0</td>\n",
              "      <td>0</td>\n",
              "      <td>0</td>\n",
              "      <td>0</td>\n",
              "      <td>1</td>\n",
              "      <td>2016</td>\n",
              "      <td>54.4</td>\n",
              "      <td>8.0</td>\n",
              "      <td>0.729614</td>\n",
              "    </tr>\n",
              "    <tr>\n",
              "      <th>912</th>\n",
              "      <td>0</td>\n",
              "      <td>0</td>\n",
              "      <td>0</td>\n",
              "      <td>0</td>\n",
              "      <td>0</td>\n",
              "      <td>1</td>\n",
              "      <td>0</td>\n",
              "      <td>0</td>\n",
              "      <td>0</td>\n",
              "      <td>0</td>\n",
              "      <td>0</td>\n",
              "      <td>0</td>\n",
              "      <td>0</td>\n",
              "      <td>0</td>\n",
              "      <td>0</td>\n",
              "      <td>0</td>\n",
              "      <td>0</td>\n",
              "      <td>1</td>\n",
              "      <td>0</td>\n",
              "      <td>2015</td>\n",
              "      <td>67.4</td>\n",
              "      <td>9.8</td>\n",
              "      <td>0.634249</td>\n",
              "    </tr>\n",
              "    <tr>\n",
              "      <th>1772</th>\n",
              "      <td>0</td>\n",
              "      <td>0</td>\n",
              "      <td>0</td>\n",
              "      <td>0</td>\n",
              "      <td>0</td>\n",
              "      <td>0</td>\n",
              "      <td>0</td>\n",
              "      <td>0</td>\n",
              "      <td>0</td>\n",
              "      <td>1</td>\n",
              "      <td>0</td>\n",
              "      <td>0</td>\n",
              "      <td>0</td>\n",
              "      <td>0</td>\n",
              "      <td>0</td>\n",
              "      <td>0</td>\n",
              "      <td>1</td>\n",
              "      <td>0</td>\n",
              "      <td>0</td>\n",
              "      <td>2017</td>\n",
              "      <td>43.2</td>\n",
              "      <td>10.0</td>\n",
              "      <td>0.616034</td>\n",
              "    </tr>\n",
              "  </tbody>\n",
              "</table>\n",
              "</div>"
            ],
            "text/plain": [
              "      Apr  Aug  Dec  Feb  Jan  ...  Wed  year  temp  visib  number_of_accidents\n",
              "1397    0    0    0    0    0  ...    1  2016  54.4    8.0             0.729614\n",
              "912     0    0    0    0    0  ...    0  2015  67.4    9.8             0.634249\n",
              "1772    0    0    0    0    0  ...    0  2017  43.2   10.0             0.616034\n",
              "\n",
              "[3 rows x 23 columns]"
            ]
          },
          "metadata": {},
          "execution_count": 188
        }
      ]
    },
    {
      "cell_type": "code",
      "metadata": {
        "colab": {
          "base_uri": "https://localhost:8080/"
        },
        "id": "ArR6IRmfyXzz",
        "outputId": "6bcf8e95-26c5-4805-ef8f-44e77a7b124e"
      },
      "source": [
        "# create test using data above\n",
        "input = pd.DataFrame.from_dict(data = \n",
        "\t\t\t\t{\n",
        "         'Apr' : [0,0,0],\n",
        "         'Aug' : [0,0,0],\n",
        "         'Dec' : [0,0,0],\n",
        "         'Feb' : [0,0,0],\n",
        "         'Jan' : [0,0,0],\n",
        "         'Jul' : [0,1,0],\n",
        "         'Jun' : [0,0,0],\n",
        "         'Mar' : [0,0,0],\n",
        "         'May' : [0,0,0],\n",
        "         'Nov' : [1,0,1],\n",
        "         'Oct' : [0,0,0],\n",
        "         'Sep' : [0,0,0],\n",
        "         'Fri' : [0,0,0],\n",
        "         'Mon' : [0,0,0],\n",
        "         'Sat' : [0,0,0],\n",
        "         'Sun' : [0,0,0],\n",
        "         'Thu' : [0,0,1],\n",
        "         'Tue' : [0,1,0],\n",
        "         'Wed' : [1,0,0],\n",
        "         'year' : [2016,2015,2017],\n",
        "         'temp' : [54.4,67.4,43.2],\n",
        "     'visib' : [8,9.8,10]\n",
        "        })\n",
        "\n",
        "estimator = tf.contrib.learn.SKCompat(tf.contrib.learn.DNNRegressor(model_dir='/tmp/DNN_regression_trained_model_tv', hidden_units=[20,18,14], enable_centered_bias=False, feature_columns=tf.contrib.learn.infer_real_valued_columns_from_input(input.values)))\n",
        "\n",
        "preds = estimator.predict(x=input.values)\n",
        "\n",
        "predslistnorm = preds['scores']\n",
        "prednorm = format(str(predslistnorm))\n",
        "print(prednorm)"
      ],
      "execution_count": 189,
      "outputs": [
        {
          "output_type": "stream",
          "name": "stdout",
          "text": [
            "WARNING:tensorflow:float64 is not supported by many models, consider casting to float32.\n",
            "INFO:tensorflow:Using default config.\n",
            "INFO:tensorflow:Using config: {'_task_type': None, '_task_id': 0, '_cluster_spec': <tensorflow.python.training.server_lib.ClusterSpec object at 0x7f4f9a88bf10>, '_master': '', '_num_ps_replicas': 0, '_num_worker_replicas': 0, '_environment': 'local', '_is_chief': True, '_evaluation_master': '', '_train_distribute': None, '_eval_distribute': None, '_experimental_max_worker_delay_secs': None, '_device_fn': None, '_tf_config': gpu_options {\n",
            "  per_process_gpu_memory_fraction: 1.0\n",
            "}\n",
            ", '_tf_random_seed': None, '_save_summary_steps': 100, '_save_checkpoints_secs': 600, '_log_step_count_steps': 100, '_protocol': None, '_session_config': None, '_save_checkpoints_steps': None, '_keep_checkpoint_max': 5, '_keep_checkpoint_every_n_hours': 10000, '_model_dir': '/tmp/DNN_regression_trained_model_tv', '_session_creation_timeout_secs': 7200}\n",
            "WARNING:tensorflow:float64 is not supported by many models, consider casting to float32.\n",
            "INFO:tensorflow:Graph was finalized.\n",
            "INFO:tensorflow:Restoring parameters from /tmp/DNN_regression_trained_model_tv/model.ckpt-10000\n",
            "INFO:tensorflow:Running local_init_op.\n",
            "INFO:tensorflow:Done running local_init_op.\n",
            "[0.5800115  0.55877733 0.5826193 ]\n"
          ]
        }
      ]
    },
    {
      "cell_type": "markdown",
      "metadata": {
        "id": "QwmElHVNy1Qs"
      },
      "source": [
        "The number of accidents from the test data is 0.730, 0.634 and 0.616 and the model predicted values of 0.580, 0.559 and 0.583 so the first one is quite far off but the other two are fairly close showing better accuracy than the previous test."
      ]
    },
    {
      "cell_type": "markdown",
      "metadata": {
        "id": "CphGC0hfzLjW"
      },
      "source": [
        "### Create and test a model for fog and visibility\n",
        "\n",
        "\n"
      ]
    },
    {
      "cell_type": "code",
      "metadata": {
        "colab": {
          "base_uri": "https://localhost:8080/"
        },
        "id": "wW1KfVfkzXTJ",
        "outputId": "dff03fd8-0c0f-4e42-9994-6246edc2c92b"
      },
      "source": [
        "# shuffle fog and visibility dataset\n",
        "shuffle_fogvis = df_dnn_fogvisib.iloc[np.random.permutation(len(df_dnn_fogvisib))]\n",
        "\n",
        "#create training and validation data\n",
        "shuffle_fogvis_train, shuffle_fogvis_test = train_test_split(shuffle_fogvis, test_size=0.1)\n",
        "\n",
        "#check training set\n",
        "print(shuffle_fogvis_train[:5])\n",
        "\n",
        "# choose predictors\n",
        "predictors_fogvis = shuffle_fogvis_train.iloc[:,0:22]\n",
        "\n",
        "# check predictors.\n",
        "print(predictors_fogvis[:6])"
      ],
      "execution_count": 190,
      "outputs": [
        {
          "output_type": "stream",
          "name": "stdout",
          "text": [
            "      Apr  Aug  Dec  Feb  Jan  ...  Wed  year  fog  visib  number_of_accidents\n",
            "1348    0    0    0    0    0  ...    0  2016    0   10.0             0.553648\n",
            "2409    0    0    0    0    0  ...    0  2019    0    9.5             0.609375\n",
            "462     1    0    0    0    0  ...    0  2014    0    7.0             0.356481\n",
            "2341    0    0    0    0    0  ...    0  2019    1    7.9             0.680804\n",
            "1738    0    0    0    0    0  ...    0  2017    0   10.0             0.818565\n",
            "\n",
            "[5 rows x 23 columns]\n",
            "      Apr  Aug  Dec  Feb  Jan  Jul  Jun  ...  Sun  Thu  Tue  Wed  year  fog  visib\n",
            "1348    0    0    0    0    0    0    0  ...    0    0    0    0  2016    0   10.0\n",
            "2409    0    0    0    0    0    0    0  ...    0    1    0    0  2019    0    9.5\n",
            "462     1    0    0    0    0    0    0  ...    0    0    0    0  2014    0    7.0\n",
            "2341    0    0    0    0    0    0    1  ...    0    0    0    0  2019    1    7.9\n",
            "1738    0    0    0    0    0    0    0  ...    0    0    0    0  2017    0   10.0\n",
            "2253    1    0    0    0    0    0    0  ...    0    0    1    0  2019    0   10.0\n",
            "\n",
            "[6 rows x 22 columns]\n"
          ]
        }
      ]
    },
    {
      "cell_type": "code",
      "metadata": {
        "colab": {
          "base_uri": "https://localhost:8080/"
        },
        "id": "Dw8r2__8ze4H",
        "outputId": "fa9b0663-412d-4b71-c688-43010f48f351"
      },
      "source": [
        "# Create outcome data - targets\n",
        "targets_fogvis = shuffle_fogvis_train.iloc[:,22]\n",
        "\n",
        "# check targets data.\n",
        "print(targets_fogvis[:6])"
      ],
      "execution_count": 191,
      "outputs": [
        {
          "output_type": "stream",
          "name": "stdout",
          "text": [
            "1348    0.553648\n",
            "2409    0.609375\n",
            "462     0.356481\n",
            "2341    0.680804\n",
            "1738    0.818565\n",
            "2253    0.441964\n",
            "Name: number_of_accidents, dtype: float64\n"
          ]
        }
      ]
    },
    {
      "cell_type": "code",
      "metadata": {
        "id": "bR__M_0Zz6Gz"
      },
      "source": [
        "SCALE_num_accidents = 1.0"
      ],
      "execution_count": 192,
      "outputs": []
    },
    {
      "cell_type": "code",
      "metadata": {
        "id": "UuBBhGc-z6OT"
      },
      "source": [
        "# Split our data into a training set = 80% of the length of the shuffle array\n",
        "trainsize = int(len(shuffle_fogvis_train['number_of_accidents'])*0.8)\n",
        "# The test set size = 20% of the length of the shuffle array.\n",
        "testsize = len(shuffle_fogvis_train['number_of_accidents']) - trainsize\n",
        "\n",
        "# Define the number of predictors\n",
        "nppredictors = 22\n",
        "# Define the number of targets\n",
        "noutputs = 1"
      ],
      "execution_count": 193,
      "outputs": []
    },
    {
      "cell_type": "markdown",
      "metadata": {
        "id": "L6sPnlA-0DYt"
      },
      "source": [
        "Create model"
      ]
    },
    {
      "cell_type": "code",
      "metadata": {
        "colab": {
          "base_uri": "https://localhost:8080/"
        },
        "id": "QbGdHyEz0Dh9",
        "outputId": "01d32531-da96-4f07-91a0-0911640779d0"
      },
      "source": [
        "# create model\n",
        "tf.compat.v1.logging.set_verbosity(tf.compat.v1.logging.INFO)\n",
        "\n",
        "# removes previous saved model\n",
        "shutil.rmtree('/tmp/DNN_regression_trained_model_fv', ignore_errors=True)\n",
        "\n",
        "estimator_fogvis = tf.contrib.learn.SKCompat(tf.contrib.learn.DNNRegressor(model_dir='/tmp/DNN_regression_trained_model_fv', hidden_units=[20,18,14], optimizer=tf.train.AdamOptimizer(learning_rate=0.01), enable_centered_bias=False, feature_columns=tf.contrib.learn.infer_real_valued_columns_from_input(predictors_fogvis.values)))\n",
        "\n",
        "# show model is starting to train\n",
        "print(\"starting to train\");\n",
        "\n",
        "# Train the model\n",
        "estimator_fogvis.fit(predictors_fogvis[:trainsize].values, targets_fogvis[:trainsize].values.reshape(trainsize, noutputs)/SCALE_num_accidents, steps=10000)\n",
        "\n",
        "# check predictions\n",
        "preds = estimator_fogvis.predict(x=predictors_fogvis[trainsize:].values)\n",
        "\n",
        "# Apply the Scale value\n",
        "predslistscale = preds['scores']*SCALE_num_accidents\n",
        "\n",
        "# Calculate RMSE \n",
        "rmse = np.sqrt(np.mean((targets_fogvis[trainsize:].values - predslistscale)**2))\n",
        "print('DNNRegression fog and visibility has RMSE of {0}'.format(rmse));\n",
        "\n",
        "# Calculate the mean of the number of accident values.\n",
        "avg = np.mean(shuffle_fogvis_train['number_of_accidents'][:trainsize])\n",
        "\n",
        "# Calculate the RMSE using number of accident values and the mean of all target values.\n",
        "rmse = np.sqrt(np.mean((shuffle_fogvis_train['number_of_accidents'][trainsize:] - avg)**2))\n",
        "print('Just using average = {0} has RMSE of {1}'.format(avg, rmse));"
      ],
      "execution_count": 194,
      "outputs": [
        {
          "output_type": "stream",
          "name": "stdout",
          "text": [
            "WARNING:tensorflow:float64 is not supported by many models, consider casting to float32.\n",
            "INFO:tensorflow:Using default config.\n",
            "INFO:tensorflow:Using config: {'_task_type': None, '_task_id': 0, '_cluster_spec': <tensorflow.python.training.server_lib.ClusterSpec object at 0x7f4f9a88b790>, '_master': '', '_num_ps_replicas': 0, '_num_worker_replicas': 0, '_environment': 'local', '_is_chief': True, '_evaluation_master': '', '_train_distribute': None, '_eval_distribute': None, '_experimental_max_worker_delay_secs': None, '_device_fn': None, '_tf_config': gpu_options {\n",
            "  per_process_gpu_memory_fraction: 1.0\n",
            "}\n",
            ", '_tf_random_seed': None, '_save_summary_steps': 100, '_save_checkpoints_secs': 600, '_log_step_count_steps': 100, '_protocol': None, '_session_config': None, '_save_checkpoints_steps': None, '_keep_checkpoint_max': 5, '_keep_checkpoint_every_n_hours': 10000, '_model_dir': '/tmp/DNN_regression_trained_model_fv', '_session_creation_timeout_secs': 7200}\n",
            "starting to train\n",
            "WARNING:tensorflow:float64 is not supported by many models, consider casting to float32.\n",
            "WARNING:tensorflow:float64 is not supported by many models, consider casting to float32.\n",
            "INFO:tensorflow:Create CheckpointSaverHook.\n",
            "INFO:tensorflow:Graph was finalized.\n",
            "INFO:tensorflow:Running local_init_op.\n",
            "INFO:tensorflow:Done running local_init_op.\n",
            "INFO:tensorflow:Saving checkpoints for 0 into /tmp/DNN_regression_trained_model_fv/model.ckpt.\n",
            "INFO:tensorflow:loss = 295171.25, step = 1\n",
            "INFO:tensorflow:global_step/sec: 426.582\n",
            "INFO:tensorflow:loss = 0.6803399, step = 101 (0.239 sec)\n",
            "INFO:tensorflow:global_step/sec: 555.175\n",
            "INFO:tensorflow:loss = 0.042703345, step = 201 (0.180 sec)\n",
            "INFO:tensorflow:global_step/sec: 585.388\n",
            "INFO:tensorflow:loss = 0.046357505, step = 301 (0.171 sec)\n",
            "INFO:tensorflow:global_step/sec: 590.726\n",
            "INFO:tensorflow:loss = 0.041164204, step = 401 (0.166 sec)\n",
            "INFO:tensorflow:global_step/sec: 604.157\n",
            "INFO:tensorflow:loss = 0.042594362, step = 501 (0.168 sec)\n",
            "INFO:tensorflow:global_step/sec: 570.274\n",
            "INFO:tensorflow:loss = 0.04792663, step = 601 (0.172 sec)\n",
            "INFO:tensorflow:global_step/sec: 593.456\n",
            "INFO:tensorflow:loss = 0.04197868, step = 701 (0.171 sec)\n",
            "INFO:tensorflow:global_step/sec: 599.961\n",
            "INFO:tensorflow:loss = 0.036525086, step = 801 (0.166 sec)\n",
            "INFO:tensorflow:global_step/sec: 597.67\n",
            "INFO:tensorflow:loss = 0.047805108, step = 901 (0.168 sec)\n",
            "INFO:tensorflow:global_step/sec: 589.732\n",
            "INFO:tensorflow:loss = 0.04409344, step = 1001 (0.167 sec)\n",
            "INFO:tensorflow:global_step/sec: 602.497\n",
            "INFO:tensorflow:loss = 0.05090735, step = 1101 (0.169 sec)\n",
            "INFO:tensorflow:global_step/sec: 525.261\n",
            "INFO:tensorflow:loss = 0.049062774, step = 1201 (0.189 sec)\n",
            "INFO:tensorflow:global_step/sec: 599.064\n",
            "INFO:tensorflow:loss = 0.042646095, step = 1301 (0.168 sec)\n",
            "INFO:tensorflow:global_step/sec: 599.537\n",
            "INFO:tensorflow:loss = 0.03479164, step = 1401 (0.167 sec)\n",
            "INFO:tensorflow:global_step/sec: 579.045\n",
            "INFO:tensorflow:loss = 0.046585225, step = 1501 (0.172 sec)\n",
            "INFO:tensorflow:global_step/sec: 563.698\n",
            "INFO:tensorflow:loss = 0.048171833, step = 1601 (0.178 sec)\n",
            "INFO:tensorflow:global_step/sec: 554.793\n",
            "INFO:tensorflow:loss = 0.04351684, step = 1701 (0.180 sec)\n",
            "INFO:tensorflow:global_step/sec: 617.781\n",
            "INFO:tensorflow:loss = 0.04099905, step = 1801 (0.159 sec)\n",
            "INFO:tensorflow:global_step/sec: 599.797\n",
            "INFO:tensorflow:loss = 0.036278307, step = 1901 (0.170 sec)\n",
            "INFO:tensorflow:global_step/sec: 594.077\n",
            "INFO:tensorflow:loss = 0.04244539, step = 2001 (0.165 sec)\n",
            "INFO:tensorflow:global_step/sec: 635.788\n",
            "INFO:tensorflow:loss = 0.04122994, step = 2101 (0.160 sec)\n",
            "INFO:tensorflow:global_step/sec: 565.147\n",
            "INFO:tensorflow:loss = 0.047997694, step = 2201 (0.174 sec)\n",
            "INFO:tensorflow:global_step/sec: 556.894\n",
            "INFO:tensorflow:loss = 0.034910243, step = 2301 (0.181 sec)\n",
            "INFO:tensorflow:global_step/sec: 575.069\n",
            "INFO:tensorflow:loss = 0.038320623, step = 2401 (0.176 sec)\n",
            "INFO:tensorflow:global_step/sec: 588.019\n",
            "INFO:tensorflow:loss = 0.038850375, step = 2501 (0.167 sec)\n",
            "INFO:tensorflow:global_step/sec: 568.65\n",
            "INFO:tensorflow:loss = 0.038422544, step = 2601 (0.179 sec)\n",
            "INFO:tensorflow:global_step/sec: 589.355\n",
            "INFO:tensorflow:loss = 0.041884094, step = 2701 (0.166 sec)\n",
            "INFO:tensorflow:global_step/sec: 621.389\n",
            "INFO:tensorflow:loss = 0.04124359, step = 2801 (0.165 sec)\n",
            "INFO:tensorflow:global_step/sec: 559.733\n",
            "INFO:tensorflow:loss = 0.04077614, step = 2901 (0.178 sec)\n",
            "INFO:tensorflow:global_step/sec: 570.762\n",
            "INFO:tensorflow:loss = 0.03345219, step = 3001 (0.174 sec)\n",
            "INFO:tensorflow:global_step/sec: 591.187\n",
            "INFO:tensorflow:loss = 0.031373523, step = 3101 (0.169 sec)\n",
            "INFO:tensorflow:global_step/sec: 611.948\n",
            "INFO:tensorflow:loss = 0.03906759, step = 3201 (0.163 sec)\n",
            "INFO:tensorflow:global_step/sec: 608.841\n",
            "INFO:tensorflow:loss = 0.037997536, step = 3301 (0.164 sec)\n",
            "INFO:tensorflow:global_step/sec: 596.098\n",
            "INFO:tensorflow:loss = 0.030515522, step = 3401 (0.166 sec)\n",
            "INFO:tensorflow:global_step/sec: 575.895\n",
            "INFO:tensorflow:loss = 0.03457604, step = 3501 (0.175 sec)\n",
            "INFO:tensorflow:global_step/sec: 579.229\n",
            "INFO:tensorflow:loss = 0.033856034, step = 3601 (0.176 sec)\n",
            "INFO:tensorflow:global_step/sec: 521.7\n",
            "INFO:tensorflow:loss = 0.038776416, step = 3701 (0.190 sec)\n",
            "INFO:tensorflow:global_step/sec: 596.674\n",
            "INFO:tensorflow:loss = 0.032465518, step = 3801 (0.165 sec)\n",
            "INFO:tensorflow:global_step/sec: 595.621\n",
            "INFO:tensorflow:loss = 0.036176816, step = 3901 (0.171 sec)\n",
            "INFO:tensorflow:global_step/sec: 584.072\n",
            "INFO:tensorflow:loss = 0.040119126, step = 4001 (0.172 sec)\n",
            "INFO:tensorflow:global_step/sec: 535.965\n",
            "INFO:tensorflow:loss = 0.028181545, step = 4101 (0.184 sec)\n",
            "INFO:tensorflow:global_step/sec: 572.636\n",
            "INFO:tensorflow:loss = 0.039873354, step = 4201 (0.177 sec)\n",
            "INFO:tensorflow:global_step/sec: 598.614\n",
            "INFO:tensorflow:loss = 0.030869583, step = 4301 (0.167 sec)\n",
            "INFO:tensorflow:global_step/sec: 591.006\n",
            "INFO:tensorflow:loss = 0.027292572, step = 4401 (0.167 sec)\n",
            "INFO:tensorflow:global_step/sec: 572.055\n",
            "INFO:tensorflow:loss = 0.038331732, step = 4501 (0.177 sec)\n",
            "INFO:tensorflow:global_step/sec: 604.221\n",
            "INFO:tensorflow:loss = 0.02798888, step = 4601 (0.163 sec)\n",
            "INFO:tensorflow:global_step/sec: 551.794\n",
            "INFO:tensorflow:loss = 0.046071053, step = 4701 (0.184 sec)\n",
            "INFO:tensorflow:global_step/sec: 601.689\n",
            "INFO:tensorflow:loss = 0.03496178, step = 4801 (0.167 sec)\n",
            "INFO:tensorflow:global_step/sec: 566.213\n",
            "INFO:tensorflow:loss = 0.023312831, step = 4901 (0.177 sec)\n",
            "INFO:tensorflow:global_step/sec: 596.187\n",
            "INFO:tensorflow:loss = 0.028901443, step = 5001 (0.168 sec)\n",
            "INFO:tensorflow:global_step/sec: 583.669\n",
            "INFO:tensorflow:loss = 0.02650426, step = 5101 (0.170 sec)\n",
            "INFO:tensorflow:global_step/sec: 585.907\n",
            "INFO:tensorflow:loss = 0.025187304, step = 5201 (0.172 sec)\n",
            "INFO:tensorflow:global_step/sec: 544.08\n",
            "INFO:tensorflow:loss = 0.035400957, step = 5301 (0.182 sec)\n",
            "INFO:tensorflow:global_step/sec: 583.325\n",
            "INFO:tensorflow:loss = 0.044519305, step = 5401 (0.173 sec)\n",
            "INFO:tensorflow:global_step/sec: 568\n",
            "INFO:tensorflow:loss = 0.029825337, step = 5501 (0.173 sec)\n",
            "INFO:tensorflow:global_step/sec: 598.153\n",
            "INFO:tensorflow:loss = 0.02764925, step = 5601 (0.171 sec)\n",
            "INFO:tensorflow:global_step/sec: 579.233\n",
            "INFO:tensorflow:loss = 0.09623922, step = 5701 (0.172 sec)\n",
            "INFO:tensorflow:global_step/sec: 568.825\n",
            "INFO:tensorflow:loss = 0.027428195, step = 5801 (0.175 sec)\n",
            "INFO:tensorflow:global_step/sec: 553.993\n",
            "INFO:tensorflow:loss = 0.03131016, step = 5901 (0.180 sec)\n",
            "INFO:tensorflow:global_step/sec: 578.7\n",
            "INFO:tensorflow:loss = 0.02735149, step = 6001 (0.170 sec)\n",
            "INFO:tensorflow:global_step/sec: 562.927\n",
            "INFO:tensorflow:loss = 0.028120693, step = 6101 (0.181 sec)\n",
            "INFO:tensorflow:global_step/sec: 612.533\n",
            "INFO:tensorflow:loss = 0.026273847, step = 6201 (0.161 sec)\n",
            "INFO:tensorflow:global_step/sec: 592.384\n",
            "INFO:tensorflow:loss = 0.18141809, step = 6301 (0.170 sec)\n",
            "INFO:tensorflow:global_step/sec: 582.927\n",
            "INFO:tensorflow:loss = 0.17977476, step = 6401 (0.172 sec)\n",
            "INFO:tensorflow:global_step/sec: 552.579\n",
            "INFO:tensorflow:loss = 0.06810868, step = 6501 (0.181 sec)\n",
            "INFO:tensorflow:global_step/sec: 613.69\n",
            "INFO:tensorflow:loss = 0.1553503, step = 6601 (0.163 sec)\n",
            "INFO:tensorflow:global_step/sec: 584.065\n",
            "INFO:tensorflow:loss = 0.27781612, step = 6701 (0.172 sec)\n",
            "INFO:tensorflow:global_step/sec: 566.75\n",
            "INFO:tensorflow:loss = 0.11741385, step = 6801 (0.176 sec)\n",
            "INFO:tensorflow:global_step/sec: 599.986\n",
            "INFO:tensorflow:loss = 0.05723507, step = 6901 (0.167 sec)\n",
            "INFO:tensorflow:global_step/sec: 572.518\n",
            "INFO:tensorflow:loss = 0.044424362, step = 7001 (0.175 sec)\n",
            "INFO:tensorflow:global_step/sec: 568.002\n",
            "INFO:tensorflow:loss = 0.05399706, step = 7101 (0.174 sec)\n",
            "INFO:tensorflow:global_step/sec: 595.284\n",
            "INFO:tensorflow:loss = 0.045912895, step = 7201 (0.167 sec)\n",
            "INFO:tensorflow:global_step/sec: 577.469\n",
            "INFO:tensorflow:loss = 0.03980661, step = 7301 (0.177 sec)\n",
            "INFO:tensorflow:global_step/sec: 594.262\n",
            "INFO:tensorflow:loss = 0.04318858, step = 7401 (0.168 sec)\n",
            "INFO:tensorflow:global_step/sec: 568.45\n",
            "INFO:tensorflow:loss = 0.038030963, step = 7501 (0.174 sec)\n",
            "INFO:tensorflow:global_step/sec: 601.169\n",
            "INFO:tensorflow:loss = 0.049027223, step = 7601 (0.175 sec)\n",
            "INFO:tensorflow:global_step/sec: 547.964\n",
            "INFO:tensorflow:loss = 0.04269036, step = 7701 (0.176 sec)\n",
            "INFO:tensorflow:global_step/sec: 562.034\n",
            "INFO:tensorflow:loss = 0.036769465, step = 7801 (0.178 sec)\n",
            "INFO:tensorflow:global_step/sec: 550.736\n",
            "INFO:tensorflow:loss = 0.044920254, step = 7901 (0.180 sec)\n",
            "INFO:tensorflow:global_step/sec: 584.605\n",
            "INFO:tensorflow:loss = 0.034563992, step = 8001 (0.168 sec)\n",
            "INFO:tensorflow:global_step/sec: 617.036\n",
            "INFO:tensorflow:loss = 0.03197972, step = 8101 (0.162 sec)\n",
            "INFO:tensorflow:global_step/sec: 515.95\n",
            "INFO:tensorflow:loss = 0.043331787, step = 8201 (0.198 sec)\n",
            "INFO:tensorflow:global_step/sec: 590.928\n",
            "INFO:tensorflow:loss = 0.0400834, step = 8301 (0.168 sec)\n",
            "INFO:tensorflow:global_step/sec: 557.228\n",
            "INFO:tensorflow:loss = 0.03366614, step = 8401 (0.179 sec)\n",
            "INFO:tensorflow:global_step/sec: 591.265\n",
            "INFO:tensorflow:loss = 0.042889312, step = 8501 (0.169 sec)\n",
            "INFO:tensorflow:global_step/sec: 572.366\n",
            "INFO:tensorflow:loss = 0.045156315, step = 8601 (0.175 sec)\n",
            "INFO:tensorflow:global_step/sec: 565.91\n",
            "INFO:tensorflow:loss = 0.048480283, step = 8701 (0.173 sec)\n",
            "INFO:tensorflow:global_step/sec: 536.607\n",
            "INFO:tensorflow:loss = 0.042451926, step = 8801 (0.190 sec)\n",
            "INFO:tensorflow:global_step/sec: 600.165\n",
            "INFO:tensorflow:loss = 0.035465725, step = 8901 (0.168 sec)\n",
            "INFO:tensorflow:global_step/sec: 568.6\n",
            "INFO:tensorflow:loss = 0.040021416, step = 9001 (0.171 sec)\n",
            "INFO:tensorflow:global_step/sec: 570.735\n",
            "INFO:tensorflow:loss = 0.039776072, step = 9101 (0.177 sec)\n",
            "INFO:tensorflow:global_step/sec: 598.634\n",
            "INFO:tensorflow:loss = 0.04240501, step = 9201 (0.167 sec)\n",
            "INFO:tensorflow:global_step/sec: 591.689\n",
            "INFO:tensorflow:loss = 0.037182912, step = 9301 (0.171 sec)\n",
            "INFO:tensorflow:global_step/sec: 527.951\n",
            "INFO:tensorflow:loss = 0.03793183, step = 9401 (0.189 sec)\n",
            "INFO:tensorflow:global_step/sec: 557.663\n",
            "INFO:tensorflow:loss = 0.039474793, step = 9501 (0.176 sec)\n",
            "INFO:tensorflow:global_step/sec: 576.848\n",
            "INFO:tensorflow:loss = 0.039788224, step = 9601 (0.176 sec)\n",
            "INFO:tensorflow:global_step/sec: 572.897\n",
            "INFO:tensorflow:loss = 0.045820065, step = 9701 (0.175 sec)\n",
            "INFO:tensorflow:global_step/sec: 587.686\n",
            "INFO:tensorflow:loss = 0.041802503, step = 9801 (0.170 sec)\n",
            "INFO:tensorflow:global_step/sec: 531.752\n",
            "INFO:tensorflow:loss = 0.040974796, step = 9901 (0.185 sec)\n",
            "INFO:tensorflow:Saving checkpoints for 10000 into /tmp/DNN_regression_trained_model_fv/model.ckpt.\n",
            "INFO:tensorflow:Loss for final step: 0.046450656.\n",
            "WARNING:tensorflow:float64 is not supported by many models, consider casting to float32.\n",
            "INFO:tensorflow:Graph was finalized.\n",
            "INFO:tensorflow:Restoring parameters from /tmp/DNN_regression_trained_model_fv/model.ckpt-10000\n",
            "INFO:tensorflow:Running local_init_op.\n",
            "INFO:tensorflow:Done running local_init_op.\n",
            "DNNRegression fog and visibility has RMSE of 0.1974672388853554\n",
            "Just using average = 0.5115059929553323 has RMSE of 0.19745638804965382\n"
          ]
        }
      ]
    },
    {
      "cell_type": "markdown",
      "metadata": {
        "id": "Yq0KrHcn0hZu"
      },
      "source": [
        "The RMSE values are 0.197 and 0.197 which is excellent (so good in fact that it may indicate an error) so the model will now be tested on the validation data.\n",
        "\n",
        "Test model on first three rows of validation data"
      ]
    },
    {
      "cell_type": "code",
      "metadata": {
        "colab": {
          "base_uri": "https://localhost:8080/",
          "height": 143
        },
        "id": "hNRrZRE909bz",
        "outputId": "dab5c922-ed90-4bd5-985a-679c2a729168"
      },
      "source": [
        "shuffle_fogvis_test[:3]"
      ],
      "execution_count": 195,
      "outputs": [
        {
          "output_type": "execute_result",
          "data": {
            "text/html": [
              "<div>\n",
              "<style scoped>\n",
              "    .dataframe tbody tr th:only-of-type {\n",
              "        vertical-align: middle;\n",
              "    }\n",
              "\n",
              "    .dataframe tbody tr th {\n",
              "        vertical-align: top;\n",
              "    }\n",
              "\n",
              "    .dataframe thead th {\n",
              "        text-align: right;\n",
              "    }\n",
              "</style>\n",
              "<table border=\"1\" class=\"dataframe\">\n",
              "  <thead>\n",
              "    <tr style=\"text-align: right;\">\n",
              "      <th></th>\n",
              "      <th>Apr</th>\n",
              "      <th>Aug</th>\n",
              "      <th>Dec</th>\n",
              "      <th>Feb</th>\n",
              "      <th>Jan</th>\n",
              "      <th>Jul</th>\n",
              "      <th>Jun</th>\n",
              "      <th>Mar</th>\n",
              "      <th>May</th>\n",
              "      <th>Nov</th>\n",
              "      <th>Oct</th>\n",
              "      <th>Sep</th>\n",
              "      <th>Fri</th>\n",
              "      <th>Mon</th>\n",
              "      <th>Sat</th>\n",
              "      <th>Sun</th>\n",
              "      <th>Thu</th>\n",
              "      <th>Tue</th>\n",
              "      <th>Wed</th>\n",
              "      <th>year</th>\n",
              "      <th>fog</th>\n",
              "      <th>visib</th>\n",
              "      <th>number_of_accidents</th>\n",
              "    </tr>\n",
              "  </thead>\n",
              "  <tbody>\n",
              "    <tr>\n",
              "      <th>2099</th>\n",
              "      <td>0</td>\n",
              "      <td>0</td>\n",
              "      <td>0</td>\n",
              "      <td>0</td>\n",
              "      <td>0</td>\n",
              "      <td>0</td>\n",
              "      <td>0</td>\n",
              "      <td>0</td>\n",
              "      <td>0</td>\n",
              "      <td>0</td>\n",
              "      <td>1</td>\n",
              "      <td>0</td>\n",
              "      <td>0</td>\n",
              "      <td>0</td>\n",
              "      <td>1</td>\n",
              "      <td>0</td>\n",
              "      <td>0</td>\n",
              "      <td>0</td>\n",
              "      <td>0</td>\n",
              "      <td>2018</td>\n",
              "      <td>0</td>\n",
              "      <td>5.7</td>\n",
              "      <td>0.802691</td>\n",
              "    </tr>\n",
              "    <tr>\n",
              "      <th>2429</th>\n",
              "      <td>0</td>\n",
              "      <td>0</td>\n",
              "      <td>0</td>\n",
              "      <td>0</td>\n",
              "      <td>0</td>\n",
              "      <td>0</td>\n",
              "      <td>0</td>\n",
              "      <td>0</td>\n",
              "      <td>0</td>\n",
              "      <td>0</td>\n",
              "      <td>0</td>\n",
              "      <td>1</td>\n",
              "      <td>0</td>\n",
              "      <td>0</td>\n",
              "      <td>0</td>\n",
              "      <td>0</td>\n",
              "      <td>0</td>\n",
              "      <td>0</td>\n",
              "      <td>1</td>\n",
              "      <td>2019</td>\n",
              "      <td>0</td>\n",
              "      <td>10.0</td>\n",
              "      <td>0.555804</td>\n",
              "    </tr>\n",
              "    <tr>\n",
              "      <th>2515</th>\n",
              "      <td>0</td>\n",
              "      <td>0</td>\n",
              "      <td>1</td>\n",
              "      <td>0</td>\n",
              "      <td>0</td>\n",
              "      <td>0</td>\n",
              "      <td>0</td>\n",
              "      <td>0</td>\n",
              "      <td>0</td>\n",
              "      <td>0</td>\n",
              "      <td>0</td>\n",
              "      <td>0</td>\n",
              "      <td>1</td>\n",
              "      <td>0</td>\n",
              "      <td>0</td>\n",
              "      <td>0</td>\n",
              "      <td>0</td>\n",
              "      <td>0</td>\n",
              "      <td>0</td>\n",
              "      <td>2019</td>\n",
              "      <td>0</td>\n",
              "      <td>10.0</td>\n",
              "      <td>0.765625</td>\n",
              "    </tr>\n",
              "  </tbody>\n",
              "</table>\n",
              "</div>"
            ],
            "text/plain": [
              "      Apr  Aug  Dec  Feb  Jan  ...  Wed  year  fog  visib  number_of_accidents\n",
              "2099    0    0    0    0    0  ...    0  2018    0    5.7             0.802691\n",
              "2429    0    0    0    0    0  ...    1  2019    0   10.0             0.555804\n",
              "2515    0    0    1    0    0  ...    0  2019    0   10.0             0.765625\n",
              "\n",
              "[3 rows x 23 columns]"
            ]
          },
          "metadata": {},
          "execution_count": 195
        }
      ]
    },
    {
      "cell_type": "code",
      "metadata": {
        "colab": {
          "base_uri": "https://localhost:8080/"
        },
        "id": "jemnCgPp09i9",
        "outputId": "e7cbabc2-403b-40a8-9fcc-54b6070b1bfc"
      },
      "source": [
        "# create test using data above\n",
        "input = pd.DataFrame.from_dict(data = \n",
        "\t\t\t\t{\n",
        "         'Apr' : [0,0,0],\n",
        "         'Aug' : [0,0,0],\n",
        "         'Dec' : [0,0,1],\n",
        "         'Feb' : [0,0,0],\n",
        "         'Jan' : [0,0,0],\n",
        "         'Jul' : [0,0,0],\n",
        "         'Jun' : [0,0,0],\n",
        "         'Mar' : [0,0,0],\n",
        "         'May' : [0,0,0],\n",
        "         'Nov' : [0,0,0],\n",
        "         'Oct' : [1,0,0],\n",
        "         'Sep' : [0,1,0],\n",
        "         'Fri' : [0,0,1],\n",
        "         'Mon' : [0,0,0],\n",
        "         'Sat' : [1,0,0],\n",
        "         'Sun' : [0,0,0],\n",
        "         'Thu' : [0,0,0],\n",
        "         'Tue' : [0,0,0],\n",
        "         'Wed' : [0,1,0],\n",
        "         'year' : [2018,2019,2019],\n",
        "         'fog' : [0,0,0],\n",
        "        'visib' : [5.7,10.0,10.0]\n",
        "        })\n",
        "\n",
        "estimator = tf.contrib.learn.SKCompat(tf.contrib.learn.DNNRegressor(model_dir='/tmp/DNN_regression_trained_model_fv', hidden_units=[20,18,14], enable_centered_bias=False, feature_columns=tf.contrib.learn.infer_real_valued_columns_from_input(input.values)))\n",
        "\n",
        "preds = estimator.predict(x=input.values)\n",
        "\n",
        "predslistnorm = preds['scores']\n",
        "prednorm = format(str(predslistnorm))\n",
        "print(prednorm)"
      ],
      "execution_count": 202,
      "outputs": [
        {
          "output_type": "stream",
          "name": "stdout",
          "text": [
            "WARNING:tensorflow:float64 is not supported by many models, consider casting to float32.\n",
            "INFO:tensorflow:Using default config.\n",
            "INFO:tensorflow:Using config: {'_task_type': None, '_task_id': 0, '_cluster_spec': <tensorflow.python.training.server_lib.ClusterSpec object at 0x7f4f9a267390>, '_master': '', '_num_ps_replicas': 0, '_num_worker_replicas': 0, '_environment': 'local', '_is_chief': True, '_evaluation_master': '', '_train_distribute': None, '_eval_distribute': None, '_experimental_max_worker_delay_secs': None, '_device_fn': None, '_tf_config': gpu_options {\n",
            "  per_process_gpu_memory_fraction: 1.0\n",
            "}\n",
            ", '_tf_random_seed': None, '_save_summary_steps': 100, '_save_checkpoints_secs': 600, '_log_step_count_steps': 100, '_protocol': None, '_session_config': None, '_save_checkpoints_steps': None, '_keep_checkpoint_max': 5, '_keep_checkpoint_every_n_hours': 10000, '_model_dir': '/tmp/DNN_regression_trained_model_fv', '_session_creation_timeout_secs': 7200}\n",
            "WARNING:tensorflow:float64 is not supported by many models, consider casting to float32.\n",
            "INFO:tensorflow:Graph was finalized.\n",
            "INFO:tensorflow:Restoring parameters from /tmp/DNN_regression_trained_model_fv/model.ckpt-10000\n",
            "INFO:tensorflow:Running local_init_op.\n",
            "INFO:tensorflow:Done running local_init_op.\n",
            "[0.5108336 0.5108336 0.5108336]\n"
          ]
        }
      ]
    },
    {
      "cell_type": "markdown",
      "metadata": {
        "id": "Yw1Ae6tY2C1X"
      },
      "source": [
        "The actual values from the test data are 0.803, 0.556 and 0.766 while the values returned are 0.511, 0.511 and 0.511.  As these values are identical (unlike the previous RMSE values which were just suspiciously close) it appears certain now that there is some error which I am unable to identify, however the model will continue to be tested on a random selection of validation data.\n",
        "\n",
        "Test the model on three random rows of the validation test set"
      ]
    },
    {
      "cell_type": "code",
      "metadata": {
        "colab": {
          "base_uri": "https://localhost:8080/",
          "height": 143
        },
        "id": "shIS_j1V3OVj",
        "outputId": "a577542f-d620-4705-a151-fe5f17bd22e0"
      },
      "source": [
        "np.random.seed([11])\n",
        "\n",
        "shuffle_fogvis_test.sample(n = 3)"
      ],
      "execution_count": 199,
      "outputs": [
        {
          "output_type": "execute_result",
          "data": {
            "text/html": [
              "<div>\n",
              "<style scoped>\n",
              "    .dataframe tbody tr th:only-of-type {\n",
              "        vertical-align: middle;\n",
              "    }\n",
              "\n",
              "    .dataframe tbody tr th {\n",
              "        vertical-align: top;\n",
              "    }\n",
              "\n",
              "    .dataframe thead th {\n",
              "        text-align: right;\n",
              "    }\n",
              "</style>\n",
              "<table border=\"1\" class=\"dataframe\">\n",
              "  <thead>\n",
              "    <tr style=\"text-align: right;\">\n",
              "      <th></th>\n",
              "      <th>Apr</th>\n",
              "      <th>Aug</th>\n",
              "      <th>Dec</th>\n",
              "      <th>Feb</th>\n",
              "      <th>Jan</th>\n",
              "      <th>Jul</th>\n",
              "      <th>Jun</th>\n",
              "      <th>Mar</th>\n",
              "      <th>May</th>\n",
              "      <th>Nov</th>\n",
              "      <th>Oct</th>\n",
              "      <th>Sep</th>\n",
              "      <th>Fri</th>\n",
              "      <th>Mon</th>\n",
              "      <th>Sat</th>\n",
              "      <th>Sun</th>\n",
              "      <th>Thu</th>\n",
              "      <th>Tue</th>\n",
              "      <th>Wed</th>\n",
              "      <th>year</th>\n",
              "      <th>fog</th>\n",
              "      <th>visib</th>\n",
              "      <th>number_of_accidents</th>\n",
              "    </tr>\n",
              "  </thead>\n",
              "  <tbody>\n",
              "    <tr>\n",
              "      <th>713</th>\n",
              "      <td>0</td>\n",
              "      <td>0</td>\n",
              "      <td>1</td>\n",
              "      <td>0</td>\n",
              "      <td>0</td>\n",
              "      <td>0</td>\n",
              "      <td>0</td>\n",
              "      <td>0</td>\n",
              "      <td>0</td>\n",
              "      <td>0</td>\n",
              "      <td>0</td>\n",
              "      <td>0</td>\n",
              "      <td>0</td>\n",
              "      <td>0</td>\n",
              "      <td>0</td>\n",
              "      <td>1</td>\n",
              "      <td>0</td>\n",
              "      <td>0</td>\n",
              "      <td>0</td>\n",
              "      <td>2014</td>\n",
              "      <td>0</td>\n",
              "      <td>9.8</td>\n",
              "      <td>0.113426</td>\n",
              "    </tr>\n",
              "    <tr>\n",
              "      <th>1265</th>\n",
              "      <td>0</td>\n",
              "      <td>0</td>\n",
              "      <td>0</td>\n",
              "      <td>0</td>\n",
              "      <td>0</td>\n",
              "      <td>1</td>\n",
              "      <td>0</td>\n",
              "      <td>0</td>\n",
              "      <td>0</td>\n",
              "      <td>0</td>\n",
              "      <td>0</td>\n",
              "      <td>0</td>\n",
              "      <td>0</td>\n",
              "      <td>0</td>\n",
              "      <td>0</td>\n",
              "      <td>0</td>\n",
              "      <td>0</td>\n",
              "      <td>1</td>\n",
              "      <td>0</td>\n",
              "      <td>2016</td>\n",
              "      <td>1</td>\n",
              "      <td>6.2</td>\n",
              "      <td>0.639485</td>\n",
              "    </tr>\n",
              "    <tr>\n",
              "      <th>121</th>\n",
              "      <td>0</td>\n",
              "      <td>0</td>\n",
              "      <td>0</td>\n",
              "      <td>0</td>\n",
              "      <td>0</td>\n",
              "      <td>0</td>\n",
              "      <td>0</td>\n",
              "      <td>0</td>\n",
              "      <td>1</td>\n",
              "      <td>0</td>\n",
              "      <td>0</td>\n",
              "      <td>0</td>\n",
              "      <td>0</td>\n",
              "      <td>0</td>\n",
              "      <td>0</td>\n",
              "      <td>0</td>\n",
              "      <td>1</td>\n",
              "      <td>0</td>\n",
              "      <td>0</td>\n",
              "      <td>2013</td>\n",
              "      <td>0</td>\n",
              "      <td>9.5</td>\n",
              "      <td>0.527523</td>\n",
              "    </tr>\n",
              "  </tbody>\n",
              "</table>\n",
              "</div>"
            ],
            "text/plain": [
              "      Apr  Aug  Dec  Feb  Jan  ...  Wed  year  fog  visib  number_of_accidents\n",
              "713     0    0    1    0    0  ...    0  2014    0    9.8             0.113426\n",
              "1265    0    0    0    0    0  ...    0  2016    1    6.2             0.639485\n",
              "121     0    0    0    0    0  ...    0  2013    0    9.5             0.527523\n",
              "\n",
              "[3 rows x 23 columns]"
            ]
          },
          "metadata": {},
          "execution_count": 199
        }
      ]
    },
    {
      "cell_type": "code",
      "metadata": {
        "colab": {
          "base_uri": "https://localhost:8080/"
        },
        "id": "mJNOBXtM44wr",
        "outputId": "8e0a4a4b-256f-49fa-909d-c8066fee3513"
      },
      "source": [
        "# create test using data above\n",
        "input = pd.DataFrame.from_dict(data = \n",
        "\t\t\t\t{\n",
        "         'Apr' : [0,0,0],\n",
        "         'Aug' : [0,0,0],\n",
        "         'Dec' : [1,0,0],\n",
        "         'Feb' : [0,0,0],\n",
        "         'Jan' : [0,0,0],\n",
        "         'Jul' : [0,1,0],\n",
        "         'Jun' : [0,0,0],\n",
        "         'Mar' : [0,0,0],\n",
        "         'May' : [0,0,1],\n",
        "         'Nov' : [0,0,0],\n",
        "         'Oct' : [0,0,0],\n",
        "         'Sep' : [0,0,0],\n",
        "         'Fri' : [0,0,0],\n",
        "         'Mon' : [0,0,0],\n",
        "         'Sat' : [0,0,0],\n",
        "         'Sun' : [1,0,0],\n",
        "         'Thu' : [0,0,1],\n",
        "         'Tue' : [0,1,0],\n",
        "         'Wed' : [0,0,0],\n",
        "         'year' : [2014,2016,2013],\n",
        "         'fog' : [0,1,0],\n",
        "         'visib' : [9.8,6.2,9.5]\n",
        "        })\n",
        "\n",
        "estimator = tf.contrib.learn.SKCompat(tf.contrib.learn.DNNRegressor(model_dir='/tmp/DNN_regression_trained_model_fv', hidden_units=[20,18,14], enable_centered_bias=False, feature_columns=tf.contrib.learn.infer_real_valued_columns_from_input(input.values)))\n",
        "\n",
        "preds = estimator.predict(x=input.values)\n",
        "\n",
        "predslistnorm = preds['scores']\n",
        "prednorm = format(str(predslistnorm))\n",
        "print(prednorm)"
      ],
      "execution_count": 200,
      "outputs": [
        {
          "output_type": "stream",
          "name": "stdout",
          "text": [
            "WARNING:tensorflow:float64 is not supported by many models, consider casting to float32.\n",
            "INFO:tensorflow:Using default config.\n",
            "INFO:tensorflow:Using config: {'_task_type': None, '_task_id': 0, '_cluster_spec': <tensorflow.python.training.server_lib.ClusterSpec object at 0x7f4fa06d9890>, '_master': '', '_num_ps_replicas': 0, '_num_worker_replicas': 0, '_environment': 'local', '_is_chief': True, '_evaluation_master': '', '_train_distribute': None, '_eval_distribute': None, '_experimental_max_worker_delay_secs': None, '_device_fn': None, '_tf_config': gpu_options {\n",
            "  per_process_gpu_memory_fraction: 1.0\n",
            "}\n",
            ", '_tf_random_seed': None, '_save_summary_steps': 100, '_save_checkpoints_secs': 600, '_log_step_count_steps': 100, '_protocol': None, '_session_config': None, '_save_checkpoints_steps': None, '_keep_checkpoint_max': 5, '_keep_checkpoint_every_n_hours': 10000, '_model_dir': '/tmp/DNN_regression_trained_model_fv', '_session_creation_timeout_secs': 7200}\n",
            "WARNING:tensorflow:float64 is not supported by many models, consider casting to float32.\n",
            "INFO:tensorflow:Graph was finalized.\n",
            "INFO:tensorflow:Restoring parameters from /tmp/DNN_regression_trained_model_fv/model.ckpt-10000\n",
            "INFO:tensorflow:Running local_init_op.\n",
            "INFO:tensorflow:Done running local_init_op.\n",
            "[0.5108336 0.5108336 0.5108336]\n"
          ]
        }
      ]
    },
    {
      "cell_type": "markdown",
      "metadata": {
        "id": "3cO0uah65WHo"
      },
      "source": [
        "The values from the test data are 0.113, 0.639 and 0.528 while the model still gives the same three identical values showing a definite error."
      ]
    },
    {
      "cell_type": "markdown",
      "metadata": {
        "id": "xE1O3vzS9E-B"
      },
      "source": [
        "# Conclusion"
      ]
    },
    {
      "cell_type": "markdown",
      "metadata": {
        "id": "zs2M4EsRBU88"
      },
      "source": [
        "**Linear Regression models**\n",
        "\n",
        "The visibility model showed some promise.  The RMSE values were close as was the result of the testing.  The temperature model showed similarly promising RMSE results but the test results were not accurate.  The fog model also had a good RMSE result but the test results here were more mixed with some very accurate returns and a number less accurate but not too far off.  The fog and temperature model had a fairly close RMSE result though not as close as the previous models.  The test results on the whole were not accurate though one on each set of tests was close.  The model for fog, temperature and visibility did not have a close RMSE result and this was supported by the tests which showed inaccurate results.\n",
        "\n",
        "**Deep Neural Network models**\n",
        "\n",
        "The visibility model had a good RMSE result and in the first test showed some very accurate results though this was not repeated in the second test.  The temperature model showed an RMSE result that was not close and consequently, the test results were inaccurate.  The model for fog showed a fairly close RMSE result and similarly, test results that were also quite accurate.  The temperature and visibility model had a good RMSE result and also returned some accurate test results.  However, the model for fog and visibility had an RMSE result that was so good it appeared suspicious.  This was reflected in the testing which returned three identical values in both tests indicating an error in the model.  At the current time this error remains elusively unresolved.\n",
        "\n",
        "In conclusion it can be seen that the visibility, temperature and fog linear regression models may show some promise in predicting accidents on a particular day.  Furthermore the fog deep neural network model could also prove useful as could the temperature and visibility dnn model.  There may be a chance that the visibility model might also be useful though this would need further investigation."
      ]
    }
  ]
}